{
 "cells": [
  {
   "cell_type": "markdown",
   "id": "cd74a2ac",
   "metadata": {},
   "source": [
    "# Homework 1: Use of Python collections"
   ]
  },
  {
   "cell_type": "markdown",
   "id": "3e1bc605",
   "metadata": {},
   "source": [
    "**1**. Create a list of all square numbers (e.g., 9, 16) that are greater than 100 but less than 1,000. Do this using:\n",
    "\n",
    "    1. A for-loop\n",
    "    2. A list comprehension\n",
    "    3. The functions `map` and `filter`\n",
    "    \n",
    "In each case, your solution should be the list\n",
    "\n",
    "```Python\n",
    "[121, 144, 169, 196, 225, 256, 289, 324, 361, 400, 441, 484, 529, 576, 625, 676, 729, 784, 841, 900, 961]\n",
    "```"
   ]
  },
  {
   "cell_type": "markdown",
   "id": "224e289a",
   "metadata": {},
   "source": [
    "Hint 1"
   ]
  },
  {
   "cell_type": "code",
   "execution_count": 1,
   "id": "469f7507",
   "metadata": {},
   "outputs": [
    {
     "data": {
      "text/plain": [
       "[0, 2, 4, 6, 8, 10, 12, 14, 16, 18]"
      ]
     },
     "execution_count": 1,
     "metadata": {},
     "output_type": "execute_result"
    }
   ],
   "source": [
    "xs = []\n",
    "for i in range(20):\n",
    "    if i % 2 == 0:\n",
    "        xs.append(i)\n",
    "xs"
   ]
  },
  {
   "cell_type": "markdown",
   "id": "58420fa1",
   "metadata": {},
   "source": [
    "Hint 2"
   ]
  },
  {
   "cell_type": "code",
   "execution_count": 2,
   "id": "30bf2731",
   "metadata": {},
   "outputs": [
    {
     "data": {
      "text/plain": [
       "[0, 2, 4, 6, 8, 10, 12, 14, 16, 18]"
      ]
     },
     "execution_count": 2,
     "metadata": {},
     "output_type": "execute_result"
    }
   ],
   "source": [
    "xs = [i for i in range(20) if i % 2 == 0]\n",
    "xs"
   ]
  },
  {
   "cell_type": "markdown",
   "id": "85893647",
   "metadata": {},
   "source": [
    "Hint 3"
   ]
  },
  {
   "cell_type": "code",
   "execution_count": 3,
   "id": "f8c9e613",
   "metadata": {},
   "outputs": [
    {
     "data": {
      "text/plain": [
       "[0, 2, 4, 6, 8, 10, 12, 14, 16, 18]"
      ]
     },
     "execution_count": 3,
     "metadata": {},
     "output_type": "execute_result"
    }
   ],
   "source": [
    "xs = list(filter(lambda x: x%2==0, range(20)))\n",
    "xs"
   ]
  },
  {
   "cell_type": "markdown",
   "id": "b2b51163",
   "metadata": {},
   "source": [
    "## Solution to exercise 1"
   ]
  },
  {
   "cell_type": "code",
   "execution_count": 4,
   "id": "09ba1c2c",
   "metadata": {},
   "outputs": [
    {
     "name": "stdout",
     "output_type": "stream",
     "text": [
      "[121, 144, 169, 196, 225, 256, 289, 324, 361, 400, 441, 484, 529, 576, 625, 676, 729, 784, 841, 900, 961]\n"
     ]
    }
   ],
   "source": [
    "xs1 = []\n",
    "for i in range(11, 40):\n",
    "    if i**2 >= 1000:\n",
    "        break\n",
    "    xs1.append(i**2)\n",
    "print(xs1)"
   ]
  },
  {
   "cell_type": "code",
   "execution_count": 5,
   "id": "016fb391",
   "metadata": {},
   "outputs": [
    {
     "name": "stdout",
     "output_type": "stream",
     "text": [
      "[121, 144, 169, 196, 225, 256, 289, 324, 361, 400, 441, 484, 529, 576, 625, 676, 729, 784, 841, 900, 961]\n"
     ]
    }
   ],
   "source": [
    "xs2 = [i**2 for i in range(11, 40) if i**2 < 1000]\n",
    "print(xs2)"
   ]
  },
  {
   "cell_type": "code",
   "execution_count": 6,
   "id": "166a51f9",
   "metadata": {},
   "outputs": [
    {
     "name": "stdout",
     "output_type": "stream",
     "text": [
      "[121, 144, 169, 196, 225, 256, 289, 324, 361, 400, 441, 484, 529, 576, 625, 676, 729, 784, 841, 900, 961]\n"
     ]
    }
   ],
   "source": [
    "xs3 = list(filter(lambda x: x < 1000, map(lambda x: x**2, range(11, 40))))\n",
    "print(xs3)"
   ]
  },
  {
   "cell_type": "markdown",
   "id": "dc5f2cfc",
   "metadata": {},
   "source": [
    "**2**. Create a `namedtuple` like this\n",
    "\n",
    "```Python\n",
    "Point(x=1, y=2, z=3)\n",
    "```\n",
    "\n",
    "Extract the \"y coordinate\" using numeric and keyword indexing and check that two values are equal."
   ]
  },
  {
   "cell_type": "markdown",
   "id": "609611f2",
   "metadata": {},
   "source": [
    "Hint"
   ]
  },
  {
   "cell_type": "code",
   "execution_count": 7,
   "id": "e7f674c9",
   "metadata": {},
   "outputs": [
    {
     "name": "stdout",
     "output_type": "stream",
     "text": [
      "Help on function namedtuple in module collections:\n",
      "\n",
      "namedtuple(typename, field_names, *, rename=False, defaults=None, module=None)\n",
      "    Returns a new subclass of tuple with named fields.\n",
      "    \n",
      "    >>> Point = namedtuple('Point', ['x', 'y'])\n",
      "    >>> Point.__doc__                   # docstring for the new class\n",
      "    'Point(x, y)'\n",
      "    >>> p = Point(11, y=22)             # instantiate with positional args or keywords\n",
      "    >>> p[0] + p[1]                     # indexable like a plain tuple\n",
      "    33\n",
      "    >>> x, y = p                        # unpack like a regular tuple\n",
      "    >>> x, y\n",
      "    (11, 22)\n",
      "    >>> p.x + p.y                       # fields also accessible by name\n",
      "    33\n",
      "    >>> d = p._asdict()                 # convert to a dictionary\n",
      "    >>> d['x']\n",
      "    11\n",
      "    >>> Point(**d)                      # convert from a dictionary\n",
      "    Point(x=11, y=22)\n",
      "    >>> p._replace(x=100)               # _replace() is like str.replace() but targets named fields\n",
      "    Point(x=100, y=22)\n",
      "\n"
     ]
    }
   ],
   "source": [
    "from collections import namedtuple\n",
    "\n",
    "help(namedtuple)"
   ]
  },
  {
   "cell_type": "markdown",
   "id": "2a9a51ca",
   "metadata": {},
   "source": [
    "## Solution to exercise 2"
   ]
  },
  {
   "cell_type": "code",
   "execution_count": 8,
   "id": "84b17594",
   "metadata": {},
   "outputs": [],
   "source": [
    "from collections import namedtuple\n",
    "\n",
    "Point = namedtuple('Point', ['x', 'y', 'z'])\n",
    "p = Point(x=1, y=2, z=3)"
   ]
  },
  {
   "cell_type": "code",
   "execution_count": 9,
   "id": "f65c3d81",
   "metadata": {},
   "outputs": [
    {
     "data": {
      "text/plain": [
       "Point(x=1, y=2, z=3)"
      ]
     },
     "execution_count": 9,
     "metadata": {},
     "output_type": "execute_result"
    }
   ],
   "source": [
    "p"
   ]
  },
  {
   "cell_type": "code",
   "execution_count": 10,
   "id": "80996946",
   "metadata": {},
   "outputs": [
    {
     "data": {
      "text/plain": [
       "True"
      ]
     },
     "execution_count": 10,
     "metadata": {},
     "output_type": "execute_result"
    }
   ],
   "source": [
    "# check that numeric and keyword indexing return the same value\n",
    "p[1] == p.y"
   ]
  },
  {
   "cell_type": "markdown",
   "id": "ce142d0a",
   "metadata": {},
   "source": [
    "**3**. Convert the follwoing haiku to lowercase. Than record the count of each character in a dictionary. Do not include characters that represent blank space.\n",
    "\n",
    "```python\n",
    "On a withered branch\n",
    "A crow has alighted\n",
    "Nightfall in autumn\n",
    "```\n",
    "\n",
    "Print the top 5 most frequently occuring letters with their counts. (Just print the top 5, ignoring ties)"
   ]
  },
  {
   "cell_type": "markdown",
   "id": "72f9f0d7",
   "metadata": {},
   "source": [
    "Hint"
   ]
  },
  {
   "cell_type": "code",
   "execution_count": 11,
   "id": "987eacf3",
   "metadata": {},
   "outputs": [],
   "source": [
    "s = \"\"\"\n",
    "Goodbye\n",
    "cruel world!\n",
    "\"\"\""
   ]
  },
  {
   "cell_type": "code",
   "execution_count": 12,
   "id": "5d5d1d8d",
   "metadata": {},
   "outputs": [
    {
     "name": "stdout",
     "output_type": "stream",
     "text": [
      "['g', 'o', 'o', 'd', 'b', 'y', 'e', 'c', 'r', 'u', 'e', 'l', 'w', 'o', 'r', 'l', 'd']\n"
     ]
    }
   ],
   "source": [
    "print([char for char in s.lower() if char.isalpha()])"
   ]
  },
  {
   "cell_type": "code",
   "execution_count": 13,
   "id": "2bef2f5f",
   "metadata": {},
   "outputs": [
    {
     "data": {
      "text/plain": [
       "{'a': 1, 'b': 2, 'c': 3}"
      ]
     },
     "execution_count": 13,
     "metadata": {},
     "output_type": "execute_result"
    }
   ],
   "source": [
    "d = dict(a=1, b=2, c=3)\n",
    "d"
   ]
  },
  {
   "cell_type": "code",
   "execution_count": 14,
   "id": "41f4948a",
   "metadata": {},
   "outputs": [
    {
     "name": "stdout",
     "output_type": "stream",
     "text": [
      "Help on method_descriptor:\n",
      "\n",
      "get(self, key, default=None, /)\n",
      "    Return the value for key if key is in the dictionary, else default.\n",
      "\n"
     ]
    }
   ],
   "source": [
    "help(dict.get)"
   ]
  },
  {
   "cell_type": "code",
   "execution_count": 15,
   "id": "1d6f9346",
   "metadata": {},
   "outputs": [
    {
     "data": {
      "text/plain": [
       "{'a': 11, 'b': 2, 'c': 3}"
      ]
     },
     "execution_count": 15,
     "metadata": {},
     "output_type": "execute_result"
    }
   ],
   "source": [
    "d['a'] = d.get('a', 0) + 10\n",
    "d"
   ]
  },
  {
   "cell_type": "code",
   "execution_count": 16,
   "id": "866352b9",
   "metadata": {},
   "outputs": [
    {
     "name": "stdout",
     "output_type": "stream",
     "text": [
      "Help on method_descriptor:\n",
      "\n",
      "items(...)\n",
      "    D.items() -> a set-like object providing a view on D's items\n",
      "\n"
     ]
    }
   ],
   "source": [
    "help(dict.items)"
   ]
  },
  {
   "cell_type": "code",
   "execution_count": 17,
   "id": "1b57b355",
   "metadata": {},
   "outputs": [
    {
     "name": "stdout",
     "output_type": "stream",
     "text": [
      "Help on built-in function sorted in module builtins:\n",
      "\n",
      "sorted(iterable, /, *, key=None, reverse=False)\n",
      "    Return a new list containing all items from the iterable in ascending order.\n",
      "    \n",
      "    A custom key function can be supplied to customize the sort order, and the\n",
      "    reverse flag can be set to request the result in descending order.\n",
      "\n"
     ]
    }
   ],
   "source": [
    "help(sorted)"
   ]
  },
  {
   "cell_type": "code",
   "execution_count": 18,
   "id": "cb64df54",
   "metadata": {},
   "outputs": [],
   "source": [
    "s = \"\"\"\n",
    "On a withered branch\n",
    "A crow has alighted\n",
    "Nightfall in autumn\n",
    "\"\"\""
   ]
  },
  {
   "cell_type": "markdown",
   "id": "9eae70e2",
   "metadata": {},
   "source": [
    "## Solution to exercise 3"
   ]
  },
  {
   "cell_type": "markdown",
   "id": "870dad25",
   "metadata": {},
   "source": [
    "Version 1"
   ]
  },
  {
   "cell_type": "code",
   "execution_count": 19,
   "id": "96fe876a",
   "metadata": {},
   "outputs": [
    {
     "data": {
      "text/plain": [
       "{'o': 2,\n",
       " 'n': 5,\n",
       " 'a': 7,\n",
       " 'w': 2,\n",
       " 'i': 4,\n",
       " 't': 4,\n",
       " 'h': 5,\n",
       " 'e': 3,\n",
       " 'r': 3,\n",
       " 'd': 2,\n",
       " 'b': 1,\n",
       " 'c': 2,\n",
       " 's': 1,\n",
       " 'l': 3,\n",
       " 'g': 2,\n",
       " 'f': 1,\n",
       " 'u': 2,\n",
       " 'm': 1}"
      ]
     },
     "execution_count": 19,
     "metadata": {},
     "output_type": "execute_result"
    }
   ],
   "source": [
    "counts = {}\n",
    "for letter in s.lower():\n",
    "    if not letter.isspace(): # ignore blank space\n",
    "        counts[letter] = counts.get(letter, 0) + 1\n",
    "counts"
   ]
  },
  {
   "cell_type": "code",
   "execution_count": 20,
   "id": "d403c7b4",
   "metadata": {},
   "outputs": [
    {
     "data": {
      "text/plain": [
       "[('a', 7), ('n', 5), ('h', 5), ('i', 4), ('t', 4)]"
      ]
     },
     "execution_count": 20,
     "metadata": {},
     "output_type": "execute_result"
    }
   ],
   "source": [
    "sorted(counts.items(), key=lambda x: x[1], reverse=True)[:5]"
   ]
  },
  {
   "cell_type": "markdown",
   "id": "1f177e28",
   "metadata": {},
   "source": [
    "Version 2"
   ]
  },
  {
   "cell_type": "code",
   "execution_count": 21,
   "id": "8efeb435",
   "metadata": {},
   "outputs": [],
   "source": [
    "from collections import Counter\n",
    "\n",
    "letters = [char for char in s.lower() if not char.isspace()]\n",
    "c = Counter(letters)"
   ]
  },
  {
   "cell_type": "code",
   "execution_count": 22,
   "id": "c278ffc9",
   "metadata": {},
   "outputs": [
    {
     "data": {
      "text/plain": [
       "[('a', 7), ('n', 5), ('h', 5), ('i', 4), ('t', 4)]"
      ]
     },
     "execution_count": 22,
     "metadata": {},
     "output_type": "execute_result"
    }
   ],
   "source": [
    "c.most_common(5)"
   ]
  },
  {
   "cell_type": "markdown",
   "id": "478f7f8b",
   "metadata": {},
   "source": [
    "**4**. Find the intersection of the numbers in the two lists `xs` and `ys` provided."
   ]
  },
  {
   "cell_type": "code",
   "execution_count": 23,
   "id": "7c28acf7",
   "metadata": {},
   "outputs": [],
   "source": [
    "import random\n",
    "\n",
    "xs = [random.randint(0, 1000) for i in range(100)]\n",
    "ys = [random.randint(0, 1000) for i in range(100)]"
   ]
  },
  {
   "cell_type": "markdown",
   "id": "d990b299",
   "metadata": {},
   "source": [
    "Hint"
   ]
  },
  {
   "cell_type": "code",
   "execution_count": 24,
   "id": "c5a20a46",
   "metadata": {
    "scrolled": false
   },
   "outputs": [
    {
     "data": {
      "text/plain": [
       "{1, 2, 3, 4}"
      ]
     },
     "execution_count": 24,
     "metadata": {},
     "output_type": "execute_result"
    }
   ],
   "source": [
    "set([1,1,1,2,2,3,2,1,4])"
   ]
  },
  {
   "cell_type": "markdown",
   "id": "8e3888fa",
   "metadata": {},
   "source": [
    "## Solution to exercise 4"
   ]
  },
  {
   "cell_type": "markdown",
   "id": "679801cb",
   "metadata": {},
   "source": [
    "Version 1"
   ]
  },
  {
   "cell_type": "code",
   "execution_count": 25,
   "id": "ce98fb74",
   "metadata": {},
   "outputs": [
    {
     "data": {
      "text/plain": [
       "{30, 33, 44, 104, 215, 381, 454, 483, 522, 526, 787}"
      ]
     },
     "execution_count": 25,
     "metadata": {},
     "output_type": "execute_result"
    }
   ],
   "source": [
    "set(xs) & set(ys)"
   ]
  },
  {
   "cell_type": "markdown",
   "id": "a146a1e1",
   "metadata": {},
   "source": [
    "Version 2"
   ]
  },
  {
   "cell_type": "code",
   "execution_count": 26,
   "id": "e5e4cd0a",
   "metadata": {},
   "outputs": [
    {
     "data": {
      "text/plain": [
       "{30, 33, 44, 104, 215, 381, 454, 483, 522, 526, 787}"
      ]
     },
     "execution_count": 26,
     "metadata": {},
     "output_type": "execute_result"
    }
   ],
   "source": [
    "set(xs).intersection(set(ys))"
   ]
  },
  {
   "cell_type": "markdown",
   "id": "7e8b15a6",
   "metadata": {},
   "source": [
    "Version 3\n",
    "\n",
    "Note: Version 3 is very inefficient compared to use of `set`"
   ]
  },
  {
   "cell_type": "code",
   "execution_count": 27,
   "id": "35ab2ae9",
   "metadata": {},
   "outputs": [
    {
     "data": {
      "text/plain": [
       "[30, 33, 44, 104, 215, 381, 454, 483, 522, 526, 787]"
      ]
     },
     "execution_count": 27,
     "metadata": {},
     "output_type": "execute_result"
    }
   ],
   "source": [
    "common = []\n",
    "for x in xs:\n",
    "    for y in ys:\n",
    "        if x==y and x not in common:\n",
    "            common.append(x)\n",
    "sorted(common)"
   ]
  },
  {
   "cell_type": "code",
   "execution_count": null,
   "id": "835cf207",
   "metadata": {},
   "outputs": [],
   "source": []
  }
 ],
 "metadata": {
  "kernelspec": {
   "display_name": "Python 3 (ipykernel)",
   "language": "python",
   "name": "python3"
  },
  "language_info": {
   "codemirror_mode": {
    "name": "ipython",
    "version": 3
   },
   "file_extension": ".py",
   "mimetype": "text/x-python",
   "name": "python",
   "nbconvert_exporter": "python",
   "pygments_lexer": "ipython3",
   "version": "3.10.6"
  },
  "toc": {
   "base_numbering": 1,
   "nav_menu": {},
   "number_sections": false,
   "sideBar": true,
   "skip_h1_title": false,
   "title_cell": "Table of Contents",
   "title_sidebar": "Contents",
   "toc_cell": false,
   "toc_position": {},
   "toc_section_display": true,
   "toc_window_display": true
  }
 },
 "nbformat": 4,
 "nbformat_minor": 5
}
