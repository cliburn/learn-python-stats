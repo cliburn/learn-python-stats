{
 "cells": [
  {
   "cell_type": "markdown",
   "id": "56bc0809-6141-4aa7-8351-3b6870164916",
   "metadata": {},
   "source": [
    "# Geospatial analysis\n",
    "\n",
    "- NYU has a subscription to SafariOnline (https://persistent.library.nyu.edu/arch/NYU01272)\n",
    "- Search for the book `Python for Geospatial Data Analysis` by `Bonny P. McClain`\n",
    "\n",
    "## Possible projects\n",
    "\n",
    "- Create a notebook to replicate the results from `Working with GeoJSON files` in Chapter 7\n",
    "- Create a notebook to replicare example 1, 2 or 3 in Chapter 10\n",
    "    - Example 1: Examining Climate Prediction with Precipitation Data\n",
    "    - Example 2: Deforestation and Carbon Emissions in the Amazon Rain Forest Using WTSS Series\n",
    "    - Example 3: Modeling and Forecasting Deforestation in Guadeloupe with Forest at Risk\n",
    "- Get inspired by these examples to create your own geospatial project\n",
    "    \n",
    "## Bells and whistles\n",
    "\n",
    "- Use [`plotly`](https://plotly.com/python/choropleth-maps/) to create interactive versions of the geospatial visualizaions you created\n",
    "- Use [`folium`](https://github.com/python-visualization/folium) to create interactive versions of the geospatial visualizaions you created\n",
    "- Create an interactive dashboard using [`streamlit`](https://github.com/streamlit/streamlit)\n",
    "- Create a movie to animate change over time in a chloropleth map using [`maplapse`](https://github.com/souravbhadra/maplapse/tree/main)\n",
    "\n",
    "## Skills that can be demosnstrated with this portfoloio project\n",
    "\n",
    "- Ability to ask interesting quesions (if you come up with your own project)\n",
    "- Working with real-world dsta sets\n",
    "- Data manipulation in `pandas`\n",
    "- Familiarity with geospatial analysis\n",
    "- Analytic skills if you do statistics on these data\n",
    "- Visualizaiton skils for general plots\n",
    "- Visualizaioon of geospatial data\n",
    "- Animation of chloropleth maps\n",
    "- Interactive dashboards\n"
   ]
  },
  {
   "cell_type": "code",
   "execution_count": null,
   "id": "365a53ee-e867-46a6-a341-2a61ac61d681",
   "metadata": {},
   "outputs": [],
   "source": []
  }
 ],
 "metadata": {
  "kernelspec": {
   "display_name": "Python 3 (ipykernel)",
   "language": "python",
   "name": "python3"
  },
  "language_info": {
   "codemirror_mode": {
    "name": "ipython",
    "version": 3
   },
   "file_extension": ".py",
   "mimetype": "text/x-python",
   "name": "python",
   "nbconvert_exporter": "python",
   "pygments_lexer": "ipython3",
   "version": "3.10.6"
  }
 },
 "nbformat": 4,
 "nbformat_minor": 5
}
