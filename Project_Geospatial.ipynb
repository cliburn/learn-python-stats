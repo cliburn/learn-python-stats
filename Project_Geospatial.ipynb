{
 "cells": [
  {
   "cell_type": "markdown",
   "id": "56bc0809-6141-4aa7-8351-3b6870164916",
   "metadata": {},
   "source": [
    "# Geospatial analysis"
   ]
  },
  {
   "cell_type": "code",
   "execution_count": null,
   "id": "365a53ee-e867-46a6-a341-2a61ac61d681",
   "metadata": {},
   "outputs": [],
   "source": []
  }
 ],
 "metadata": {
  "kernelspec": {
   "display_name": "Python 3 (ipykernel)",
   "language": "python",
   "name": "python3"
  },
  "language_info": {
   "codemirror_mode": {
    "name": "ipython",
    "version": 3
   },
   "file_extension": ".py",
   "mimetype": "text/x-python",
   "name": "python",
   "nbconvert_exporter": "python",
   "pygments_lexer": "ipython3",
   "version": "3.10.6"
  }
 },
 "nbformat": 4,
 "nbformat_minor": 5
}
