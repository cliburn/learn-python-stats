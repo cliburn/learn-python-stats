{
 "cells": [
  {
   "cell_type": "markdown",
   "id": "0d35d6d2-0ca0-4d4a-8a6a-5f24cd0fcee4",
   "metadata": {},
   "source": [
    "# Basics of ML"
   ]
  },
  {
   "cell_type": "markdown",
   "id": "baf6748a-4c35-4671-ae1b-4053f6c8ef29",
   "metadata": {},
   "source": [
    "## Supervised learning\n",
    "\n",
    "In S/L, we are given outcomes (or labels) $y$ and features (or design matrix) $$. The task is to predict $y_i$ given the feature vector $x_i$. If $y$ is categorical, this is known as **classification**. If $y$ is continuous, this is knwon as **regression**. The features of $X$ can be all continous, all categorical, or a mixture of continuous and categorical."
   ]
  },
  {
   "cell_type": "markdown",
   "id": "9fe3e731-c2b1-4762-98c6-cb295d843112",
   "metadata": {},
   "source": [
    "## Classificaiton example"
   ]
  },
  {
   "cell_type": "markdown",
   "id": "2fca43f2-073d-47cc-9db4-3d01ca28ccc6",
   "metadata": {},
   "source": [
    "### What the data in S/L looks like"
   ]
  },
  {
   "cell_type": "code",
   "execution_count": null,
   "id": "a53a07be-72b7-44d6-83df-30bd292006ab",
   "metadata": {
    "tags": []
   },
   "outputs": [],
   "source": [
    "from sklearn import datasets"
   ]
  },
  {
   "cell_type": "code",
   "execution_count": null,
   "id": "98b720ac-9aa6-474f-bc40-9e7bcb26f2a3",
   "metadata": {},
   "outputs": [],
   "source": [
    "iris = datasets.load_iris(as_frame=True)"
   ]
  },
  {
   "cell_type": "code",
   "execution_count": null,
   "id": "ba7a44c9-d8fd-472e-b984-e142e5762c49",
   "metadata": {
    "tags": []
   },
   "outputs": [],
   "source": [
    "iris.keys()"
   ]
  },
  {
   "cell_type": "markdown",
   "id": "619c1c41-1808-4270-8a9c-f8de58810e9b",
   "metadata": {},
   "source": [
    "#### Features `X`"
   ]
  },
  {
   "cell_type": "code",
   "execution_count": null,
   "id": "37411b4a-c757-4993-b1bd-438c54286fcc",
   "metadata": {
    "tags": []
   },
   "outputs": [],
   "source": [
    "iris['data'].shape"
   ]
  },
  {
   "cell_type": "code",
   "execution_count": null,
   "id": "188e11ec-8b8a-479c-9430-0297a355688b",
   "metadata": {
    "tags": []
   },
   "outputs": [],
   "source": [
    "iris['data'][:3]"
   ]
  },
  {
   "cell_type": "markdown",
   "id": "ecd74782-8ee7-447a-a675-aebdcb3bb4a4",
   "metadata": {},
   "source": [
    "#### Outcomes `y`"
   ]
  },
  {
   "cell_type": "code",
   "execution_count": null,
   "id": "f53dd3fc-d268-458d-b2d9-9296e76bc6e3",
   "metadata": {
    "tags": []
   },
   "outputs": [],
   "source": [
    "iris['target'].shape"
   ]
  },
  {
   "cell_type": "code",
   "execution_count": null,
   "id": "a075854b-48e0-491c-bd84-5731cc72cb06",
   "metadata": {
    "tags": []
   },
   "outputs": [],
   "source": [
    "iris['target'][:3]"
   ]
  },
  {
   "cell_type": "markdown",
   "id": "b6cde5b9-2f3d-45c7-adf8-f009ed6cbd46",
   "metadata": {},
   "source": [
    "#### Target names (y)"
   ]
  },
  {
   "cell_type": "code",
   "execution_count": null,
   "id": "9bc2a779-b403-49a8-831f-e8d399a6fd3f",
   "metadata": {
    "tags": []
   },
   "outputs": [],
   "source": [
    "iris['target_names']"
   ]
  },
  {
   "cell_type": "markdown",
   "id": "56c8486b-f53b-4c71-8e1e-edcaed1b3f01",
   "metadata": {},
   "source": [
    "#### Feature names (X)"
   ]
  },
  {
   "cell_type": "code",
   "execution_count": null,
   "id": "e4fc7f14-e43f-42e6-b252-6dc78fb2bdb6",
   "metadata": {
    "tags": []
   },
   "outputs": [],
   "source": [
    "iris['feature_names']"
   ]
  },
  {
   "cell_type": "markdown",
   "id": "a69d8433-06b8-4616-8ac1-b386888a62ad",
   "metadata": {},
   "source": [
    "### Basic steps in S/L\n",
    "\n",
    "1. Split into training and test data sets\n",
    "2. Scale continuous features to have zero mean and unit standard deviaiton\n",
    "3. Choose an appropriate ML algorithm\n",
    "4. Train the ML algorithm on the train data set\n",
    "5. Assemble into pipeline\n",
    "6. Evaluate the trained ML algorithm on the test data set"
   ]
  },
  {
   "cell_type": "markdown",
   "id": "1330ece1-054e-4cb5-b701-41c5fa51f649",
   "metadata": {},
   "source": [
    "#### Split into training and test data sets"
   ]
  },
  {
   "cell_type": "code",
   "execution_count": null,
   "id": "f98e2529-1bfd-401d-9d29-99083c95b586",
   "metadata": {},
   "outputs": [],
   "source": [
    "from sklearn.model_selection import train_test_split"
   ]
  },
  {
   "cell_type": "code",
   "execution_count": null,
   "id": "4249ff54-c2c2-47b4-9bb9-60888dd0a0e9",
   "metadata": {},
   "outputs": [],
   "source": [
    "X = iris['data']\n",
    "y = iris['target']"
   ]
  },
  {
   "cell_type": "code",
   "execution_count": null,
   "id": "1774b3e2-a4d0-4cf3-82b2-ef7f8905582a",
   "metadata": {},
   "outputs": [],
   "source": [
    "X_train, X_test, y_train, y_test = train_test_split(X, y, test_size=0.33, random_state=42)"
   ]
  },
  {
   "cell_type": "code",
   "execution_count": null,
   "id": "7d107854-c29a-4f96-93cb-5539f0419f5d",
   "metadata": {},
   "outputs": [],
   "source": [
    "X.shape, X_train.shape, X_test.shape"
   ]
  },
  {
   "cell_type": "code",
   "execution_count": null,
   "id": "fad6e13b-633d-45b6-b1dc-fd99fff4be34",
   "metadata": {},
   "outputs": [],
   "source": [
    "y.shape, y_train.shape, y_test.shape"
   ]
  },
  {
   "cell_type": "markdown",
   "id": "b8efa836-0242-4b15-a3fb-0afa59f61374",
   "metadata": {},
   "source": [
    "#### Scale continuous features to have zero mean and unit standard deviaiton"
   ]
  },
  {
   "cell_type": "code",
   "execution_count": null,
   "id": "71a634f0-1831-45b4-8dae-1e3df8e849ab",
   "metadata": {},
   "outputs": [],
   "source": [
    "from sklearn.preprocessing import StandardScaler"
   ]
  },
  {
   "cell_type": "code",
   "execution_count": null,
   "id": "6cd1bd13-d77c-41b8-a4fa-f63d4e75fbb7",
   "metadata": {},
   "outputs": [],
   "source": [
    "scaler = StandardScaler()"
   ]
  },
  {
   "cell_type": "code",
   "execution_count": null,
   "id": "4ca3e399-df91-4673-bb7f-b26fa4e8fe10",
   "metadata": {},
   "outputs": [],
   "source": [
    "X_train_scaled = scaler.fit_transform(X_train)"
   ]
  },
  {
   "cell_type": "code",
   "execution_count": null,
   "id": "70854d10-dcd9-4f68-a132-7480616ff2bb",
   "metadata": {},
   "outputs": [],
   "source": [
    "X_train.mean(axis=0)"
   ]
  },
  {
   "cell_type": "code",
   "execution_count": null,
   "id": "b3ae6885-bbf6-452a-8864-abd81d1b4232",
   "metadata": {},
   "outputs": [],
   "source": [
    "X_train.std(axis=0)"
   ]
  },
  {
   "cell_type": "code",
   "execution_count": null,
   "id": "053e3948-716e-4d90-9039-d554dd1919c7",
   "metadata": {},
   "outputs": [],
   "source": [
    "X_train_scaled.mean(axis=0)"
   ]
  },
  {
   "cell_type": "code",
   "execution_count": null,
   "id": "b51efd6a-19d4-4e61-9623-652c221a9e8e",
   "metadata": {},
   "outputs": [],
   "source": [
    "X_train_scaled.std(axis=0)"
   ]
  },
  {
   "cell_type": "markdown",
   "id": "abbd2a9a-fd2e-407c-92d3-4a67f16386f6",
   "metadata": {},
   "source": [
    "#### Choose an appropriate ML algorithm"
   ]
  },
  {
   "cell_type": "code",
   "execution_count": null,
   "id": "b8ac11b0-4de9-470c-a23e-b2784b8b69cd",
   "metadata": {},
   "outputs": [],
   "source": [
    "from sklearn.neighbors import KNeighborsClassifier"
   ]
  },
  {
   "cell_type": "code",
   "execution_count": null,
   "id": "9cfaa985-9241-48d8-ac2e-70883dab3b76",
   "metadata": {},
   "outputs": [],
   "source": [
    "clf = KNeighborsClassifier()"
   ]
  },
  {
   "cell_type": "markdown",
   "id": "183246e2-e931-43cb-adbf-e06812fce9bc",
   "metadata": {},
   "source": [
    "#### Train the ML algorithm on the train data set"
   ]
  },
  {
   "cell_type": "code",
   "execution_count": null,
   "id": "46097e62-9b90-48ac-85d1-54f804424ce7",
   "metadata": {},
   "outputs": [],
   "source": [
    "clf.fit(X_train_scaled, y_train)"
   ]
  },
  {
   "cell_type": "markdown",
   "id": "1c78964e-19f7-4caf-ba2c-5d68bb5bfe3b",
   "metadata": {},
   "source": [
    "#### Assemble into pipeline"
   ]
  },
  {
   "cell_type": "code",
   "execution_count": null,
   "id": "8bd956ee-b25b-4789-89fa-3e91dfb7dd01",
   "metadata": {},
   "outputs": [],
   "source": [
    "from sklearn.pipeline import Pipeline"
   ]
  },
  {
   "cell_type": "code",
   "execution_count": null,
   "id": "d46a61c7-90ca-4279-9fcb-54c1ca44f81e",
   "metadata": {},
   "outputs": [],
   "source": [
    "pipe = Pipeline([\n",
    "    ('scaler', StandardScaler()), \n",
    "    ('knn', KNeighborsClassifier())\n",
    "])"
   ]
  },
  {
   "cell_type": "code",
   "execution_count": null,
   "id": "29fa26a1-842f-4cac-a6f7-3670e4468183",
   "metadata": {},
   "outputs": [],
   "source": [
    "pipe.fit(X_train, y_train)"
   ]
  },
  {
   "cell_type": "markdown",
   "id": "6b7efa7a-5f85-4bba-8c75-febe99bea6d7",
   "metadata": {},
   "source": [
    "#### Evaluate the trained ML algorithm on the test data set"
   ]
  },
  {
   "cell_type": "markdown",
   "id": "4513fdfa-9770-4d6f-a157-3b60b736d5f4",
   "metadata": {},
   "source": [
    "##### Evaluate default score (accuracy)"
   ]
  },
  {
   "cell_type": "code",
   "execution_count": null,
   "id": "8ff1327a-cd8d-4836-a5ae-3267ca5c83d9",
   "metadata": {},
   "outputs": [],
   "source": [
    "pipe.score(X_test, y_test)"
   ]
  },
  {
   "cell_type": "markdown",
   "id": "b6f12b0e-109f-405a-9b43-08f600509c14",
   "metadata": {},
   "source": [
    "##### See all predictions"
   ]
  },
  {
   "cell_type": "code",
   "execution_count": null,
   "id": "4c02f898-fd33-4b98-b3ce-35bd536c3494",
   "metadata": {},
   "outputs": [],
   "source": [
    "pred = pipe.predict(X_test)"
   ]
  },
  {
   "cell_type": "code",
   "execution_count": null,
   "id": "999e71d9-d4db-4627-8907-b8cc91d7aa83",
   "metadata": {},
   "outputs": [],
   "source": [
    "import pandas as pd"
   ]
  },
  {
   "cell_type": "code",
   "execution_count": null,
   "id": "230e719e-5c5f-4681-ac08-889ff63ae091",
   "metadata": {},
   "outputs": [],
   "source": [
    "pd.DataFrame(dict(pred=pred, y=y_test))[:5]"
   ]
  },
  {
   "cell_type": "markdown",
   "id": "59663155-f1c4-4c04-b987-847b662ae692",
   "metadata": {},
   "source": [
    "##### See confusion matrix"
   ]
  },
  {
   "cell_type": "code",
   "execution_count": null,
   "id": "e9e7b3b3-f626-49ea-94b5-1956e29507b7",
   "metadata": {},
   "outputs": [],
   "source": [
    "from sklearn.metrics import confusion_matrix, ConfusionMatrixDisplay"
   ]
  },
  {
   "cell_type": "code",
   "execution_count": null,
   "id": "78ae626c-1adc-44c9-a2df-c3cbbe0fae4a",
   "metadata": {},
   "outputs": [],
   "source": [
    "cm = confusion_matrix(y_test, pred)\n",
    "cm"
   ]
  },
  {
   "cell_type": "markdown",
   "id": "ed1d1b0e-2ad9-4b3d-b92e-e3dd2a6d46a3",
   "metadata": {},
   "source": [
    "## Exercise\n",
    "\n",
    "Use a classifier to predict if a mushroom is edible or poisonous.\n",
    "\n",
    "- If you like, try using a differnet classifier from `sklearn`"
   ]
  },
  {
   "cell_type": "code",
   "execution_count": null,
   "id": "aa0ace10-0ffc-412a-afec-0844a01c7f86",
   "metadata": {},
   "outputs": [],
   "source": [
    "from yellowbrick.datasets.loaders import load_mushroom"
   ]
  },
  {
   "cell_type": "code",
   "execution_count": null,
   "id": "36f9d470-74ca-4495-a409-da6fd3787371",
   "metadata": {},
   "outputs": [],
   "source": [
    "X, y = load_mushroom()"
   ]
  },
  {
   "cell_type": "code",
   "execution_count": null,
   "id": "c49353d1-338b-421e-9b19-aa037807f33f",
   "metadata": {},
   "outputs": [],
   "source": [
    "\n",
    "\n",
    "\n"
   ]
  }
 ],
 "metadata": {
  "kernelspec": {
   "display_name": "py310",
   "language": "python",
   "name": "py310"
  },
  "language_info": {
   "codemirror_mode": {
    "name": "ipython",
    "version": 3
   },
   "file_extension": ".py",
   "mimetype": "text/x-python",
   "name": "python",
   "nbconvert_exporter": "python",
   "pygments_lexer": "ipython3",
   "version": "3.10.12"
  }
 },
 "nbformat": 4,
 "nbformat_minor": 5
}
