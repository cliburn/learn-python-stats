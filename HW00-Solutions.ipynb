{
 "cells": [
  {
   "cell_type": "markdown",
   "id": "d66c9276",
   "metadata": {},
   "source": [
    "# Homework 0: Basic Python"
   ]
  },
  {
   "cell_type": "markdown",
   "id": "adba4066",
   "metadata": {},
   "source": [
    "**1**. Numerically calculate the value of $e^{i\\pi} + 1$."
   ]
  },
  {
   "cell_type": "markdown",
   "id": "8f0bd471",
   "metadata": {},
   "source": [
    "Hint:\n",
    "\n",
    "- Imprt from `math` package\n",
    "- You can create complex numbers in two ways"
   ]
  },
  {
   "cell_type": "code",
   "execution_count": 1,
   "id": "ec738e97",
   "metadata": {},
   "outputs": [
    {
     "data": {
      "text/plain": [
       "(1+2j)"
      ]
     },
     "execution_count": 1,
     "metadata": {},
     "output_type": "execute_result"
    }
   ],
   "source": [
    "1+2j"
   ]
  },
  {
   "cell_type": "code",
   "execution_count": 1,
   "id": "8f391ac2",
   "metadata": {},
   "outputs": [
    {
     "data": {
      "text/plain": [
       "(1+2j)"
      ]
     },
     "execution_count": 1,
     "metadata": {},
     "output_type": "execute_result"
    }
   ],
   "source": [
    "complex(1, 2)"
   ]
  },
  {
   "cell_type": "markdown",
   "id": "f1c55df8",
   "metadata": {},
   "source": [
    "## Solution to exercise 1"
   ]
  },
  {
   "cell_type": "code",
   "execution_count": 2,
   "id": "2cd5993d",
   "metadata": {},
   "outputs": [],
   "source": [
    "import math"
   ]
  },
  {
   "cell_type": "code",
   "execution_count": 3,
   "id": "203eedd1",
   "metadata": {},
   "outputs": [
    {
     "data": {
      "text/plain": [
       "1.2246467991473532e-16j"
      ]
     },
     "execution_count": 3,
     "metadata": {},
     "output_type": "execute_result"
    }
   ],
   "source": [
    "math.e**(complex(0, math.pi))  + 1"
   ]
  },
  {
   "cell_type": "markdown",
   "id": "9fafe3d5",
   "metadata": {},
   "source": [
    "**2**. Find the GC content percentage of bases 50 to 200 (i.e, 50, 51, ..., 199, 200) in the *E. coli* genome, using the formula \n",
    "\n",
    "```Count(G + C)/Count(A + T + G + C) * 100%```\n",
    "\n",
    "Here are the first 300 bases in the *E. coli* genome\n",
    "\n",
    "```\n",
    ">U00096.3:1-300 Escherichia coli str. K-12 substr. MG1655, complete genome\n",
    "AGCTTTTCATTCTGACTGCAACGGGCAATATGTCTCTGTGTGGATTAAAAAAAGAGTGTCTGATAGCAGC\n",
    "TTCTGAACTGGTTACCTGCCGTGAGTAAATTAAAATTTTATTGACTTAGGTCACTAAATACTTTAACCAA\n",
    "TATAGGCATAGCGCACAGACAGATAAAAATTACAGAGTACACAACATCCATGAAACGCATTAGCACCACC\n",
    "ATTACCACCACCATCACCATTACCACAGGTAACGGTGCGGGCTGACGCGTACAGGAAACACAGAAAAAAG\n",
    "CCCGCACCTGACAGTGCGGG\n",
    "```\n",
    "\n",
    "The first line is a header line that should not be included as part of the genome. Use the `dna` string provided below."
   ]
  },
  {
   "cell_type": "markdown",
   "id": "a6946b93",
   "metadata": {},
   "source": [
    "Hint\n",
    "\n",
    "- Use string methods — count, split, join"
   ]
  },
  {
   "cell_type": "code",
   "execution_count": 4,
   "id": "a69f39ba",
   "metadata": {},
   "outputs": [],
   "source": [
    "dna = \"\"\"\n",
    ">U00096.3:1-300 Escherichia coli str. K-12 substr. MG1655, complete genome\n",
    "AGCTTTTCATTCTGACTGCAACGGGCAATATGTCTCTGTGTGGATTAAAAAAAGAGTGTCTGATAGCAGC\n",
    "TTCTGAACTGGTTACCTGCCGTGAGTAAATTAAAATTTTATTGACTTAGGTCACTAAATACTTTAACCAA\n",
    "TATAGGCATAGCGCACAGACAGATAAAAATTACAGAGTACACAACATCCATGAAACGCATTAGCACCACC\n",
    "ATTACCACCACCATCACCATTACCACAGGTAACGGTGCGGGCTGACGCGTACAGGAAACACAGAAAAAAG\n",
    "CCCGCACCTGACAGTGCGGG\n",
    "\"\"\""
   ]
  },
  {
   "cell_type": "markdown",
   "id": "97a12d14",
   "metadata": {},
   "source": [
    "## Solution to exercise 2"
   ]
  },
  {
   "cell_type": "code",
   "execution_count": 5,
   "id": "1c5e08e4",
   "metadata": {},
   "outputs": [],
   "source": [
    "target = ''.join(dna.strip().split('\\n')[1:])[50:201]"
   ]
  },
  {
   "cell_type": "code",
   "execution_count": 6,
   "id": "aaf2208f",
   "metadata": {},
   "outputs": [
    {
     "data": {
      "text/plain": [
       "35.76158940397351"
      ]
     },
     "execution_count": 6,
     "metadata": {},
     "output_type": "execute_result"
    }
   ],
   "source": [
    "100*(target.count('G') + target.count('C'))/len(target)"
   ]
  },
  {
   "cell_type": "markdown",
   "id": "f36d4be6",
   "metadata": {},
   "source": [
    "**3**. The FizzBuzz challenge.\n",
    "\n",
    "\"Write a program that prints the numbers from 1 to 100. But for multiples of three print “Fizz” instead of the number and for the multiples of five print “Buzz”. For numbers which are multiples of both three and five print “FizzBuzz”.\"\n",
    "\n",
    "The output will look like\n",
    "\n",
    "```Python\n",
    "1, 2, Fizz, 4, Buzz, Fizz, 7, 8, Fizz, Buzz, 11, Fizz, 13, 14, FizzBuzz, 16, 17, Fizz, 19, Buzz, Fizz, 22, 23, Fizz, Buzz, 26, Fizz, 28, 29, FizzBuzz, 31, 32, Fizz, 34, Buzz, Fizz, ...\n",
    "```\n",
    "\n",
    "Note: See story [Using FizzBuzz to Find Developers who Grok Coding](https://imranontech.com/2007/01/24/using-fizzbuzz-to-find-developers-who-grok-coding/)"
   ]
  },
  {
   "cell_type": "markdown",
   "id": "11803476",
   "metadata": {},
   "source": [
    "Hint:\n",
    "    \n",
    "- The modulus operator gives the remainder after division\n",
    "- The `print` function has an optional argument `end` which can be used to emit a comma instead of the default new line"
   ]
  },
  {
   "cell_type": "code",
   "execution_count": 7,
   "id": "cd2146bb",
   "metadata": {},
   "outputs": [
    {
     "data": {
      "text/plain": [
       "2"
      ]
     },
     "execution_count": 7,
     "metadata": {},
     "output_type": "execute_result"
    }
   ],
   "source": [
    "5 % 3 "
   ]
  },
  {
   "cell_type": "markdown",
   "id": "8de7f871",
   "metadata": {},
   "source": [
    "## Solution to exercise 3"
   ]
  },
  {
   "cell_type": "code",
   "execution_count": 8,
   "id": "9f5d8bc0",
   "metadata": {},
   "outputs": [
    {
     "name": "stdout",
     "output_type": "stream",
     "text": [
      "1, 2, Fizz, 4, Buzz, Fizz, 7, 8, Fizz, Buzz, 11, Fizz, 13, 14, FizzBuzz, 16, 17, Fizz, 19, Buzz, Fizz, 22, 23, Fizz, Buzz, 26, Fizz, 28, 29, FizzBuzz, 31, 32, Fizz, 34, Buzz, Fizz, 37, 38, Fizz, Buzz, 41, Fizz, 43, 44, FizzBuzz, 46, 47, Fizz, 49, Buzz, Fizz, 52, 53, Fizz, Buzz, 56, Fizz, 58, 59, FizzBuzz, 61, 62, Fizz, 64, Buzz, Fizz, 67, 68, Fizz, Buzz, 71, Fizz, 73, 74, FizzBuzz, 76, 77, Fizz, 79, Buzz, Fizz, 82, 83, Fizz, Buzz, 86, Fizz, 88, 89, FizzBuzz, 91, 92, Fizz, 94, Buzz, Fizz, 97, 98, Fizz, Buzz, "
     ]
    }
   ],
   "source": [
    "for i in range(1, 101):\n",
    "    if i % 15 == 0:\n",
    "        print(\"FizzBuzz\", end=', ')\n",
    "    elif i % 5 == 0:\n",
    "        print(\"Buzz\", end=', ')\n",
    "    elif i % 3 == 0:\n",
    "        print(\"Fizz\", end=', ')\n",
    "    else:\n",
    "        print(i, end=', ')"
   ]
  },
  {
   "cell_type": "markdown",
   "id": "633d83c0",
   "metadata": {},
   "source": [
    "**4**. Read the file jack.txt line by line using a *context manager* — i.e., a `with` statement, and save it to a `list`. Then write code to save the file `jill.txt` with the lines in reverse order — i.e., the first 3 lines of `jill.txt` should be:\n",
    "\n",
    "```python\n",
    "Who thanked her son and daughter\n",
    "And took it home to Mother dear,\n",
    "To fetch the pail of water,\n",
    "...\n",
    "```\n",
    "\n",
    "This uses a `cell magic` to write the file `jack.txt` Do not use magic functions to write `jill.txt`, only standard Python language. Magic functions are only available in special programming environments like the Jupyter notebook and are not a standard part of the Python language."
   ]
  },
  {
   "cell_type": "code",
   "execution_count": 9,
   "id": "4890ae1b",
   "metadata": {},
   "outputs": [
    {
     "name": "stdout",
     "output_type": "stream",
     "text": [
      "Overwriting jack.txt\n"
     ]
    }
   ],
   "source": [
    "%%file jack.txt\n",
    "Jack and Jill went up the hill\n",
    "To fetch a pail of water.\n",
    "Jack fell down and broke his crown,\n",
    "And Jill came tumbling after.\n",
    "Then up got Jack and said to Jill,\n",
    "As in his arms he took her,\n",
    "“Brush off that dirt for you’re not hurt,\n",
    "Let’s fetch that pail of water.”\n",
    "So Jack and Jill went up the hill\n",
    "To fetch the pail of water,\n",
    "And took it home to Mother dear,\n",
    "Who thanked her son and daughter"
   ]
  },
  {
   "cell_type": "markdown",
   "id": "89b55cc8",
   "metadata": {},
   "source": [
    "## Solution to exercise 4"
   ]
  },
  {
   "cell_type": "code",
   "execution_count": 10,
   "id": "7b0ba554",
   "metadata": {},
   "outputs": [
    {
     "data": {
      "text/plain": [
       "['Jack and Jill went up the hill\\n',\n",
       " 'To fetch a pail of water.\\n',\n",
       " 'Jack fell down and broke his crown,\\n',\n",
       " 'And Jill came tumbling after.\\n',\n",
       " 'Then up got Jack and said to Jill,\\n',\n",
       " 'As in his arms he took her,\\n',\n",
       " '“Brush off that dirt for you’re not hurt,\\n',\n",
       " 'Let’s fetch that pail of water.”\\n',\n",
       " 'So Jack and Jill went up the hill\\n',\n",
       " 'To fetch the pail of water,\\n',\n",
       " 'And took it home to Mother dear,\\n',\n",
       " 'Who thanked her son and daughter\\n']"
      ]
     },
     "execution_count": 10,
     "metadata": {},
     "output_type": "execute_result"
    }
   ],
   "source": [
    "with open('jack.txt') as f:\n",
    "    lines = [line for line in f]\n",
    "lines        "
   ]
  },
  {
   "cell_type": "code",
   "execution_count": 11,
   "id": "1900ae68",
   "metadata": {},
   "outputs": [
    {
     "data": {
      "text/plain": [
       "['Who thanked her son and daughter\\n',\n",
       " 'And took it home to Mother dear,\\n',\n",
       " 'To fetch the pail of water,\\n',\n",
       " 'So Jack and Jill went up the hill\\n',\n",
       " 'Let’s fetch that pail of water.”\\n',\n",
       " '“Brush off that dirt for you’re not hurt,\\n',\n",
       " 'As in his arms he took her,\\n',\n",
       " 'Then up got Jack and said to Jill,\\n',\n",
       " 'And Jill came tumbling after.\\n',\n",
       " 'Jack fell down and broke his crown,\\n',\n",
       " 'To fetch a pail of water.\\n',\n",
       " 'Jack and Jill went up the hill\\n']"
      ]
     },
     "execution_count": 11,
     "metadata": {},
     "output_type": "execute_result"
    }
   ],
   "source": [
    "lines_reversed = lines[::-1]\n",
    "lines_reversed"
   ]
  },
  {
   "cell_type": "code",
   "execution_count": 12,
   "id": "dcaa81af",
   "metadata": {},
   "outputs": [],
   "source": [
    "with open('jill.txt', 'w') as f:\n",
    "    for line in lines_reversed:\n",
    "        f.write(line)"
   ]
  },
  {
   "cell_type": "code",
   "execution_count": 13,
   "id": "00cd862b",
   "metadata": {},
   "outputs": [
    {
     "name": "stdout",
     "output_type": "stream",
     "text": [
      "Who thanked her son and daughter\r\n",
      "And took it home to Mother dear,\r\n",
      "To fetch the pail of water,\r\n",
      "So Jack and Jill went up the hill\r\n",
      "Let’s fetch that pail of water.”\r\n",
      "“Brush off that dirt for you’re not hurt,\r\n",
      "As in his arms he took her,\r\n",
      "Then up got Jack and said to Jill,\r\n",
      "And Jill came tumbling after.\r\n",
      "Jack fell down and broke his crown,\r\n",
      "To fetch a pail of water.\r\n",
      "Jack and Jill went up the hill\r\n"
     ]
    }
   ],
   "source": [
    "%cat jill.txt"
   ]
  },
  {
   "cell_type": "code",
   "execution_count": null,
   "id": "a8f1ce2a",
   "metadata": {},
   "outputs": [],
   "source": []
  }
 ],
 "metadata": {
  "kernelspec": {
   "display_name": "Python 3 (ipykernel)",
   "language": "python",
   "name": "python3"
  },
  "language_info": {
   "codemirror_mode": {
    "name": "ipython",
    "version": 3
   },
   "file_extension": ".py",
   "mimetype": "text/x-python",
   "name": "python",
   "nbconvert_exporter": "python",
   "pygments_lexer": "ipython3",
   "version": "3.10.6"
  },
  "toc": {
   "base_numbering": 1,
   "nav_menu": {},
   "number_sections": false,
   "sideBar": true,
   "skip_h1_title": false,
   "title_cell": "Table of Contents",
   "title_sidebar": "Contents",
   "toc_cell": false,
   "toc_position": {},
   "toc_section_display": true,
   "toc_window_display": false
  }
 },
 "nbformat": 4,
 "nbformat_minor": 5
}
