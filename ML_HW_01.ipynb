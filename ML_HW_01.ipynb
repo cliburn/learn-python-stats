{
 "cells": [
  {
   "cell_type": "markdown",
   "id": "3028b365-70da-47cf-8edc-b847bbf92c57",
   "metadata": {},
   "source": [
    "# ML Homework 1\n",
    "\n",
    "Data from https://github.com/lmego/boston_housing\n",
    "\n",
    "**Data**\n",
    "\n",
    "The modified Boston housing dataset consists of 490 data points, with each datapoint having 3 features. This dataset is a modified version of the Boston Housing dataset found on the UCI Machine Learning Repository.\n",
    "\n",
    "**Features**\n",
    "\n",
    "- RM: average number of rooms per dwelling\n",
    "- LSTAT: percentage of population considered lower status\n",
    "- PTRATIO: pupil-student ratio by town\n",
    "\n",
    "**Target**\n",
    "\n",
    "- MEDV: median value of owner-occupied homes"
   ]
  },
  {
   "cell_type": "code",
   "execution_count": 1,
   "id": "236a91f4-2278-4815-9ef8-d44677d976d4",
   "metadata": {},
   "outputs": [],
   "source": [
    "import pandas as pd"
   ]
  },
  {
   "cell_type": "code",
   "execution_count": 2,
   "id": "bf481dd3-25d7-48db-9262-1d9698b22075",
   "metadata": {},
   "outputs": [],
   "source": [
    "df = pd.read_csv('data/housing.csv')"
   ]
  },
  {
   "cell_type": "code",
   "execution_count": 3,
   "id": "eb1bd017-c36d-41c0-a49f-b7ac7cb1649a",
   "metadata": {},
   "outputs": [
    {
     "data": {
      "text/html": [
       "<div>\n",
       "<style scoped>\n",
       "    .dataframe tbody tr th:only-of-type {\n",
       "        vertical-align: middle;\n",
       "    }\n",
       "\n",
       "    .dataframe tbody tr th {\n",
       "        vertical-align: top;\n",
       "    }\n",
       "\n",
       "    .dataframe thead th {\n",
       "        text-align: right;\n",
       "    }\n",
       "</style>\n",
       "<table border=\"1\" class=\"dataframe\">\n",
       "  <thead>\n",
       "    <tr style=\"text-align: right;\">\n",
       "      <th></th>\n",
       "      <th>RM</th>\n",
       "      <th>LSTAT</th>\n",
       "      <th>PTRATIO</th>\n",
       "      <th>MEDV</th>\n",
       "    </tr>\n",
       "  </thead>\n",
       "  <tbody>\n",
       "    <tr>\n",
       "      <th>0</th>\n",
       "      <td>6.575</td>\n",
       "      <td>4.98</td>\n",
       "      <td>15.3</td>\n",
       "      <td>504000.0</td>\n",
       "    </tr>\n",
       "    <tr>\n",
       "      <th>1</th>\n",
       "      <td>6.421</td>\n",
       "      <td>9.14</td>\n",
       "      <td>17.8</td>\n",
       "      <td>453600.0</td>\n",
       "    </tr>\n",
       "    <tr>\n",
       "      <th>2</th>\n",
       "      <td>7.185</td>\n",
       "      <td>4.03</td>\n",
       "      <td>17.8</td>\n",
       "      <td>728700.0</td>\n",
       "    </tr>\n",
       "  </tbody>\n",
       "</table>\n",
       "</div>"
      ],
      "text/plain": [
       "      RM  LSTAT  PTRATIO      MEDV\n",
       "0  6.575   4.98     15.3  504000.0\n",
       "1  6.421   9.14     17.8  453600.0\n",
       "2  7.185   4.03     17.8  728700.0"
      ]
     },
     "execution_count": 3,
     "metadata": {},
     "output_type": "execute_result"
    }
   ],
   "source": [
    "df.head(3)"
   ]
  },
  {
   "cell_type": "code",
   "execution_count": 4,
   "id": "919a8ae4-d0fe-4d3b-b9eb-a3c6d71d0d51",
   "metadata": {},
   "outputs": [
    {
     "data": {
      "text/plain": [
       "(489, 4)"
      ]
     },
     "execution_count": 4,
     "metadata": {},
     "output_type": "execute_result"
    }
   ],
   "source": [
    "df.shape"
   ]
  },
  {
   "cell_type": "markdown",
   "id": "aa71ff38-b504-4a04-8305-63cec79b3378",
   "metadata": {},
   "source": [
    "**1**. Basic regression using `scikit-learn` (`sklearn`)\n",
    "\n",
    "- Write an ML pipeline to predict `MEDV` from `RM`, `LSTAT` and `PTRATIO`\n",
    "- Split data into $X$ and $y$\n",
    "- Plot the pairwise Pearson correlation statistic for feaatures in $X$\n",
    "- Split data into train (80%) and test (20%)\n",
    "- Train on the train data set using the following ML algorithms with default hyperparameters \n",
    "    - K nearesst neighbors\n",
    "    - Liinear regression\n",
    "    - Support vector machines\n",
    "    - Catboot\n",
    "    - Multi-layer perceptron\n",
    "- Which is the best performing algorithm in terms of RMS error on the test data set?\n",
    "\n",
    "Remember to preprocess the data so each column of $X$ has mean 0 and standard deviiation 1. This basically menas you need to create a pipeline where the first operaiton is standardization."
   ]
  },
  {
   "cell_type": "code",
   "execution_count": null,
   "id": "fddb95fd-753f-4892-bc29-3f0dc4be81a9",
   "metadata": {},
   "outputs": [],
   "source": [
    "\n",
    "\n",
    "\n"
   ]
  },
  {
   "cell_type": "markdown",
   "id": "c2233e40-c08d-4b36-96ce-bbb692f3ef65",
   "metadata": {},
   "source": [
    "**2**. \n",
    "\n",
    "Use `sklearn.model_selection.GridSearchCV` to choose the best kernel for the support vector machine from among the following kernel options:\n",
    "\n",
    "- linear\n",
    "- poly\n",
    "- rbf\n",
    "- sigmoid"
   ]
  },
  {
   "cell_type": "code",
   "execution_count": null,
   "id": "f7943667-e605-489a-a2e0-3043d799c78e",
   "metadata": {},
   "outputs": [],
   "source": [
    "\n",
    "\n",
    "\n"
   ]
  },
  {
   "cell_type": "markdown",
   "id": "f57ebce3-267a-4bfa-aec6-ca1bb4fb294a",
   "metadata": {},
   "source": [
    "**3**.\n",
    "\n",
    "Analyse the same data set using `pycaret`."
   ]
  },
  {
   "cell_type": "code",
   "execution_count": null,
   "id": "64b561be-6109-4340-a334-1f2bdc67f71e",
   "metadata": {},
   "outputs": [],
   "source": [
    "\n",
    "\n",
    "\n"
   ]
  },
  {
   "cell_type": "markdown",
   "id": "c20f5395-a9de-4da4-9d32-c5ab8c450392",
   "metadata": {},
   "source": [
    "**4**.\n",
    "\n",
    "Use the `yellowbricks` pacakge to make a Prediction Error Plot for Catboost with default hyper-parameters."
   ]
  },
  {
   "cell_type": "code",
   "execution_count": null,
   "id": "9eecb41d-ed50-45de-ba61-6d257d18bed1",
   "metadata": {},
   "outputs": [],
   "source": [
    "\n",
    "\n",
    "\n"
   ]
  }
 ],
 "metadata": {
  "kernelspec": {
   "display_name": "py310",
   "language": "python",
   "name": "py310"
  },
  "language_info": {
   "codemirror_mode": {
    "name": "ipython",
    "version": 3
   },
   "file_extension": ".py",
   "mimetype": "text/x-python",
   "name": "python",
   "nbconvert_exporter": "python",
   "pygments_lexer": "ipython3",
   "version": "3.10.12"
  }
 },
 "nbformat": 4,
 "nbformat_minor": 5
}
