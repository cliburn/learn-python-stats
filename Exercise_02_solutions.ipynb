{
 "cells": [
  {
   "cell_type": "code",
   "execution_count": null,
   "id": "dd659c59-f92d-46c4-8733-0ce4785fc49f",
   "metadata": {},
   "outputs": [],
   "source": [
    "import numpy as np\n",
    "import pandas as pd"
   ]
  },
  {
   "cell_type": "code",
   "execution_count": null,
   "id": "ae203ace-3414-4ff1-a805-916a50f97934",
   "metadata": {},
   "outputs": [],
   "source": [
    "df_owner =  pd.DataFrame(data = zip(\n",
    "    ['ann', 'bob', 'charlie', 'david'],\n",
    "    [23, 24, 25, 26])\n",
    ", columns = ['name', 'age'])\n",
    "df_owner"
   ]
  },
  {
   "cell_type": "code",
   "execution_count": null,
   "id": "ef6549e1-7666-459e-b3b0-6bf3d1f8b125",
   "metadata": {},
   "outputs": [],
   "source": [
    "df_owner_pet = pd.DataFrame(data = [\n",
    "    ('ann', 'fido'),\n",
    "    ('ann', 'snoopy'),\n",
    "    ('bob', 'lassie'),\n",
    "    ('david', 'garfield'),\n",
    "    ('david', 'socks'),\n",
    "    ('francis', 'dino')\n",
    "], columns = ['owner', 'pet'])\n",
    "df_owner_pet"
   ]
  },
  {
   "cell_type": "code",
   "execution_count": null,
   "id": "0a9cb225-92c2-44b0-aba9-ed5c52d1304a",
   "metadata": {},
   "outputs": [],
   "source": [
    "df_pet = pd.DataFrame(data = {\n",
    "    'pet': ['fido', 'snoopy', 'lassie', 'garfield', 'socks', 'dino'],\n",
    "    'weight': [5, 10, 8, 25, 15, 9]\n",
    "})\n",
    "df_pet "
   ]
  },
  {
   "cell_type": "markdown",
   "id": "219ba932-d25b-4e33-a87e-e3a12d3cc700",
   "metadata": {},
   "source": [
    "**Exercise 1**\n",
    "\n",
    "Using `pnadas` DataFrame methods, create a table of people and their pets — i.e, the table just has two columns (name of persion, name of pet). Exclude obese pets with weight over 20."
   ]
  },
  {
   "cell_type": "code",
   "execution_count": null,
   "id": "74dd0354-e8ce-4845-8821-daa502d284ae",
   "metadata": {},
   "outputs": [],
   "source": [
    "df_owner.merge(\n",
    "    df_owner_pet.rename({'owner': 'name'}, axis=1),\n",
    "    how='right'\n",
    ")"
   ]
  },
  {
   "cell_type": "code",
   "execution_count": null,
   "id": "561f56c2-c36b-427d-af53-45082d79c5b1",
   "metadata": {},
   "outputs": [],
   "source": [
    "df_owner.merge(\n",
    "    df_owner_pet.rename({'owner': 'name'}, axis=1),\n",
    "    how='right'\n",
    ").merge(\n",
    "    df_pet\n",
    ")"
   ]
  },
  {
   "cell_type": "code",
   "execution_count": null,
   "id": "ab3eb59f-a2c4-49d0-a115-fdf8ba0debf2",
   "metadata": {},
   "outputs": [],
   "source": [
    "df = df_owner.merge(\n",
    "    df_owner_pet.rename({'owner': 'name'}, axis=1),\n",
    "    how='right'\n",
    ").merge(\n",
    "    df_pet\n",
    ")"
   ]
  },
  {
   "cell_type": "code",
   "execution_count": null,
   "id": "4677e0bf-7c28-4408-a309-77593fc5fd6d",
   "metadata": {},
   "outputs": [],
   "source": [
    "df.loc[df.weight <= 20, ['name', 'pet']]"
   ]
  },
  {
   "cell_type": "markdown",
   "id": "07ea6048-93a0-4576-bad6-ebdf0c3b48d6",
   "metadata": {},
   "source": [
    "**Exercise 2**\n",
    "\n",
    "Do the same thing in SQL."
   ]
  },
  {
   "cell_type": "code",
   "execution_count": null,
   "id": "49edc455-ad78-4417-8641-d17cc03f066a",
   "metadata": {},
   "outputs": [],
   "source": [
    "%load_ext sql"
   ]
  },
  {
   "cell_type": "markdown",
   "id": "abe55298-4c40-4355-9485-20bd2167bb80",
   "metadata": {},
   "source": [
    "Create an in-memory database to store tables."
   ]
  },
  {
   "cell_type": "code",
   "execution_count": null,
   "id": "733abacc-75cb-47a2-8dd0-8fd8940d5646",
   "metadata": {},
   "outputs": [],
   "source": [
    "?%sql"
   ]
  },
  {
   "cell_type": "code",
   "execution_count": null,
   "id": "70cb3aae-d996-4f7c-9422-681ea1c7971f",
   "metadata": {},
   "outputs": [],
   "source": [
    "%sql sqlite://"
   ]
  },
  {
   "cell_type": "code",
   "execution_count": null,
   "id": "f7b23c83-243e-4413-b166-c56375e53019",
   "metadata": {},
   "outputs": [],
   "source": [
    "%sql -n -P df_owner"
   ]
  },
  {
   "cell_type": "code",
   "execution_count": null,
   "id": "f8b5987a-e741-4cce-ab27-b8e88e020df0",
   "metadata": {},
   "outputs": [],
   "source": [
    "%sql -n -P df_owner_pet "
   ]
  },
  {
   "cell_type": "code",
   "execution_count": null,
   "id": "ff6032fd-a1ec-4310-b02a-7e5bd176d963",
   "metadata": {},
   "outputs": [],
   "source": [
    "%sql -n -P df_pet"
   ]
  },
  {
   "cell_type": "code",
   "execution_count": null,
   "id": "0750ef21-8dea-470f-ad47-f0a3af1c520b",
   "metadata": {},
   "outputs": [],
   "source": [
    "%%sql\n",
    "\n",
    "SELECT * FROM df_owner"
   ]
  },
  {
   "cell_type": "code",
   "execution_count": null,
   "id": "0def958c-7dc9-42f6-8a8e-d16477a7d4e5",
   "metadata": {},
   "outputs": [],
   "source": [
    "%%sql\n",
    "\n",
    "SELECT * FROM df_owner_pet"
   ]
  },
  {
   "cell_type": "code",
   "execution_count": null,
   "id": "4ac76874-18bc-432b-9b82-fd5f12bf4e29",
   "metadata": {},
   "outputs": [],
   "source": [
    "%%sql\n",
    "\n",
    "SELECT * FROM df_pet"
   ]
  },
  {
   "cell_type": "code",
   "execution_count": null,
   "id": "fec86929-a3db-4e7a-9b9a-7a67e9345e86",
   "metadata": {},
   "outputs": [],
   "source": [
    "%%sql\n",
    "\n",
    "SELECT * FROM df_owner AS o\n",
    "RIGHT JOIN df_owner_pet AS op\n",
    "ON name=owner"
   ]
  },
  {
   "cell_type": "code",
   "execution_count": null,
   "id": "3c1287e2-f05f-4b63-8b56-a2a540e8a94f",
   "metadata": {},
   "outputs": [],
   "source": [
    "%%sql\n",
    "\n",
    "SELECT * FROM df_owner AS o\n",
    "RIGHT JOIN df_owner_pet AS op\n",
    "ON name=owner\n",
    "INNER JOIN df_pet AS p\n",
    "ON op.pet = p.pet"
   ]
  },
  {
   "cell_type": "code",
   "execution_count": null,
   "id": "ae5baafc-ab53-4b14-b6fe-af4f9f422304",
   "metadata": {},
   "outputs": [],
   "source": [
    "%%sql\n",
    "\n",
    "SELECT owner, p.pet FROM df_owner AS o\n",
    "RIGHT JOIN df_owner_pet AS op\n",
    "ON name=owner\n",
    "INNER JOIN df_pet AS p\n",
    "ON op.pet = p.pet\n",
    "WHERE weight <= 20"
   ]
  },
  {
   "cell_type": "code",
   "execution_count": null,
   "id": "9b0a0daa-e1c6-4a56-8fdc-95e4a5d2d552",
   "metadata": {},
   "outputs": [],
   "source": []
  }
 ],
 "metadata": {
  "kernelspec": {
   "display_name": "py310",
   "language": "python",
   "name": "py310"
  },
  "language_info": {
   "codemirror_mode": {
    "name": "ipython",
    "version": 3
   },
   "file_extension": ".py",
   "mimetype": "text/x-python",
   "name": "python",
   "nbconvert_exporter": "python",
   "pygments_lexer": "ipython3",
   "version": "3.10.12"
  }
 },
 "nbformat": 4,
 "nbformat_minor": 5
}
