{
 "cells": [
  {
   "cell_type": "markdown",
   "metadata": {},
   "source": [
    "#  SQL Queries 01"
   ]
  },
  {
   "cell_type": "markdown",
   "metadata": {},
   "source": [
    "For more SQL examples in the SQLite3 dialect, seee [SQLite3 tutorial](https://www.techonthenet.com/sqlite/index.php). \n",
    "\n",
    "For a deep dive, see [SQL Queries for Mere Mortals](https://www.amazon.com/SQL-Queries-Mere-Mortals-Hands/dp/0134858336/ref=dp_ob_title_bk)."
   ]
  },
  {
   "cell_type": "markdown",
   "metadata": {},
   "source": [
    "## Creating SQLite3 database from pandas"
   ]
  },
  {
   "cell_type": "code",
   "execution_count": 1,
   "metadata": {},
   "outputs": [],
   "source": [
    "from sklearn.datasets import load_iris"
   ]
  },
  {
   "cell_type": "code",
   "execution_count": 2,
   "metadata": {},
   "outputs": [
    {
     "data": {
      "text/html": [
       "<div>\n",
       "<style scoped>\n",
       "    .dataframe tbody tr th:only-of-type {\n",
       "        vertical-align: middle;\n",
       "    }\n",
       "\n",
       "    .dataframe tbody tr th {\n",
       "        vertical-align: top;\n",
       "    }\n",
       "\n",
       "    .dataframe thead th {\n",
       "        text-align: right;\n",
       "    }\n",
       "</style>\n",
       "<table border=\"1\" class=\"dataframe\">\n",
       "  <thead>\n",
       "    <tr style=\"text-align: right;\">\n",
       "      <th></th>\n",
       "      <th>sepal length (cm)</th>\n",
       "      <th>sepal width (cm)</th>\n",
       "      <th>petal length (cm)</th>\n",
       "      <th>petal width (cm)</th>\n",
       "    </tr>\n",
       "  </thead>\n",
       "  <tbody>\n",
       "    <tr>\n",
       "      <th>0</th>\n",
       "      <td>5.1</td>\n",
       "      <td>3.5</td>\n",
       "      <td>1.4</td>\n",
       "      <td>0.2</td>\n",
       "    </tr>\n",
       "    <tr>\n",
       "      <th>1</th>\n",
       "      <td>4.9</td>\n",
       "      <td>3.0</td>\n",
       "      <td>1.4</td>\n",
       "      <td>0.2</td>\n",
       "    </tr>\n",
       "    <tr>\n",
       "      <th>2</th>\n",
       "      <td>4.7</td>\n",
       "      <td>3.2</td>\n",
       "      <td>1.3</td>\n",
       "      <td>0.2</td>\n",
       "    </tr>\n",
       "    <tr>\n",
       "      <th>3</th>\n",
       "      <td>4.6</td>\n",
       "      <td>3.1</td>\n",
       "      <td>1.5</td>\n",
       "      <td>0.2</td>\n",
       "    </tr>\n",
       "    <tr>\n",
       "      <th>4</th>\n",
       "      <td>5.0</td>\n",
       "      <td>3.6</td>\n",
       "      <td>1.4</td>\n",
       "      <td>0.2</td>\n",
       "    </tr>\n",
       "  </tbody>\n",
       "</table>\n",
       "</div>"
      ],
      "text/plain": [
       "   sepal length (cm)  sepal width (cm)  petal length (cm)  petal width (cm)\n",
       "0                5.1               3.5                1.4               0.2\n",
       "1                4.9               3.0                1.4               0.2\n",
       "2                4.7               3.2                1.3               0.2\n",
       "3                4.6               3.1                1.5               0.2\n",
       "4                5.0               3.6                1.4               0.2"
      ]
     },
     "execution_count": 2,
     "metadata": {},
     "output_type": "execute_result"
    }
   ],
   "source": [
    "df = load_iris(as_frame=True)['data']\n",
    "df.head()"
   ]
  },
  {
   "cell_type": "markdown",
   "metadata": {},
   "source": [
    "Oracle, SQL server, PostgreSQL, MySQL"
   ]
  },
  {
   "cell_type": "code",
   "execution_count": 3,
   "metadata": {},
   "outputs": [],
   "source": [
    "import sqlite3\n",
    "import pandas as pd"
   ]
  },
  {
   "cell_type": "code",
   "execution_count": 4,
   "metadata": {},
   "outputs": [],
   "source": [
    "con = sqlite3.connect('data/iris.db')"
   ]
  },
  {
   "cell_type": "code",
   "execution_count": 5,
   "metadata": {},
   "outputs": [
    {
     "data": {
      "text/plain": [
       "150"
      ]
     },
     "execution_count": 5,
     "metadata": {},
     "output_type": "execute_result"
    }
   ],
   "source": [
    "df.to_sql('iris', con, index=True, if_exists='replace')"
   ]
  },
  {
   "cell_type": "markdown",
   "metadata": {},
   "source": [
    "- SQL is a DECLARATIVE language — say what you want\n",
    "- Most programming lanuguages PROCEDURAL - say how to do it"
   ]
  },
  {
   "cell_type": "code",
   "execution_count": 7,
   "metadata": {},
   "outputs": [
    {
     "data": {
      "text/html": [
       "<div>\n",
       "<style scoped>\n",
       "    .dataframe tbody tr th:only-of-type {\n",
       "        vertical-align: middle;\n",
       "    }\n",
       "\n",
       "    .dataframe tbody tr th {\n",
       "        vertical-align: top;\n",
       "    }\n",
       "\n",
       "    .dataframe thead th {\n",
       "        text-align: right;\n",
       "    }\n",
       "</style>\n",
       "<table border=\"1\" class=\"dataframe\">\n",
       "  <thead>\n",
       "    <tr style=\"text-align: right;\">\n",
       "      <th></th>\n",
       "      <th>index</th>\n",
       "      <th>sepal length (cm)</th>\n",
       "      <th>sepal width (cm)</th>\n",
       "      <th>petal length (cm)</th>\n",
       "      <th>petal width (cm)</th>\n",
       "    </tr>\n",
       "  </thead>\n",
       "  <tbody>\n",
       "    <tr>\n",
       "      <th>0</th>\n",
       "      <td>0</td>\n",
       "      <td>5.1</td>\n",
       "      <td>3.5</td>\n",
       "      <td>1.4</td>\n",
       "      <td>0.2</td>\n",
       "    </tr>\n",
       "    <tr>\n",
       "      <th>1</th>\n",
       "      <td>1</td>\n",
       "      <td>4.9</td>\n",
       "      <td>3.0</td>\n",
       "      <td>1.4</td>\n",
       "      <td>0.2</td>\n",
       "    </tr>\n",
       "    <tr>\n",
       "      <th>2</th>\n",
       "      <td>2</td>\n",
       "      <td>4.7</td>\n",
       "      <td>3.2</td>\n",
       "      <td>1.3</td>\n",
       "      <td>0.2</td>\n",
       "    </tr>\n",
       "    <tr>\n",
       "      <th>3</th>\n",
       "      <td>3</td>\n",
       "      <td>4.6</td>\n",
       "      <td>3.1</td>\n",
       "      <td>1.5</td>\n",
       "      <td>0.2</td>\n",
       "    </tr>\n",
       "    <tr>\n",
       "      <th>4</th>\n",
       "      <td>4</td>\n",
       "      <td>5.0</td>\n",
       "      <td>3.6</td>\n",
       "      <td>1.4</td>\n",
       "      <td>0.2</td>\n",
       "    </tr>\n",
       "  </tbody>\n",
       "</table>\n",
       "</div>"
      ],
      "text/plain": [
       "   index  sepal length (cm)  sepal width (cm)  petal length (cm)  \\\n",
       "0      0                5.1               3.5                1.4   \n",
       "1      1                4.9               3.0                1.4   \n",
       "2      2                4.7               3.2                1.3   \n",
       "3      3                4.6               3.1                1.5   \n",
       "4      4                5.0               3.6                1.4   \n",
       "\n",
       "   petal width (cm)  \n",
       "0               0.2  \n",
       "1               0.2  \n",
       "2               0.2  \n",
       "3               0.2  \n",
       "4               0.2  "
      ]
     },
     "execution_count": 7,
     "metadata": {},
     "output_type": "execute_result"
    }
   ],
   "source": [
    "pd.read_sql(\n",
    "    \"\"\"\n",
    "    SELECT * FROM iris LIMIT 5\n",
    "    \"\"\", con\n",
    "    )"
   ]
  },
  {
   "cell_type": "code",
   "execution_count": 8,
   "metadata": {},
   "outputs": [],
   "source": [
    "con.close()"
   ]
  },
  {
   "cell_type": "markdown",
   "metadata": {},
   "source": [
    "## Data"
   ]
  },
  {
   "cell_type": "code",
   "execution_count": 9,
   "metadata": {},
   "outputs": [],
   "source": [
    "%load_ext sql"
   ]
  },
  {
   "cell_type": "code",
   "execution_count": 10,
   "metadata": {},
   "outputs": [
    {
     "data": {
      "text/html": [
       "<span style=\"None\">Connecting to &#x27;sqlite:///data/faculty.db&#x27;</span>"
      ],
      "text/plain": [
       "Connecting to 'sqlite:///data/faculty.db'"
      ]
     },
     "metadata": {},
     "output_type": "display_data"
    }
   ],
   "source": [
    "%sql sqlite:///data/faculty.db"
   ]
  },
  {
   "cell_type": "code",
   "execution_count": 11,
   "metadata": {},
   "outputs": [],
   "source": [
    "from eralchemy2 import render_er"
   ]
  },
  {
   "cell_type": "code",
   "execution_count": 12,
   "metadata": {},
   "outputs": [],
   "source": [
    "render_er('sqlite:///data/faculty.db', 'faculty_db.png')"
   ]
  },
  {
   "cell_type": "code",
   "execution_count": 13,
   "metadata": {},
   "outputs": [
    {
     "data": {
      "image/png": "[encoded data removed]",
      "text/plain": [
       "<IPython.core.display.Image object>"
      ]
     },
     "execution_count": 13,
     "metadata": {},
     "output_type": "execute_result"
    }
   ],
   "source": [
    "from IPython.display import Image\n",
    "Image('faculty_db.png')"
   ]
  },
  {
   "cell_type": "code",
   "execution_count": 14,
   "metadata": {},
   "outputs": [
    {
     "data": {
      "text/html": [
       "<span style=\"None\">Running query in &#x27;sqlite:///data/faculty.db&#x27;</span>"
      ],
      "text/plain": [
       "Running query in 'sqlite:///data/faculty.db'"
      ]
     },
     "metadata": {},
     "output_type": "display_data"
    },
    {
     "data": {
      "text/html": [
       "<table>\n",
       "    <thead>\n",
       "        <tr>\n",
       "            <th>type</th>\n",
       "            <th>name</th>\n",
       "            <th>tbl_name</th>\n",
       "            <th>rootpage</th>\n",
       "            <th>sql</th>\n",
       "        </tr>\n",
       "    </thead>\n",
       "    <tbody>\n",
       "        <tr>\n",
       "            <td>table</td>\n",
       "            <td>person</td>\n",
       "            <td>person</td>\n",
       "            <td>2</td>\n",
       "            <td>CREATE TABLE person (<br>\t\"index\" BIGINT, <br>\tperson_id BIGINT, <br>\tfirst TEXT, <br>\tlast TEXT, <br>\tage BIGINT, <br>\theight FLOAT, <br>\tweight BIGINT, <br>\tcountry_id TEXT, <br>\tgender_id BIGINT<br>)</td>\n",
       "        </tr>\n",
       "        <tr>\n",
       "            <td>table</td>\n",
       "            <td>confidential</td>\n",
       "            <td>confidential</td>\n",
       "            <td>18</td>\n",
       "            <td>CREATE TABLE confidential (<br>\t\"index\" BIGINT, <br>\tperson_id BIGINT, <br>\tsalary BIGINT<br>)</td>\n",
       "        </tr>\n",
       "        <tr>\n",
       "            <td>table</td>\n",
       "            <td>person_language</td>\n",
       "            <td>person_language</td>\n",
       "            <td>33</td>\n",
       "            <td>CREATE TABLE person_language (<br>\t\"index\" BIGINT, <br>\tperson_id BIGINT, <br>\tlanguage_id BIGINT<br>)</td>\n",
       "        </tr>\n",
       "        <tr>\n",
       "            <td>table</td>\n",
       "            <td>language</td>\n",
       "            <td>language</td>\n",
       "            <td>50</td>\n",
       "            <td>CREATE TABLE language (<br>\t\"index\" BIGINT, <br>\tlanguage_id BIGINT, <br>\tlanguage_name TEXT<br>)</td>\n",
       "        </tr>\n",
       "        <tr>\n",
       "            <td>table</td>\n",
       "            <td>gender</td>\n",
       "            <td>gender</td>\n",
       "            <td>55</td>\n",
       "            <td>CREATE TABLE gender (<br>\t\"index\" BIGINT, <br>\tgender_id BIGINT, <br>\tgender TEXT<br>)</td>\n",
       "        </tr>\n",
       "        <tr>\n",
       "            <td>table</td>\n",
       "            <td>country</td>\n",
       "            <td>country</td>\n",
       "            <td>57</td>\n",
       "            <td>CREATE TABLE country (<br>\t\"index\" BIGINT, <br>\tcountry_id TEXT, <br>\tcountry TEXT, <br>\tnationality TEXT<br>)</td>\n",
       "        </tr>\n",
       "    </tbody>\n",
       "</table>"
      ],
      "text/plain": [
       "+-------+-----------------+-----------------+----------+--------------------------------+\n",
       "|  type |       name      |     tbl_name    | rootpage |              sql               |\n",
       "+-------+-----------------+-----------------+----------+--------------------------------+\n",
       "| table |      person     |      person     |    2     |     CREATE TABLE person (      |\n",
       "|       |                 |                 |          |                \t\"index\" BIGINT,                  |\n",
       "|       |                 |                 |          |                \tperson_id BIGINT,                  |\n",
       "|       |                 |                 |          |                \tfirst TEXT,                  |\n",
       "|       |                 |                 |          |                \tlast TEXT,                  |\n",
       "|       |                 |                 |          |                \tage BIGINT,                  |\n",
       "|       |                 |                 |          |                \theight FLOAT,                  |\n",
       "|       |                 |                 |          |                \tweight BIGINT,                  |\n",
       "|       |                 |                 |          |                \tcountry_id TEXT,                  |\n",
       "|       |                 |                 |          |                \tgender_id BIGINT                 |\n",
       "|       |                 |                 |          |               )                |\n",
       "| table |   confidential  |   confidential  |    18    |  CREATE TABLE confidential (   |\n",
       "|       |                 |                 |          |                \t\"index\" BIGINT,                  |\n",
       "|       |                 |                 |          |                \tperson_id BIGINT,                  |\n",
       "|       |                 |                 |          |                \tsalary BIGINT                 |\n",
       "|       |                 |                 |          |               )                |\n",
       "| table | person_language | person_language |    33    | CREATE TABLE person_language ( |\n",
       "|       |                 |                 |          |                \t\"index\" BIGINT,                  |\n",
       "|       |                 |                 |          |                \tperson_id BIGINT,                  |\n",
       "|       |                 |                 |          |                \tlanguage_id BIGINT                 |\n",
       "|       |                 |                 |          |               )                |\n",
       "| table |     language    |     language    |    50    |    CREATE TABLE language (     |\n",
       "|       |                 |                 |          |                \t\"index\" BIGINT,                  |\n",
       "|       |                 |                 |          |                \tlanguage_id BIGINT,                  |\n",
       "|       |                 |                 |          |                \tlanguage_name TEXT                 |\n",
       "|       |                 |                 |          |               )                |\n",
       "| table |      gender     |      gender     |    55    |     CREATE TABLE gender (      |\n",
       "|       |                 |                 |          |                \t\"index\" BIGINT,                  |\n",
       "|       |                 |                 |          |                \tgender_id BIGINT,                  |\n",
       "|       |                 |                 |          |                \tgender TEXT                 |\n",
       "|       |                 |                 |          |               )                |\n",
       "| table |     country     |     country     |    57    |     CREATE TABLE country (     |\n",
       "|       |                 |                 |          |                \t\"index\" BIGINT,                  |\n",
       "|       |                 |                 |          |                \tcountry_id TEXT,                  |\n",
       "|       |                 |                 |          |                \tcountry TEXT,                  |\n",
       "|       |                 |                 |          |                \tnationality TEXT                 |\n",
       "|       |                 |                 |          |               )                |\n",
       "+-------+-----------------+-----------------+----------+--------------------------------+"
      ]
     },
     "execution_count": 14,
     "metadata": {},
     "output_type": "execute_result"
    }
   ],
   "source": [
    "%%sql\n",
    "\n",
    "SELECT * FROM sqlite_master WHERE type='table';"
   ]
  },
  {
   "cell_type": "markdown",
   "metadata": {},
   "source": [
    "Note: You can save results as a variable"
   ]
  },
  {
   "cell_type": "code",
   "execution_count": 15,
   "metadata": {},
   "outputs": [
    {
     "data": {
      "text/html": [
       "<span style=\"None\">Running query in &#x27;sqlite:///data/faculty.db&#x27;</span>"
      ],
      "text/plain": [
       "Running query in 'sqlite:///data/faculty.db'"
      ]
     },
     "metadata": {},
     "output_type": "display_data"
    }
   ],
   "source": [
    "%%sql master <<\n",
    "\n",
    "SELECT * FROM sqlite_master WHERE type='table'"
   ]
  },
  {
   "cell_type": "code",
   "execution_count": 17,
   "metadata": {},
   "outputs": [
    {
     "data": {
      "text/plain": [
       "sql.run.resultset.ResultSet"
      ]
     },
     "execution_count": 17,
     "metadata": {},
     "output_type": "execute_result"
    }
   ],
   "source": [
    "type(master)"
   ]
  },
  {
   "cell_type": "code",
   "execution_count": 16,
   "metadata": {},
   "outputs": [
    {
     "data": {
      "text/html": [
       "<div>\n",
       "<style scoped>\n",
       "    .dataframe tbody tr th:only-of-type {\n",
       "        vertical-align: middle;\n",
       "    }\n",
       "\n",
       "    .dataframe tbody tr th {\n",
       "        vertical-align: top;\n",
       "    }\n",
       "\n",
       "    .dataframe thead th {\n",
       "        text-align: right;\n",
       "    }\n",
       "</style>\n",
       "<table border=\"1\" class=\"dataframe\">\n",
       "  <thead>\n",
       "    <tr style=\"text-align: right;\">\n",
       "      <th></th>\n",
       "      <th>type</th>\n",
       "      <th>name</th>\n",
       "      <th>tbl_name</th>\n",
       "      <th>rootpage</th>\n",
       "      <th>sql</th>\n",
       "    </tr>\n",
       "  </thead>\n",
       "  <tbody>\n",
       "    <tr>\n",
       "      <th>0</th>\n",
       "      <td>table</td>\n",
       "      <td>person</td>\n",
       "      <td>person</td>\n",
       "      <td>2</td>\n",
       "      <td>CREATE TABLE person (\\n\\t\"index\" BIGINT, \\n\\tp...</td>\n",
       "    </tr>\n",
       "    <tr>\n",
       "      <th>1</th>\n",
       "      <td>table</td>\n",
       "      <td>confidential</td>\n",
       "      <td>confidential</td>\n",
       "      <td>18</td>\n",
       "      <td>CREATE TABLE confidential (\\n\\t\"index\" BIGINT,...</td>\n",
       "    </tr>\n",
       "    <tr>\n",
       "      <th>2</th>\n",
       "      <td>table</td>\n",
       "      <td>person_language</td>\n",
       "      <td>person_language</td>\n",
       "      <td>33</td>\n",
       "      <td>CREATE TABLE person_language (\\n\\t\"index\" BIGI...</td>\n",
       "    </tr>\n",
       "    <tr>\n",
       "      <th>3</th>\n",
       "      <td>table</td>\n",
       "      <td>language</td>\n",
       "      <td>language</td>\n",
       "      <td>50</td>\n",
       "      <td>CREATE TABLE language (\\n\\t\"index\" BIGINT, \\n\\...</td>\n",
       "    </tr>\n",
       "    <tr>\n",
       "      <th>4</th>\n",
       "      <td>table</td>\n",
       "      <td>gender</td>\n",
       "      <td>gender</td>\n",
       "      <td>55</td>\n",
       "      <td>CREATE TABLE gender (\\n\\t\"index\" BIGINT, \\n\\tg...</td>\n",
       "    </tr>\n",
       "    <tr>\n",
       "      <th>5</th>\n",
       "      <td>table</td>\n",
       "      <td>country</td>\n",
       "      <td>country</td>\n",
       "      <td>57</td>\n",
       "      <td>CREATE TABLE country (\\n\\t\"index\" BIGINT, \\n\\t...</td>\n",
       "    </tr>\n",
       "  </tbody>\n",
       "</table>\n",
       "</div>"
      ],
      "text/plain": [
       "    type             name         tbl_name  rootpage  \\\n",
       "0  table           person           person         2   \n",
       "1  table     confidential     confidential        18   \n",
       "2  table  person_language  person_language        33   \n",
       "3  table         language         language        50   \n",
       "4  table           gender           gender        55   \n",
       "5  table          country          country        57   \n",
       "\n",
       "                                                 sql  \n",
       "0  CREATE TABLE person (\\n\\t\"index\" BIGINT, \\n\\tp...  \n",
       "1  CREATE TABLE confidential (\\n\\t\"index\" BIGINT,...  \n",
       "2  CREATE TABLE person_language (\\n\\t\"index\" BIGI...  \n",
       "3  CREATE TABLE language (\\n\\t\"index\" BIGINT, \\n\\...  \n",
       "4  CREATE TABLE gender (\\n\\t\"index\" BIGINT, \\n\\tg...  \n",
       "5  CREATE TABLE country (\\n\\t\"index\" BIGINT, \\n\\t...  "
      ]
     },
     "execution_count": 16,
     "metadata": {},
     "output_type": "execute_result"
    }
   ],
   "source": [
    "master.DataFrame()"
   ]
  },
  {
   "cell_type": "markdown",
   "metadata": {},
   "source": [
    "## Basic Structure"
   ]
  },
  {
   "cell_type": "code",
   "execution_count": 38,
   "metadata": {},
   "outputs": [
    {
     "data": {
      "text/html": [
       "<span style=\"None\">Running query in &#x27;sqlite:///data/faculty.db&#x27;</span>"
      ],
      "text/plain": [
       "Running query in 'sqlite:///data/faculty.db'"
      ]
     },
     "metadata": {},
     "output_type": "display_data"
    },
    {
     "data": {
      "text/html": [
       "<table>\n",
       "    <thead>\n",
       "        <tr>\n",
       "            <th>first</th>\n",
       "            <th>last</th>\n",
       "            <th>age</th>\n",
       "        </tr>\n",
       "    </thead>\n",
       "    <tbody>\n",
       "        <tr>\n",
       "            <td>Arlen</td>\n",
       "            <td>Frederick</td>\n",
       "            <td>29</td>\n",
       "        </tr>\n",
       "        <tr>\n",
       "            <td>Brett</td>\n",
       "            <td>Bentley</td>\n",
       "            <td>29</td>\n",
       "        </tr>\n",
       "        <tr>\n",
       "            <td>Darius</td>\n",
       "            <td>England</td>\n",
       "            <td>29</td>\n",
       "        </tr>\n",
       "        <tr>\n",
       "            <td>Genaro</td>\n",
       "            <td>Dominguez</td>\n",
       "            <td>29</td>\n",
       "        </tr>\n",
       "        <tr>\n",
       "            <td>Leo</td>\n",
       "            <td>Hamilton</td>\n",
       "            <td>29</td>\n",
       "        </tr>\n",
       "    </tbody>\n",
       "</table>"
      ],
      "text/plain": [
       "+--------+-----------+-----+\n",
       "| first  |    last   | age |\n",
       "+--------+-----------+-----+\n",
       "| Arlen  | Frederick |  29 |\n",
       "| Brett  |  Bentley  |  29 |\n",
       "| Darius |  England  |  29 |\n",
       "| Genaro | Dominguez |  29 |\n",
       "|  Leo   |  Hamilton |  29 |\n",
       "+--------+-----------+-----+"
      ]
     },
     "execution_count": 38,
     "metadata": {},
     "output_type": "execute_result"
    }
   ],
   "source": [
    "%%sql\n",
    "\n",
    "SELECT first, last, age\n",
    "FROM PERSON\n",
    "WHERE age < 30\n",
    "ORDER BY age DESC\n",
    "LIMIT 5"
   ]
  },
  {
   "cell_type": "markdown",
   "metadata": {},
   "source": [
    "```SQL\n",
    "SELECT DISTINCT value_expression AS alias\n",
    "FROM tables AS alias\n",
    "WHERE predicate\n",
    "ORDER BY value_expression\n",
    "```"
   ]
  },
  {
   "cell_type": "markdown",
   "metadata": {},
   "source": [
    "### Types"
   ]
  },
  {
   "cell_type": "markdown",
   "metadata": {},
   "source": [
    "- Character (Fixed width, variable width)\n",
    "- National Character (Fixed width, variable width)\n",
    "- Binary\n",
    "- Numeric (Exact, Arpproximate)\n",
    "- Boolean\n",
    "- DateTime\n",
    "- Interval\n",
    "\n",
    "**CHAR** and **NCHAR** are vendor-dependent. Sometimes they mean the same thing, and sometimes CHAR means bytes and NCHAR means Unicode.\n",
    "\n",
    "The SQL standard specifies that character strings and datetime literals are enclosed by single quotes. Two single quotes wihtin a string is intepreted as a literal single quote.\n",
    "\n",
    "```sql\n",
    "'Gilligan''s island'\n",
    "```"
   ]
  },
  {
   "cell_type": "markdown",
   "metadata": {},
   "source": [
    "#### The CAST function"
   ]
  },
  {
   "cell_type": "markdown",
   "metadata": {},
   "source": [
    "```sql\n",
    "CAST(X as CHARACTER(10))\n",
    "```"
   ]
  },
  {
   "cell_type": "markdown",
   "metadata": {},
   "source": [
    "### Value expression\n",
    "\n",
    "- Literal\n",
    "- Column reference\n",
    "- Function\n",
    "- CASES\n",
    "- (Value expression)\n",
    "\n",
    "which may be prefixed with unary operators `-` and `+` and combined with binary operators appropriate for the data type."
   ]
  },
  {
   "cell_type": "markdown",
   "metadata": {},
   "source": [
    "Literal"
   ]
  },
  {
   "cell_type": "code",
   "execution_count": 39,
   "metadata": {},
   "outputs": [
    {
     "data": {
      "text/html": [
       "<span style=\"None\">Running query in &#x27;sqlite:///data/faculty.db&#x27;</span>"
      ],
      "text/plain": [
       "Running query in 'sqlite:///data/faculty.db'"
      ]
     },
     "metadata": {},
     "output_type": "display_data"
    },
    {
     "data": {
      "text/html": [
       "<table>\n",
       "    <thead>\n",
       "        <tr>\n",
       "            <th>23</th>\n",
       "        </tr>\n",
       "    </thead>\n",
       "    <tbody>\n",
       "        <tr>\n",
       "            <td>23</td>\n",
       "        </tr>\n",
       "    </tbody>\n",
       "</table>"
      ],
      "text/plain": [
       "+----+\n",
       "| 23 |\n",
       "+----+\n",
       "| 23 |\n",
       "+----+"
      ]
     },
     "execution_count": 39,
     "metadata": {},
     "output_type": "execute_result"
    }
   ],
   "source": [
    "%sql SELECT 23"
   ]
  },
  {
   "cell_type": "markdown",
   "metadata": {},
   "source": [
    "Column reference"
   ]
  },
  {
   "cell_type": "code",
   "execution_count": 40,
   "metadata": {},
   "outputs": [
    {
     "data": {
      "text/html": [
       "<span style=\"None\">Running query in &#x27;sqlite:///data/faculty.db&#x27;</span>"
      ],
      "text/plain": [
       "Running query in 'sqlite:///data/faculty.db'"
      ]
     },
     "metadata": {},
     "output_type": "display_data"
    },
    {
     "data": {
      "text/html": [
       "<table>\n",
       "    <thead>\n",
       "        <tr>\n",
       "            <th>first</th>\n",
       "            <th>last</th>\n",
       "        </tr>\n",
       "    </thead>\n",
       "    <tbody>\n",
       "        <tr>\n",
       "            <td>Aaron</td>\n",
       "            <td>Alexander</td>\n",
       "        </tr>\n",
       "        <tr>\n",
       "            <td>Aaron</td>\n",
       "            <td>Kirby</td>\n",
       "        </tr>\n",
       "        <tr>\n",
       "            <td>Abram</td>\n",
       "            <td>Allen</td>\n",
       "        </tr>\n",
       "    </tbody>\n",
       "</table>"
      ],
      "text/plain": [
       "+-------+-----------+\n",
       "| first |    last   |\n",
       "+-------+-----------+\n",
       "| Aaron | Alexander |\n",
       "| Aaron |   Kirby   |\n",
       "| Abram |   Allen   |\n",
       "+-------+-----------+"
      ]
     },
     "execution_count": 40,
     "metadata": {},
     "output_type": "execute_result"
    }
   ],
   "source": [
    "%sql SELECT first, last FROM person LIMIT 3"
   ]
  },
  {
   "cell_type": "markdown",
   "metadata": {},
   "source": [
    "Function"
   ]
  },
  {
   "cell_type": "code",
   "execution_count": 41,
   "metadata": {},
   "outputs": [
    {
     "data": {
      "text/html": [
       "<span style=\"None\">Running query in &#x27;sqlite:///data/faculty.db&#x27;</span>"
      ],
      "text/plain": [
       "Running query in 'sqlite:///data/faculty.db'"
      ]
     },
     "metadata": {},
     "output_type": "display_data"
    },
    {
     "data": {
      "text/html": [
       "<table>\n",
       "    <thead>\n",
       "        <tr>\n",
       "            <th>count(*)</th>\n",
       "        </tr>\n",
       "    </thead>\n",
       "    <tbody>\n",
       "        <tr>\n",
       "            <td>1523</td>\n",
       "        </tr>\n",
       "    </tbody>\n",
       "</table>"
      ],
      "text/plain": [
       "+----------+\n",
       "| count(*) |\n",
       "+----------+\n",
       "|   1523   |\n",
       "+----------+"
      ]
     },
     "execution_count": 41,
     "metadata": {},
     "output_type": "execute_result"
    }
   ],
   "source": [
    "%sql SELECT count(*) FROM person"
   ]
  },
  {
   "cell_type": "markdown",
   "metadata": {},
   "source": [
    "Cases"
   ]
  },
  {
   "cell_type": "code",
   "execution_count": 42,
   "metadata": {},
   "outputs": [
    {
     "data": {
      "text/html": [
       "<span style=\"None\">Running query in &#x27;sqlite:///data/faculty.db&#x27;</span>"
      ],
      "text/plain": [
       "Running query in 'sqlite:///data/faculty.db'"
      ]
     },
     "metadata": {},
     "output_type": "display_data"
    },
    {
     "data": {
      "text/html": [
       "<table>\n",
       "    <thead>\n",
       "        <tr>\n",
       "            <th>first</th>\n",
       "            <th>last</th>\n",
       "            <th>age</th>\n",
       "            <th>comment</th>\n",
       "        </tr>\n",
       "    </thead>\n",
       "    <tbody>\n",
       "        <tr>\n",
       "            <td>Aaron</td>\n",
       "            <td>Alexander</td>\n",
       "            <td>54</td>\n",
       "            <td>Old codger</td>\n",
       "        </tr>\n",
       "        <tr>\n",
       "            <td>Aaron</td>\n",
       "            <td>Kirby</td>\n",
       "            <td>59</td>\n",
       "            <td>Old codger</td>\n",
       "        </tr>\n",
       "        <tr>\n",
       "            <td>Abram</td>\n",
       "            <td>Allen</td>\n",
       "            <td>41</td>\n",
       "            <td>Whippernapper</td>\n",
       "        </tr>\n",
       "        <tr>\n",
       "            <td>Abram</td>\n",
       "            <td>Boyer</td>\n",
       "            <td>45</td>\n",
       "            <td>Whippernapper</td>\n",
       "        </tr>\n",
       "    </tbody>\n",
       "</table>"
      ],
      "text/plain": [
       "+-------+-----------+-----+---------------+\n",
       "| first |    last   | age |    comment    |\n",
       "+-------+-----------+-----+---------------+\n",
       "| Aaron | Alexander |  54 |   Old codger  |\n",
       "| Aaron |   Kirby   |  59 |   Old codger  |\n",
       "| Abram |   Allen   |  41 | Whippernapper |\n",
       "| Abram |   Boyer   |  45 | Whippernapper |\n",
       "+-------+-----------+-----+---------------+"
      ]
     },
     "execution_count": 42,
     "metadata": {},
     "output_type": "execute_result"
    }
   ],
   "source": [
    "%%sql\n",
    "\n",
    "SELECT first, last, age,\n",
    "CASE\n",
    "    WHEN age < 50 THEN 'Whippernapper'\n",
    "    WHEN age < 70 THEN 'Old codger'\n",
    "    ELSE 'Dinosaur'\n",
    "END comment\n",
    "FROM person\n",
    "LIMIT 4"
   ]
  },
  {
   "cell_type": "markdown",
   "metadata": {},
   "source": [
    "Value expression"
   ]
  },
  {
   "cell_type": "code",
   "execution_count": 43,
   "metadata": {},
   "outputs": [
    {
     "data": {
      "text/html": [
       "<span style=\"None\">Running query in &#x27;sqlite:///data/faculty.db&#x27;</span>"
      ],
      "text/plain": [
       "Running query in 'sqlite:///data/faculty.db'"
      ]
     },
     "metadata": {},
     "output_type": "display_data"
    },
    {
     "data": {
      "text/html": [
       "<table>\n",
       "    <thead>\n",
       "        <tr>\n",
       "            <th>name</th>\n",
       "            <th>age</th>\n",
       "            <th>fake_age</th>\n",
       "        </tr>\n",
       "    </thead>\n",
       "    <tbody>\n",
       "        <tr>\n",
       "            <td>Aaron Alexander</td>\n",
       "            <td>54</td>\n",
       "            <td>44</td>\n",
       "        </tr>\n",
       "        <tr>\n",
       "            <td>Aaron Kirby</td>\n",
       "            <td>59</td>\n",
       "            <td>49</td>\n",
       "        </tr>\n",
       "        <tr>\n",
       "            <td>Abram Allen</td>\n",
       "            <td>41</td>\n",
       "            <td>31</td>\n",
       "        </tr>\n",
       "    </tbody>\n",
       "</table>"
      ],
      "text/plain": [
       "+-----------------+-----+----------+\n",
       "|       name      | age | fake_age |\n",
       "+-----------------+-----+----------+\n",
       "| Aaron Alexander |  54 |    44    |\n",
       "|   Aaron Kirby   |  59 |    49    |\n",
       "|   Abram Allen   |  41 |    31    |\n",
       "+-----------------+-----+----------+"
      ]
     },
     "execution_count": 43,
     "metadata": {},
     "output_type": "execute_result"
    }
   ],
   "source": [
    "%%sql\n",
    "\n",
    "SELECT first || ' ' || last AS name, age, age - 10 AS fake_age\n",
    "FROM person\n",
    "LIMIT 3"
   ]
  },
  {
   "cell_type": "markdown",
   "metadata": {},
   "source": [
    "### Bineary operators"
   ]
  },
  {
   "cell_type": "markdown",
   "metadata": {},
   "source": [
    "#### Concatenation"
   ]
  },
  {
   "cell_type": "markdown",
   "metadata": {},
   "source": [
    "```SQL\n",
    "A || B\n",
    "```"
   ]
  },
  {
   "cell_type": "markdown",
   "metadata": {},
   "source": [
    "#### Mathematical"
   ]
  },
  {
   "cell_type": "markdown",
   "metadata": {},
   "source": [
    "```SQL\n",
    "A + B\n",
    "A - B\n",
    "A * B\n",
    "A / B\n",
    "```"
   ]
  },
  {
   "cell_type": "markdown",
   "metadata": {},
   "source": [
    "#### Data and time arithmetic"
   ]
  },
  {
   "cell_type": "markdown",
   "metadata": {},
   "source": [
    "```SQL\n",
    "'2018-08-29' + 3\n",
    "'11:59' + '00:01'\n",
    "```"
   ]
  },
  {
   "cell_type": "code",
   "execution_count": 44,
   "metadata": {},
   "outputs": [
    {
     "data": {
      "text/html": [
       "<span style=\"None\">Running query in &#x27;sqlite:///data/faculty.db&#x27;</span>"
      ],
      "text/plain": [
       "Running query in 'sqlite:///data/faculty.db'"
      ]
     },
     "metadata": {},
     "output_type": "display_data"
    },
    {
     "data": {
      "text/html": [
       "<table>\n",
       "    <thead>\n",
       "        <tr>\n",
       "            <th>language_name</th>\n",
       "        </tr>\n",
       "    </thead>\n",
       "    <tbody>\n",
       "        <tr>\n",
       "            <td>PHP</td>\n",
       "        </tr>\n",
       "        <tr>\n",
       "            <td>Clojure</td>\n",
       "        </tr>\n",
       "        <tr>\n",
       "            <td>Dylan</td>\n",
       "        </tr>\n",
       "        <tr>\n",
       "            <td>GNU Octave</td>\n",
       "        </tr>\n",
       "        <tr>\n",
       "            <td>D</td>\n",
       "        </tr>\n",
       "    </tbody>\n",
       "</table>"
      ],
      "text/plain": [
       "+---------------+\n",
       "| language_name |\n",
       "+---------------+\n",
       "|      PHP      |\n",
       "|    Clojure    |\n",
       "|     Dylan     |\n",
       "|   GNU Octave  |\n",
       "|       D       |\n",
       "+---------------+"
      ]
     },
     "execution_count": 44,
     "metadata": {},
     "output_type": "execute_result"
    }
   ],
   "source": [
    "%%sql\n",
    "\n",
    "SELECT DISTINCT language_name\n",
    "FROM language\n",
    "LIMIT 5;"
   ]
  },
  {
   "cell_type": "markdown",
   "metadata": {},
   "source": [
    "### Sorting"
   ]
  },
  {
   "cell_type": "markdown",
   "metadata": {},
   "source": [
    "```SQL\n",
    "SELECT DISTINCT value_expression AS alias\n",
    "FROM tables AS alias\n",
    "ORDER BY value_expression\n",
    "```"
   ]
  },
  {
   "cell_type": "code",
   "execution_count": 45,
   "metadata": {},
   "outputs": [
    {
     "data": {
      "text/html": [
       "<span style=\"None\">Running query in &#x27;sqlite:///data/faculty.db&#x27;</span>"
      ],
      "text/plain": [
       "Running query in 'sqlite:///data/faculty.db'"
      ]
     },
     "metadata": {},
     "output_type": "display_data"
    },
    {
     "data": {
      "text/html": [
       "<table>\n",
       "    <thead>\n",
       "        <tr>\n",
       "            <th>language_name</th>\n",
       "        </tr>\n",
       "    </thead>\n",
       "    <tbody>\n",
       "        <tr>\n",
       "            <td>ASP</td>\n",
       "        </tr>\n",
       "        <tr>\n",
       "            <td>Assembly</td>\n",
       "        </tr>\n",
       "        <tr>\n",
       "            <td>AutoIt</td>\n",
       "        </tr>\n",
       "        <tr>\n",
       "            <td>Awk</td>\n",
       "        </tr>\n",
       "        <tr>\n",
       "            <td>Bash</td>\n",
       "        </tr>\n",
       "    </tbody>\n",
       "</table>"
      ],
      "text/plain": [
       "+---------------+\n",
       "| language_name |\n",
       "+---------------+\n",
       "|      ASP      |\n",
       "|    Assembly   |\n",
       "|     AutoIt    |\n",
       "|      Awk      |\n",
       "|      Bash     |\n",
       "+---------------+"
      ]
     },
     "execution_count": 45,
     "metadata": {},
     "output_type": "execute_result"
    }
   ],
   "source": [
    "%%sql\n",
    "\n",
    "SELECT DISTINCT language_name\n",
    "FROM language\n",
    "ORDER BY language_name ASC\n",
    "LIMIT 5;"
   ]
  },
  {
   "cell_type": "code",
   "execution_count": 46,
   "metadata": {},
   "outputs": [
    {
     "data": {
      "text/html": [
       "<span style=\"None\">Running query in &#x27;sqlite:///data/faculty.db&#x27;</span>"
      ],
      "text/plain": [
       "Running query in 'sqlite:///data/faculty.db'"
      ]
     },
     "metadata": {},
     "output_type": "display_data"
    },
    {
     "data": {
      "text/html": [
       "<table>\n",
       "    <thead>\n",
       "        <tr>\n",
       "            <th>language_name</th>\n",
       "        </tr>\n",
       "    </thead>\n",
       "    <tbody>\n",
       "        <tr>\n",
       "            <td>Ruby</td>\n",
       "        </tr>\n",
       "        <tr>\n",
       "            <td>D</td>\n",
       "        </tr>\n",
       "        <tr>\n",
       "            <td>Elixir</td>\n",
       "        </tr>\n",
       "        <tr>\n",
       "            <td>JavaScript</td>\n",
       "        </tr>\n",
       "        <tr>\n",
       "            <td>TypeScript</td>\n",
       "        </tr>\n",
       "    </tbody>\n",
       "</table>"
      ],
      "text/plain": [
       "+---------------+\n",
       "| language_name |\n",
       "+---------------+\n",
       "|      Ruby     |\n",
       "|       D       |\n",
       "|     Elixir    |\n",
       "|   JavaScript  |\n",
       "|   TypeScript  |\n",
       "+---------------+"
      ]
     },
     "execution_count": 46,
     "metadata": {},
     "output_type": "execute_result"
    }
   ],
   "source": [
    "%%sql\n",
    "\n",
    "SELECT DISTINCT language_name\n",
    "FROM language\n",
    "ORDER BY random()\n",
    "LIMIT 5;"
   ]
  },
  {
   "cell_type": "markdown",
   "metadata": {},
   "source": [
    "### Filtering\n",
    "\n",
    "For efficiency, place the most stringent filters first."
   ]
  },
  {
   "cell_type": "markdown",
   "metadata": {},
   "source": [
    "```SQL\n",
    "SELECT DISTINCT value_expression AS alias\n",
    "FROM tables AS alias\n",
    "WHERE predicate\n",
    "ORDER BY value_expression\n",
    "```"
   ]
  },
  {
   "cell_type": "markdown",
   "metadata": {},
   "source": [
    "#### Predicates for filtering rows"
   ]
  },
  {
   "cell_type": "markdown",
   "metadata": {},
   "source": [
    "- Comparison operators (=, <>, <, >, <=, >=)\n",
    "- BETWEEN start AND end\n",
    "- IN(A, B, C)\n",
    "- LIKE\n",
    "- IS NULL\n",
    "- REGEX\n",
    "\n",
    "Use NOT prefix for negation"
   ]
  },
  {
   "cell_type": "markdown",
   "metadata": {},
   "source": [
    "#### Combining predicates\n",
    "\n",
    "```sql\n",
    "AND\n",
    "OR\n",
    "```\n",
    "\n",
    "USe parenthesis to indicate order of evaluation for compound statements."
   ]
  },
  {
   "cell_type": "code",
   "execution_count": 47,
   "metadata": {},
   "outputs": [
    {
     "data": {
      "text/html": [
       "<span style=\"None\">Running query in &#x27;sqlite:///data/faculty.db&#x27;</span>"
      ],
      "text/plain": [
       "Running query in 'sqlite:///data/faculty.db'"
      ]
     },
     "metadata": {},
     "output_type": "display_data"
    },
    {
     "data": {
      "text/html": [
       "<table>\n",
       "    <thead>\n",
       "        <tr>\n",
       "            <th>first</th>\n",
       "            <th>last</th>\n",
       "            <th>age</th>\n",
       "        </tr>\n",
       "    </thead>\n",
       "    <tbody>\n",
       "        <tr>\n",
       "            <td>Antoine</td>\n",
       "            <td>Beard</td>\n",
       "            <td>16</td>\n",
       "        </tr>\n",
       "        <tr>\n",
       "            <td>Augustine</td>\n",
       "            <td>Mejia</td>\n",
       "            <td>16</td>\n",
       "        </tr>\n",
       "        <tr>\n",
       "            <td>Boris</td>\n",
       "            <td>Mejia</td>\n",
       "            <td>16</td>\n",
       "        </tr>\n",
       "        <tr>\n",
       "            <td>Brain</td>\n",
       "            <td>Haney</td>\n",
       "            <td>16</td>\n",
       "        </tr>\n",
       "        <tr>\n",
       "            <td>Burl</td>\n",
       "            <td>Mayo</td>\n",
       "            <td>17</td>\n",
       "        </tr>\n",
       "    </tbody>\n",
       "</table>"
      ],
      "text/plain": [
       "+-----------+-------+-----+\n",
       "|   first   |  last | age |\n",
       "+-----------+-------+-----+\n",
       "|  Antoine  | Beard |  16 |\n",
       "| Augustine | Mejia |  16 |\n",
       "|   Boris   | Mejia |  16 |\n",
       "|   Brain   | Haney |  16 |\n",
       "|    Burl   |  Mayo |  17 |\n",
       "+-----------+-------+-----+"
      ]
     },
     "execution_count": 47,
     "metadata": {},
     "output_type": "execute_result"
    }
   ],
   "source": [
    "%%sql\n",
    "\n",
    "SELECT first, last, age\n",
    "FROM person\n",
    "WHERE age BETWEEN 16 AND 17\n",
    "LIMIT 5;"
   ]
  },
  {
   "cell_type": "markdown",
   "metadata": {},
   "source": [
    "### Joins\n",
    "\n",
    "Joins combine data from 1 or more tables to form a new result set.\n",
    "\n",
    "Note: To join on multiple columns just use `AND` in the `ON` expression"
   ]
  },
  {
   "cell_type": "markdown",
   "metadata": {},
   "source": [
    "#### Natural join\n",
    "\n",
    "Uses all common columns in Tables 1 and 2 for JOIN\n",
    "\n",
    "```SQL\n",
    "FROM Table1 \n",
    "NATURAL INNER JOIN Table 2\n",
    "```"
   ]
  },
  {
   "cell_type": "markdown",
   "metadata": {},
   "source": [
    "#### Inner join"
   ]
  },
  {
   "cell_type": "markdown",
   "metadata": {},
   "source": [
    "General form of INNER JOIN uisng ON\n",
    "\n",
    "```SQL\n",
    "FROM Table1 \n",
    "INNER JOIN Table2\n",
    "ON Table1.Column = Table2.Column\n",
    "```\n",
    "\n",
    "**Note**: This is equivalent to an EQUIJOIN but more flexible in that additional JOIN conditions can be specified.\n",
    "\n",
    "```SQL\n",
    "SELECT * \n",
    "FROM Table1, Table2\n",
    "WHERE Table1.Column = Table2.Column\n",
    "```"
   ]
  },
  {
   "cell_type": "markdown",
   "metadata": {},
   "source": [
    "If there is a common column in both tables\n",
    "\n",
    "```SQL\n",
    "FROM Table1\n",
    "INNER JOIN Table2\n",
    "USING Column\n",
    "```"
   ]
  },
  {
   "cell_type": "markdown",
   "metadata": {},
   "source": [
    "Joining more than two tables\n",
    "\n",
    "```SQL\n",
    "From (Table1 \n",
    "      INNER JOIN Table2\n",
    "      ON Table1.column1 = Table2.Column1)\n",
    "      INNER JOIN Table3 \n",
    "      ON Table3.column2 = Table2.Column2\n",
    "```"
   ]
  },
  {
   "cell_type": "markdown",
   "metadata": {},
   "source": [
    "#### Outer join"
   ]
  },
  {
   "cell_type": "markdown",
   "metadata": {},
   "source": [
    "General form of OUTER JOIN uisng ON\n",
    "\n",
    "```SQL\n",
    "FROM Table1 \n",
    "RIGHT OUTER JOIN Table2\n",
    "ON Table1.Column = Table2.Column\n",
    "```\n",
    "\n",
    "```SQL\n",
    "FROM Table1 \n",
    "LEFT OUTER JOIN Table2\n",
    "ON Table1.Column = Table2.Column\n",
    "```\n",
    "\n",
    "```SQL\n",
    "FROM Table1 \n",
    "FULL OUTER JOIN Table2\n",
    "ON Table1.Column = Table2.Column\n",
    "```"
   ]
  },
  {
   "cell_type": "code",
   "execution_count": 48,
   "metadata": {},
   "outputs": [
    {
     "data": {
      "text/html": [
       "<span style=\"None\">Running query in &#x27;sqlite:///data/faculty.db&#x27;</span>"
      ],
      "text/plain": [
       "Running query in 'sqlite:///data/faculty.db'"
      ]
     },
     "metadata": {},
     "output_type": "display_data"
    },
    {
     "data": {
      "text/html": [
       "<table>\n",
       "    <thead>\n",
       "        <tr>\n",
       "            <th>first</th>\n",
       "            <th>last</th>\n",
       "            <th>language_name</th>\n",
       "        </tr>\n",
       "    </thead>\n",
       "    <tbody>\n",
       "        <tr>\n",
       "            <td>Aaron</td>\n",
       "            <td>Alexander</td>\n",
       "            <td>Haskell</td>\n",
       "        </tr>\n",
       "        <tr>\n",
       "            <td>Aaron</td>\n",
       "            <td>Kirby</td>\n",
       "            <td>GNU Octave</td>\n",
       "        </tr>\n",
       "        <tr>\n",
       "            <td>Aaron</td>\n",
       "            <td>Kirby</td>\n",
       "            <td>haXe</td>\n",
       "        </tr>\n",
       "        <tr>\n",
       "            <td>Aaron</td>\n",
       "            <td>Kirby</td>\n",
       "            <td>Falcon</td>\n",
       "        </tr>\n",
       "        <tr>\n",
       "            <td>Abram</td>\n",
       "            <td>Allen</td>\n",
       "            <td>TypeScript</td>\n",
       "        </tr>\n",
       "        <tr>\n",
       "            <td>Abram</td>\n",
       "            <td>Boyer</td>\n",
       "            <td>Io</td>\n",
       "        </tr>\n",
       "        <tr>\n",
       "            <td>Abram</td>\n",
       "            <td>Boyer</td>\n",
       "            <td>Lua</td>\n",
       "        </tr>\n",
       "        <tr>\n",
       "            <td>Abram</td>\n",
       "            <td>Boyer</td>\n",
       "            <td>Falcon</td>\n",
       "        </tr>\n",
       "        <tr>\n",
       "            <td>Adan</td>\n",
       "            <td>Brown</td>\n",
       "            <td>F#</td>\n",
       "        </tr>\n",
       "        <tr>\n",
       "            <td>Adolph</td>\n",
       "            <td>Dalton</td>\n",
       "            <td>Dart</td>\n",
       "        </tr>\n",
       "    </tbody>\n",
       "</table>\n",
       "<span style=\"font-style:italic;text-align:center;\">Truncated to <a href=\"https://jupysql.ploomber.io/en/latest/api/configuration.html#displaylimit\">displaylimit</a> of 10.</span>"
      ],
      "text/plain": [
       "+--------+-----------+---------------+\n",
       "| first  |    last   | language_name |\n",
       "+--------+-----------+---------------+\n",
       "| Aaron  | Alexander |    Haskell    |\n",
       "| Aaron  |   Kirby   |   GNU Octave  |\n",
       "| Aaron  |   Kirby   |      haXe     |\n",
       "| Aaron  |   Kirby   |     Falcon    |\n",
       "| Abram  |   Allen   |   TypeScript  |\n",
       "| Abram  |   Boyer   |       Io      |\n",
       "| Abram  |   Boyer   |      Lua      |\n",
       "| Abram  |   Boyer   |     Falcon    |\n",
       "|  Adan  |   Brown   |       F#      |\n",
       "| Adolph |   Dalton  |      Dart     |\n",
       "+--------+-----------+---------------+\n",
       "Truncated to displaylimit of 10."
      ]
     },
     "execution_count": 48,
     "metadata": {},
     "output_type": "execute_result"
    }
   ],
   "source": [
    "%%sql\n",
    "\n",
    "SELECT first, last, language_name \n",
    "FROM person\n",
    "INNER JOIN person_language \n",
    "    ON person.person_id = person_language.person_id\n",
    "INNER JOIN language \n",
    "    ON language.language_id = person_language.language_id\n",
    "LIMIT 10;"
   ]
  },
  {
   "cell_type": "markdown",
   "metadata": {},
   "source": [
    "### Set operations "
   ]
  },
  {
   "cell_type": "markdown",
   "metadata": {},
   "source": [
    "```SQL\n",
    "SELECT a, b \n",
    "FROM table1\n",
    "SetOp\n",
    "SELECT a, b \n",
    "FROM table2\n",
    "```\n",
    "\n",
    "wehre SetOp is `INTERSECT`, `EXCEPT`, `UNION` or `UNION ALL`."
   ]
  },
  {
   "cell_type": "markdown",
   "metadata": {},
   "source": [
    "#### Intersection\n",
    "\n",
    "```sql\n",
    "INTERSECT\n",
    "```\n",
    "\n",
    "Alternative using `INNER JOIN`"
   ]
  },
  {
   "cell_type": "markdown",
   "metadata": {},
   "source": [
    "#### Union"
   ]
  },
  {
   "cell_type": "markdown",
   "metadata": {},
   "source": [
    "```SQL\n",
    "UNION\n",
    "UNION ALL (does not eliminate duplicate rows)\n",
    "```"
   ]
  },
  {
   "cell_type": "markdown",
   "metadata": {},
   "source": [
    "#### Difference"
   ]
  },
  {
   "cell_type": "markdown",
   "metadata": {},
   "source": [
    "```SQL\n",
    "EXCEPT\n",
    "```\n",
    "\n",
    "Alternative using `OUTER JOIN` with test for `NULL`"
   ]
  },
  {
   "cell_type": "code",
   "execution_count": 49,
   "metadata": {},
   "outputs": [
    {
     "data": {
      "text/html": [
       "<span style=\"None\">Running query in &#x27;sqlite:///data/faculty.db&#x27;</span>"
      ],
      "text/plain": [
       "Running query in 'sqlite:///data/faculty.db'"
      ]
     },
     "metadata": {},
     "output_type": "display_data"
    },
    {
     "data": {
      "text/html": [
       "<table>\n",
       "    <thead>\n",
       "        <tr>\n",
       "        </tr>\n",
       "    </thead>\n",
       "    <tbody>\n",
       "    </tbody>\n",
       "</table>"
      ],
      "text/plain": [
       "++\n",
       "||\n",
       "++\n",
       "++"
      ]
     },
     "execution_count": 49,
     "metadata": {},
     "output_type": "execute_result"
    }
   ],
   "source": [
    "%%sql\n",
    "\n",
    "DROP VIEW IF EXISTS language_view;\n",
    "CREATE VIEW language_view AS\n",
    "SELECT first, last, language_name \n",
    "FROM person\n",
    "INNER JOIN person_language \n",
    "    ON person.person_id = person_language.person_id\n",
    "INNER JOIN language \n",
    "    ON language.language_id = person_language.language_id\n",
    ";"
   ]
  },
  {
   "cell_type": "code",
   "execution_count": 50,
   "metadata": {},
   "outputs": [
    {
     "data": {
      "text/html": [
       "<span style=\"None\">Running query in &#x27;sqlite:///data/faculty.db&#x27;</span>"
      ],
      "text/plain": [
       "Running query in 'sqlite:///data/faculty.db'"
      ]
     },
     "metadata": {},
     "output_type": "display_data"
    },
    {
     "data": {
      "text/html": [
       "<table>\n",
       "    <thead>\n",
       "        <tr>\n",
       "            <th>first</th>\n",
       "            <th>last</th>\n",
       "            <th>language_name</th>\n",
       "        </tr>\n",
       "    </thead>\n",
       "    <tbody>\n",
       "        <tr>\n",
       "            <td>Aaron</td>\n",
       "            <td>Alexander</td>\n",
       "            <td>Haskell</td>\n",
       "        </tr>\n",
       "        <tr>\n",
       "            <td>Aaron</td>\n",
       "            <td>Kirby</td>\n",
       "            <td>GNU Octave</td>\n",
       "        </tr>\n",
       "        <tr>\n",
       "            <td>Aaron</td>\n",
       "            <td>Kirby</td>\n",
       "            <td>haXe</td>\n",
       "        </tr>\n",
       "        <tr>\n",
       "            <td>Aaron</td>\n",
       "            <td>Kirby</td>\n",
       "            <td>Falcon</td>\n",
       "        </tr>\n",
       "        <tr>\n",
       "            <td>Abram</td>\n",
       "            <td>Allen</td>\n",
       "            <td>TypeScript</td>\n",
       "        </tr>\n",
       "        <tr>\n",
       "            <td>Abram</td>\n",
       "            <td>Boyer</td>\n",
       "            <td>Io</td>\n",
       "        </tr>\n",
       "        <tr>\n",
       "            <td>Abram</td>\n",
       "            <td>Boyer</td>\n",
       "            <td>Lua</td>\n",
       "        </tr>\n",
       "        <tr>\n",
       "            <td>Abram</td>\n",
       "            <td>Boyer</td>\n",
       "            <td>Falcon</td>\n",
       "        </tr>\n",
       "        <tr>\n",
       "            <td>Adan</td>\n",
       "            <td>Brown</td>\n",
       "            <td>F#</td>\n",
       "        </tr>\n",
       "        <tr>\n",
       "            <td>Adolph</td>\n",
       "            <td>Dalton</td>\n",
       "            <td>Dart</td>\n",
       "        </tr>\n",
       "    </tbody>\n",
       "</table>\n",
       "<span style=\"font-style:italic;text-align:center;\">Truncated to <a href=\"https://jupysql.ploomber.io/en/latest/api/configuration.html#displaylimit\">displaylimit</a> of 10.</span>"
      ],
      "text/plain": [
       "+--------+-----------+---------------+\n",
       "| first  |    last   | language_name |\n",
       "+--------+-----------+---------------+\n",
       "| Aaron  | Alexander |    Haskell    |\n",
       "| Aaron  |   Kirby   |   GNU Octave  |\n",
       "| Aaron  |   Kirby   |      haXe     |\n",
       "| Aaron  |   Kirby   |     Falcon    |\n",
       "| Abram  |   Allen   |   TypeScript  |\n",
       "| Abram  |   Boyer   |       Io      |\n",
       "| Abram  |   Boyer   |      Lua      |\n",
       "| Abram  |   Boyer   |     Falcon    |\n",
       "|  Adan  |   Brown   |       F#      |\n",
       "| Adolph |   Dalton  |      Dart     |\n",
       "+--------+-----------+---------------+\n",
       "Truncated to displaylimit of 10."
      ]
     },
     "execution_count": 50,
     "metadata": {},
     "output_type": "execute_result"
    }
   ],
   "source": [
    "%%sql\n",
    "\n",
    "SELECT * \n",
    "FROM language_view \n",
    "LIMIT 10;"
   ]
  },
  {
   "cell_type": "code",
   "execution_count": 52,
   "metadata": {},
   "outputs": [
    {
     "data": {
      "text/html": [
       "<span style=\"None\">Running query in &#x27;sqlite:///data/faculty.db&#x27;</span>"
      ],
      "text/plain": [
       "Running query in 'sqlite:///data/faculty.db'"
      ]
     },
     "metadata": {},
     "output_type": "display_data"
    },
    {
     "data": {
      "text/html": [
       "<table>\n",
       "    <thead>\n",
       "        <tr>\n",
       "            <th>first</th>\n",
       "            <th>last</th>\n",
       "            <th>language_name</th>\n",
       "        </tr>\n",
       "    </thead>\n",
       "    <tbody>\n",
       "        <tr>\n",
       "            <td>Arlie</td>\n",
       "            <td>Terrell</td>\n",
       "            <td>Python</td>\n",
       "        </tr>\n",
       "        <tr>\n",
       "            <td>Frankie</td>\n",
       "            <td>Robertson</td>\n",
       "            <td>Python</td>\n",
       "        </tr>\n",
       "        <tr>\n",
       "            <td>Gilbert</td>\n",
       "            <td>Byrd</td>\n",
       "            <td>Python</td>\n",
       "        </tr>\n",
       "        <tr>\n",
       "            <td>Gilberto</td>\n",
       "            <td>Hampton</td>\n",
       "            <td>Python</td>\n",
       "        </tr>\n",
       "        <tr>\n",
       "            <td>Glen</td>\n",
       "            <td>Hawkins</td>\n",
       "            <td>Python</td>\n",
       "        </tr>\n",
       "    </tbody>\n",
       "</table>"
      ],
      "text/plain": [
       "+----------+-----------+---------------+\n",
       "|  first   |    last   | language_name |\n",
       "+----------+-----------+---------------+\n",
       "|  Arlie   |  Terrell  |     Python    |\n",
       "| Frankie  | Robertson |     Python    |\n",
       "| Gilbert  |    Byrd   |     Python    |\n",
       "| Gilberto |  Hampton  |     Python    |\n",
       "|   Glen   |  Hawkins  |     Python    |\n",
       "+----------+-----------+---------------+"
      ]
     },
     "execution_count": 52,
     "metadata": {},
     "output_type": "execute_result"
    }
   ],
   "source": [
    "%%sql\n",
    "\n",
    "SELECT * \n",
    "FROM language_view \n",
    "WHERE language_name = 'Python'\n",
    "LIMIT 5"
   ]
  },
  {
   "cell_type": "code",
   "execution_count": 57,
   "metadata": {},
   "outputs": [
    {
     "data": {
      "text/html": [
       "<span style=\"None\">Running query in &#x27;sqlite:///data/faculty.db&#x27;</span>"
      ],
      "text/plain": [
       "Running query in 'sqlite:///data/faculty.db'"
      ]
     },
     "metadata": {},
     "output_type": "display_data"
    },
    {
     "data": {
      "text/html": [
       "<table>\n",
       "    <thead>\n",
       "        <tr>\n",
       "            <th>first</th>\n",
       "            <th>last</th>\n",
       "            <th>language_name</th>\n",
       "        </tr>\n",
       "    </thead>\n",
       "    <tbody>\n",
       "        <tr>\n",
       "            <td>Aaron</td>\n",
       "            <td>Alexander</td>\n",
       "            <td>Haskell</td>\n",
       "        </tr>\n",
       "        <tr>\n",
       "            <td>Boyd</td>\n",
       "            <td>Blackwell</td>\n",
       "            <td>Haskell</td>\n",
       "        </tr>\n",
       "        <tr>\n",
       "            <td>Buck</td>\n",
       "            <td>Howe</td>\n",
       "            <td>Haskell</td>\n",
       "        </tr>\n",
       "        <tr>\n",
       "            <td>Carlton</td>\n",
       "            <td>Richard</td>\n",
       "            <td>Haskell</td>\n",
       "        </tr>\n",
       "        <tr>\n",
       "            <td>Dorian</td>\n",
       "            <td>Lloyd</td>\n",
       "            <td>Haskell</td>\n",
       "        </tr>\n",
       "    </tbody>\n",
       "</table>"
      ],
      "text/plain": [
       "+---------+-----------+---------------+\n",
       "|  first  |    last   | language_name |\n",
       "+---------+-----------+---------------+\n",
       "|  Aaron  | Alexander |    Haskell    |\n",
       "|   Boyd  | Blackwell |    Haskell    |\n",
       "|   Buck  |    Howe   |    Haskell    |\n",
       "| Carlton |  Richard  |    Haskell    |\n",
       "|  Dorian |   Lloyd   |    Haskell    |\n",
       "+---------+-----------+---------------+"
      ]
     },
     "execution_count": 57,
     "metadata": {},
     "output_type": "execute_result"
    }
   ],
   "source": [
    "%%sql\n",
    "\n",
    "SELECT * \n",
    "FROM language_view \n",
    "WHERE language_name = 'Haskell'\n",
    "LIMIT 5;"
   ]
  },
  {
   "cell_type": "code",
   "execution_count": 58,
   "metadata": {},
   "outputs": [
    {
     "data": {
      "text/html": [
       "<span style=\"None\">Running query in &#x27;sqlite:///data/faculty.db&#x27;</span>"
      ],
      "text/plain": [
       "Running query in 'sqlite:///data/faculty.db'"
      ]
     },
     "metadata": {},
     "output_type": "display_data"
    },
    {
     "data": {
      "text/html": [
       "<table>\n",
       "    <thead>\n",
       "        <tr>\n",
       "            <th>first</th>\n",
       "            <th>last</th>\n",
       "            <th>language_name</th>\n",
       "        </tr>\n",
       "    </thead>\n",
       "    <tbody>\n",
       "        <tr>\n",
       "            <td>Aaron</td>\n",
       "            <td>Alexander</td>\n",
       "            <td>Haskell</td>\n",
       "        </tr>\n",
       "        <tr>\n",
       "            <td>Andree</td>\n",
       "            <td>Douglas</td>\n",
       "            <td>Haskell</td>\n",
       "        </tr>\n",
       "        <tr>\n",
       "            <td>Arlie</td>\n",
       "            <td>Terrell</td>\n",
       "            <td>Python</td>\n",
       "        </tr>\n",
       "        <tr>\n",
       "            <td>Boyd</td>\n",
       "            <td>Blackwell</td>\n",
       "            <td>Haskell</td>\n",
       "        </tr>\n",
       "        <tr>\n",
       "            <td>Buck</td>\n",
       "            <td>Howe</td>\n",
       "            <td>Haskell</td>\n",
       "        </tr>\n",
       "        <tr>\n",
       "            <td>Carlton</td>\n",
       "            <td>Richard</td>\n",
       "            <td>Haskell</td>\n",
       "        </tr>\n",
       "        <tr>\n",
       "            <td>Carylon</td>\n",
       "            <td>Zamora</td>\n",
       "            <td>Python</td>\n",
       "        </tr>\n",
       "        <tr>\n",
       "            <td>Clarisa</td>\n",
       "            <td>Rodgers</td>\n",
       "            <td>Python</td>\n",
       "        </tr>\n",
       "        <tr>\n",
       "            <td>Dinorah</td>\n",
       "            <td>O'brien</td>\n",
       "            <td>Haskell</td>\n",
       "        </tr>\n",
       "        <tr>\n",
       "            <td>Dorian</td>\n",
       "            <td>Lloyd</td>\n",
       "            <td>Haskell</td>\n",
       "        </tr>\n",
       "    </tbody>\n",
       "</table>\n",
       "<span style=\"font-style:italic;text-align:center;\">Truncated to <a href=\"https://jupysql.ploomber.io/en/latest/api/configuration.html#displaylimit\">displaylimit</a> of 10.</span>"
      ],
      "text/plain": [
       "+---------+-----------+---------------+\n",
       "|  first  |    last   | language_name |\n",
       "+---------+-----------+---------------+\n",
       "|  Aaron  | Alexander |    Haskell    |\n",
       "|  Andree |  Douglas  |    Haskell    |\n",
       "|  Arlie  |  Terrell  |     Python    |\n",
       "|   Boyd  | Blackwell |    Haskell    |\n",
       "|   Buck  |    Howe   |    Haskell    |\n",
       "| Carlton |  Richard  |    Haskell    |\n",
       "| Carylon |   Zamora  |     Python    |\n",
       "| Clarisa |  Rodgers  |     Python    |\n",
       "| Dinorah |  O'brien  |    Haskell    |\n",
       "|  Dorian |   Lloyd   |    Haskell    |\n",
       "+---------+-----------+---------------+\n",
       "Truncated to displaylimit of 10."
      ]
     },
     "execution_count": 58,
     "metadata": {},
     "output_type": "execute_result"
    }
   ],
   "source": [
    "%%sql\n",
    "\n",
    "SELECT * \n",
    "FROM language_view \n",
    "WHERE language_name = 'Python'\n",
    "UNION\n",
    "SELECT * \n",
    "FROM language_view \n",
    "WHERE language_name = 'Haskell'\n",
    "LIMIT 10;"
   ]
  },
  {
   "cell_type": "code",
   "execution_count": 59,
   "metadata": {},
   "outputs": [
    {
     "data": {
      "text/html": [
       "<span style=\"None\">Running query in &#x27;sqlite:///data/faculty.db&#x27;</span>"
      ],
      "text/plain": [
       "Running query in 'sqlite:///data/faculty.db'"
      ]
     },
     "metadata": {},
     "output_type": "display_data"
    },
    {
     "data": {
      "text/html": [
       "<table>\n",
       "    <thead>\n",
       "        <tr>\n",
       "            <th>first</th>\n",
       "            <th>last</th>\n",
       "            <th>language_name</th>\n",
       "        </tr>\n",
       "    </thead>\n",
       "    <tbody>\n",
       "        <tr>\n",
       "            <td>Aaron</td>\n",
       "            <td>Alexander</td>\n",
       "            <td>Haskell</td>\n",
       "        </tr>\n",
       "        <tr>\n",
       "            <td>Andree</td>\n",
       "            <td>Douglas</td>\n",
       "            <td>Haskell</td>\n",
       "        </tr>\n",
       "        <tr>\n",
       "            <td>Arlie</td>\n",
       "            <td>Terrell</td>\n",
       "            <td>Python</td>\n",
       "        </tr>\n",
       "        <tr>\n",
       "            <td>Boyd</td>\n",
       "            <td>Blackwell</td>\n",
       "            <td>Haskell</td>\n",
       "        </tr>\n",
       "        <tr>\n",
       "            <td>Buck</td>\n",
       "            <td>Howe</td>\n",
       "            <td>Haskell</td>\n",
       "        </tr>\n",
       "        <tr>\n",
       "            <td>Carlton</td>\n",
       "            <td>Richard</td>\n",
       "            <td>Haskell</td>\n",
       "        </tr>\n",
       "        <tr>\n",
       "            <td>Carylon</td>\n",
       "            <td>Zamora</td>\n",
       "            <td>Python</td>\n",
       "        </tr>\n",
       "        <tr>\n",
       "            <td>Clarisa</td>\n",
       "            <td>Rodgers</td>\n",
       "            <td>Python</td>\n",
       "        </tr>\n",
       "        <tr>\n",
       "            <td>Dinorah</td>\n",
       "            <td>O'brien</td>\n",
       "            <td>Haskell</td>\n",
       "        </tr>\n",
       "        <tr>\n",
       "            <td>Dorian</td>\n",
       "            <td>Lloyd</td>\n",
       "            <td>Haskell</td>\n",
       "        </tr>\n",
       "    </tbody>\n",
       "</table>\n",
       "<span style=\"font-style:italic;text-align:center;\">Truncated to <a href=\"https://jupysql.ploomber.io/en/latest/api/configuration.html#displaylimit\">displaylimit</a> of 10.</span>"
      ],
      "text/plain": [
       "+---------+-----------+---------------+\n",
       "|  first  |    last   | language_name |\n",
       "+---------+-----------+---------------+\n",
       "|  Aaron  | Alexander |    Haskell    |\n",
       "|  Andree |  Douglas  |    Haskell    |\n",
       "|  Arlie  |  Terrell  |     Python    |\n",
       "|   Boyd  | Blackwell |    Haskell    |\n",
       "|   Buck  |    Howe   |    Haskell    |\n",
       "| Carlton |  Richard  |    Haskell    |\n",
       "| Carylon |   Zamora  |     Python    |\n",
       "| Clarisa |  Rodgers  |     Python    |\n",
       "| Dinorah |  O'brien  |    Haskell    |\n",
       "|  Dorian |   Lloyd   |    Haskell    |\n",
       "+---------+-----------+---------------+\n",
       "Truncated to displaylimit of 10."
      ]
     },
     "execution_count": 59,
     "metadata": {},
     "output_type": "execute_result"
    }
   ],
   "source": [
    "%%sql\n",
    "\n",
    "SELECT * \n",
    "FROM language_view \n",
    "WHERE language_name IN ('Python', 'Haskell')\n",
    "ORDER BY first\n",
    "LIMIT 10;"
   ]
  },
  {
   "cell_type": "markdown",
   "metadata": {},
   "source": [
    "### Aggregate functions"
   ]
  },
  {
   "cell_type": "markdown",
   "metadata": {},
   "source": [
    "```SQL\n",
    "COUNT\n",
    "MIN\n",
    "MAX\n",
    "AVG\n",
    "SUM\n",
    "```"
   ]
  },
  {
   "cell_type": "code",
   "execution_count": 60,
   "metadata": {},
   "outputs": [
    {
     "data": {
      "text/html": [
       "<span style=\"None\">Running query in &#x27;sqlite:///data/faculty.db&#x27;</span>"
      ],
      "text/plain": [
       "Running query in 'sqlite:///data/faculty.db'"
      ]
     },
     "metadata": {},
     "output_type": "display_data"
    },
    {
     "data": {
      "text/html": [
       "<table>\n",
       "    <thead>\n",
       "        <tr>\n",
       "            <th>count(language_name)</th>\n",
       "        </tr>\n",
       "    </thead>\n",
       "    <tbody>\n",
       "        <tr>\n",
       "            <td>2297</td>\n",
       "        </tr>\n",
       "    </tbody>\n",
       "</table>"
      ],
      "text/plain": [
       "+----------------------+\n",
       "| count(language_name) |\n",
       "+----------------------+\n",
       "|         2297         |\n",
       "+----------------------+"
      ]
     },
     "execution_count": 60,
     "metadata": {},
     "output_type": "execute_result"
    }
   ],
   "source": [
    "%%sql\n",
    "\n",
    "SELECT count(language_name) \n",
    "FROM language_view;"
   ]
  },
  {
   "cell_type": "markdown",
   "metadata": {},
   "source": [
    "### Grouping"
   ]
  },
  {
   "cell_type": "markdown",
   "metadata": {},
   "source": [
    "```SQL\n",
    "SELECT a, MIN(b) AS min_b, MAX(b) AS max_b, AVG(b) AS mean_b\n",
    "FROM table\n",
    "GROUP BY a\n",
    "HAVING mean_b > 5\n",
    "```"
   ]
  },
  {
   "cell_type": "markdown",
   "metadata": {},
   "source": [
    "The `HAVING` is analagous to the `WHERE` clause, but filters on aggregate conditions. Note that the `WHERE` statement filters rows BEFORE the grouping is done."
   ]
  },
  {
   "cell_type": "markdown",
   "metadata": {},
   "source": [
    "Note: Any variable in the SELECT part that is not an aggregte function needs to be in the GROUP BY part.\n",
    "\n",
    "```SQL\n",
    "SELECT a, b, c, COUNT(d)\n",
    "FROM table\n",
    "GROUP BY a, b, c\n",
    "```"
   ]
  },
  {
   "cell_type": "code",
   "execution_count": 61,
   "metadata": {},
   "outputs": [
    {
     "data": {
      "text/html": [
       "<span style=\"None\">Running query in &#x27;sqlite:///data/faculty.db&#x27;</span>"
      ],
      "text/plain": [
       "Running query in 'sqlite:///data/faculty.db'"
      ]
     },
     "metadata": {},
     "output_type": "display_data"
    },
    {
     "data": {
      "text/html": [
       "<table>\n",
       "    <thead>\n",
       "        <tr>\n",
       "            <th>language_name</th>\n",
       "            <th>n</th>\n",
       "        </tr>\n",
       "    </thead>\n",
       "    <tbody>\n",
       "        <tr>\n",
       "            <td>AutoIt</td>\n",
       "            <td>61</td>\n",
       "        </tr>\n",
       "        <tr>\n",
       "            <td>Bash</td>\n",
       "            <td>48</td>\n",
       "        </tr>\n",
       "        <tr>\n",
       "            <td>ECMAScript</td>\n",
       "            <td>48</td>\n",
       "        </tr>\n",
       "        <tr>\n",
       "            <td>GNU Octave</td>\n",
       "            <td>49</td>\n",
       "        </tr>\n",
       "        <tr>\n",
       "            <td>JavaScript</td>\n",
       "            <td>48</td>\n",
       "        </tr>\n",
       "        <tr>\n",
       "            <td>Perl</td>\n",
       "            <td>55</td>\n",
       "        </tr>\n",
       "        <tr>\n",
       "            <td>PowerShell</td>\n",
       "            <td>50</td>\n",
       "        </tr>\n",
       "        <tr>\n",
       "            <td>Prolog</td>\n",
       "            <td>50</td>\n",
       "        </tr>\n",
       "    </tbody>\n",
       "</table>"
      ],
      "text/plain": [
       "+---------------+----+\n",
       "| language_name | n  |\n",
       "+---------------+----+\n",
       "|     AutoIt    | 61 |\n",
       "|      Bash     | 48 |\n",
       "|   ECMAScript  | 48 |\n",
       "|   GNU Octave  | 49 |\n",
       "|   JavaScript  | 48 |\n",
       "|      Perl     | 55 |\n",
       "|   PowerShell  | 50 |\n",
       "|     Prolog    | 50 |\n",
       "+---------------+----+"
      ]
     },
     "execution_count": 61,
     "metadata": {},
     "output_type": "execute_result"
    }
   ],
   "source": [
    "%%sql\n",
    "\n",
    "SELECT language_name, count(*) AS n\n",
    "FROM language_view\n",
    "GROUP BY language_name\n",
    "HAVING n > 45;"
   ]
  },
  {
   "cell_type": "markdown",
   "metadata": {},
   "source": [
    "### The CASE switch"
   ]
  },
  {
   "cell_type": "markdown",
   "metadata": {},
   "source": [
    "#### Simple CASE\n",
    "\n",
    "Only for equality"
   ]
  },
  {
   "cell_type": "markdown",
   "metadata": {},
   "source": [
    "```SQL\n",
    "SELECT name,\n",
    "(CASE sex \n",
    " WHEN 'M' THEN 1.5*dose\n",
    " WHEN 'F' THEN dose\n",
    " END) as adjusted_dose\n",
    "FROM table\n",
    "```"
   ]
  },
  {
   "cell_type": "markdown",
   "metadata": {},
   "source": [
    "#### Searched CASE\n",
    "\n",
    "Any Boolean expression"
   ]
  },
  {
   "cell_type": "markdown",
   "metadata": {},
   "source": [
    "```SQL\n",
    "SELECT name,\n",
    "(CASE  \n",
    " WHEN sex = 'M' THEN 1.5*dose\n",
    " WHEN sex = 'F' THEN dose\n",
    " END) as adjusted_dose\n",
    "FROM table\n",
    "```"
   ]
  },
  {
   "cell_type": "code",
   "execution_count": 62,
   "metadata": {},
   "outputs": [
    {
     "data": {
      "text/html": [
       "<span style=\"None\">Running query in &#x27;sqlite:///data/faculty.db&#x27;</span>"
      ],
      "text/plain": [
       "Running query in 'sqlite:///data/faculty.db'"
      ]
     },
     "metadata": {},
     "output_type": "display_data"
    },
    {
     "data": {
      "text/html": [
       "<table>\n",
       "    <thead>\n",
       "        <tr>\n",
       "            <th>first</th>\n",
       "            <th>last</th>\n",
       "            <th>language_name</th>\n",
       "            <th>outcome</th>\n",
       "        </tr>\n",
       "    </thead>\n",
       "    <tbody>\n",
       "        <tr>\n",
       "            <td>Aaron</td>\n",
       "            <td>Alexander</td>\n",
       "            <td>Haskell</td>\n",
       "            <td>Hire</td>\n",
       "        </tr>\n",
       "        <tr>\n",
       "            <td>Aaron</td>\n",
       "            <td>Kirby</td>\n",
       "            <td>GNU Octave</td>\n",
       "            <td>FIRE</td>\n",
       "        </tr>\n",
       "        <tr>\n",
       "            <td>Aaron</td>\n",
       "            <td>Kirby</td>\n",
       "            <td>haXe</td>\n",
       "            <td>Hire</td>\n",
       "        </tr>\n",
       "        <tr>\n",
       "            <td>Aaron</td>\n",
       "            <td>Kirby</td>\n",
       "            <td>Falcon</td>\n",
       "            <td>FIRE</td>\n",
       "        </tr>\n",
       "        <tr>\n",
       "            <td>Abram</td>\n",
       "            <td>Allen</td>\n",
       "            <td>TypeScript</td>\n",
       "            <td>FIRE</td>\n",
       "        </tr>\n",
       "        <tr>\n",
       "            <td>Abram</td>\n",
       "            <td>Boyer</td>\n",
       "            <td>Io</td>\n",
       "            <td>FIRE</td>\n",
       "        </tr>\n",
       "        <tr>\n",
       "            <td>Abram</td>\n",
       "            <td>Boyer</td>\n",
       "            <td>Lua</td>\n",
       "            <td>FIRE</td>\n",
       "        </tr>\n",
       "        <tr>\n",
       "            <td>Abram</td>\n",
       "            <td>Boyer</td>\n",
       "            <td>Falcon</td>\n",
       "            <td>FIRE</td>\n",
       "        </tr>\n",
       "        <tr>\n",
       "            <td>Adan</td>\n",
       "            <td>Brown</td>\n",
       "            <td>F#</td>\n",
       "            <td>FIRE</td>\n",
       "        </tr>\n",
       "        <tr>\n",
       "            <td>Adolph</td>\n",
       "            <td>Dalton</td>\n",
       "            <td>Dart</td>\n",
       "            <td>FIRE</td>\n",
       "        </tr>\n",
       "    </tbody>\n",
       "</table>\n",
       "<span style=\"font-style:italic;text-align:center;\">Truncated to <a href=\"https://jupysql.ploomber.io/en/latest/api/configuration.html#displaylimit\">displaylimit</a> of 10.</span>"
      ],
      "text/plain": [
       "+--------+-----------+---------------+---------+\n",
       "| first  |    last   | language_name | outcome |\n",
       "+--------+-----------+---------------+---------+\n",
       "| Aaron  | Alexander |    Haskell    |   Hire  |\n",
       "| Aaron  |   Kirby   |   GNU Octave  |   FIRE  |\n",
       "| Aaron  |   Kirby   |      haXe     |   Hire  |\n",
       "| Aaron  |   Kirby   |     Falcon    |   FIRE  |\n",
       "| Abram  |   Allen   |   TypeScript  |   FIRE  |\n",
       "| Abram  |   Boyer   |       Io      |   FIRE  |\n",
       "| Abram  |   Boyer   |      Lua      |   FIRE  |\n",
       "| Abram  |   Boyer   |     Falcon    |   FIRE  |\n",
       "|  Adan  |   Brown   |       F#      |   FIRE  |\n",
       "| Adolph |   Dalton  |      Dart     |   FIRE  |\n",
       "+--------+-----------+---------------+---------+\n",
       "Truncated to displaylimit of 10."
      ]
     },
     "execution_count": 62,
     "metadata": {},
     "output_type": "execute_result"
    }
   ],
   "source": [
    "%%sql\n",
    "\n",
    "SELECT first, last, language_name,\n",
    "(CASE\n",
    "    WHEN language_name LIKE 'H%' THEN 'Hire'\n",
    "    ELSE 'FIRE'\n",
    "END\n",
    ") AS outcome\n",
    "FROM language_view\n",
    "LIMIT 10;"
   ]
  },
  {
   "cell_type": "markdown",
   "metadata": {},
   "source": [
    "## User defined functions (UDF)"
   ]
  },
  {
   "cell_type": "code",
   "execution_count": 63,
   "metadata": {},
   "outputs": [],
   "source": [
    "import sqlite3"
   ]
  },
  {
   "cell_type": "code",
   "execution_count": 64,
   "metadata": {},
   "outputs": [],
   "source": [
    "import random\n",
    "import statistics"
   ]
  },
  {
   "cell_type": "code",
   "execution_count": 65,
   "metadata": {},
   "outputs": [],
   "source": [
    "con = sqlite3.connect(\":memory:\")"
   ]
  },
  {
   "cell_type": "markdown",
   "metadata": {},
   "source": [
    "#### Row functions"
   ]
  },
  {
   "cell_type": "code",
   "execution_count": 66,
   "metadata": {},
   "outputs": [],
   "source": [
    "con.create_function(\"double\", 1, lambda x: x*2)"
   ]
  },
  {
   "cell_type": "code",
   "execution_count": 67,
   "metadata": {},
   "outputs": [],
   "source": [
    "con.create_function(\"rnorm\", 2, random.normalvariate)"
   ]
  },
  {
   "cell_type": "code",
   "execution_count": 68,
   "metadata": {},
   "outputs": [],
   "source": [
    "cr = con.cursor()"
   ]
  },
  {
   "cell_type": "code",
   "execution_count": 69,
   "metadata": {},
   "outputs": [
    {
     "data": {
      "text/plain": [
       "<sqlite3.Cursor at 0x2953a2d40>"
      ]
     },
     "execution_count": 69,
     "metadata": {},
     "output_type": "execute_result"
    }
   ],
   "source": [
    "cr.execute('CREATE TABLE foo(num REAL);')"
   ]
  },
  {
   "cell_type": "code",
   "execution_count": 70,
   "metadata": {},
   "outputs": [
    {
     "data": {
      "text/plain": [
       "<sqlite3.Cursor at 0x2953a2d40>"
      ]
     },
     "execution_count": 70,
     "metadata": {},
     "output_type": "execute_result"
    }
   ],
   "source": [
    "cr.execute(\"\"\"\n",
    "INSERT INTO foo(num) \n",
    "VALUES\n",
    "(rnorm(0,1)), \n",
    "(double(0)), \n",
    "(rnorm(0,1)), \n",
    "(double(1)), \n",
    "(rnorm(0,1)),\n",
    "(double(2)), \n",
    "(rnorm(0,1)),\n",
    "(double(3))\n",
    "\"\"\")"
   ]
  },
  {
   "cell_type": "code",
   "execution_count": 71,
   "metadata": {},
   "outputs": [
    {
     "data": {
      "text/plain": [
       "[(-0.588424322536061,),\n",
       " (0.0,),\n",
       " (-1.0849824433324469,),\n",
       " (2.0,),\n",
       " (-1.3704686984046819,),\n",
       " (4.0,),\n",
       " (-1.6046201501341855,),\n",
       " (6.0,)]"
      ]
     },
     "execution_count": 71,
     "metadata": {},
     "output_type": "execute_result"
    }
   ],
   "source": [
    "cr.execute('SELECT * from foo')\n",
    "cr.fetchall()"
   ]
  },
  {
   "cell_type": "markdown",
   "metadata": {},
   "source": [
    "#### Aggregate functions"
   ]
  },
  {
   "cell_type": "code",
   "execution_count": 72,
   "metadata": {},
   "outputs": [],
   "source": [
    "class Var:\n",
    "    def __init__(self):\n",
    "        self.acc = []\n",
    "\n",
    "    def step(self, value):\n",
    "        self.acc.append(value)\n",
    "\n",
    "    def finalize(self):\n",
    "        if len(self.acc) < 2:\n",
    "            return 0\n",
    "        else:\n",
    "            return statistics.variance(self.acc)"
   ]
  },
  {
   "cell_type": "code",
   "execution_count": 73,
   "metadata": {},
   "outputs": [],
   "source": [
    "con.create_aggregate(\"Var\", 1, Var)"
   ]
  },
  {
   "cell_type": "code",
   "execution_count": 74,
   "metadata": {},
   "outputs": [
    {
     "data": {
      "text/plain": [
       "[(7.8886918962559855,)]"
      ]
     },
     "execution_count": 74,
     "metadata": {},
     "output_type": "execute_result"
    }
   ],
   "source": [
    "cr.execute('SELECT Var(num) FROM foo')\n",
    "cr.fetchall()"
   ]
  },
  {
   "cell_type": "code",
   "execution_count": 75,
   "metadata": {},
   "outputs": [],
   "source": [
    "con.close()"
   ]
  },
  {
   "cell_type": "code",
   "execution_count": null,
   "metadata": {},
   "outputs": [],
   "source": []
  }
 ],
 "metadata": {
  "kernelspec": {
   "display_name": "py310",
   "language": "python",
   "name": "py310"
  },
  "language_info": {
   "codemirror_mode": {
    "name": "ipython",
    "version": 3
   },
   "file_extension": ".py",
   "mimetype": "text/x-python",
   "name": "python",
   "nbconvert_exporter": "python",
   "pygments_lexer": "ipython3",
   "version": "3.10.12"
  }
 },
 "nbformat": 4,
 "nbformat_minor": 4
}
