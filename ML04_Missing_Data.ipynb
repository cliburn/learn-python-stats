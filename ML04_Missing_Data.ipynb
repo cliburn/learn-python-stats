{
 "cells": [
  {
   "cell_type": "markdown",
   "id": "dc9a63a6-83b1-4ce6-96a1-c267d48d0038",
   "metadata": {},
   "source": [
    "# Working with categorical features and missing data"
   ]
  },
  {
   "cell_type": "markdown",
   "id": "eb97d26d-688e-4c04-b171-7d55561a4c7c",
   "metadata": {},
   "source": [
    "## Data\n",
    "\n",
    "We will use the `penguin` data again. This time, we will use it for regression — predict the body mass from the other charaterisitics. We will also show how to work with categorical data."
   ]
  },
  {
   "cell_type": "code",
   "execution_count": null,
   "id": "28def8c0-9153-4fec-815e-6baff88e6230",
   "metadata": {},
   "outputs": [],
   "source": [
    "import seaborn as sns"
   ]
  },
  {
   "cell_type": "code",
   "execution_count": null,
   "id": "d17d2088-2491-414a-abbc-7ccb0d459cc6",
   "metadata": {},
   "outputs": [],
   "source": [
    "penguins = sns.load_dataset('penguins')"
   ]
  },
  {
   "cell_type": "code",
   "execution_count": null,
   "id": "25bc64c0-bb38-4337-a985-7a826a6a8f7c",
   "metadata": {},
   "outputs": [],
   "source": [
    "penguins.head(10)"
   ]
  },
  {
   "cell_type": "code",
   "execution_count": null,
   "id": "9cd3ccc8-d388-4a4c-84e5-c105dd9b7f9d",
   "metadata": {},
   "outputs": [],
   "source": [
    "penguins.shape"
   ]
  },
  {
   "cell_type": "markdown",
   "id": "b6938a0b-db7a-4c2e-82a7-0de0c7184d6a",
   "metadata": {},
   "source": [
    "### Drop rows with missing outcomes\n",
    "\n",
    "Actually, there is no missing numeric data once missing outcomes are dropped. For illustration, we will randomly add some missing values."
   ]
  },
  {
   "cell_type": "code",
   "execution_count": null,
   "id": "7560ca34-fb98-4d88-af12-403e5202f469",
   "metadata": {},
   "outputs": [],
   "source": [
    "features = [\n",
    "    'species', \n",
    "    'island',\n",
    "    'bill_length_mm',\n",
    "    'bill_depth_mm',\n",
    "    'flipper_length_mm',\n",
    "    'sex'\n",
    "]"
   ]
  },
  {
   "cell_type": "code",
   "execution_count": null,
   "id": "7cbe6aaa-60fb-498c-8eaf-6efcf1c3a181",
   "metadata": {},
   "outputs": [],
   "source": [
    "target = 'body_mass_g' "
   ]
  },
  {
   "cell_type": "code",
   "execution_count": null,
   "id": "17f087c1-1ef3-4612-8f42-3c72170a2667",
   "metadata": {},
   "outputs": [],
   "source": [
    "penguins = penguins.dropna(subset=[target])"
   ]
  },
  {
   "cell_type": "code",
   "execution_count": null,
   "id": "a6761059-a09e-46b2-b805-11269f8ca9f3",
   "metadata": {},
   "outputs": [],
   "source": [
    "import numpy as np"
   ]
  },
  {
   "cell_type": "code",
   "execution_count": null,
   "id": "8637efc4-eb43-430b-83b8-ea1604c60dfb",
   "metadata": {},
   "outputs": [],
   "source": [
    "idx = np.random.choice(penguins.shape[0], 10)"
   ]
  },
  {
   "cell_type": "code",
   "execution_count": null,
   "id": "73dca19f-d2e0-486e-9339-d952cfed479b",
   "metadata": {},
   "outputs": [],
   "source": [
    "penguins.loc[idx, 'bill_length_mm'] = None"
   ]
  },
  {
   "cell_type": "code",
   "execution_count": null,
   "id": "3d4cfcde-2ea4-440b-a713-1ee29cfc08db",
   "metadata": {},
   "outputs": [],
   "source": [
    "penguins.shape"
   ]
  },
  {
   "cell_type": "markdown",
   "id": "730ad23a-ff91-47cb-97f3-34c1b80a6cc3",
   "metadata": {},
   "source": [
    "### Convert strings to cateogory"
   ]
  },
  {
   "cell_type": "code",
   "execution_count": null,
   "id": "06d2cea2-1954-41d0-b090-21b44f47ba19",
   "metadata": {},
   "outputs": [],
   "source": [
    "cols = penguins.select_dtypes('object').columns.tolist()\n",
    "\n",
    "# catboost wants missing string to still be strings, not na\n",
    "penguins[cols] = penguins[cols].fillna('None')\n",
    "\n",
    "# convert string columns to type 'category'\n",
    "penguins[cols ] = penguins[cols].astype('category')"
   ]
  },
  {
   "cell_type": "markdown",
   "id": "f3e85ced-6653-4bd0-8027-d4e503fc0a85",
   "metadata": {},
   "source": [
    "## Option 1: Use `catboost`\n",
    "\n",
    "This is probaly the simplest opiton since it handles cateogrical data, missing data, and different column scales automatically."
   ]
  },
  {
   "cell_type": "code",
   "execution_count": null,
   "id": "73110248-4d44-402e-9e1f-4f0424a02556",
   "metadata": {},
   "outputs": [],
   "source": [
    "X = penguins[features]\n",
    "y = penguins[target]"
   ]
  },
  {
   "cell_type": "code",
   "execution_count": null,
   "id": "05a9d529-fb18-48fd-9fda-0b2b717a7a59",
   "metadata": {},
   "outputs": [],
   "source": [
    "from sklearn.model_selection import train_test_split"
   ]
  },
  {
   "cell_type": "code",
   "execution_count": null,
   "id": "b7a75fa8-0232-4536-96e7-2624265b0117",
   "metadata": {},
   "outputs": [],
   "source": [
    "X_train, X_test, y_train, y_test = train_test_split(X, y, test_size=0.2)"
   ]
  },
  {
   "cell_type": "code",
   "execution_count": null,
   "id": "ec3beeee-61ae-48b4-a234-18bf3f9b9620",
   "metadata": {},
   "outputs": [],
   "source": [
    "from catboost import CatBoostRegressor"
   ]
  },
  {
   "cell_type": "code",
   "execution_count": null,
   "id": "0865146c-7f40-4ee7-9c50-046e6819c4a1",
   "metadata": {},
   "outputs": [],
   "source": [
    "cols"
   ]
  },
  {
   "cell_type": "code",
   "execution_count": null,
   "id": "62664ed6-b703-4b71-87af-5331b79fd650",
   "metadata": {},
   "outputs": [],
   "source": [
    "cbr = CatBoostRegressor(cat_features = cols, verbose=False)"
   ]
  },
  {
   "cell_type": "code",
   "execution_count": null,
   "id": "85f1dc17-d791-4905-b031-44ff30c966f1",
   "metadata": {},
   "outputs": [],
   "source": [
    "cbr.fit(X_train, y_train)\n",
    "cbr.score(X_test, y_test)"
   ]
  },
  {
   "cell_type": "markdown",
   "id": "278cc777-8835-4496-afbc-202c6e73f999",
   "metadata": {},
   "source": [
    "## Option 2\n",
    "\n",
    "- Convert categorical data to one-hot-vector — i..e., a column with 3 categories is converted into 3 columns each of which is either 0 or 1.\n",
    "- Scale numerical data\n",
    "- Impute missing data — there are 3 options SimpleImputer, IteratvieImputer, and KNNImputer"
   ]
  },
  {
   "cell_type": "code",
   "execution_count": null,
   "id": "50826f58-6089-453d-8141-85d21f10a7bb",
   "metadata": {},
   "outputs": [],
   "source": [
    "from sklearn.preprocessing import OneHotEncoder, StandardScaler\n",
    "from sklearn.compose import make_column_transformer, make_column_selector\n",
    "from sklearn.pipeline import make_pipeline\n",
    "from sklearn.experimental import enable_iterative_imputer\n",
    "from sklearn.impute import SimpleImputer, KNNImputer, IterativeImputer\n",
    "from sklearn.linear_model import LinearRegression\n",
    "from sklearn.ensemble import RandomForestRegressor"
   ]
  },
  {
   "cell_type": "code",
   "execution_count": null,
   "id": "01981c81-5131-4ab2-ae0a-da6d71862664",
   "metadata": {},
   "outputs": [],
   "source": [
    "preprocessor = make_column_transformer(\n",
    "    (\n",
    "        OneHotEncoder(sparse_output=False, handle_unknown=\"ignore\"),\n",
    "        make_column_selector(dtype_include=\"category\"),\n",
    "    ),\n",
    "    (\n",
    "        StandardScaler(),\n",
    "        make_column_selector(dtype_include=\"number\"),\n",
    "    )\n",
    ")"
   ]
  },
  {
   "cell_type": "markdown",
   "id": "e1400575-75ec-45d5-8f9b-b91fc4a00fa6",
   "metadata": {},
   "source": [
    "### Pipeline version 1"
   ]
  },
  {
   "cell_type": "code",
   "execution_count": null,
   "id": "09f520c3-2a80-4d4e-ada0-9a55390c3c46",
   "metadata": {},
   "outputs": [],
   "source": [
    "pipe = make_pipeline(\n",
    "    preprocessor,\n",
    "    IterativeImputer(),\n",
    "    LinearRegression(),\n",
    ")    "
   ]
  },
  {
   "cell_type": "code",
   "execution_count": null,
   "id": "1e7a526e-c5ca-4200-bd45-0d3f48c64dd8",
   "metadata": {},
   "outputs": [],
   "source": [
    "pipe.fit(X_train, y_train)\n",
    "pipe.score(X_test, y_test)"
   ]
  },
  {
   "cell_type": "markdown",
   "id": "76e5d04b-1ebe-4280-b1a7-1187a8920483",
   "metadata": {},
   "source": [
    "### Pipeline version 2"
   ]
  },
  {
   "cell_type": "code",
   "execution_count": null,
   "id": "45996d00-43fa-46c4-b3aa-ceec389df826",
   "metadata": {},
   "outputs": [],
   "source": [
    "pipe = make_pipeline(\n",
    "    preprocessor,\n",
    "    SimpleImputer(),\n",
    "    RandomForestRegressor(),\n",
    ")  "
   ]
  },
  {
   "cell_type": "code",
   "execution_count": null,
   "id": "9ea0ad8e-a706-4ed7-83cd-e2a5dc697840",
   "metadata": {},
   "outputs": [],
   "source": [
    "pipe.fit(X_train, y_train)\n",
    "pipe.score(X_test, y_test)"
   ]
  },
  {
   "cell_type": "code",
   "execution_count": null,
   "id": "7507c906-b1bc-4fb5-8b05-a707144f16b6",
   "metadata": {},
   "outputs": [],
   "source": []
  }
 ],
 "metadata": {
  "kernelspec": {
   "display_name": "py310",
   "language": "python",
   "name": "py310"
  },
  "language_info": {
   "codemirror_mode": {
    "name": "ipython",
    "version": 3
   },
   "file_extension": ".py",
   "mimetype": "text/x-python",
   "name": "python",
   "nbconvert_exporter": "python",
   "pygments_lexer": "ipython3",
   "version": "3.10.12"
  }
 },
 "nbformat": 4,
 "nbformat_minor": 5
}
