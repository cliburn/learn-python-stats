{
 "cells": [
  {
   "cell_type": "code",
   "execution_count": null,
   "id": "dd659c59-f92d-46c4-8733-0ce4785fc49f",
   "metadata": {},
   "outputs": [],
   "source": [
    "import numpy as np\n",
    "import pandas as pd"
   ]
  },
  {
   "cell_type": "markdown",
   "id": "67b71424-00c7-4046-8308-fdc295155056",
   "metadata": {},
   "source": [
    "Create a DataFrame `df_owner` that looks like this\n",
    "\n",
    "<img src=\"data/table1.png\" style=\"width: 150px;\"/>"
   ]
  },
  {
   "cell_type": "code",
   "execution_count": null,
   "id": "fb7bc73f-4000-4e7e-955e-ceb10ab00de8",
   "metadata": {},
   "outputs": [],
   "source": [
    "\n",
    "\n",
    "\n"
   ]
  },
  {
   "cell_type": "markdown",
   "id": "df263ddf-2bb8-426b-b1cf-3a27e48c9c98",
   "metadata": {},
   "source": [
    "Create a DataFrame `df_owner_pet` that looks like this\n",
    "\n",
    "<img src=\"data/table2.png\" style=\"width: 150px;\"/>"
   ]
  },
  {
   "cell_type": "code",
   "execution_count": null,
   "id": "4b416712-07a7-41e7-9839-e207666a9093",
   "metadata": {},
   "outputs": [],
   "source": [
    "\n",
    "\n",
    "\n"
   ]
  },
  {
   "cell_type": "markdown",
   "id": "6aefbbad-1895-4db1-9d2c-6246dfc8566c",
   "metadata": {},
   "source": [
    "Create a DataFrame `df_pet` that looks like this\n",
    "\n",
    "<img src=\"data/table3.png\" style=\"width: 150px;\"/>"
   ]
  },
  {
   "cell_type": "code",
   "execution_count": null,
   "id": "3678dfd9-66d1-4b29-bb46-0d2d4a04f168",
   "metadata": {},
   "outputs": [],
   "source": [
    "\n",
    "\n",
    "\n"
   ]
  },
  {
   "cell_type": "markdown",
   "id": "219ba932-d25b-4e33-a87e-e3a12d3cc700",
   "metadata": {},
   "source": [
    "**Exercise 1**\n",
    "\n",
    "Using `pnadas` DataFrame methods, create a table of people and their pets — i.e, the table just has two columns (name of persion, name of pet). Exclude obese pets with weight over 20. The solution looks like this:\n",
    "\n",
    "<img src=\"data/table4.png\" style=\"width: 150px;\"/>"
   ]
  },
  {
   "cell_type": "markdown",
   "id": "037d1523-7fcc-4f3a-8ed2-b2f18c8434ac",
   "metadata": {},
   "source": [
    "First merge `df_owner` and `df_owner_pet` . Think about what `join` to use."
   ]
  },
  {
   "cell_type": "code",
   "execution_count": null,
   "id": "561f56c2-c36b-427d-af53-45082d79c5b1",
   "metadata": {},
   "outputs": [],
   "source": [
    "\n",
    "\n",
    "\n"
   ]
  },
  {
   "cell_type": "markdown",
   "id": "7ea2dc9a-1841-4c52-8120-b7e4dde7d42f",
   "metadata": {},
   "source": [
    "Then merge in `df_pet` Think about what join to use."
   ]
  },
  {
   "cell_type": "code",
   "execution_count": null,
   "id": "4677e0bf-7c28-4408-a309-77593fc5fd6d",
   "metadata": {},
   "outputs": [],
   "source": [
    "\n",
    "\n",
    "\n"
   ]
  },
  {
   "cell_type": "markdown",
   "id": "8307629d-0004-455e-b434-f8c485c4099c",
   "metadata": {},
   "source": [
    "Finally, exlude rows where the pet is over 200 in weight."
   ]
  },
  {
   "cell_type": "code",
   "execution_count": null,
   "id": "a49f1427-b882-457a-b3d9-9c8ecd196a81",
   "metadata": {},
   "outputs": [],
   "source": [
    "\n",
    "\n",
    "\n"
   ]
  },
  {
   "cell_type": "markdown",
   "id": "07ea6048-93a0-4576-bad6-ebdf0c3b48d6",
   "metadata": {},
   "source": [
    "**Exercise 2**\n",
    "\n",
    "Do the same thing in SQL."
   ]
  },
  {
   "cell_type": "code",
   "execution_count": null,
   "id": "49edc455-ad78-4417-8641-d17cc03f066a",
   "metadata": {},
   "outputs": [],
   "source": [
    "%load_ext sql"
   ]
  },
  {
   "cell_type": "markdown",
   "id": "d9dcad7f-22f3-4c09-951c-582b3e63530d",
   "metadata": {},
   "source": [
    "See what you can do with SQL magic"
   ]
  },
  {
   "cell_type": "code",
   "execution_count": null,
   "id": "733abacc-75cb-47a2-8dd0-8fd8940d5646",
   "metadata": {},
   "outputs": [],
   "source": [
    "?%sql"
   ]
  },
  {
   "cell_type": "markdown",
   "id": "abe55298-4c40-4355-9485-20bd2167bb80",
   "metadata": {},
   "source": [
    "Create an in-memory database to store tables."
   ]
  },
  {
   "cell_type": "code",
   "execution_count": null,
   "id": "70cb3aae-d996-4f7c-9422-681ea1c7971f",
   "metadata": {},
   "outputs": [],
   "source": [
    "%sql sqlite://"
   ]
  },
  {
   "cell_type": "markdown",
   "id": "98e46abb-4920-4d1f-805b-134e2bf6bac7",
   "metadata": {},
   "source": [
    "Convert DataFrames to SQL tables for querying."
   ]
  },
  {
   "cell_type": "code",
   "execution_count": null,
   "id": "f7b23c83-243e-4413-b166-c56375e53019",
   "metadata": {},
   "outputs": [],
   "source": [
    "%sql -n -P df_owner"
   ]
  },
  {
   "cell_type": "code",
   "execution_count": null,
   "id": "f8b5987a-e741-4cce-ab27-b8e88e020df0",
   "metadata": {},
   "outputs": [],
   "source": [
    "%sql -n -P df_owner_pet "
   ]
  },
  {
   "cell_type": "code",
   "execution_count": null,
   "id": "ff6032fd-a1ec-4310-b02a-7e5bd176d963",
   "metadata": {},
   "outputs": [],
   "source": [
    "%sql -n -P df_pet"
   ]
  },
  {
   "cell_type": "markdown",
   "id": "fd4b8cbe-de00-4e4f-a206-db3590cb9071",
   "metadata": {},
   "source": [
    "First try inspecting each table using SQL."
   ]
  },
  {
   "cell_type": "code",
   "execution_count": null,
   "id": "0def958c-7dc9-42f6-8a8e-d16477a7d4e5",
   "metadata": {},
   "outputs": [],
   "source": [
    "\n",
    "\n",
    "\n"
   ]
  },
  {
   "cell_type": "markdown",
   "id": "e44a124d-30e5-454b-98bb-9c9c68676661",
   "metadata": {},
   "source": [
    "Now use JOINS to combine the 3 tables. You can do this incrementally and see the results."
   ]
  },
  {
   "cell_type": "code",
   "execution_count": null,
   "id": "ae5baafc-ab53-4b14-b6fe-af4f9f422304",
   "metadata": {},
   "outputs": [],
   "source": [
    "\n",
    "\n",
    "\n"
   ]
  },
  {
   "cell_type": "markdown",
   "id": "f84d12f4-068d-4779-8caa-d28a5d9058a3",
   "metadata": {},
   "source": [
    "Finally, modify the SELECT statement so you only get the two columns and exclude pets with weight > 20."
   ]
  },
  {
   "cell_type": "code",
   "execution_count": null,
   "id": "8a487bb9-6425-4f85-a1e5-6442310b3968",
   "metadata": {},
   "outputs": [],
   "source": [
    "\n",
    "\n",
    "\n"
   ]
  },
  {
   "cell_type": "code",
   "execution_count": null,
   "id": "0541b821-9b4b-4fdf-ad33-1e4c22daac18",
   "metadata": {},
   "outputs": [],
   "source": []
  }
 ],
 "metadata": {
  "kernelspec": {
   "display_name": "py310",
   "language": "python",
   "name": "py310"
  },
  "language_info": {
   "codemirror_mode": {
    "name": "ipython",
    "version": 3
   },
   "file_extension": ".py",
   "mimetype": "text/x-python",
   "name": "python",
   "nbconvert_exporter": "python",
   "pygments_lexer": "ipython3",
   "version": "3.10.12"
  }
 },
 "nbformat": 4,
 "nbformat_minor": 5
}
