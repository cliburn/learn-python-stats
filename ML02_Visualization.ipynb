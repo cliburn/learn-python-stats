{
 "cells": [
  {
   "cell_type": "markdown",
   "id": "0d35d6d2-0ca0-4d4a-8a6a-5f24cd0fcee4",
   "metadata": {},
   "source": [
    "# Basics of ML"
   ]
  },
  {
   "cell_type": "markdown",
   "id": "baf6748a-4c35-4671-ae1b-4053f6c8ef29",
   "metadata": {},
   "source": [
    "## Supervised learning\n",
    "\n",
    "In S/L, we are given outcomes (or labels) $y$ and features (or design matrix) $$. The task is to predict $y_i$ given the feature vector $x_i$. If $y$ is categorical, this is known as **classification**. If $y$ is continuous, this is knwon as **regression**. The features of $X$ can be all continous, all categorical, or a mixture of continuous and categorical."
   ]
  },
  {
   "cell_type": "markdown",
   "id": "9fe3e731-c2b1-4762-98c6-cb295d843112",
   "metadata": {},
   "source": [
    "## Classificaiton example"
   ]
  },
  {
   "cell_type": "markdown",
   "id": "2fca43f2-073d-47cc-9db4-3d01ca28ccc6",
   "metadata": {},
   "source": [
    "### What the data in S/L looks like"
   ]
  },
  {
   "cell_type": "code",
   "execution_count": null,
   "id": "a53a07be-72b7-44d6-83df-30bd292006ab",
   "metadata": {
    "tags": []
   },
   "outputs": [],
   "source": [
    "from sklearn import datasets"
   ]
  },
  {
   "cell_type": "code",
   "execution_count": null,
   "id": "98b720ac-9aa6-474f-bc40-9e7bcb26f2a3",
   "metadata": {},
   "outputs": [],
   "source": [
    "iris = datasets.load_iris(as_frame=True)"
   ]
  },
  {
   "cell_type": "code",
   "execution_count": null,
   "id": "ba7a44c9-d8fd-472e-b984-e142e5762c49",
   "metadata": {
    "tags": []
   },
   "outputs": [],
   "source": [
    "iris.keys()"
   ]
  },
  {
   "cell_type": "markdown",
   "id": "619c1c41-1808-4270-8a9c-f8de58810e9b",
   "metadata": {},
   "source": [
    "#### Features `X`"
   ]
  },
  {
   "cell_type": "code",
   "execution_count": null,
   "id": "37411b4a-c757-4993-b1bd-438c54286fcc",
   "metadata": {
    "tags": []
   },
   "outputs": [],
   "source": [
    "iris['data'].shape"
   ]
  },
  {
   "cell_type": "code",
   "execution_count": null,
   "id": "188e11ec-8b8a-479c-9430-0297a355688b",
   "metadata": {
    "tags": []
   },
   "outputs": [],
   "source": [
    "iris['data'][:3]"
   ]
  },
  {
   "cell_type": "markdown",
   "id": "ecd74782-8ee7-447a-a675-aebdcb3bb4a4",
   "metadata": {},
   "source": [
    "#### Outcomes `y`"
   ]
  },
  {
   "cell_type": "code",
   "execution_count": null,
   "id": "f53dd3fc-d268-458d-b2d9-9296e76bc6e3",
   "metadata": {
    "tags": []
   },
   "outputs": [],
   "source": [
    "iris['target'].shape"
   ]
  },
  {
   "cell_type": "code",
   "execution_count": null,
   "id": "a075854b-48e0-491c-bd84-5731cc72cb06",
   "metadata": {
    "tags": []
   },
   "outputs": [],
   "source": [
    "iris['target'][:3]"
   ]
  },
  {
   "cell_type": "markdown",
   "id": "b6cde5b9-2f3d-45c7-adf8-f009ed6cbd46",
   "metadata": {},
   "source": [
    "#### Target names (y)"
   ]
  },
  {
   "cell_type": "code",
   "execution_count": null,
   "id": "9bc2a779-b403-49a8-831f-e8d399a6fd3f",
   "metadata": {
    "tags": []
   },
   "outputs": [],
   "source": [
    "iris['target_names']"
   ]
  },
  {
   "cell_type": "markdown",
   "id": "56c8486b-f53b-4c71-8e1e-edcaed1b3f01",
   "metadata": {},
   "source": [
    "#### Feature names (X)"
   ]
  },
  {
   "cell_type": "code",
   "execution_count": null,
   "id": "e4fc7f14-e43f-42e6-b252-6dc78fb2bdb6",
   "metadata": {
    "tags": []
   },
   "outputs": [],
   "source": [
    "iris['feature_names']"
   ]
  },
  {
   "cell_type": "markdown",
   "id": "a69d8433-06b8-4616-8ac1-b386888a62ad",
   "metadata": {},
   "source": [
    "### Basic steps in S/L\n",
    "\n",
    "1. Split into training and test data sets\n",
    "2. Scale continuous features to have zero mean and unit standard deviaiton\n",
    "3. Choose an appropriate ML algorithm\n",
    "4. Train the ML algorithm on the train data set\n",
    "5. Assemble into pipeline\n",
    "6. Evaluate the trained ML algorithm on the test data set"
   ]
  },
  {
   "cell_type": "markdown",
   "id": "1330ece1-054e-4cb5-b701-41c5fa51f649",
   "metadata": {},
   "source": [
    "#### Split into training and test data sets"
   ]
  },
  {
   "cell_type": "code",
   "execution_count": null,
   "id": "f98e2529-1bfd-401d-9d29-99083c95b586",
   "metadata": {},
   "outputs": [],
   "source": [
    "from sklearn.model_selection import train_test_split"
   ]
  },
  {
   "cell_type": "code",
   "execution_count": null,
   "id": "4249ff54-c2c2-47b4-9bb9-60888dd0a0e9",
   "metadata": {},
   "outputs": [],
   "source": [
    "X = iris['data']\n",
    "y = iris['target']"
   ]
  },
  {
   "cell_type": "code",
   "execution_count": null,
   "id": "1774b3e2-a4d0-4cf3-82b2-ef7f8905582a",
   "metadata": {},
   "outputs": [],
   "source": [
    "X_train, X_test, y_train, y_test = train_test_split(X, y, test_size=0.33, random_state=42)"
   ]
  },
  {
   "cell_type": "code",
   "execution_count": null,
   "id": "7d107854-c29a-4f96-93cb-5539f0419f5d",
   "metadata": {},
   "outputs": [],
   "source": [
    "X.shape, X_train.shape, X_test.shape"
   ]
  },
  {
   "cell_type": "code",
   "execution_count": null,
   "id": "fad6e13b-633d-45b6-b1dc-fd99fff4be34",
   "metadata": {},
   "outputs": [],
   "source": [
    "y.shape, y_train.shape, y_test.shape"
   ]
  },
  {
   "cell_type": "markdown",
   "id": "abbd2a9a-fd2e-407c-92d3-4a67f16386f6",
   "metadata": {},
   "source": [
    "#### Choose an appropriate ML algorithm"
   ]
  },
  {
   "cell_type": "code",
   "execution_count": null,
   "id": "b8ac11b0-4de9-470c-a23e-b2784b8b69cd",
   "metadata": {},
   "outputs": [],
   "source": [
    "from sklearn.preprocessing import StandardScaler\n",
    "from sklearn.neighbors import KNeighborsClassifier\n",
    "from sklearn.pipeline import Pipeline"
   ]
  },
  {
   "cell_type": "code",
   "execution_count": null,
   "id": "d46a61c7-90ca-4279-9fcb-54c1ca44f81e",
   "metadata": {},
   "outputs": [],
   "source": [
    "pipe = Pipeline([\n",
    "    ('scaler', StandardScaler()), \n",
    "    ('knn', KNeighborsClassifier())\n",
    "])"
   ]
  },
  {
   "cell_type": "code",
   "execution_count": null,
   "id": "29fa26a1-842f-4cac-a6f7-3670e4468183",
   "metadata": {},
   "outputs": [],
   "source": [
    "pipe.fit(X_train, y_train)"
   ]
  },
  {
   "cell_type": "markdown",
   "id": "79eef273-bcda-49da-a58b-687bd7bf8675",
   "metadata": {},
   "source": [
    "## Machine learning visualization"
   ]
  },
  {
   "cell_type": "code",
   "execution_count": null,
   "id": "ab3f4589-581b-42bc-a6f2-6e0e0d176f39",
   "metadata": {},
   "outputs": [],
   "source": [
    "import warnings\n",
    "warnings.simplefilter('ignore', UserWarning)"
   ]
  },
  {
   "cell_type": "code",
   "execution_count": null,
   "id": "00ec3812-f385-478e-84ed-e6c70ff9f77d",
   "metadata": {},
   "outputs": [],
   "source": [
    "from yellowbrick.features import parallel_coordinates\n",
    "\n",
    "viz = parallel_coordinates(X, y, classes=iris['target_names'])"
   ]
  },
  {
   "cell_type": "code",
   "execution_count": null,
   "id": "37e794b0-a8bb-4f6c-addd-fac0059fb948",
   "metadata": {},
   "outputs": [],
   "source": [
    "from yellowbrick.features.manifold import manifold_embedding\n",
    "\n",
    "viz = manifold_embedding(X, y, manifold=\"tsne\", n_neighbors=10)"
   ]
  },
  {
   "cell_type": "code",
   "execution_count": null,
   "id": "c1b2ab68-9733-43c0-9478-b50c59471a08",
   "metadata": {},
   "outputs": [],
   "source": [
    "from yellowbrick.features import rank2d\n",
    "\n",
    "viz = rank2d(X, y, algorithm=\"pearson\")"
   ]
  },
  {
   "cell_type": "code",
   "execution_count": null,
   "id": "b24dcd94-6b7a-44cf-92b7-65555089e9c5",
   "metadata": {},
   "outputs": [],
   "source": [
    "from yellowbrick.features import joint_plot\n",
    "\n",
    "viz = joint_plot(X, y, columns=['petal length (cm)', 'petal width (cm)'])"
   ]
  },
  {
   "cell_type": "code",
   "execution_count": null,
   "id": "f3383094-b096-4468-89b3-f5c7e9b99faf",
   "metadata": {},
   "outputs": [],
   "source": [
    "from yellowbrick.classifier import classification_report\n",
    "\n",
    "viz = classification_report(pipe, X, y, classes=iris['target_names'])"
   ]
  },
  {
   "cell_type": "code",
   "execution_count": null,
   "id": "a70b5d77-d301-4fe7-82c0-8cee9e88d199",
   "metadata": {},
   "outputs": [],
   "source": [
    "from yellowbrick.classifier import confusion_matrix\n",
    "\n",
    "viz = confusion_matrix(\n",
    "    pipe,\n",
    "    X_train, y_train, \n",
    "    X_test, y_test,\n",
    "    classes=iris['target_names'])"
   ]
  },
  {
   "cell_type": "code",
   "execution_count": null,
   "id": "f918575e-cc2e-4471-bccb-b1ba5bf481e2",
   "metadata": {},
   "outputs": [],
   "source": [
    "from yellowbrick.classifier import precision_recall_curve\n",
    "\n",
    "viz = precision_recall_curve(pipe, X, y)"
   ]
  },
  {
   "cell_type": "code",
   "execution_count": null,
   "id": "e12e815b-dd96-46b1-8ebb-086aeb41dc85",
   "metadata": {},
   "outputs": [],
   "source": [
    "from yellowbrick.classifier import roc_auc\n",
    "\n",
    "viz = roc_auc(pipe, X, y)"
   ]
  },
  {
   "cell_type": "code",
   "execution_count": null,
   "id": "42611301-32af-43f0-a83f-67b0c2763bc1",
   "metadata": {},
   "outputs": [],
   "source": [
    "from yellowbrick.classifier import class_prediction_error\n",
    "\n",
    "viz = class_prediction_error(\n",
    "    pipe,\n",
    "    X_train, y_train, \n",
    "    X_test, y_test,\n",
    "    classes=iris['target_names'])"
   ]
  },
  {
   "cell_type": "markdown",
   "id": "cdab2e78-4eb2-44d0-8a99-a9a6d60451bf",
   "metadata": {},
   "source": [
    "## Exercise\n",
    "\n",
    "Repeat the visualizations for the mushroom dataset,."
   ]
  },
  {
   "cell_type": "code",
   "execution_count": null,
   "id": "aa0ace10-0ffc-412a-afec-0844a01c7f86",
   "metadata": {},
   "outputs": [],
   "source": [
    "from yellowbrick.datasets.loaders import load_mushroom"
   ]
  },
  {
   "cell_type": "code",
   "execution_count": null,
   "id": "36f9d470-74ca-4495-a409-da6fd3787371",
   "metadata": {},
   "outputs": [],
   "source": [
    "X, y = load_mushroom()"
   ]
  },
  {
   "cell_type": "code",
   "execution_count": null,
   "id": "51c03e27-1eb3-4bbf-94c0-d602ef935337",
   "metadata": {},
   "outputs": [],
   "source": []
  }
 ],
 "metadata": {
  "kernelspec": {
   "display_name": "py310",
   "language": "python",
   "name": "py310"
  },
  "language_info": {
   "codemirror_mode": {
    "name": "ipython",
    "version": 3
   },
   "file_extension": ".py",
   "mimetype": "text/x-python",
   "name": "python",
   "nbconvert_exporter": "python",
   "pygments_lexer": "ipython3",
   "version": "3.10.12"
  }
 },
 "nbformat": 4,
 "nbformat_minor": 5
}
