{
 "cells": [
  {
   "cell_type": "markdown",
   "id": "d66c9276",
   "metadata": {},
   "source": [
    "# Homework 0: Basic Python"
   ]
  },
  {
   "cell_type": "markdown",
   "id": "adba4066",
   "metadata": {},
   "source": [
    "**1**. Numerically calculate the value of $e^{i\\pi} + 1$."
   ]
  },
  {
   "cell_type": "markdown",
   "id": "8f0bd471",
   "metadata": {},
   "source": [
    "Hint:\n",
    "\n",
    "- Imprt from `math` package\n",
    "- You can create complex numbers in two ways"
   ]
  },
  {
   "cell_type": "code",
   "execution_count": 1,
   "id": "602ff200",
   "metadata": {},
   "outputs": [
    {
     "data": {
      "text/plain": [
       "(1+2j)"
      ]
     },
     "execution_count": 1,
     "metadata": {},
     "output_type": "execute_result"
    }
   ],
   "source": [
    "1+2j"
   ]
  },
  {
   "cell_type": "code",
   "execution_count": 2,
   "id": "8f391ac2",
   "metadata": {},
   "outputs": [
    {
     "data": {
      "text/plain": [
       "(1+2j)"
      ]
     },
     "execution_count": 2,
     "metadata": {},
     "output_type": "execute_result"
    }
   ],
   "source": [
    "complex(1, 2)"
   ]
  },
  {
   "cell_type": "markdown",
   "id": "1f8a7cce",
   "metadata": {},
   "source": [
    "## Solution to exercise 1"
   ]
  },
  {
   "cell_type": "code",
   "execution_count": null,
   "id": "036351fa",
   "metadata": {},
   "outputs": [],
   "source": [
    "\n",
    "\n",
    "\n"
   ]
  },
  {
   "cell_type": "markdown",
   "id": "9fafe3d5",
   "metadata": {},
   "source": [
    "**2**. Find the GC content percentage of bases 50 to 200 (i.e, 50, 51, ..., 199, 200) in the *E. coli* genome, using the formula \n",
    "\n",
    "```Count(G + C)/Count(A + T + G + C) * 100%```\n",
    "\n",
    "Here are the first 300 bases in the *E. coli* genome\n",
    "\n",
    "```\n",
    ">U00096.3:1-300 Escherichia coli str. K-12 substr. MG1655, complete genome\n",
    "AGCTTTTCATTCTGACTGCAACGGGCAATATGTCTCTGTGTGGATTAAAAAAAGAGTGTCTGATAGCAGC\n",
    "TTCTGAACTGGTTACCTGCCGTGAGTAAATTAAAATTTTATTGACTTAGGTCACTAAATACTTTAACCAA\n",
    "TATAGGCATAGCGCACAGACAGATAAAAATTACAGAGTACACAACATCCATGAAACGCATTAGCACCACC\n",
    "ATTACCACCACCATCACCATTACCACAGGTAACGGTGCGGGCTGACGCGTACAGGAAACACAGAAAAAAG\n",
    "CCCGCACCTGACAGTGCGGG\n",
    "```\n",
    "\n",
    "The first line is a header line that should not be included as part of the genome. Use the `dna` string provided below."
   ]
  },
  {
   "cell_type": "markdown",
   "id": "af825224",
   "metadata": {},
   "source": [
    "Hint\n",
    "\n",
    "- Use string methods — count, split, join"
   ]
  },
  {
   "cell_type": "code",
   "execution_count": 3,
   "id": "a69f39ba",
   "metadata": {},
   "outputs": [],
   "source": [
    "dna = \"\"\"\n",
    ">U00096.3:1-300 Escherichia coli str. K-12 substr. MG1655, complete genome\n",
    "AGCTTTTCATTCTGACTGCAACGGGCAATATGTCTCTGTGTGGATTAAAAAAAGAGTGTCTGATAGCAGC\n",
    "TTCTGAACTGGTTACCTGCCGTGAGTAAATTAAAATTTTATTGACTTAGGTCACTAAATACTTTAACCAA\n",
    "TATAGGCATAGCGCACAGACAGATAAAAATTACAGAGTACACAACATCCATGAAACGCATTAGCACCACC\n",
    "ATTACCACCACCATCACCATTACCACAGGTAACGGTGCGGGCTGACGCGTACAGGAAACACAGAAAAAAG\n",
    "CCCGCACCTGACAGTGCGGG\n",
    "\"\"\""
   ]
  },
  {
   "cell_type": "markdown",
   "id": "8c8b283b",
   "metadata": {},
   "source": [
    "## Solution to exercise 2"
   ]
  },
  {
   "cell_type": "code",
   "execution_count": null,
   "id": "1c5e08e4",
   "metadata": {},
   "outputs": [],
   "source": [
    "\n",
    "\n",
    "\n"
   ]
  },
  {
   "cell_type": "markdown",
   "id": "b73b0177",
   "metadata": {},
   "source": [
    "**3**. The FizzBuzz challenge.\n",
    "\n",
    "\"Write a program that prints the numbers from 1 to 100. But for multiples of three print “Fizz” instead of the number and for the multiples of five print “Buzz”. For numbers which are multiples of both three and five print “FizzBuzz”.\"\n",
    "\n",
    "The output will look like\n",
    "\n",
    "```Python\n",
    "1, 2, Fizz, 4, Buzz, Fizz, 7, 8, Fizz, Buzz, 11, Fizz, 13, 14, FizzBuzz, 16, 17, Fizz, 19, Buzz, Fizz, 22, 23, Fizz, Buzz, 26, Fizz, 28, 29, FizzBuzz, 31, 32, Fizz, 34, Buzz, Fizz, ...\n",
    "```\n",
    "\n",
    "Note: See story [Using FizzBuzz to Find Developers who Grok Coding](https://imranontech.com/2007/01/24/using-fizzbuzz-to-find-developers-who-grok-coding/)"
   ]
  },
  {
   "cell_type": "markdown",
   "id": "aaea8034",
   "metadata": {},
   "source": [
    "Hint:\n",
    "    \n",
    "- The modulus operator gives the remainder after division\n",
    "- The `print` function has an optional argument `end` which can be used to emit a comma instead of the default new line"
   ]
  },
  {
   "cell_type": "code",
   "execution_count": 4,
   "id": "462b8693",
   "metadata": {},
   "outputs": [
    {
     "data": {
      "text/plain": [
       "2"
      ]
     },
     "execution_count": 4,
     "metadata": {},
     "output_type": "execute_result"
    }
   ],
   "source": [
    "5 % 3 "
   ]
  },
  {
   "cell_type": "markdown",
   "id": "d60f4a82",
   "metadata": {},
   "source": [
    "## Solution to exercise 3"
   ]
  },
  {
   "cell_type": "code",
   "execution_count": null,
   "id": "6fc5f0b7",
   "metadata": {},
   "outputs": [],
   "source": [
    "\n",
    "\n",
    "\n"
   ]
  },
  {
   "cell_type": "markdown",
   "id": "6b6fafbe",
   "metadata": {},
   "source": [
    "**4**. Read the file jack.txt line by line using a *context manager* — i.e., a `with` statement, and save it to a `list`. Then write code to save the file `jill.txt` with the lines in reverse order — i.e., the first 3 lines of `jill.txt` should be:\n",
    "\n",
    "```python\n",
    "Who thanked her son and daughter\n",
    "And took it home to Mother dear,\n",
    "To fetch the pail of water,\n",
    "...\n",
    "```"
   ]
  },
  {
   "cell_type": "markdown",
   "id": "258648af",
   "metadata": {},
   "source": [
    "This uses a `cell magic` to write the file `jack.txt` Do nont use magic functions to write `jill.txt`, only standard Python language. Magic functions are only available in special programming environments like the Jupyter notebook and are not a standard part of the Python language."
   ]
  },
  {
   "cell_type": "code",
   "execution_count": 5,
   "id": "8ae71ad3",
   "metadata": {},
   "outputs": [
    {
     "name": "stdout",
     "output_type": "stream",
     "text": [
      "Overwriting jack.txt\n"
     ]
    }
   ],
   "source": [
    "%%file jack.txt\n",
    "Jack and Jill went up the hill\n",
    "To fetch a pail of water.\n",
    "Jack fell down and broke his crown,\n",
    "And Jill came tumbling after.\n",
    "Then up got Jack and said to Jill,\n",
    "As in his arms he took her,\n",
    "“Brush off that dirt for you’re not hurt,\n",
    "Let’s fetch that pail of water.”\n",
    "So Jack and Jill went up the hill\n",
    "To fetch the pail of water,\n",
    "And took it home to Mother dear,\n",
    "Who thanked her son and daughter"
   ]
  },
  {
   "cell_type": "markdown",
   "id": "b6036b4f",
   "metadata": {},
   "source": [
    "## Solution to exercise 4"
   ]
  },
  {
   "cell_type": "code",
   "execution_count": null,
   "id": "38cd9cbc",
   "metadata": {},
   "outputs": [],
   "source": [
    "\n",
    "\n",
    "\n"
   ]
  },
  {
   "cell_type": "markdown",
   "id": "a656de1c",
   "metadata": {},
   "source": [
    "You can use the `%cat <filename>` `line magic` to see the contents of a file."
   ]
  },
  {
   "cell_type": "code",
   "execution_count": null,
   "id": "3d4f42d0",
   "metadata": {},
   "outputs": [],
   "source": []
  }
 ],
 "metadata": {
  "kernelspec": {
   "display_name": "Python 3 (ipykernel)",
   "language": "python",
   "name": "python3"
  },
  "language_info": {
   "codemirror_mode": {
    "name": "ipython",
    "version": 3
   },
   "file_extension": ".py",
   "mimetype": "text/x-python",
   "name": "python",
   "nbconvert_exporter": "python",
   "pygments_lexer": "ipython3",
   "version": "3.10.6"
  },
  "toc": {
   "base_numbering": 1,
   "nav_menu": {},
   "number_sections": false,
   "sideBar": true,
   "skip_h1_title": false,
   "title_cell": "Table of Contents",
   "title_sidebar": "Contents",
   "toc_cell": false,
   "toc_position": {},
   "toc_section_display": true,
   "toc_window_display": false
  }
 },
 "nbformat": 4,
 "nbformat_minor": 5
}
