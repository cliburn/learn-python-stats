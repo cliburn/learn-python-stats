{
 "cells": [
  {
   "cell_type": "markdown",
   "id": "d66c9276",
   "metadata": {},
   "source": [
    "# Homework 0: Basic Python"
   ]
  },
  {
   "cell_type": "markdown",
   "id": "adba4066",
   "metadata": {},
   "source": [
    "**1**. Numerically calculate the value of $e^{i\\pi} + 1$."
   ]
  },
  {
   "cell_type": "markdown",
   "id": "8f0bd471",
   "metadata": {},
   "source": [
    "Hint:\n",
    "\n",
    "- Imprt from `math` package\n",
    "- You can create complex numbers in two ways"
   ]
  },
  {
   "cell_type": "code",
   "execution_count": 2,
   "id": "602ff200",
   "metadata": {
    "tags": []
   },
   "outputs": [
    {
     "data": {
      "text/plain": [
       "(1+2j)"
      ]
     },
     "execution_count": 2,
     "metadata": {},
     "output_type": "execute_result"
    }
   ],
   "source": [
    "1+2j"
   ]
  },
  {
   "cell_type": "code",
   "execution_count": 3,
   "id": "8f391ac2",
   "metadata": {
    "tags": []
   },
   "outputs": [
    {
     "data": {
      "text/plain": [
       "(1+2j)"
      ]
     },
     "execution_count": 3,
     "metadata": {},
     "output_type": "execute_result"
    }
   ],
   "source": [
    "complex(1, 2)"
   ]
  },
  {
   "cell_type": "code",
   "execution_count": 4,
   "id": "3d937962-6d71-4851-9e45-48cdcb8d69d7",
   "metadata": {
    "tags": []
   },
   "outputs": [],
   "source": [
    "import math"
   ]
  },
  {
   "cell_type": "code",
   "execution_count": 6,
   "id": "086fd18a-9121-49d4-aa05-ac4b2fc2b7a5",
   "metadata": {
    "tags": []
   },
   "outputs": [
    {
     "data": {
      "text/plain": [
       "(2.718281828459045, 3.141592653589793)"
      ]
     },
     "execution_count": 6,
     "metadata": {},
     "output_type": "execute_result"
    }
   ],
   "source": [
    "math.e, math.pi"
   ]
  },
  {
   "cell_type": "code",
   "execution_count": null,
   "id": "e1874fe9-83d8-4eee-bc2e-40aa91ec8408",
   "metadata": {},
   "outputs": [],
   "source": []
  },
  {
   "cell_type": "code",
   "execution_count": null,
   "id": "e76618c2-899e-4927-82ae-f2611a033301",
   "metadata": {},
   "outputs": [],
   "source": []
  },
  {
   "cell_type": "markdown",
   "id": "1f8a7cce",
   "metadata": {},
   "source": [
    "## Solution to exercise 1"
   ]
  },
  {
   "cell_type": "code",
   "execution_count": null,
   "id": "036351fa",
   "metadata": {},
   "outputs": [],
   "source": [
    "\n",
    "\n",
    "\n"
   ]
  },
  {
   "cell_type": "markdown",
   "id": "9fafe3d5",
   "metadata": {},
   "source": [
    "**2**. Find the GC content percentage of bases 50 to 200 (i.e, 50, 51, ..., 199, 200) in the *E. coli* genome, using the formula \n",
    "\n",
    "```Count(G + C)/Count(A + T + G + C) * 100%```\n",
    "\n",
    "Here are the first 300 bases in the *E. coli* genome\n",
    "\n",
    "```\n",
    ">U00096.3:1-300 Escherichia coli str. K-12 substr. MG1655, complete genome\n",
    "AGCTTTTCATTCTGACTGCAACGGGCAATATGTCTCTGTGTGGATTAAAAAAAGAGTGTCTGATAGCAGC\n",
    "TTCTGAACTGGTTACCTGCCGTGAGTAAATTAAAATTTTATTGACTTAGGTCACTAAATACTTTAACCAA\n",
    "TATAGGCATAGCGCACAGACAGATAAAAATTACAGAGTACACAACATCCATGAAACGCATTAGCACCACC\n",
    "ATTACCACCACCATCACCATTACCACAGGTAACGGTGCGGGCTGACGCGTACAGGAAACACAGAAAAAAG\n",
    "CCCGCACCTGACAGTGCGGG\n",
    "```\n",
    "\n",
    "The first line is a header line that should not be included as part of the genome. Use the `dna` string provided below."
   ]
  },
  {
   "cell_type": "markdown",
   "id": "25c5b08e-f606-433a-88da-d4227272dcb6",
   "metadata": {},
   "source": []
  },
  {
   "cell_type": "markdown",
   "id": "af825224",
   "metadata": {},
   "source": [
    "Hint\n",
    "\n",
    "- Use string methods — count, split, join"
   ]
  },
  {
   "cell_type": "code",
   "execution_count": 7,
   "id": "a69f39ba",
   "metadata": {
    "tags": []
   },
   "outputs": [],
   "source": [
    "dna = \"\"\"\n",
    ">U00096.3:1-300 Escherichia coli str. K-12 substr. MG1655, complete genome\n",
    "AGCTTTTCATTCTGACTGCAACGGGCAATATGTCTCTGTGTGGATTAAAAAAAGAGTGTCTGATAGCAGC\n",
    "TTCTGAACTGGTTACCTGCCGTGAGTAAATTAAAATTTTATTGACTTAGGTCACTAAATACTTTAACCAA\n",
    "TATAGGCATAGCGCACAGACAGATAAAAATTACAGAGTACACAACATCCATGAAACGCATTAGCACCACC\n",
    "ATTACCACCACCATCACCATTACCACAGGTAACGGTGCGGGCTGACGCGTACAGGAAACACAGAAAAAAG\n",
    "CCCGCACCTGACAGTGCGGG\n",
    "\"\"\""
   ]
  },
  {
   "cell_type": "code",
   "execution_count": 9,
   "id": "6876fc27-e211-40f8-824e-446d5f7e5742",
   "metadata": {
    "tags": []
   },
   "outputs": [],
   "source": [
    "ss = ['Hello', 'Goodbye', 'World']"
   ]
  },
  {
   "cell_type": "code",
   "execution_count": 24,
   "id": "3003ae55-ddc8-41db-b857-b28712fd4f33",
   "metadata": {
    "tags": []
   },
   "outputs": [
    {
     "data": {
      "text/plain": [
       "['Goodbye', 'World']"
      ]
     },
     "execution_count": 24,
     "metadata": {},
     "output_type": "execute_result"
    }
   ],
   "source": [
    "ss[1:]"
   ]
  },
  {
   "cell_type": "code",
   "execution_count": 16,
   "id": "cdbac4a8-a44d-41fb-942d-7e0265ff9354",
   "metadata": {
    "tags": []
   },
   "outputs": [
    {
     "data": {
      "text/plain": [
       "'Hello\\nGoodbye\\nWorld'"
      ]
     },
     "execution_count": 16,
     "metadata": {},
     "output_type": "execute_result"
    }
   ],
   "source": [
    "ts = '\\n'.join(ss)\n",
    "ts"
   ]
  },
  {
   "cell_type": "code",
   "execution_count": 17,
   "id": "00a12735-7cf9-4149-86f5-144df846ac70",
   "metadata": {
    "tags": []
   },
   "outputs": [
    {
     "name": "stdout",
     "output_type": "stream",
     "text": [
      "Hello\n",
      "Goodbye\n",
      "World\n"
     ]
    }
   ],
   "source": [
    "print(ts)"
   ]
  },
  {
   "cell_type": "code",
   "execution_count": 21,
   "id": "af99851b-66db-43e3-9a24-0b9030da8fc0",
   "metadata": {
    "tags": []
   },
   "outputs": [
    {
     "data": {
      "text/plain": [
       "['Hell', '\\nG', '', 'dbye\\nW', 'rld']"
      ]
     },
     "execution_count": 21,
     "metadata": {},
     "output_type": "execute_result"
    }
   ],
   "source": [
    "ts.split('o')"
   ]
  },
  {
   "cell_type": "code",
   "execution_count": 23,
   "id": "b3779254-abb4-4b99-b968-49f25fd24d5a",
   "metadata": {
    "tags": []
   },
   "outputs": [
    {
     "data": {
      "text/plain": [
       "4"
      ]
     },
     "execution_count": 23,
     "metadata": {},
     "output_type": "execute_result"
    }
   ],
   "source": [
    "ts.count('o')"
   ]
  },
  {
   "cell_type": "code",
   "execution_count": null,
   "id": "445b31bd-3878-449d-b742-13ed65dc3d17",
   "metadata": {},
   "outputs": [],
   "source": []
  },
  {
   "cell_type": "code",
   "execution_count": null,
   "id": "7a6edcc8-665a-4c12-8ed9-82c6ead04b13",
   "metadata": {},
   "outputs": [],
   "source": []
  },
  {
   "cell_type": "markdown",
   "id": "8c8b283b",
   "metadata": {},
   "source": [
    "## Solution to exercise 2"
   ]
  },
  {
   "cell_type": "code",
   "execution_count": null,
   "id": "1c5e08e4",
   "metadata": {},
   "outputs": [],
   "source": [
    "\n",
    "\n",
    "\n"
   ]
  },
  {
   "cell_type": "markdown",
   "id": "b73b0177",
   "metadata": {},
   "source": [
    "**3**. The FizzBuzz challenge.\n",
    "\n",
    "\"Write a program that prints the numbers from 1 to 100. But for multiples of three print “Fizz” instead of the number and for the multiples of five print “Buzz”. For numbers which are multiples of both three and five print “FizzBuzz”.\"\n",
    "\n",
    "The output will look like\n",
    "\n",
    "```Python\n",
    "1, 2, Fizz, 4, Buzz, Fizz, 7, 8, Fizz, Buzz, 11, Fizz, 13, 14, FizzBuzz, 16, 17, Fizz, 19, Buzz, Fizz, 22, 23, Fizz, Buzz, 26, Fizz, 28, 29, FizzBuzz, 31, 32, Fizz, 34, Buzz, Fizz, ...\n",
    "```\n",
    "\n",
    "Note: See story [Using FizzBuzz to Find Developers who Grok Coding](https://imranontech.com/2007/01/24/using-fizzbuzz-to-find-developers-who-grok-coding/)"
   ]
  },
  {
   "cell_type": "markdown",
   "id": "aaea8034",
   "metadata": {},
   "source": [
    "Hint:\n",
    "    \n",
    "- The modulus operator gives the remainder after division\n",
    "- The `print` function has an optional argument `end` which can be used to emit a comma instead of the default new line"
   ]
  },
  {
   "cell_type": "code",
   "execution_count": 26,
   "id": "462b8693",
   "metadata": {
    "tags": []
   },
   "outputs": [
    {
     "data": {
      "text/plain": [
       "False"
      ]
     },
     "execution_count": 26,
     "metadata": {},
     "output_type": "execute_result"
    }
   ],
   "source": [
    "5 % 3 == 0"
   ]
  },
  {
   "cell_type": "code",
   "execution_count": 27,
   "id": "0c55c28d-29c2-4bd0-a2ca-7004b02be404",
   "metadata": {
    "tags": []
   },
   "outputs": [
    {
     "name": "stdout",
     "output_type": "stream",
     "text": [
      "1, 2, 3, 4, 5, 6, 7, 8, 9, 10, 11, 12, 13, 14, 15, 16, 17, 18, 19, 20, 21, 22, 23, 24, 25, 26, 27, 28, 29, 30, 31, 32, 33, 34, 35, 36, 37, 38, 39, 40, 41, 42, 43, 44, 45, 46, 47, 48, 49, 50, 51, 52, 53, 54, 55, 56, 57, 58, 59, 60, 61, 62, 63, 64, 65, 66, 67, 68, 69, 70, 71, 72, 73, 74, 75, 76, 77, 78, 79, 80, 81, 82, 83, 84, 85, 86, 87, 88, 89, 90, 91, 92, 93, 94, 95, 96, 97, 98, 99, 100, "
     ]
    }
   ],
   "source": [
    "for i in range(1, 101):\n",
    "    print(i, end=', ')"
   ]
  },
  {
   "cell_type": "code",
   "execution_count": null,
   "id": "ff098891-10ac-4728-97f5-76515ac136e1",
   "metadata": {},
   "outputs": [],
   "source": []
  },
  {
   "cell_type": "code",
   "execution_count": null,
   "id": "54f11f29-bfb6-4096-a1fb-9968bb328be7",
   "metadata": {},
   "outputs": [],
   "source": []
  },
  {
   "cell_type": "markdown",
   "id": "d60f4a82",
   "metadata": {},
   "source": [
    "## Solution to exercise 3"
   ]
  },
  {
   "cell_type": "code",
   "execution_count": null,
   "id": "6fc5f0b7",
   "metadata": {},
   "outputs": [],
   "source": [
    "\n",
    "\n",
    "\n"
   ]
  },
  {
   "cell_type": "markdown",
   "id": "6b6fafbe",
   "metadata": {},
   "source": [
    "**4**. Read the file jack.txt line by line using a *context manager* — i.e., a `with` statement, and save it to a `list`. Then write code to save the file `jill.txt` with the lines in reverse order — i.e., the first 3 lines of `jill.txt` should be:\n",
    "\n",
    "```python\n",
    "Who thanked her son and daughter\n",
    "And took it home to Mother dear,\n",
    "To fetch the pail of water,\n",
    "...\n",
    "```"
   ]
  },
  {
   "cell_type": "markdown",
   "id": "258648af",
   "metadata": {},
   "source": [
    "This uses a `cell magic` to write the file `jack.txt` Do nont use magic functions to write `jill.txt`, only standard Python language. Magic functions are only available in special programming environments like the Jupyter notebook and are not a standard part of the Python language."
   ]
  },
  {
   "cell_type": "code",
   "execution_count": 31,
   "id": "8ae71ad3",
   "metadata": {
    "tags": []
   },
   "outputs": [
    {
     "name": "stdout",
     "output_type": "stream",
     "text": [
      "Writing jack.txt\n"
     ]
    }
   ],
   "source": [
    "%%file jack.txt\n",
    "Jack and Jill went up the hill\n",
    "To fetch a pail of water.\n",
    "Jack fell down and broke his crown,\n",
    "And Jill came tumbling after.\n",
    "Then up got Jack and said to Jill,\n",
    "As in his arms he took her,\n",
    "“Brush off that dirt for you’re not hurt,\n",
    "Let’s fetch that pail of water.”\n",
    "So Jack and Jill went up the hill\n",
    "To fetch the pail of water,\n",
    "And took it home to Mother dear,\n",
    "Who thanked her son and daughter"
   ]
  },
  {
   "cell_type": "code",
   "execution_count": 32,
   "id": "81ff7492-1706-4659-a58a-32133e98a03d",
   "metadata": {
    "tags": []
   },
   "outputs": [
    {
     "name": "stdout",
     "output_type": "stream",
     "text": [
      "Jack and Jill went up the hill\n",
      "To fetch a pail of water.\n",
      "Jack fell down and broke his crown,\n",
      "And Jill came tumbling after.\n",
      "Then up got Jack and said to Jill,\n",
      "As in his arms he took her,\n",
      "“Brush off that dirt for you’re not hurt,\n",
      "Let’s fetch that pail of water.”\n",
      "So Jack and Jill went up the hill\n",
      "To fetch the pail of water,\n",
      "And took it home to Mother dear,\n",
      "Who thanked her son and daughter\n"
     ]
    }
   ],
   "source": [
    "%cat jack.txt"
   ]
  },
  {
   "cell_type": "code",
   "execution_count": null,
   "id": "383558a5-ffc7-4530-98e4-b33d8eb3ee60",
   "metadata": {},
   "outputs": [],
   "source": []
  },
  {
   "cell_type": "markdown",
   "id": "b6036b4f",
   "metadata": {},
   "source": [
    "## Solution to exercise 4"
   ]
  },
  {
   "cell_type": "code",
   "execution_count": null,
   "id": "38cd9cbc",
   "metadata": {},
   "outputs": [],
   "source": [
    "\n",
    "\n",
    "\n"
   ]
  },
  {
   "cell_type": "markdown",
   "id": "a656de1c",
   "metadata": {},
   "source": [
    "You can use the `%cat <filename>` `line magic` to see the contents of a file."
   ]
  },
  {
   "cell_type": "code",
   "execution_count": null,
   "id": "3d4f42d0",
   "metadata": {},
   "outputs": [],
   "source": []
  }
 ],
 "metadata": {
  "kernelspec": {
   "display_name": "Python 3 (ipykernel)",
   "language": "python",
   "name": "python3"
  },
  "language_info": {
   "codemirror_mode": {
    "name": "ipython",
    "version": 3
   },
   "file_extension": ".py",
   "mimetype": "text/x-python",
   "name": "python",
   "nbconvert_exporter": "python",
   "pygments_lexer": "ipython3",
   "version": "3.10.6"
  },
  "toc": {
   "base_numbering": 1,
   "nav_menu": {},
   "number_sections": false,
   "sideBar": true,
   "skip_h1_title": false,
   "title_cell": "Table of Contents",
   "title_sidebar": "Contents",
   "toc_cell": false,
   "toc_position": {},
   "toc_section_display": true,
   "toc_window_display": false
  }
 },
 "nbformat": 4,
 "nbformat_minor": 5
}
