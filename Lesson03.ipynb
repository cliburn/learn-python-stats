{
 "cells": [
  {
   "cell_type": "markdown",
   "id": "b4cf732b",
   "metadata": {},
   "source": [
    "# Vectors and matrices"
   ]
  },
  {
   "cell_type": "markdown",
   "id": "b371ce2a",
   "metadata": {},
   "source": [
    "This suppplements the notes at https://people.duke.edu/~ccc14/sta-663-2018/notebooks/S03_Numpy_Annotated.html to go over more challenging concepts."
   ]
  },
  {
   "cell_type": "code",
   "execution_count": 192,
   "id": "516f54fd",
   "metadata": {},
   "outputs": [],
   "source": [
    "import numpy as np"
   ]
  },
  {
   "cell_type": "markdown",
   "id": "85eaf06c",
   "metadata": {},
   "source": [
    "## Vectors\n",
    "\n",
    "In mathematics, the default is to use a column vector $x$. To denote a row vector, we use $x^T$."
   ]
  },
  {
   "cell_type": "code",
   "execution_count": 193,
   "id": "e61450e5",
   "metadata": {},
   "outputs": [
    {
     "data": {
      "text/plain": [
       "array([[1],\n",
       "       [2],\n",
       "       [3],\n",
       "       [4]])"
      ]
     },
     "execution_count": 193,
     "metadata": {},
     "output_type": "execute_result"
    }
   ],
   "source": [
    "x = np.arange(1, 5).reshape(-1,1)\n",
    "x"
   ]
  },
  {
   "cell_type": "code",
   "execution_count": 194,
   "id": "1ef739a8",
   "metadata": {},
   "outputs": [
    {
     "data": {
      "text/plain": [
       "array([[4],\n",
       "       [3],\n",
       "       [2],\n",
       "       [1]])"
      ]
     },
     "execution_count": 194,
     "metadata": {},
     "output_type": "execute_result"
    }
   ],
   "source": [
    "y = np.arange(4, 0, -1).reshape(-1,1)\n",
    "y"
   ]
  },
  {
   "cell_type": "markdown",
   "id": "392d7477",
   "metadata": {},
   "source": [
    "## Simple operations on vectors"
   ]
  },
  {
   "cell_type": "markdown",
   "id": "6d4b30b8",
   "metadata": {},
   "source": [
    "### Element-wise operations"
   ]
  },
  {
   "cell_type": "code",
   "execution_count": 195,
   "id": "e141c691",
   "metadata": {},
   "outputs": [
    {
     "data": {
      "text/plain": [
       "array([[5],\n",
       "       [5],\n",
       "       [5],\n",
       "       [5]])"
      ]
     },
     "execution_count": 195,
     "metadata": {},
     "output_type": "execute_result"
    }
   ],
   "source": [
    "x + y"
   ]
  },
  {
   "cell_type": "code",
   "execution_count": 196,
   "id": "1b2c1c9b",
   "metadata": {},
   "outputs": [
    {
     "data": {
      "text/plain": [
       "array([[4],\n",
       "       [6],\n",
       "       [6],\n",
       "       [4]])"
      ]
     },
     "execution_count": 196,
     "metadata": {},
     "output_type": "execute_result"
    }
   ],
   "source": [
    "x * y"
   ]
  },
  {
   "cell_type": "code",
   "execution_count": 197,
   "id": "0eb03b59",
   "metadata": {},
   "outputs": [
    {
     "data": {
      "text/plain": [
       "array([[0.25      ],\n",
       "       [0.66666667],\n",
       "       [1.5       ],\n",
       "       [4.        ]])"
      ]
     },
     "execution_count": 197,
     "metadata": {},
     "output_type": "execute_result"
    }
   ],
   "source": [
    "x / y"
   ]
  },
  {
   "cell_type": "code",
   "execution_count": 198,
   "id": "512d48b9",
   "metadata": {},
   "outputs": [
    {
     "data": {
      "text/plain": [
       "array([[1],\n",
       "       [8],\n",
       "       [9],\n",
       "       [4]])"
      ]
     },
     "execution_count": 198,
     "metadata": {},
     "output_type": "execute_result"
    }
   ],
   "source": [
    "x ** y"
   ]
  },
  {
   "cell_type": "markdown",
   "id": "3dd77a51",
   "metadata": {},
   "source": [
    "### Universal functions"
   ]
  },
  {
   "cell_type": "code",
   "execution_count": 199,
   "id": "203d1204",
   "metadata": {},
   "outputs": [
    {
     "data": {
      "text/plain": [
       "array([[ 1],\n",
       "       [ 4],\n",
       "       [ 9],\n",
       "       [16]])"
      ]
     },
     "execution_count": 199,
     "metadata": {},
     "output_type": "execute_result"
    }
   ],
   "source": [
    "x**2"
   ]
  },
  {
   "cell_type": "code",
   "execution_count": 200,
   "id": "3a25633c",
   "metadata": {},
   "outputs": [
    {
     "data": {
      "text/plain": [
       "array([[0.        ],\n",
       "       [0.69314718],\n",
       "       [1.09861229],\n",
       "       [1.38629436]])"
      ]
     },
     "execution_count": 200,
     "metadata": {},
     "output_type": "execute_result"
    }
   ],
   "source": [
    "np.log(x)"
   ]
  },
  {
   "cell_type": "code",
   "execution_count": 201,
   "id": "ce0da1dd",
   "metadata": {},
   "outputs": [
    {
     "data": {
      "text/plain": [
       "array([[ 0.54030231],\n",
       "       [-0.41614684],\n",
       "       [-0.9899925 ],\n",
       "       [-0.65364362]])"
      ]
     },
     "execution_count": 201,
     "metadata": {},
     "output_type": "execute_result"
    }
   ],
   "source": [
    "np.cos(x)"
   ]
  },
  {
   "cell_type": "markdown",
   "id": "4dbcfcc1",
   "metadata": {},
   "source": [
    "### Vector reductions"
   ]
  },
  {
   "cell_type": "code",
   "execution_count": 202,
   "id": "25b86400",
   "metadata": {},
   "outputs": [
    {
     "data": {
      "text/plain": [
       "10"
      ]
     },
     "execution_count": 202,
     "metadata": {},
     "output_type": "execute_result"
    }
   ],
   "source": [
    "x.sum()"
   ]
  },
  {
   "cell_type": "code",
   "execution_count": 203,
   "id": "824baf79",
   "metadata": {},
   "outputs": [
    {
     "data": {
      "text/plain": [
       "2.5"
      ]
     },
     "execution_count": 203,
     "metadata": {},
     "output_type": "execute_result"
    }
   ],
   "source": [
    "x.mean()"
   ]
  },
  {
   "cell_type": "code",
   "execution_count": 204,
   "id": "395fdbcc",
   "metadata": {},
   "outputs": [
    {
     "data": {
      "text/plain": [
       "4"
      ]
     },
     "execution_count": 204,
     "metadata": {},
     "output_type": "execute_result"
    }
   ],
   "source": [
    "x.max()"
   ]
  },
  {
   "cell_type": "markdown",
   "id": "6658c5a1",
   "metadata": {},
   "source": [
    "### Transpose"
   ]
  },
  {
   "cell_type": "code",
   "execution_count": 205,
   "id": "e13f4edb",
   "metadata": {},
   "outputs": [
    {
     "data": {
      "text/plain": [
       "array([[1, 2, 3, 4]])"
      ]
     },
     "execution_count": 205,
     "metadata": {},
     "output_type": "execute_result"
    }
   ],
   "source": [
    "x.transpose()"
   ]
  },
  {
   "cell_type": "code",
   "execution_count": 206,
   "id": "75899690",
   "metadata": {},
   "outputs": [
    {
     "data": {
      "text/plain": [
       "array([[1, 2, 3, 4]])"
      ]
     },
     "execution_count": 206,
     "metadata": {},
     "output_type": "execute_result"
    }
   ],
   "source": [
    "x.T"
   ]
  },
  {
   "cell_type": "markdown",
   "id": "55cd8398",
   "metadata": {},
   "source": [
    "## Vector multiplication\n"
   ]
  },
  {
   "cell_type": "markdown",
   "id": "00ada037",
   "metadata": {},
   "source": [
    "Standard inner or dot proudct"
   ]
  },
  {
   "cell_type": "code",
   "execution_count": 207,
   "id": "3b3a4385",
   "metadata": {},
   "outputs": [
    {
     "data": {
      "text/plain": [
       "array([[30]])"
      ]
     },
     "execution_count": 207,
     "metadata": {},
     "output_type": "execute_result"
    }
   ],
   "source": [
    "x.T.dot(x)"
   ]
  },
  {
   "cell_type": "code",
   "execution_count": 208,
   "id": "e30297e9",
   "metadata": {},
   "outputs": [
    {
     "data": {
      "text/plain": [
       "array([[30]])"
      ]
     },
     "execution_count": 208,
     "metadata": {},
     "output_type": "execute_result"
    }
   ],
   "source": [
    "x.T @ x"
   ]
  },
  {
   "cell_type": "markdown",
   "id": "19f3256f",
   "metadata": {},
   "source": [
    "If you just want the scalar result"
   ]
  },
  {
   "cell_type": "code",
   "execution_count": 209,
   "id": "c4b397cb",
   "metadata": {},
   "outputs": [
    {
     "data": {
      "text/plain": [
       "30"
      ]
     },
     "execution_count": 209,
     "metadata": {},
     "output_type": "execute_result"
    }
   ],
   "source": [
    "(x.T @ x).item()"
   ]
  },
  {
   "cell_type": "markdown",
   "id": "5b4d0dcb",
   "metadata": {},
   "source": [
    "Contrast with the outer product"
   ]
  },
  {
   "cell_type": "code",
   "execution_count": 210,
   "id": "2f643853",
   "metadata": {},
   "outputs": [
    {
     "data": {
      "text/plain": [
       "array([[ 1,  2,  3,  4],\n",
       "       [ 2,  4,  6,  8],\n",
       "       [ 3,  6,  9, 12],\n",
       "       [ 4,  8, 12, 16]])"
      ]
     },
     "execution_count": 210,
     "metadata": {},
     "output_type": "execute_result"
    }
   ],
   "source": [
    "x @ x.T"
   ]
  },
  {
   "cell_type": "code",
   "execution_count": 211,
   "id": "77479d31",
   "metadata": {},
   "outputs": [
    {
     "data": {
      "text/plain": [
       "array(30)"
      ]
     },
     "execution_count": 211,
     "metadata": {},
     "output_type": "execute_result"
    }
   ],
   "source": [
    "np.squeeze(x.T @ x)"
   ]
  },
  {
   "cell_type": "markdown",
   "id": "d6d4dc9c",
   "metadata": {},
   "source": [
    "## Matrices"
   ]
  },
  {
   "cell_type": "markdown",
   "id": "27b00241",
   "metadata": {},
   "source": [
    "### Basically 2D arrays"
   ]
  },
  {
   "cell_type": "code",
   "execution_count": 212,
   "id": "2e08ceac",
   "metadata": {},
   "outputs": [],
   "source": [
    "A = np.arange(1, 13).reshape(3,4)"
   ]
  },
  {
   "cell_type": "code",
   "execution_count": 213,
   "id": "399dc7ba",
   "metadata": {},
   "outputs": [
    {
     "data": {
      "text/plain": [
       "array([[ 1,  2,  3,  4],\n",
       "       [ 5,  6,  7,  8],\n",
       "       [ 9, 10, 11, 12]])"
      ]
     },
     "execution_count": 213,
     "metadata": {},
     "output_type": "execute_result"
    }
   ],
   "source": [
    "A"
   ]
  },
  {
   "cell_type": "code",
   "execution_count": 214,
   "id": "afc43a3a",
   "metadata": {},
   "outputs": [
    {
     "data": {
      "text/plain": [
       "(3, 4)"
      ]
     },
     "execution_count": 214,
     "metadata": {},
     "output_type": "execute_result"
    }
   ],
   "source": [
    "A.shape"
   ]
  },
  {
   "cell_type": "markdown",
   "id": "552c16a7",
   "metadata": {},
   "source": [
    "### Most things work just like for vectors"
   ]
  },
  {
   "cell_type": "code",
   "execution_count": 215,
   "id": "9fd472a2",
   "metadata": {},
   "outputs": [
    {
     "data": {
      "text/plain": [
       "array([[ 2,  4,  6,  8],\n",
       "       [10, 12, 14, 16],\n",
       "       [18, 20, 22, 24]])"
      ]
     },
     "execution_count": 215,
     "metadata": {},
     "output_type": "execute_result"
    }
   ],
   "source": [
    "A + A"
   ]
  },
  {
   "cell_type": "code",
   "execution_count": 216,
   "id": "0dca7f92",
   "metadata": {},
   "outputs": [
    {
     "data": {
      "text/plain": [
       "array([[  1,   4,   9,  16],\n",
       "       [ 25,  36,  49,  64],\n",
       "       [ 81, 100, 121, 144]])"
      ]
     },
     "execution_count": 216,
     "metadata": {},
     "output_type": "execute_result"
    }
   ],
   "source": [
    "A**2"
   ]
  },
  {
   "cell_type": "code",
   "execution_count": 217,
   "id": "fee88126",
   "metadata": {},
   "outputs": [
    {
     "data": {
      "text/plain": [
       "array([[0.        , 0.69314718, 1.09861229, 1.38629436],\n",
       "       [1.60943791, 1.79175947, 1.94591015, 2.07944154],\n",
       "       [2.19722458, 2.30258509, 2.39789527, 2.48490665]])"
      ]
     },
     "execution_count": 217,
     "metadata": {},
     "output_type": "execute_result"
    }
   ],
   "source": [
    "np.log(A)"
   ]
  },
  {
   "cell_type": "code",
   "execution_count": 218,
   "id": "64a746ec",
   "metadata": {},
   "outputs": [
    {
     "data": {
      "text/plain": [
       "array([[ 1,  5,  9],\n",
       "       [ 2,  6, 10],\n",
       "       [ 3,  7, 11],\n",
       "       [ 4,  8, 12]])"
      ]
     },
     "execution_count": 218,
     "metadata": {},
     "output_type": "execute_result"
    }
   ],
   "source": [
    "A.T"
   ]
  },
  {
   "cell_type": "markdown",
   "id": "14f523f0",
   "metadata": {},
   "source": [
    "## Matrix multiplication"
   ]
  },
  {
   "cell_type": "code",
   "execution_count": 219,
   "id": "eb3b8c42",
   "metadata": {},
   "outputs": [
    {
     "data": {
      "text/plain": [
       "array([[ 30,  70, 110],\n",
       "       [ 70, 174, 278],\n",
       "       [110, 278, 446]])"
      ]
     },
     "execution_count": 219,
     "metadata": {},
     "output_type": "execute_result"
    }
   ],
   "source": [
    "A @ A.T"
   ]
  },
  {
   "cell_type": "code",
   "execution_count": 220,
   "id": "452479ae",
   "metadata": {},
   "outputs": [
    {
     "data": {
      "text/plain": [
       "array([[107, 122, 137, 152],\n",
       "       [122, 140, 158, 176],\n",
       "       [137, 158, 179, 200],\n",
       "       [152, 176, 200, 224]])"
      ]
     },
     "execution_count": 220,
     "metadata": {},
     "output_type": "execute_result"
    }
   ],
   "source": [
    "A.T @ A"
   ]
  },
  {
   "cell_type": "markdown",
   "id": "92e3cc03",
   "metadata": {},
   "source": [
    "### Matrix vector multiplication"
   ]
  },
  {
   "cell_type": "markdown",
   "id": "60684da5",
   "metadata": {},
   "source": [
    "Withc column vectors"
   ]
  },
  {
   "cell_type": "code",
   "execution_count": 221,
   "id": "20198c19",
   "metadata": {},
   "outputs": [
    {
     "data": {
      "text/plain": [
       "array([[ 30],\n",
       "       [ 70],\n",
       "       [110]])"
      ]
     },
     "execution_count": 221,
     "metadata": {},
     "output_type": "execute_result"
    }
   ],
   "source": [
    "A @ x"
   ]
  },
  {
   "cell_type": "markdown",
   "id": "3e43fdfa",
   "metadata": {},
   "source": [
    "With row vectors"
   ]
  },
  {
   "cell_type": "code",
   "execution_count": 222,
   "id": "c4c13991",
   "metadata": {},
   "outputs": [
    {
     "data": {
      "text/plain": [
       "array([[ 30,  70, 110]])"
      ]
     },
     "execution_count": 222,
     "metadata": {},
     "output_type": "execute_result"
    }
   ],
   "source": [
    "x.T @ A.T"
   ]
  },
  {
   "cell_type": "markdown",
   "id": "90703984",
   "metadata": {},
   "source": [
    "## Extrracting vectors from matrices"
   ]
  },
  {
   "cell_type": "code",
   "execution_count": 223,
   "id": "ff3d7a93",
   "metadata": {},
   "outputs": [
    {
     "data": {
      "text/plain": [
       "array([[ 1,  2,  3,  4],\n",
       "       [ 5,  6,  7,  8],\n",
       "       [ 9, 10, 11, 12]])"
      ]
     },
     "execution_count": 223,
     "metadata": {},
     "output_type": "execute_result"
    }
   ],
   "source": [
    "A"
   ]
  },
  {
   "cell_type": "markdown",
   "id": "17354619",
   "metadata": {},
   "source": [
    "### Get column vectors"
   ]
  },
  {
   "cell_type": "code",
   "execution_count": 224,
   "id": "baff42a9",
   "metadata": {},
   "outputs": [
    {
     "data": {
      "text/plain": [
       "array([[1],\n",
       "       [0],\n",
       "       [0],\n",
       "       [0]])"
      ]
     },
     "execution_count": 224,
     "metadata": {},
     "output_type": "execute_result"
    }
   ],
   "source": [
    "c0 = np.array([1,0,0,0]).reshape(-1, 1)\n",
    "c0"
   ]
  },
  {
   "cell_type": "code",
   "execution_count": 225,
   "id": "54dbfe39",
   "metadata": {},
   "outputs": [
    {
     "data": {
      "text/plain": [
       "array([[0],\n",
       "       [0],\n",
       "       [1],\n",
       "       [0]])"
      ]
     },
     "execution_count": 225,
     "metadata": {},
     "output_type": "execute_result"
    }
   ],
   "source": [
    "c2 = np.array([0,0,1,0]).reshape(-1, 1)\n",
    "c2"
   ]
  },
  {
   "cell_type": "code",
   "execution_count": 226,
   "id": "2fba2073",
   "metadata": {},
   "outputs": [
    {
     "data": {
      "text/plain": [
       "array([[1],\n",
       "       [5],\n",
       "       [9]])"
      ]
     },
     "execution_count": 226,
     "metadata": {},
     "output_type": "execute_result"
    }
   ],
   "source": [
    "A @ c0"
   ]
  },
  {
   "cell_type": "code",
   "execution_count": 227,
   "id": "70330639",
   "metadata": {},
   "outputs": [
    {
     "data": {
      "text/plain": [
       "array([[ 3],\n",
       "       [ 7],\n",
       "       [11]])"
      ]
     },
     "execution_count": 227,
     "metadata": {},
     "output_type": "execute_result"
    }
   ],
   "source": [
    "A @ c2"
   ]
  },
  {
   "cell_type": "markdown",
   "id": "fefb25e4",
   "metadata": {},
   "source": [
    "### So multiplying a matrix with a column vector gives a weighted sum of the marix columns"
   ]
  },
  {
   "cell_type": "code",
   "execution_count": 228,
   "id": "3ed56dbe",
   "metadata": {},
   "outputs": [
    {
     "data": {
      "text/plain": [
       "array([[ 1,  2,  3,  4],\n",
       "       [ 5,  6,  7,  8],\n",
       "       [ 9, 10, 11, 12]])"
      ]
     },
     "execution_count": 228,
     "metadata": {},
     "output_type": "execute_result"
    }
   ],
   "source": [
    "A"
   ]
  },
  {
   "cell_type": "code",
   "execution_count": 229,
   "id": "2cdcb36c",
   "metadata": {},
   "outputs": [
    {
     "data": {
      "text/plain": [
       "array([[1],\n",
       "       [2],\n",
       "       [3],\n",
       "       [4]])"
      ]
     },
     "execution_count": 229,
     "metadata": {},
     "output_type": "execute_result"
    }
   ],
   "source": [
    "x"
   ]
  },
  {
   "cell_type": "code",
   "execution_count": 230,
   "id": "b9c40259",
   "metadata": {},
   "outputs": [
    {
     "data": {
      "text/plain": [
       "array([[ 30],\n",
       "       [ 70],\n",
       "       [110]])"
      ]
     },
     "execution_count": 230,
     "metadata": {},
     "output_type": "execute_result"
    }
   ],
   "source": [
    "A @ x"
   ]
  },
  {
   "cell_type": "markdown",
   "id": "642e96fe",
   "metadata": {},
   "source": [
    "Exploain how we got the result above."
   ]
  },
  {
   "cell_type": "markdown",
   "id": "0f3e757a",
   "metadata": {},
   "source": [
    "Similar things can be done with rows."
   ]
  },
  {
   "cell_type": "code",
   "execution_count": 231,
   "id": "86c716b8",
   "metadata": {},
   "outputs": [
    {
     "data": {
      "text/plain": [
       "array([0, 0, 1])"
      ]
     },
     "execution_count": 231,
     "metadata": {},
     "output_type": "execute_result"
    }
   ],
   "source": [
    "r2 = np.array([0,0,1])\n",
    "r2"
   ]
  },
  {
   "cell_type": "code",
   "execution_count": 232,
   "id": "ea072161",
   "metadata": {},
   "outputs": [
    {
     "data": {
      "text/plain": [
       "array([ 9, 10, 11, 12])"
      ]
     },
     "execution_count": 232,
     "metadata": {},
     "output_type": "execute_result"
    }
   ],
   "source": [
    "r2 @ A"
   ]
  },
  {
   "cell_type": "markdown",
   "id": "14235300",
   "metadata": {},
   "source": [
    "Multiplying two matrices can be seen as geenrating the weighted sums column by column (or row by row)"
   ]
  },
  {
   "cell_type": "code",
   "execution_count": 233,
   "id": "aff53679",
   "metadata": {},
   "outputs": [
    {
     "data": {
      "text/plain": [
       "array([[1, 2, 3],\n",
       "       [1, 2, 3],\n",
       "       [1, 2, 3],\n",
       "       [1, 2, 3]])"
      ]
     },
     "execution_count": 233,
     "metadata": {},
     "output_type": "execute_result"
    }
   ],
   "source": [
    "B = np.array([\n",
    "    [1,2,3],\n",
    "    [1,2,3],\n",
    "    [1,2,3],\n",
    "    [1,2,3]\n",
    "])\n",
    "B"
   ]
  },
  {
   "cell_type": "code",
   "execution_count": 234,
   "id": "ae13f209",
   "metadata": {},
   "outputs": [
    {
     "data": {
      "text/plain": [
       "array([[ 1,  2,  3,  4],\n",
       "       [ 5,  6,  7,  8],\n",
       "       [ 9, 10, 11, 12]])"
      ]
     },
     "execution_count": 234,
     "metadata": {},
     "output_type": "execute_result"
    }
   ],
   "source": [
    "A"
   ]
  },
  {
   "cell_type": "markdown",
   "id": "6a8ba10d",
   "metadata": {},
   "source": [
    "Column interpreation"
   ]
  },
  {
   "cell_type": "code",
   "execution_count": 235,
   "id": "e5ab3c66",
   "metadata": {},
   "outputs": [
    {
     "data": {
      "text/plain": [
       "array([[10],\n",
       "       [26],\n",
       "       [42]])"
      ]
     },
     "execution_count": 235,
     "metadata": {},
     "output_type": "execute_result"
    }
   ],
   "source": [
    "A @ B[:, 0].reshape(-1,1)"
   ]
  },
  {
   "cell_type": "code",
   "execution_count": 236,
   "id": "ef4a57f0",
   "metadata": {},
   "outputs": [
    {
     "data": {
      "text/plain": [
       "array([[20],\n",
       "       [52],\n",
       "       [84]])"
      ]
     },
     "execution_count": 236,
     "metadata": {},
     "output_type": "execute_result"
    }
   ],
   "source": [
    "A @ B[:, 1].reshape(-1,1)"
   ]
  },
  {
   "cell_type": "code",
   "execution_count": 237,
   "id": "569979b6",
   "metadata": {},
   "outputs": [
    {
     "data": {
      "text/plain": [
       "array([[ 30],\n",
       "       [ 78],\n",
       "       [126]])"
      ]
     },
     "execution_count": 237,
     "metadata": {},
     "output_type": "execute_result"
    }
   ],
   "source": [
    "A @ B[:, 2].reshape(-1,1)"
   ]
  },
  {
   "cell_type": "code",
   "execution_count": 238,
   "id": "87276fc5",
   "metadata": {},
   "outputs": [
    {
     "data": {
      "text/plain": [
       "array([[ 10,  20,  30],\n",
       "       [ 26,  52,  78],\n",
       "       [ 42,  84, 126]])"
      ]
     },
     "execution_count": 238,
     "metadata": {},
     "output_type": "execute_result"
    }
   ],
   "source": [
    "A @ B"
   ]
  },
  {
   "cell_type": "markdown",
   "id": "82411fad",
   "metadata": {},
   "source": [
    "Row interpretation"
   ]
  },
  {
   "cell_type": "code",
   "execution_count": 239,
   "id": "d9537eb1",
   "metadata": {},
   "outputs": [
    {
     "data": {
      "text/plain": [
       "array([1, 2, 3, 4])"
      ]
     },
     "execution_count": 239,
     "metadata": {},
     "output_type": "execute_result"
    }
   ],
   "source": [
    "A[0,:]"
   ]
  },
  {
   "cell_type": "code",
   "execution_count": 240,
   "id": "8e59a978",
   "metadata": {},
   "outputs": [
    {
     "data": {
      "text/plain": [
       "array([[1, 2, 3],\n",
       "       [1, 2, 3],\n",
       "       [1, 2, 3],\n",
       "       [1, 2, 3]])"
      ]
     },
     "execution_count": 240,
     "metadata": {},
     "output_type": "execute_result"
    }
   ],
   "source": [
    "B"
   ]
  },
  {
   "cell_type": "code",
   "execution_count": 241,
   "id": "b2bc1e21",
   "metadata": {},
   "outputs": [
    {
     "data": {
      "text/plain": [
       "array([10, 20, 30])"
      ]
     },
     "execution_count": 241,
     "metadata": {},
     "output_type": "execute_result"
    }
   ],
   "source": [
    "A[0,:] @ B"
   ]
  },
  {
   "cell_type": "markdown",
   "id": "4cf41bc7",
   "metadata": {},
   "source": [
    "How did we get this result?"
   ]
  },
  {
   "cell_type": "code",
   "execution_count": 242,
   "id": "c8686045",
   "metadata": {},
   "outputs": [
    {
     "data": {
      "text/plain": [
       "array([5, 6, 7, 8])"
      ]
     },
     "execution_count": 242,
     "metadata": {},
     "output_type": "execute_result"
    }
   ],
   "source": [
    "A[1, :]"
   ]
  },
  {
   "cell_type": "code",
   "execution_count": 243,
   "id": "d3bb6ae1",
   "metadata": {},
   "outputs": [
    {
     "data": {
      "text/plain": [
       "array([26, 52, 78])"
      ]
     },
     "execution_count": 243,
     "metadata": {},
     "output_type": "execute_result"
    }
   ],
   "source": [
    "A[1,:] @ B"
   ]
  },
  {
   "cell_type": "code",
   "execution_count": 244,
   "id": "c36b3890",
   "metadata": {},
   "outputs": [
    {
     "data": {
      "text/plain": [
       "array([ 42,  84, 126])"
      ]
     },
     "execution_count": 244,
     "metadata": {},
     "output_type": "execute_result"
    }
   ],
   "source": [
    "A[2,:] @ B"
   ]
  },
  {
   "cell_type": "code",
   "execution_count": 245,
   "id": "b9bf0f98",
   "metadata": {},
   "outputs": [
    {
     "data": {
      "text/plain": [
       "array([[ 10,  20,  30],\n",
       "       [ 26,  52,  78],\n",
       "       [ 42,  84, 126]])"
      ]
     },
     "execution_count": 245,
     "metadata": {},
     "output_type": "execute_result"
    }
   ],
   "source": [
    "A @ B"
   ]
  },
  {
   "cell_type": "markdown",
   "id": "b143e573",
   "metadata": {},
   "source": [
    "### Permutations can be seen as rearranging columns"
   ]
  },
  {
   "cell_type": "code",
   "execution_count": 246,
   "id": "724f7dcd",
   "metadata": {},
   "outputs": [
    {
     "data": {
      "text/plain": [
       "(3, 4)"
      ]
     },
     "execution_count": 246,
     "metadata": {},
     "output_type": "execute_result"
    }
   ],
   "source": [
    "A.shape"
   ]
  },
  {
   "cell_type": "code",
   "execution_count": 247,
   "id": "c67b3111",
   "metadata": {},
   "outputs": [
    {
     "data": {
      "text/plain": [
       "array([[1, 0, 0, 0],\n",
       "       [0, 1, 0, 0],\n",
       "       [0, 0, 1, 0],\n",
       "       [0, 0, 0, 1]])"
      ]
     },
     "execution_count": 247,
     "metadata": {},
     "output_type": "execute_result"
    }
   ],
   "source": [
    "I = np.eye(A.shape[1], dtype='int')\n",
    "I"
   ]
  },
  {
   "cell_type": "code",
   "execution_count": 248,
   "id": "2d159607",
   "metadata": {},
   "outputs": [
    {
     "data": {
      "text/plain": [
       "array([[ 1,  2,  3,  4],\n",
       "       [ 5,  6,  7,  8],\n",
       "       [ 9, 10, 11, 12]])"
      ]
     },
     "execution_count": 248,
     "metadata": {},
     "output_type": "execute_result"
    }
   ],
   "source": [
    "A"
   ]
  },
  {
   "cell_type": "code",
   "execution_count": 249,
   "id": "a087a19a",
   "metadata": {},
   "outputs": [
    {
     "data": {
      "text/plain": [
       "array([[ 1,  2,  3,  4],\n",
       "       [ 5,  6,  7,  8],\n",
       "       [ 9, 10, 11, 12]])"
      ]
     },
     "execution_count": 249,
     "metadata": {},
     "output_type": "execute_result"
    }
   ],
   "source": [
    "A @ I"
   ]
  },
  {
   "cell_type": "markdown",
   "id": "7f2be744",
   "metadata": {},
   "source": [
    "We can interpret the post-(or rihgt-)multiplicatin of A with the identify matrix like so:\n",
    "    \n",
    "- The 1st column of I takes 1 of 1st column of A and 0 of everything else\n",
    "- The 2nd columnn of I takes 1 of 2nd column of A and 0 of everything else\n",
    "- The 3rd column of I takes 1 of 3rd column of A and 0 of everything else\n",
    "- The 4th columnn of I takes 1 of 4th column of A and 0 of everything else"
   ]
  },
  {
   "cell_type": "code",
   "execution_count": 250,
   "id": "439267c6",
   "metadata": {},
   "outputs": [
    {
     "data": {
      "text/plain": [
       "array([[0, 1, 0, 0],\n",
       "       [0, 0, 0, 1],\n",
       "       [1, 0, 0, 0],\n",
       "       [0, 0, 1, 0]])"
      ]
     },
     "execution_count": 250,
     "metadata": {},
     "output_type": "execute_result"
    }
   ],
   "source": [
    "I1 = I[:, [2,0,3,1]]\n",
    "I1"
   ]
  },
  {
   "cell_type": "code",
   "execution_count": 251,
   "id": "5572cbcf",
   "metadata": {},
   "outputs": [
    {
     "data": {
      "text/plain": [
       "array([[ 3,  1,  4,  2],\n",
       "       [ 7,  5,  8,  6],\n",
       "       [11,  9, 12, 10]])"
      ]
     },
     "execution_count": 251,
     "metadata": {},
     "output_type": "execute_result"
    }
   ],
   "source": [
    "A @ I1"
   ]
  },
  {
   "cell_type": "code",
   "execution_count": 252,
   "id": "1c8eeea6",
   "metadata": {},
   "outputs": [
    {
     "data": {
      "text/plain": [
       "array([[ 3,  1,  4,  2],\n",
       "       [ 7,  5,  8,  6],\n",
       "       [11,  9, 12, 10]])"
      ]
     },
     "execution_count": 252,
     "metadata": {},
     "output_type": "execute_result"
    }
   ],
   "source": [
    "A[:, [2,0,3,1]]"
   ]
  },
  {
   "cell_type": "markdown",
   "id": "9947fb50",
   "metadata": {},
   "source": [
    "Pre-multiplication by a permuted identity martrix does the same things to the *rows* of A. (not shown)"
   ]
  },
  {
   "cell_type": "markdown",
   "id": "aa2229a3",
   "metadata": {},
   "source": [
    "## Broadcasting"
   ]
  },
  {
   "cell_type": "markdown",
   "id": "f60a4e9d",
   "metadata": {},
   "source": [
    "A scalar can be *promoted* or *broadcast* to be a vector or matrix"
   ]
  },
  {
   "cell_type": "code",
   "execution_count": 253,
   "id": "f71a739f",
   "metadata": {},
   "outputs": [
    {
     "data": {
      "text/plain": [
       "array([[1],\n",
       "       [2],\n",
       "       [3],\n",
       "       [4]])"
      ]
     },
     "execution_count": 253,
     "metadata": {},
     "output_type": "execute_result"
    }
   ],
   "source": [
    "x"
   ]
  },
  {
   "cell_type": "code",
   "execution_count": 254,
   "id": "280c6f1e",
   "metadata": {},
   "outputs": [
    {
     "data": {
      "text/plain": [
       "array([[2],\n",
       "       [3],\n",
       "       [4],\n",
       "       [5]])"
      ]
     },
     "execution_count": 254,
     "metadata": {},
     "output_type": "execute_result"
    }
   ],
   "source": [
    "x + 1"
   ]
  },
  {
   "cell_type": "code",
   "execution_count": 255,
   "id": "6b47445e",
   "metadata": {},
   "outputs": [
    {
     "data": {
      "text/plain": [
       "array([[ 1,  2,  3,  4],\n",
       "       [ 5,  6,  7,  8],\n",
       "       [ 9, 10, 11, 12]])"
      ]
     },
     "execution_count": 255,
     "metadata": {},
     "output_type": "execute_result"
    }
   ],
   "source": [
    "A"
   ]
  },
  {
   "cell_type": "code",
   "execution_count": 256,
   "id": "613ea52b",
   "metadata": {},
   "outputs": [
    {
     "data": {
      "text/plain": [
       "array([[ 2,  3,  4,  5],\n",
       "       [ 6,  7,  8,  9],\n",
       "       [10, 11, 12, 13]])"
      ]
     },
     "execution_count": 256,
     "metadata": {},
     "output_type": "execute_result"
    }
   ],
   "source": [
    "A + 1"
   ]
  },
  {
   "cell_type": "markdown",
   "id": "4bb3c315",
   "metadata": {},
   "source": [
    "A vecotr can be promoted to a matrix if the *shape* is right"
   ]
  },
  {
   "cell_type": "code",
   "execution_count": 257,
   "id": "e4a134bb",
   "metadata": {},
   "outputs": [
    {
     "data": {
      "text/plain": [
       "array([[1],\n",
       "       [1],\n",
       "       [1]])"
      ]
     },
     "execution_count": 257,
     "metadata": {},
     "output_type": "execute_result"
    }
   ],
   "source": [
    "u = np.ones(3, dtype='int').reshape(-1,1)\n",
    "u"
   ]
  },
  {
   "cell_type": "code",
   "execution_count": 258,
   "id": "56f9ed9c",
   "metadata": {},
   "outputs": [
    {
     "data": {
      "text/plain": [
       "(3, 4)"
      ]
     },
     "execution_count": 258,
     "metadata": {},
     "output_type": "execute_result"
    }
   ],
   "source": [
    "A.shape"
   ]
  },
  {
   "cell_type": "code",
   "execution_count": 259,
   "id": "55de405e",
   "metadata": {},
   "outputs": [
    {
     "data": {
      "text/plain": [
       "(3, 1)"
      ]
     },
     "execution_count": 259,
     "metadata": {},
     "output_type": "execute_result"
    }
   ],
   "source": [
    "u.shape"
   ]
  },
  {
   "cell_type": "code",
   "execution_count": 260,
   "id": "90269494",
   "metadata": {},
   "outputs": [
    {
     "data": {
      "text/plain": [
       "array([[ 2,  3,  4,  5],\n",
       "       [ 6,  7,  8,  9],\n",
       "       [10, 11, 12, 13]])"
      ]
     },
     "execution_count": 260,
     "metadata": {},
     "output_type": "execute_result"
    }
   ],
   "source": [
    "A + u"
   ]
  },
  {
   "cell_type": "code",
   "execution_count": 261,
   "id": "ac3e82db",
   "metadata": {},
   "outputs": [
    {
     "data": {
      "text/plain": [
       "(1, 4)"
      ]
     },
     "execution_count": 261,
     "metadata": {},
     "output_type": "execute_result"
    }
   ],
   "source": [
    "x.T.shape"
   ]
  },
  {
   "cell_type": "code",
   "execution_count": 262,
   "id": "6ab0b0f6",
   "metadata": {},
   "outputs": [
    {
     "data": {
      "text/plain": [
       "(3, 4)"
      ]
     },
     "execution_count": 262,
     "metadata": {},
     "output_type": "execute_result"
    }
   ],
   "source": [
    "A.shape"
   ]
  },
  {
   "cell_type": "code",
   "execution_count": 263,
   "id": "eb8342c7",
   "metadata": {},
   "outputs": [
    {
     "data": {
      "text/plain": [
       "array([[ 2,  4,  6,  8],\n",
       "       [ 6,  8, 10, 12],\n",
       "       [10, 12, 14, 16]])"
      ]
     },
     "execution_count": 263,
     "metadata": {},
     "output_type": "execute_result"
    }
   ],
   "source": [
    "A + x.T"
   ]
  },
  {
   "cell_type": "markdown",
   "id": "bc88ea50",
   "metadata": {},
   "source": [
    "### Broadcasting rules\n",
    "\n",
    "- Look at the sahpes of the two arrays from right to left\n",
    "- If the numbers are the same, it is ok\n",
    "- If one number is 1, it will be promoted to the size of the other\n",
    "- If one number is missing, it wil be promoted to the sie of the other\n",
    "- Everything else will be an error"
   ]
  },
  {
   "cell_type": "code",
   "execution_count": 264,
   "id": "5416e14c",
   "metadata": {},
   "outputs": [
    {
     "data": {
      "text/plain": [
       "((3, 4), (3, 1))"
      ]
     },
     "execution_count": 264,
     "metadata": {},
     "output_type": "execute_result"
    }
   ],
   "source": [
    "A.shape, u.shape"
   ]
  },
  {
   "cell_type": "code",
   "execution_count": 265,
   "id": "950143be",
   "metadata": {},
   "outputs": [
    {
     "data": {
      "text/plain": [
       "array([[ 2,  3,  4,  5],\n",
       "       [ 6,  7,  8,  9],\n",
       "       [10, 11, 12, 13]])"
      ]
     },
     "execution_count": 265,
     "metadata": {},
     "output_type": "execute_result"
    }
   ],
   "source": [
    "A + u"
   ]
  },
  {
   "cell_type": "markdown",
   "id": "866b46fb",
   "metadata": {},
   "source": [
    "Promotions means `numpy` does something like this under the hood."
   ]
  },
  {
   "cell_type": "code",
   "execution_count": 266,
   "id": "59e94a88",
   "metadata": {},
   "outputs": [
    {
     "data": {
      "text/plain": [
       "array([[1, 1, 1, 1],\n",
       "       [1, 1, 1, 1],\n",
       "       [1, 1, 1, 1]])"
      ]
     },
     "execution_count": 266,
     "metadata": {},
     "output_type": "execute_result"
    }
   ],
   "source": [
    "u1 = u @ np.ones((1,4), dtype='int')\n",
    "u1"
   ]
  },
  {
   "cell_type": "code",
   "execution_count": 267,
   "id": "c1666db6",
   "metadata": {},
   "outputs": [
    {
     "data": {
      "text/plain": [
       "((3, 4), (3, 4))"
      ]
     },
     "execution_count": 267,
     "metadata": {},
     "output_type": "execute_result"
    }
   ],
   "source": [
    "A.shape, u1.shape"
   ]
  },
  {
   "cell_type": "code",
   "execution_count": 268,
   "id": "31dbfadb",
   "metadata": {},
   "outputs": [
    {
     "data": {
      "text/plain": [
       "array([[ 2,  3,  4,  5],\n",
       "       [ 6,  7,  8,  9],\n",
       "       [10, 11, 12, 13]])"
      ]
     },
     "execution_count": 268,
     "metadata": {},
     "output_type": "execute_result"
    }
   ],
   "source": [
    "A + u1"
   ]
  },
  {
   "cell_type": "markdown",
   "id": "4254610b",
   "metadata": {},
   "source": [
    "### To enable broadcasting,  you can add *dummy* dimensions"
   ]
  },
  {
   "cell_type": "code",
   "execution_count": 269,
   "id": "f2cb3df6",
   "metadata": {},
   "outputs": [
    {
     "data": {
      "text/plain": [
       "(3, 4)"
      ]
     },
     "execution_count": 269,
     "metadata": {},
     "output_type": "execute_result"
    }
   ],
   "source": [
    "A.shape"
   ]
  },
  {
   "cell_type": "code",
   "execution_count": 270,
   "id": "97666997",
   "metadata": {},
   "outputs": [
    {
     "data": {
      "text/plain": [
       "(3, 1, 4)"
      ]
     },
     "execution_count": 270,
     "metadata": {},
     "output_type": "execute_result"
    }
   ],
   "source": [
    "A[:, None].shape"
   ]
  },
  {
   "cell_type": "code",
   "execution_count": 271,
   "id": "557a1f1f",
   "metadata": {},
   "outputs": [
    {
     "data": {
      "text/plain": [
       "array([[[ 1,  2,  3,  4]],\n",
       "\n",
       "       [[ 5,  6,  7,  8]],\n",
       "\n",
       "       [[ 9, 10, 11, 12]]])"
      ]
     },
     "execution_count": 271,
     "metadata": {},
     "output_type": "execute_result"
    }
   ],
   "source": [
    "A[:, None]"
   ]
  },
  {
   "cell_type": "code",
   "execution_count": 272,
   "id": "caf43b86",
   "metadata": {},
   "outputs": [
    {
     "data": {
      "text/plain": [
       "(3, 4, 1)"
      ]
     },
     "execution_count": 272,
     "metadata": {},
     "output_type": "execute_result"
    }
   ],
   "source": [
    "A[:, :, None].shape"
   ]
  },
  {
   "cell_type": "markdown",
   "id": "41f52add",
   "metadata": {},
   "source": [
    "Some people prefer `np.newaxis` to `None` — they are identical"
   ]
  },
  {
   "cell_type": "code",
   "execution_count": 273,
   "id": "74095fcf",
   "metadata": {},
   "outputs": [
    {
     "data": {
      "text/plain": [
       "(3, 1, 4)"
      ]
     },
     "execution_count": 273,
     "metadata": {},
     "output_type": "execute_result"
    }
   ],
   "source": [
    "A[:, np.newaxis, :].shape"
   ]
  },
  {
   "cell_type": "code",
   "execution_count": 274,
   "id": "28a2bd54",
   "metadata": {},
   "outputs": [
    {
     "data": {
      "text/plain": [
       "(1, 3, 4)"
      ]
     },
     "execution_count": 274,
     "metadata": {},
     "output_type": "execute_result"
    }
   ],
   "source": [
    "A[np.newaxis, ...].shape"
   ]
  },
  {
   "cell_type": "code",
   "execution_count": 275,
   "id": "89bc956e",
   "metadata": {},
   "outputs": [
    {
     "data": {
      "text/plain": [
       "array([[1],\n",
       "       [2],\n",
       "       [3],\n",
       "       [4]])"
      ]
     },
     "execution_count": 275,
     "metadata": {},
     "output_type": "execute_result"
    }
   ],
   "source": [
    "x"
   ]
  },
  {
   "cell_type": "code",
   "execution_count": 276,
   "id": "6caceff4",
   "metadata": {},
   "outputs": [
    {
     "data": {
      "text/plain": [
       "((4, 1), (3, 4, 1))"
      ]
     },
     "execution_count": 276,
     "metadata": {},
     "output_type": "execute_result"
    }
   ],
   "source": [
    "x.shape, A[:, :, None].shape"
   ]
  },
  {
   "cell_type": "code",
   "execution_count": 277,
   "id": "7d37c7cd",
   "metadata": {},
   "outputs": [
    {
     "data": {
      "text/plain": [
       "array([[[ 2],\n",
       "        [ 4],\n",
       "        [ 6],\n",
       "        [ 8]],\n",
       "\n",
       "       [[ 6],\n",
       "        [ 8],\n",
       "        [10],\n",
       "        [12]],\n",
       "\n",
       "       [[10],\n",
       "        [12],\n",
       "        [14],\n",
       "        [16]]])"
      ]
     },
     "execution_count": 277,
     "metadata": {},
     "output_type": "execute_result"
    }
   ],
   "source": [
    "A[:, :, None] + x"
   ]
  },
  {
   "cell_type": "markdown",
   "id": "128ddf5c",
   "metadata": {},
   "source": [
    "## Broadcasting example"
   ]
  },
  {
   "cell_type": "code",
   "execution_count": 278,
   "id": "8faad722",
   "metadata": {},
   "outputs": [],
   "source": [
    "w = np.arange(1, 13)"
   ]
  },
  {
   "cell_type": "code",
   "execution_count": 279,
   "id": "9bd59f95",
   "metadata": {},
   "outputs": [
    {
     "data": {
      "text/plain": [
       "(12,)"
      ]
     },
     "execution_count": 279,
     "metadata": {},
     "output_type": "execute_result"
    }
   ],
   "source": [
    "w.shape"
   ]
  },
  {
   "cell_type": "code",
   "execution_count": 280,
   "id": "0c3fe565",
   "metadata": {},
   "outputs": [
    {
     "data": {
      "text/plain": [
       "(1, 12)"
      ]
     },
     "execution_count": 280,
     "metadata": {},
     "output_type": "execute_result"
    }
   ],
   "source": [
    "w[None, :].shape"
   ]
  },
  {
   "cell_type": "markdown",
   "id": "e941801e",
   "metadata": {},
   "source": [
    "Note that w[None, :] converts the 1D array `w` into a row vector."
   ]
  },
  {
   "cell_type": "code",
   "execution_count": 281,
   "id": "b3f3d8a7",
   "metadata": {},
   "outputs": [
    {
     "data": {
      "text/plain": [
       "array([[ 1,  2,  3,  4,  5,  6,  7,  8,  9, 10, 11, 12]])"
      ]
     },
     "execution_count": 281,
     "metadata": {},
     "output_type": "execute_result"
    }
   ],
   "source": [
    "w[None, :]"
   ]
  },
  {
   "cell_type": "code",
   "execution_count": 282,
   "id": "ba7bb4bf",
   "metadata": {},
   "outputs": [
    {
     "data": {
      "text/plain": [
       "(12, 1)"
      ]
     },
     "execution_count": 282,
     "metadata": {},
     "output_type": "execute_result"
    }
   ],
   "source": [
    "w[:, None].shape"
   ]
  },
  {
   "cell_type": "markdown",
   "id": "66e890d6",
   "metadata": {},
   "source": [
    "Note that w[:, None] converts the 1D array `w` into a row vector."
   ]
  },
  {
   "cell_type": "code",
   "execution_count": 283,
   "id": "7e55ec2e",
   "metadata": {},
   "outputs": [
    {
     "data": {
      "text/plain": [
       "array([[ 1],\n",
       "       [ 2],\n",
       "       [ 3],\n",
       "       [ 4],\n",
       "       [ 5],\n",
       "       [ 6],\n",
       "       [ 7],\n",
       "       [ 8],\n",
       "       [ 9],\n",
       "       [10],\n",
       "       [11],\n",
       "       [12]])"
      ]
     },
     "execution_count": 283,
     "metadata": {},
     "output_type": "execute_result"
    }
   ],
   "source": [
    "w[:, None]"
   ]
  },
  {
   "cell_type": "markdown",
   "id": "f450d256",
   "metadata": {},
   "source": [
    "What does this do?"
   ]
  },
  {
   "cell_type": "code",
   "execution_count": 284,
   "id": "c6a9b778",
   "metadata": {},
   "outputs": [
    {
     "data": {
      "text/plain": [
       "array([[  1,   2,   3,   4,   5,   6,   7,   8,   9,  10,  11,  12],\n",
       "       [  2,   4,   6,   8,  10,  12,  14,  16,  18,  20,  22,  24],\n",
       "       [  3,   6,   9,  12,  15,  18,  21,  24,  27,  30,  33,  36],\n",
       "       [  4,   8,  12,  16,  20,  24,  28,  32,  36,  40,  44,  48],\n",
       "       [  5,  10,  15,  20,  25,  30,  35,  40,  45,  50,  55,  60],\n",
       "       [  6,  12,  18,  24,  30,  36,  42,  48,  54,  60,  66,  72],\n",
       "       [  7,  14,  21,  28,  35,  42,  49,  56,  63,  70,  77,  84],\n",
       "       [  8,  16,  24,  32,  40,  48,  56,  64,  72,  80,  88,  96],\n",
       "       [  9,  18,  27,  36,  45,  54,  63,  72,  81,  90,  99, 108],\n",
       "       [ 10,  20,  30,  40,  50,  60,  70,  80,  90, 100, 110, 120],\n",
       "       [ 11,  22,  33,  44,  55,  66,  77,  88,  99, 110, 121, 132],\n",
       "       [ 12,  24,  36,  48,  60,  72,  84,  96, 108, 120, 132, 144]])"
      ]
     },
     "execution_count": 284,
     "metadata": {},
     "output_type": "execute_result"
    }
   ],
   "source": [
    "w[:, None] * w[None, :]"
   ]
  },
  {
   "cell_type": "markdown",
   "id": "a2ae8b89",
   "metadata": {},
   "source": [
    "How does this work?"
   ]
  },
  {
   "cell_type": "code",
   "execution_count": 285,
   "id": "561b2b14",
   "metadata": {},
   "outputs": [
    {
     "data": {
      "text/plain": [
       "((1, 12), (12, 1))"
      ]
     },
     "execution_count": 285,
     "metadata": {},
     "output_type": "execute_result"
    }
   ],
   "source": [
    "w[None, :].shape, w[:, None].shape"
   ]
  },
  {
   "cell_type": "markdown",
   "id": "c3bb82dd",
   "metadata": {},
   "source": [
    "We work from right to left in the shapes — so the first numbers to match are 12 and 1. Broadcasting thus promotes the second array to be (12, 12). Now we need to match 1 to 12, so the first array is also promoted to be (12, 12)."
   ]
  },
  {
   "cell_type": "markdown",
   "id": "67ff6d1a",
   "metadata": {},
   "source": [
    "Now the first array looks like this"
   ]
  },
  {
   "cell_type": "code",
   "execution_count": 286,
   "id": "98fe2a4e",
   "metadata": {},
   "outputs": [
    {
     "data": {
      "text/plain": [
       "array([ 1,  2,  3,  4,  5,  6,  7,  8,  9, 10, 11, 12])"
      ]
     },
     "execution_count": 286,
     "metadata": {},
     "output_type": "execute_result"
    }
   ],
   "source": [
    "w"
   ]
  },
  {
   "cell_type": "code",
   "execution_count": 287,
   "id": "96e7bb5b",
   "metadata": {},
   "outputs": [
    {
     "data": {
      "text/plain": [
       "array([[ 1,  2,  3,  4,  5,  6,  7,  8,  9, 10, 11, 12],\n",
       "       [ 1,  2,  3,  4,  5,  6,  7,  8,  9, 10, 11, 12],\n",
       "       [ 1,  2,  3,  4,  5,  6,  7,  8,  9, 10, 11, 12],\n",
       "       [ 1,  2,  3,  4,  5,  6,  7,  8,  9, 10, 11, 12],\n",
       "       [ 1,  2,  3,  4,  5,  6,  7,  8,  9, 10, 11, 12],\n",
       "       [ 1,  2,  3,  4,  5,  6,  7,  8,  9, 10, 11, 12],\n",
       "       [ 1,  2,  3,  4,  5,  6,  7,  8,  9, 10, 11, 12],\n",
       "       [ 1,  2,  3,  4,  5,  6,  7,  8,  9, 10, 11, 12],\n",
       "       [ 1,  2,  3,  4,  5,  6,  7,  8,  9, 10, 11, 12],\n",
       "       [ 1,  2,  3,  4,  5,  6,  7,  8,  9, 10, 11, 12],\n",
       "       [ 1,  2,  3,  4,  5,  6,  7,  8,  9, 10, 11, 12],\n",
       "       [ 1,  2,  3,  4,  5,  6,  7,  8,  9, 10, 11, 12]])"
      ]
     },
     "execution_count": 287,
     "metadata": {},
     "output_type": "execute_result"
    }
   ],
   "source": [
    "w1 = np.tile(w[None, :], (12, 1))\n",
    "w1"
   ]
  },
  {
   "cell_type": "markdown",
   "id": "0aab7468",
   "metadata": {},
   "source": [
    "And the second array looks like this"
   ]
  },
  {
   "cell_type": "code",
   "execution_count": 288,
   "id": "c1de5e56",
   "metadata": {},
   "outputs": [
    {
     "data": {
      "text/plain": [
       "array([[ 1,  1,  1,  1,  1,  1,  1,  1,  1,  1,  1,  1],\n",
       "       [ 2,  2,  2,  2,  2,  2,  2,  2,  2,  2,  2,  2],\n",
       "       [ 3,  3,  3,  3,  3,  3,  3,  3,  3,  3,  3,  3],\n",
       "       [ 4,  4,  4,  4,  4,  4,  4,  4,  4,  4,  4,  4],\n",
       "       [ 5,  5,  5,  5,  5,  5,  5,  5,  5,  5,  5,  5],\n",
       "       [ 6,  6,  6,  6,  6,  6,  6,  6,  6,  6,  6,  6],\n",
       "       [ 7,  7,  7,  7,  7,  7,  7,  7,  7,  7,  7,  7],\n",
       "       [ 8,  8,  8,  8,  8,  8,  8,  8,  8,  8,  8,  8],\n",
       "       [ 9,  9,  9,  9,  9,  9,  9,  9,  9,  9,  9,  9],\n",
       "       [10, 10, 10, 10, 10, 10, 10, 10, 10, 10, 10, 10],\n",
       "       [11, 11, 11, 11, 11, 11, 11, 11, 11, 11, 11, 11],\n",
       "       [12, 12, 12, 12, 12, 12, 12, 12, 12, 12, 12, 12]])"
      ]
     },
     "execution_count": 288,
     "metadata": {},
     "output_type": "execute_result"
    }
   ],
   "source": [
    "w2 = np.tile(w[:, None], (1, 12))\n",
    "w2"
   ]
  },
  {
   "cell_type": "markdown",
   "id": "7f3c0a42",
   "metadata": {},
   "source": [
    "And element-wsie multiplication takes care of the rest."
   ]
  },
  {
   "cell_type": "code",
   "execution_count": 289,
   "id": "18d59227",
   "metadata": {},
   "outputs": [
    {
     "data": {
      "text/plain": [
       "array([[  1,   2,   3,   4,   5,   6,   7,   8,   9,  10,  11,  12],\n",
       "       [  2,   4,   6,   8,  10,  12,  14,  16,  18,  20,  22,  24],\n",
       "       [  3,   6,   9,  12,  15,  18,  21,  24,  27,  30,  33,  36],\n",
       "       [  4,   8,  12,  16,  20,  24,  28,  32,  36,  40,  44,  48],\n",
       "       [  5,  10,  15,  20,  25,  30,  35,  40,  45,  50,  55,  60],\n",
       "       [  6,  12,  18,  24,  30,  36,  42,  48,  54,  60,  66,  72],\n",
       "       [  7,  14,  21,  28,  35,  42,  49,  56,  63,  70,  77,  84],\n",
       "       [  8,  16,  24,  32,  40,  48,  56,  64,  72,  80,  88,  96],\n",
       "       [  9,  18,  27,  36,  45,  54,  63,  72,  81,  90,  99, 108],\n",
       "       [ 10,  20,  30,  40,  50,  60,  70,  80,  90, 100, 110, 120],\n",
       "       [ 11,  22,  33,  44,  55,  66,  77,  88,  99, 110, 121, 132],\n",
       "       [ 12,  24,  36,  48,  60,  72,  84,  96, 108, 120, 132, 144]])"
      ]
     },
     "execution_count": 289,
     "metadata": {},
     "output_type": "execute_result"
    }
   ],
   "source": [
    "w1 * w2"
   ]
  },
  {
   "cell_type": "markdown",
   "id": "4f6e3192",
   "metadata": {},
   "source": [
    "## Vectorizing loops\n",
    "\n",
    "Learn to recognise how to convert loops into vectorized `numpy` operations and vice versa."
   ]
  },
  {
   "cell_type": "markdown",
   "id": "8025a751",
   "metadata": {},
   "source": [
    "### Universal functions"
   ]
  },
  {
   "cell_type": "code",
   "execution_count": 292,
   "id": "6b9cf694",
   "metadata": {},
   "outputs": [
    {
     "data": {
      "text/plain": [
       "array([[1],\n",
       "       [2],\n",
       "       [3],\n",
       "       [4]])"
      ]
     },
     "execution_count": 292,
     "metadata": {},
     "output_type": "execute_result"
    }
   ],
   "source": [
    "x"
   ]
  },
  {
   "cell_type": "code",
   "execution_count": 291,
   "id": "abcc4ea8",
   "metadata": {},
   "outputs": [
    {
     "data": {
      "text/plain": [
       "array([[ 1],\n",
       "       [ 4],\n",
       "       [ 9],\n",
       "       [16]])"
      ]
     },
     "execution_count": 291,
     "metadata": {},
     "output_type": "execute_result"
    }
   ],
   "source": [
    "m, n = x.shape\n",
    "s = x.copy()\n",
    "for i in range(m):\n",
    "    s[i] = x[i]**2\n",
    "s"
   ]
  },
  {
   "cell_type": "markdown",
   "id": "2be3ccf1",
   "metadata": {},
   "source": [
    "Can just be written as"
   ]
  },
  {
   "cell_type": "code",
   "execution_count": 190,
   "id": "14d11847",
   "metadata": {},
   "outputs": [
    {
     "data": {
      "text/plain": [
       "array([[ 1],\n",
       "       [ 4],\n",
       "       [ 9],\n",
       "       [16]])"
      ]
     },
     "execution_count": 190,
     "metadata": {},
     "output_type": "execute_result"
    }
   ],
   "source": [
    "s = x**2\n",
    "s"
   ]
  },
  {
   "cell_type": "markdown",
   "id": "2861b158",
   "metadata": {},
   "source": [
    "### Scalar product"
   ]
  },
  {
   "cell_type": "code",
   "execution_count": 294,
   "id": "9132727c",
   "metadata": {},
   "outputs": [
    {
     "data": {
      "text/plain": [
       "array([[1],\n",
       "       [2],\n",
       "       [3],\n",
       "       [4]])"
      ]
     },
     "execution_count": 294,
     "metadata": {},
     "output_type": "execute_result"
    }
   ],
   "source": [
    "x"
   ]
  },
  {
   "cell_type": "code",
   "execution_count": 293,
   "id": "56773251",
   "metadata": {},
   "outputs": [
    {
     "data": {
      "text/plain": [
       "array([[4],\n",
       "       [3],\n",
       "       [2],\n",
       "       [1]])"
      ]
     },
     "execution_count": 293,
     "metadata": {},
     "output_type": "execute_result"
    }
   ],
   "source": [
    "y"
   ]
  },
  {
   "cell_type": "markdown",
   "id": "3d448c5c",
   "metadata": {},
   "source": [
    "Vectorized form"
   ]
  },
  {
   "cell_type": "code",
   "execution_count": 299,
   "id": "e904bb74",
   "metadata": {},
   "outputs": [
    {
     "data": {
      "text/plain": [
       "array([[20]])"
      ]
     },
     "execution_count": 299,
     "metadata": {},
     "output_type": "execute_result"
    }
   ],
   "source": [
    "x.T @ y"
   ]
  },
  {
   "cell_type": "markdown",
   "id": "5fcaf792",
   "metadata": {},
   "source": [
    "Unrolled version"
   ]
  },
  {
   "cell_type": "code",
   "execution_count": 298,
   "id": "fe493368",
   "metadata": {},
   "outputs": [
    {
     "data": {
      "text/plain": [
       "array([20])"
      ]
     },
     "execution_count": 298,
     "metadata": {},
     "output_type": "execute_result"
    }
   ],
   "source": [
    "s = 0\n",
    "for i in range(m):\n",
    "     s += x[i] * y[i]\n",
    "s"
   ]
  },
  {
   "cell_type": "markdown",
   "id": "500e1592",
   "metadata": {},
   "source": [
    "### Matrix vector proudct"
   ]
  },
  {
   "cell_type": "code",
   "execution_count": 303,
   "id": "ce6b6f40",
   "metadata": {},
   "outputs": [
    {
     "data": {
      "text/plain": [
       "array([[ 1,  2,  3,  4],\n",
       "       [ 5,  6,  7,  8],\n",
       "       [ 9, 10, 11, 12]])"
      ]
     },
     "execution_count": 303,
     "metadata": {},
     "output_type": "execute_result"
    }
   ],
   "source": [
    "A"
   ]
  },
  {
   "cell_type": "code",
   "execution_count": 304,
   "id": "c695a272",
   "metadata": {},
   "outputs": [
    {
     "data": {
      "text/plain": [
       "array([[1],\n",
       "       [2],\n",
       "       [3],\n",
       "       [4]])"
      ]
     },
     "execution_count": 304,
     "metadata": {},
     "output_type": "execute_result"
    }
   ],
   "source": [
    "x"
   ]
  },
  {
   "cell_type": "markdown",
   "id": "5db4c9c2",
   "metadata": {},
   "source": [
    "Vectroized form"
   ]
  },
  {
   "cell_type": "code",
   "execution_count": 300,
   "id": "f2c3218c",
   "metadata": {},
   "outputs": [
    {
     "data": {
      "text/plain": [
       "array([[ 30],\n",
       "       [ 70],\n",
       "       [110]])"
      ]
     },
     "execution_count": 300,
     "metadata": {},
     "output_type": "execute_result"
    }
   ],
   "source": [
    "A @ x"
   ]
  },
  {
   "cell_type": "markdown",
   "id": "4d4df22b",
   "metadata": {},
   "source": [
    "Unrolled version"
   ]
  },
  {
   "cell_type": "code",
   "execution_count": 310,
   "id": "a77c5338",
   "metadata": {},
   "outputs": [
    {
     "data": {
      "text/plain": [
       "array([[ 30.],\n",
       "       [ 70.],\n",
       "       [110.]])"
      ]
     },
     "execution_count": 310,
     "metadata": {},
     "output_type": "execute_result"
    }
   ],
   "source": [
    "s = np.zeros(A.shape[0]).reshape(-1, 1)\n",
    "m, n = A.shape\n",
    "for i in range(m):\n",
    "    for j in range(n):\n",
    "        s[i] += A[i, j] * x[j]\n",
    "s"
   ]
  },
  {
   "cell_type": "markdown",
   "id": "b59b3357",
   "metadata": {},
   "source": [
    "### Solving a set of linear equations\n",
    "\n",
    "See example 3 at https://people.duke.edu/~ccc14/sta-663-2018/notebooks/S03_Numpy_Annotated.html on vectorizing a set of linear equations."
   ]
  },
  {
   "cell_type": "code",
   "execution_count": null,
   "id": "7d9eb27b",
   "metadata": {},
   "outputs": [],
   "source": []
  }
 ],
 "metadata": {
  "kernelspec": {
   "display_name": "Python 3 (ipykernel)",
   "language": "python",
   "name": "python3"
  },
  "language_info": {
   "codemirror_mode": {
    "name": "ipython",
    "version": 3
   },
   "file_extension": ".py",
   "mimetype": "text/x-python",
   "name": "python",
   "nbconvert_exporter": "python",
   "pygments_lexer": "ipython3",
   "version": "3.10.6"
  },
  "toc": {
   "base_numbering": 1,
   "nav_menu": {},
   "number_sections": true,
   "sideBar": true,
   "skip_h1_title": false,
   "title_cell": "Table of Contents",
   "title_sidebar": "Contents",
   "toc_cell": false,
   "toc_position": {},
   "toc_section_display": true,
   "toc_window_display": false
  }
 },
 "nbformat": 4,
 "nbformat_minor": 5
}
