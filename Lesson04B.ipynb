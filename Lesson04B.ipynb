{
 "cells": [
  {
   "cell_type": "markdown",
   "id": "a03c24d5-2d4e-4822-9ae2-2d65e55f6903",
   "metadata": {},
   "source": [
    "# Tidy data frames\n",
    "\n",
    "A **tidy** data frame is one where\n",
    "\n",
    "- Every row is an observation\n",
    "- Every column is a feature\n",
    "- Every cell has a single value\n",
    "\n",
    "Working with tidy data frames makes downstream analysis much easier."
   ]
  },
  {
   "cell_type": "code",
   "execution_count": null,
   "id": "ab890937-2647-457b-aad7-58a63f3381af",
   "metadata": {
    "tags": []
   },
   "outputs": [],
   "source": [
    "import numpy as np\n",
    "import pandas as pd"
   ]
  },
  {
   "cell_type": "markdown",
   "id": "7d711da4-c5c2-4c12-bfa3-2e4edb0d4017",
   "metadata": {},
   "source": [
    "## Fix: More than one entry per cell."
   ]
  },
  {
   "cell_type": "code",
   "execution_count": null,
   "id": "f6628a85-944d-4fe7-b85a-4cfc760682a5",
   "metadata": {
    "tags": []
   },
   "outputs": [],
   "source": [
    "df = pd.DataFrame(dict(a=[1,2,3], b=[(1,2),(2,3),(4,5)], c=['a-1-A', 'b-2-B', 'c-3-C']))\n",
    "df"
   ]
  },
  {
   "cell_type": "code",
   "execution_count": null,
   "id": "e48e69cf-3ee8-4f4d-bb46-20005f185b3e",
   "metadata": {
    "tags": []
   },
   "outputs": [],
   "source": [
    "df1 = df.copy()\n",
    "df1['c'] = df1['c'].str.split('-')\n",
    "df1"
   ]
  },
  {
   "cell_type": "code",
   "execution_count": null,
   "id": "9459ac92-2f58-48ab-a187-45afe8ad7793",
   "metadata": {
    "tags": []
   },
   "outputs": [],
   "source": [
    "df2 = df1.explode(column='b').explode(column='c')\n",
    "df2"
   ]
  },
  {
   "cell_type": "code",
   "execution_count": null,
   "id": "810b168a-064c-435c-8ba4-1af2ce0cf7ba",
   "metadata": {
    "tags": []
   },
   "outputs": [],
   "source": [
    "df2.reset_index()"
   ]
  },
  {
   "cell_type": "markdown",
   "id": "9c4c4528-69f9-4b66-a297-1c38efed21e1",
   "metadata": {
    "tags": []
   },
   "source": [
    "## Fix: Multiple columns for one feature"
   ]
  },
  {
   "cell_type": "code",
   "execution_count": null,
   "id": "407ceb11-c742-4a1c-b2e7-928322244b47",
   "metadata": {
    "tags": []
   },
   "outputs": [],
   "source": [
    "df = pd.DataFrame(dict(pid=list('abc'), gene1=[1,2,3], gene2=[4,5,6], gene3=[7,None,None]))\n",
    "df"
   ]
  },
  {
   "cell_type": "code",
   "execution_count": null,
   "id": "02bfbbb4-e667-4ed4-b981-dfa83432477c",
   "metadata": {
    "tags": []
   },
   "outputs": [],
   "source": [
    "pd.melt(df, id_vars=['pid'])"
   ]
  },
  {
   "cell_type": "code",
   "execution_count": null,
   "id": "b67309e8-907a-4d1d-8ac4-2a93f0c3fa36",
   "metadata": {
    "tags": []
   },
   "outputs": [],
   "source": [
    "df1 = pd.melt(df, \n",
    "              id_vars=['pid'], \n",
    "              var_name='gene', \n",
    "              value_name='expression')\n",
    "df1"
   ]
  },
  {
   "cell_type": "markdown",
   "id": "42dfc52b-9afa-4d7b-8dc4-0abd89e9d80d",
   "metadata": {},
   "source": [
    "We often use `melt` to make groupby summaries or facet plots."
   ]
  },
  {
   "cell_type": "code",
   "execution_count": null,
   "id": "74d1918f-705a-4ca1-bc3e-065383282be8",
   "metadata": {
    "tags": []
   },
   "outputs": [],
   "source": [
    "(\n",
    "    df1.\n",
    "    drop('pid', axis=1).\n",
    "    groupby(['gene']).\n",
    "    agg(['count', 'mean'])\n",
    ")"
   ]
  },
  {
   "cell_type": "markdown",
   "id": "fcfbfe00-e13b-40d8-b68a-14494575c106",
   "metadata": {},
   "source": [
    "## Fix: Multiple rows for one observation\n",
    "\n",
    "Pivot and pivot tabel"
   ]
  },
  {
   "cell_type": "code",
   "execution_count": null,
   "id": "b4d7e3e4-82b3-478f-8f0a-8fb7e13e7cda",
   "metadata": {
    "tags": []
   },
   "outputs": [],
   "source": [
    "df1"
   ]
  },
  {
   "cell_type": "markdown",
   "id": "42083992-6c9d-48b6-acac-9579e645d68c",
   "metadata": {},
   "source": [
    "`pivot` behaves like the inverse of `melt`."
   ]
  },
  {
   "cell_type": "code",
   "execution_count": null,
   "id": "922d9ce3-1e78-4c19-aeb7-7c7c672b9c8f",
   "metadata": {
    "tags": []
   },
   "outputs": [],
   "source": [
    "df1.pivot(index='pid', columns='gene', values='expression')"
   ]
  },
  {
   "cell_type": "markdown",
   "id": "4025a0e8-92f7-4b77-8f27-a0b1a8ef5997",
   "metadata": {},
   "source": [
    "`pivot_table` pivots and aggregates."
   ]
  },
  {
   "cell_type": "code",
   "execution_count": null,
   "id": "cdba9560-bff1-4092-9dc5-5247ee7e4295",
   "metadata": {
    "tags": []
   },
   "outputs": [],
   "source": [
    "df2 = pd.concat([df1, df1])\n",
    "df2"
   ]
  },
  {
   "cell_type": "code",
   "execution_count": null,
   "id": "af41d682-98a9-4bee-ae04-6d4da0e1b32c",
   "metadata": {
    "tags": []
   },
   "outputs": [],
   "source": [
    "df2.pivot_table(index='pid', values='expression', columns='gene', aggfunc=['mean', 'count'])"
   ]
  },
  {
   "cell_type": "markdown",
   "id": "af48f761-af8b-43ec-a122-dc3ec5637676",
   "metadata": {},
   "source": [
    "## Combining data frames\n",
    "\n",
    "A tidy data frame is singluar. So we often have to combine them. We have already seen three ways to do so:\n",
    "\n",
    "- `concat`\n",
    "- `merge`\n",
    "- `join`"
   ]
  },
  {
   "cell_type": "markdown",
   "id": "7922c484-5598-44a5-9909-bc2c48e87c6a",
   "metadata": {},
   "source": [
    "Run `pip install faker` in terminal first to install package."
   ]
  },
  {
   "cell_type": "code",
   "execution_count": null,
   "id": "21f2364d-3bd1-427f-b08e-dd2e857f934b",
   "metadata": {},
   "outputs": [],
   "source": [
    "from faker import Faker\n",
    "fake = Faker()\n",
    "fake.seed_instance(1234)"
   ]
  },
  {
   "cell_type": "markdown",
   "id": "2ab7b17a-f270-43a1-8fac-a74e06c4ee67",
   "metadata": {},
   "source": [
    "#### Combine DataFrames with same strcuture"
   ]
  },
  {
   "cell_type": "code",
   "execution_count": null,
   "id": "971cca55-4349-46c2-807c-fe431c006a67",
   "metadata": {
    "tags": []
   },
   "outputs": [],
   "source": [
    "cols = ['ssn', 'name', 'email', 'country', 'state', 'county', 'age', 'sex']\n",
    "data = []\n",
    "for i in range(10):\n",
    "    age = np.random.choice(range(18, 100))\n",
    "    sex = np.random.choice(['M', 'F'])\n",
    "    person = [fake.ssn(), fake.name(), fake.email(), fake.country(), fake.state(), fake.job(), age, sex]\n",
    "    data.append(person)\n",
    "df_employee1 = pd.DataFrame(data, columns=cols)\n",
    "df_employee1"
   ]
  },
  {
   "cell_type": "code",
   "execution_count": null,
   "id": "4397d065-04bd-4765-b0a6-9b3e628ccb52",
   "metadata": {
    "tags": []
   },
   "outputs": [],
   "source": [
    "cols = ['ssn',  'email', 'name', 'country', 'state', 'county', 'age', 'sex']\n",
    "data = []\n",
    "for i in range(10):\n",
    "    age = np.random.choice(range(18, 100))\n",
    "    sex = np.random.choice(['M', 'F'])\n",
    "    person = [fake.ssn(), fake.email(), fake.name(), fake.country(), fake.state(), fake.job(), age, sex]\n",
    "    data.append(person)\n",
    "df_employee2 = pd.DataFrame(data, columns=cols)\n",
    "df_employee2"
   ]
  },
  {
   "cell_type": "markdown",
   "id": "00409a3b-fc89-4b8b-acd1-f38240e93dff",
   "metadata": {},
   "source": [
    "See what happens to name and email columns."
   ]
  },
  {
   "cell_type": "code",
   "execution_count": null,
   "id": "db7ae66f-104a-416d-af95-3a7414cbf26c",
   "metadata": {
    "tags": []
   },
   "outputs": [],
   "source": [
    "df_employees = pd.concat([df_employee1, df_employee2])"
   ]
  },
  {
   "cell_type": "code",
   "execution_count": null,
   "id": "4792f579-aed1-40f2-bff0-40520123b4ed",
   "metadata": {
    "tags": []
   },
   "outputs": [],
   "source": [
    "df_employees"
   ]
  },
  {
   "cell_type": "markdown",
   "id": "b3ea2766-d953-4b49-a5c2-97c6be1e7c1c",
   "metadata": {},
   "source": [
    "You can reset the row labels if you want them to be unique."
   ]
  },
  {
   "cell_type": "code",
   "execution_count": null,
   "id": "2eb29123-c05d-4fb5-94e0-52290a3ff740",
   "metadata": {
    "tags": []
   },
   "outputs": [],
   "source": [
    "df_employees.reset_index(drop=True)"
   ]
  },
  {
   "cell_type": "markdown",
   "id": "e8b6db09-3924-406e-82a4-1cad68575718",
   "metadata": {},
   "source": [
    "#### Merging differnt information "
   ]
  },
  {
   "cell_type": "code",
   "execution_count": null,
   "id": "235379ca-dc54-40bf-b6d9-7a73bc9d0fa6",
   "metadata": {
    "tags": []
   },
   "outputs": [],
   "source": [
    "cols = ['ssn', 'wt', 'ht', 'rhr']\n",
    "ssns = df_employees.ssn.tolist() + [fake.ssn() for i in range(10)]\n",
    "n = 10\n",
    "ssn_sample = np.random.choice(ssns, n, replace=False)\n",
    "wt = np.random.randint(45, 200, n)\n",
    "ht = np.random.randint(140, 200, n)\n",
    "rhr = np.random.randint(40, 120, n)\n",
    "df_fitness = pd.DataFrame(dict(ssn = ssn_sample, weight = wt, height = ht, hr = rhr))"
   ]
  },
  {
   "cell_type": "code",
   "execution_count": null,
   "id": "fac2b0b8-7ee7-4dc1-9a1e-b92c85adae2a",
   "metadata": {
    "tags": []
   },
   "outputs": [],
   "source": [
    "df_fitness"
   ]
  },
  {
   "cell_type": "markdown",
   "id": "61079e90-8c48-44ea-88d9-bc9227e5ecd0",
   "metadata": {},
   "source": [
    "When row can be uniquely identified by one or more columns"
   ]
  },
  {
   "cell_type": "code",
   "execution_count": null,
   "id": "652ae3e3-41db-478a-aa5e-4a8bf5224c50",
   "metadata": {
    "tags": []
   },
   "outputs": [],
   "source": [
    "df_employees.merge(df_fitness, on='ssn')"
   ]
  },
  {
   "cell_type": "code",
   "execution_count": null,
   "id": "b8452f6c-aca8-4303-b2b2-102d47b706ed",
   "metadata": {
    "tags": []
   },
   "outputs": [],
   "source": [
    "df_employees.merge(df_fitness, on='ssn', how='left')"
   ]
  },
  {
   "cell_type": "code",
   "execution_count": null,
   "id": "f28fee7e-24fe-42bc-a1f6-cf81bfea7e8b",
   "metadata": {
    "tags": []
   },
   "outputs": [],
   "source": [
    "df_employees.merge(df_fitness, on='ssn', how='right')"
   ]
  },
  {
   "cell_type": "markdown",
   "id": "5a3190cf-de0e-4a4b-afa7-c35c1f71d6cf",
   "metadata": {},
   "source": [
    "The default is to match on *all* common columns."
   ]
  },
  {
   "cell_type": "code",
   "execution_count": null,
   "id": "887c609d-ff92-45e1-a8d6-6d7ac2b65d2a",
   "metadata": {
    "tags": []
   },
   "outputs": [],
   "source": [
    "df_employees.merge(df_fitness)"
   ]
  },
  {
   "cell_type": "markdown",
   "id": "facacc59-c60b-499f-9389-86e5c7984ef9",
   "metadata": {},
   "source": [
    "When the dataframes share the same index (row labels)"
   ]
  },
  {
   "cell_type": "code",
   "execution_count": null,
   "id": "decab288-ccb0-469a-972f-0b464dcb7669",
   "metadata": {
    "tags": []
   },
   "outputs": [],
   "source": [
    "df_employees_new = df_employees.set_index('ssn', drop=True)\n",
    "df_employees_new.head()"
   ]
  },
  {
   "cell_type": "code",
   "execution_count": null,
   "id": "a971a040-df5f-4dd9-8792-52f547682fd2",
   "metadata": {
    "tags": []
   },
   "outputs": [],
   "source": [
    "df_fitness_new = df_fitness.set_index('ssn', drop=True)"
   ]
  },
  {
   "cell_type": "markdown",
   "id": "6d2ebbde-4245-49fa-a835-27a41b929fed",
   "metadata": {},
   "source": [
    "With the `join` method, you can join multiple DataFrames at the same time. The default is a left join."
   ]
  },
  {
   "cell_type": "code",
   "execution_count": null,
   "id": "8b4878fc-dd52-4760-9e69-b46faeef7334",
   "metadata": {
    "tags": []
   },
   "outputs": [],
   "source": [
    "df_employees_new.join([df_fitness_new], how='inner')"
   ]
  },
  {
   "cell_type": "code",
   "execution_count": null,
   "id": "1bbe10a9-69d9-4ef2-85c1-1e381f90974b",
   "metadata": {},
   "outputs": [],
   "source": [
    "df2.head()"
   ]
  },
  {
   "cell_type": "code",
   "execution_count": null,
   "id": "01d484cc-b751-4d56-948b-48a134dc7ddf",
   "metadata": {
    "tags": []
   },
   "outputs": [],
   "source": [
    "df2.set_index('pid').head()"
   ]
  },
  {
   "cell_type": "code",
   "execution_count": null,
   "id": "5df936ea-d9b7-4fba-8f86-0019829a2490",
   "metadata": {},
   "outputs": [],
   "source": []
  }
 ],
 "metadata": {
  "kernelspec": {
   "display_name": "Python 3 (ipykernel)",
   "language": "python",
   "name": "python3"
  },
  "language_info": {
   "codemirror_mode": {
    "name": "ipython",
    "version": 3
   },
   "file_extension": ".py",
   "mimetype": "text/x-python",
   "name": "python",
   "nbconvert_exporter": "python",
   "pygments_lexer": "ipython3",
   "version": "3.10.6"
  }
 },
 "nbformat": 4,
 "nbformat_minor": 5
}
