{
 "cells": [
  {
   "cell_type": "markdown",
   "id": "7a5c558b-68e8-41d2-bd3d-f6b8909e970b",
   "metadata": {},
   "source": [
    "# Animation"
   ]
  },
  {
   "cell_type": "markdown",
   "id": "21f0de1f-b1ee-408d-ac26-e2894d188eba",
   "metadata": {},
   "source": [
    "## Matplotlib animation\n",
    "\n",
    "https://matplotlib.org/stable/api/animation_api.html"
   ]
  },
  {
   "cell_type": "code",
   "execution_count": null,
   "id": "226e6580-417c-4d95-a12d-e6a32200b2dc",
   "metadata": {},
   "outputs": [],
   "source": []
  }
 ],
 "metadata": {
  "kernelspec": {
   "display_name": "Python 3 (ipykernel)",
   "language": "python",
   "name": "python3"
  },
  "language_info": {
   "codemirror_mode": {
    "name": "ipython",
    "version": 3
   },
   "file_extension": ".py",
   "mimetype": "text/x-python",
   "name": "python",
   "nbconvert_exporter": "python",
   "pygments_lexer": "ipython3",
   "version": "3.10.6"
  }
 },
 "nbformat": 4,
 "nbformat_minor": 5
}
