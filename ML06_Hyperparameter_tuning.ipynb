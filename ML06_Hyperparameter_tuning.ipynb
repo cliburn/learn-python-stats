{
 "cells": [
  {
   "cell_type": "markdown",
   "id": "4d87ba96-e621-4a0e-8945-80ec40541d91",
   "metadata": {},
   "source": [
    "# Hyper-parameter optimization"
   ]
  },
  {
   "cell_type": "markdown",
   "id": "4a20a826-3c20-4fb5-80a1-aa20d31e377e",
   "metadata": {},
   "source": [
    "## Data"
   ]
  },
  {
   "cell_type": "code",
   "execution_count": null,
   "id": "d30c0924-3d0b-4cac-b510-b6e21257e81b",
   "metadata": {},
   "outputs": [],
   "source": [
    "import seaborn as sns"
   ]
  },
  {
   "cell_type": "code",
   "execution_count": null,
   "id": "c848bb97-0f30-42ec-967c-e20b1b54cbd1",
   "metadata": {},
   "outputs": [],
   "source": [
    "penguins = sns.load_dataset('penguins')"
   ]
  },
  {
   "cell_type": "code",
   "execution_count": null,
   "id": "3f42f454-a757-45ba-9728-f79c74284077",
   "metadata": {},
   "outputs": [],
   "source": [
    "penguins = penguins.dropna()"
   ]
  },
  {
   "cell_type": "code",
   "execution_count": null,
   "id": "fa9e1a34-2929-48bf-b49a-0cf821de66e2",
   "metadata": {},
   "outputs": [],
   "source": [
    "features = ['bill_length_mm', 'bill_depth_mm', 'flipper_length_mm', 'body_mass_g']"
   ]
  },
  {
   "cell_type": "code",
   "execution_count": null,
   "id": "bfce6467-b5ea-4c5f-9919-535f50d1d68c",
   "metadata": {},
   "outputs": [],
   "source": [
    "X = penguins[features]\n",
    "y = penguins.species"
   ]
  },
  {
   "cell_type": "code",
   "execution_count": null,
   "id": "741d6c2c-978f-4215-b65a-092e17fc8b9b",
   "metadata": {},
   "outputs": [],
   "source": [
    "from sklearn.model_selection import train_test_split"
   ]
  },
  {
   "cell_type": "code",
   "execution_count": null,
   "id": "f452cf4c-768c-46c5-a28a-e2a73c16b52e",
   "metadata": {},
   "outputs": [],
   "source": [
    "X_train, X_test, y_train, y_test = train_test_split(X, y, test_size=1/3)"
   ]
  },
  {
   "cell_type": "markdown",
   "id": "2197f118-753a-492d-b5ad-440614bbd0c8",
   "metadata": {},
   "source": [
    "## K-nearest neighbors\n",
    "\n",
    "We will tune two hyper-parameters `n_neighbors` and `weights`\n",
    "```\n",
    " |  n_neighbors : int, default=5\n",
    " |      Number of neighbors to use by default for :meth:`kneighbors` queries.\n",
    " |  \n",
    " |  weights : {'uniform', 'distance'}, callable or None, default='uniform'\n",
    " |      Weight function used in prediction.  Possible values:\n",
    " |  \n",
    " |      - 'uniform' : uniform weights.  All points in each neighborhood\n",
    " |        are weighted equally.\n",
    " |      - 'distance' : weight points by the inverse of their distance.\n",
    " |        in this case, closer neighbors of a query point will have a\n",
    " |        greater influence than neighbors which are further away.\n",
    " |      - [callable] : a user-defined function which accepts an\n",
    " |        array of distances, and returns an array of the same shape\n",
    " |        containing the weights.\n",
    "```"
   ]
  },
  {
   "cell_type": "code",
   "execution_count": null,
   "id": "0b515201-af6f-45e4-9b34-dd76f5a43299",
   "metadata": {},
   "outputs": [],
   "source": [
    "from sklearn.neighbors import KNeighborsClassifier"
   ]
  },
  {
   "cell_type": "code",
   "execution_count": null,
   "id": "6005523a-7a3d-408b-917b-d6da19a72e49",
   "metadata": {},
   "outputs": [],
   "source": [
    "from sklearn.model_selection import GridSearchCV, RandomizedSearchCV"
   ]
  },
  {
   "cell_type": "code",
   "execution_count": null,
   "id": "a4745620-3f9d-443f-8e70-46d8d87c3cb7",
   "metadata": {},
   "outputs": [],
   "source": [
    "from sklearn.preprocessing import StandardScaler"
   ]
  },
  {
   "cell_type": "code",
   "execution_count": null,
   "id": "58957ffd-9ba5-4e91-b947-164fd6fc37a9",
   "metadata": {},
   "outputs": [],
   "source": [
    "from sklearn.pipeline import make_pipeline"
   ]
  },
  {
   "cell_type": "code",
   "execution_count": null,
   "id": "b6d22ea9-d13b-435a-9893-5919dd0372ef",
   "metadata": {},
   "outputs": [],
   "source": [
    "pipe = make_pipeline(\n",
    "    StandardScaler(),\n",
    "    KNeighborsClassifier(),\n",
    ")"
   ]
  },
  {
   "cell_type": "code",
   "execution_count": null,
   "id": "12152cc1-3268-48c5-b449-605dd910c865",
   "metadata": {},
   "outputs": [],
   "source": [
    "pipe.named_steps"
   ]
  },
  {
   "cell_type": "code",
   "execution_count": null,
   "id": "69f16a54-d7a6-490e-a8da-5d40cef78026",
   "metadata": {},
   "outputs": [],
   "source": [
    "parameters = {\n",
    "    'kneighborsclassifier__weights':('uniform', 'distance'), \n",
    "    'kneighborsclassifier__n_neighbors':[1,3,5,7,9]\n",
    "}\n",
    "clf = GridSearchCV(pipe, parameters)\n",
    "clf.fit(X_train, y_train)\n",
    "clf.best_params_"
   ]
  },
  {
   "cell_type": "code",
   "execution_count": null,
   "id": "cf7d3466-44af-40f3-8d83-bc113e311908",
   "metadata": {},
   "outputs": [],
   "source": [
    "clf.score(X_test, y_test)"
   ]
  },
  {
   "cell_type": "code",
   "execution_count": null,
   "id": "08729597-fcaa-4c7f-b82f-d867f3c9e7f7",
   "metadata": {},
   "outputs": [],
   "source": []
  }
 ],
 "metadata": {
  "kernelspec": {
   "display_name": "py310",
   "language": "python",
   "name": "py310"
  },
  "language_info": {
   "codemirror_mode": {
    "name": "ipython",
    "version": 3
   },
   "file_extension": ".py",
   "mimetype": "text/x-python",
   "name": "python",
   "nbconvert_exporter": "python",
   "pygments_lexer": "ipython3",
   "version": "3.10.12"
  }
 },
 "nbformat": 4,
 "nbformat_minor": 5
}
