{
 "cells": [
  {
   "cell_type": "markdown",
   "id": "b267b2ee-1d85-4dfd-8de1-737e4f1a6b31",
   "metadata": {},
   "source": [
    "# ML families"
   ]
  },
  {
   "cell_type": "markdown",
   "id": "fc5a54aa-f4bb-4f66-a990-f5935feed94a",
   "metadata": {},
   "source": [
    "## Data"
   ]
  },
  {
   "cell_type": "code",
   "execution_count": null,
   "id": "cf6290cc-b9d9-4258-9d0d-fc7e01f1fd4e",
   "metadata": {},
   "outputs": [],
   "source": [
    "import seaborn as sns"
   ]
  },
  {
   "cell_type": "code",
   "execution_count": null,
   "id": "d79d1093-9de4-4494-a73f-380284bce7d2",
   "metadata": {},
   "outputs": [],
   "source": [
    "sns.get_dataset_names()"
   ]
  },
  {
   "cell_type": "code",
   "execution_count": null,
   "id": "9df43217-8585-40d2-959b-6f9f8382a5f9",
   "metadata": {},
   "outputs": [],
   "source": [
    "penguins = sns.load_dataset('penguins')"
   ]
  },
  {
   "cell_type": "code",
   "execution_count": null,
   "id": "eb4b81f6-a6ff-42b9-bace-ff3f0f95bcad",
   "metadata": {},
   "outputs": [],
   "source": [
    "penguins.columns"
   ]
  },
  {
   "cell_type": "code",
   "execution_count": null,
   "id": "fbab67d1-1806-4453-b597-79635fe742f5",
   "metadata": {},
   "outputs": [],
   "source": [
    "penguins.shape"
   ]
  },
  {
   "cell_type": "code",
   "execution_count": null,
   "id": "067f3eee-d8fa-40b2-8741-abe9567ac853",
   "metadata": {},
   "outputs": [],
   "source": [
    "penguins.head(5)"
   ]
  },
  {
   "cell_type": "code",
   "execution_count": null,
   "id": "362943af-23fe-4ab9-9688-770934d555d9",
   "metadata": {},
   "outputs": [],
   "source": [
    "features = ['bill_length_mm', 'bill_depth_mm', 'flipper_length_mm', 'body_mass_g']"
   ]
  },
  {
   "cell_type": "code",
   "execution_count": null,
   "id": "2989d64d-5ee5-4d12-9534-2dcaa41d04e7",
   "metadata": {},
   "outputs": [],
   "source": [
    "g = sns.pairplot(penguins, hue='species')"
   ]
  },
  {
   "cell_type": "markdown",
   "id": "598f63e4-08b2-4d5a-bd13-5f24d1c7d372",
   "metadata": {},
   "source": [
    "### Missing data\n",
    "\n",
    "Note that there is missing data which we will need to handle somehow. There are 3 options\n",
    "\n",
    "- Drop rows with msising values\n",
    "- Impute (guess) missing values\n",
    "- Use a ML algorithm that can work with missing values"
   ]
  },
  {
   "cell_type": "code",
   "execution_count": null,
   "id": "76d128ea-f4a7-43fd-a76d-a1e8353d0129",
   "metadata": {},
   "outputs": [],
   "source": [
    "X = penguins[features]\n",
    "X.head(5)"
   ]
  },
  {
   "cell_type": "code",
   "execution_count": null,
   "id": "7e2810b0-8f5b-4d38-b15f-3cc8b5987d20",
   "metadata": {},
   "outputs": [],
   "source": [
    "y = penguins.species"
   ]
  },
  {
   "cell_type": "code",
   "execution_count": null,
   "id": "5f230296-cbd5-4a97-acc9-a04eacc82a54",
   "metadata": {},
   "outputs": [],
   "source": [
    "from sklearn.model_selection import train_test_split"
   ]
  },
  {
   "cell_type": "code",
   "execution_count": null,
   "id": "47a90866-c6ec-42b6-8dc2-a1c79d47003d",
   "metadata": {},
   "outputs": [],
   "source": [
    "X_train, X_test, y_train, y_test = train_test_split(X, y, test_size=1/3)"
   ]
  },
  {
   "cell_type": "code",
   "execution_count": null,
   "id": "a2e95e10-d40d-48fb-8f56-5f78fab79eb3",
   "metadata": {},
   "outputs": [],
   "source": [
    "from sklearn.preprocessing import StandardScaler"
   ]
  },
  {
   "cell_type": "code",
   "execution_count": null,
   "id": "e8cc1582-cdf6-404d-aaab-85ec1c03726a",
   "metadata": {},
   "outputs": [],
   "source": [
    "from sklearn.impute import SimpleImputer"
   ]
  },
  {
   "cell_type": "markdown",
   "id": "6f0bdf5c-8e37-47c3-9217-20e4a7d54258",
   "metadata": {},
   "source": [
    "## K-nearest neighbors\n",
    "\n",
    "Family = Nearest neighbor"
   ]
  },
  {
   "cell_type": "code",
   "execution_count": null,
   "id": "a100757c-0358-4ce0-9dc9-82fdf9a0bd67",
   "metadata": {},
   "outputs": [],
   "source": [
    "from sklearn.pipeline import Pipeline"
   ]
  },
  {
   "cell_type": "code",
   "execution_count": null,
   "id": "1465768d-6d99-45e9-90ed-5be666c365c3",
   "metadata": {},
   "outputs": [],
   "source": [
    "from sklearn.neighbors import KNeighborsClassifier"
   ]
  },
  {
   "cell_type": "code",
   "execution_count": null,
   "id": "a2876695-2a04-4a44-8225-ff8aefb4ffab",
   "metadata": {},
   "outputs": [],
   "source": [
    "pipe_knn = Pipeline([\n",
    "    ('scaler', StandardScaler()),\n",
    "    ('imputer', SimpleImputer()),\n",
    "    ('knn', KNeighborsClassifier()),\n",
    "])"
   ]
  },
  {
   "cell_type": "code",
   "execution_count": null,
   "id": "6ddc43d7-10e4-42ae-a90e-74c672bfe838",
   "metadata": {},
   "outputs": [],
   "source": [
    "pipe_knn.fit(X_train, y_train)\n",
    "pipe_knn.score(X_test, y_test)"
   ]
  },
  {
   "cell_type": "markdown",
   "id": "10135822-84cc-415a-945a-770e7a89a5ac",
   "metadata": {},
   "source": [
    "## Multinomial logistic regression\n",
    "\n",
    "Family = Linear models"
   ]
  },
  {
   "cell_type": "code",
   "execution_count": null,
   "id": "dd7beadf-1c06-414d-93d9-7be0edfb2f8a",
   "metadata": {},
   "outputs": [],
   "source": [
    "from sklearn.linear_model import LogisticRegression"
   ]
  },
  {
   "cell_type": "code",
   "execution_count": null,
   "id": "98b837c3-45c4-4594-b098-720be0b4b4d7",
   "metadata": {},
   "outputs": [],
   "source": [
    "pipe_lm = Pipeline([\n",
    "    ('scaler', StandardScaler()),\n",
    "    ('imputer', SimpleImputer()),\n",
    "    ('lr', LogisticRegression()),\n",
    "])"
   ]
  },
  {
   "cell_type": "code",
   "execution_count": null,
   "id": "e5d95525-1c85-4a67-a9ae-c86bd9b448b2",
   "metadata": {},
   "outputs": [],
   "source": [
    "pipe_lm.fit(X_train, y_train)\n",
    "pipe_lm.score(X_test, y_test)"
   ]
  },
  {
   "cell_type": "markdown",
   "id": "c557d378-0627-4300-8368-68be322467e3",
   "metadata": {},
   "source": [
    "## Support vector clasifier\n",
    "\n",
    "Family = Support Vector Machines"
   ]
  },
  {
   "cell_type": "code",
   "execution_count": null,
   "id": "014ee4d7-082c-447c-85cd-43704c7f8c80",
   "metadata": {},
   "outputs": [],
   "source": [
    "from sklearn.svm import SVC"
   ]
  },
  {
   "cell_type": "code",
   "execution_count": null,
   "id": "7f98d387-f5c3-48ea-9044-69b44bc0f40c",
   "metadata": {},
   "outputs": [],
   "source": [
    "pipe_svm = Pipeline([\n",
    "    ('scaler', StandardScaler()),\n",
    "    ('imputer', SimpleImputer()),\n",
    "    ('svc', SVC()),\n",
    "])"
   ]
  },
  {
   "cell_type": "code",
   "execution_count": null,
   "id": "8557b307-68ed-4fb5-8829-8cf42826a397",
   "metadata": {},
   "outputs": [],
   "source": [
    "pipe_svm.fit(X_train, y_train)\n",
    "pipe_svm.score(X_test, y_test)"
   ]
  },
  {
   "cell_type": "markdown",
   "id": "cea42bb0-fed5-49cf-b468-1ac12fd72a95",
   "metadata": {},
   "source": [
    "## Random forest\n",
    "\n",
    "Family = Decision Tree"
   ]
  },
  {
   "cell_type": "code",
   "execution_count": null,
   "id": "2b1a2d8b-16f8-4ec4-a4e0-f4cd9035ed2c",
   "metadata": {},
   "outputs": [],
   "source": [
    "from sklearn.ensemble import RandomForestClassifier"
   ]
  },
  {
   "cell_type": "code",
   "execution_count": null,
   "id": "f61b1382-41c0-4f61-935a-1f212a2c9c70",
   "metadata": {},
   "outputs": [],
   "source": [
    "pipe_tree = Pipeline([\n",
    "    ('scaler', StandardScaler()),\n",
    "    ('imputer', SimpleImputer()),\n",
    "    ('rf', RandomForestClassifier()),\n",
    "])"
   ]
  },
  {
   "cell_type": "code",
   "execution_count": null,
   "id": "d38df004-508e-4557-a43b-a7ced9e49277",
   "metadata": {},
   "outputs": [],
   "source": [
    "pipe_tree.fit(X_train, y_train)\n",
    "pipe_tree.score(X_test, y_test)"
   ]
  },
  {
   "cell_type": "markdown",
   "id": "591c1edb-9c6f-4232-bfe7-6c02dab745eb",
   "metadata": {},
   "source": [
    "### Bonus — ML algorithm that works with missing data\n",
    "\n",
    "This is not a `scikit-learn` model, but most Python ML models follow the same API and can be \"plugged in\".\n",
    "\n",
    "Run `pip install catboost`\n",
    "\n",
    "GitHub: https://github.com/catboost"
   ]
  },
  {
   "cell_type": "code",
   "execution_count": null,
   "id": "e78ececb-8a09-4bd1-9922-39161722af93",
   "metadata": {},
   "outputs": [],
   "source": [
    "from catboost import CatBoostClassifier"
   ]
  },
  {
   "cell_type": "code",
   "execution_count": null,
   "id": "65ce5a7f-b594-4d84-b92e-def971534217",
   "metadata": {},
   "outputs": [],
   "source": [
    "pipe_boost = Pipeline([\n",
    "    ('scaler', StandardScaler()),\n",
    "    ('cat', CatBoostClassifier(verbose=False)),\n",
    "])"
   ]
  },
  {
   "cell_type": "code",
   "execution_count": null,
   "id": "52c477eb-f279-4500-adee-a4b2c4ee84c7",
   "metadata": {},
   "outputs": [],
   "source": [
    "pipe_boost.fit(X_train, y_train)\n",
    "pipe_boost.score(X_test, y_test)"
   ]
  },
  {
   "cell_type": "markdown",
   "id": "7a720b7c-a69e-4e54-99bf-9617ff86c71d",
   "metadata": {},
   "source": [
    "## Perceptron\n",
    "\n",
    "Family = Neural network"
   ]
  },
  {
   "cell_type": "code",
   "execution_count": null,
   "id": "44ada81b-c852-4b1c-9de7-bb33edd81714",
   "metadata": {},
   "outputs": [],
   "source": [
    "from sklearn.neural_network import MLPClassifier"
   ]
  },
  {
   "cell_type": "code",
   "execution_count": null,
   "id": "6069985a-a607-48bd-96bd-c52f1719a690",
   "metadata": {},
   "outputs": [],
   "source": [
    "pipe_nn = Pipeline([\n",
    "    ('scaler', StandardScaler()),\n",
    "    ('imputer', SimpleImputer()),\n",
    "    ('rf', MLPClassifier(max_iter=1000)),\n",
    "])"
   ]
  },
  {
   "cell_type": "code",
   "execution_count": null,
   "id": "7ff90268-8217-4fb8-b2b8-b9c532b2559d",
   "metadata": {},
   "outputs": [],
   "source": [
    "pipe_nn.fit(X_train, y_train)\n",
    "pipe_nn.score(X_test, y_test)"
   ]
  }
 ],
 "metadata": {
  "kernelspec": {
   "display_name": "py310",
   "language": "python",
   "name": "py310"
  },
  "language_info": {
   "codemirror_mode": {
    "name": "ipython",
    "version": 3
   },
   "file_extension": ".py",
   "mimetype": "text/x-python",
   "name": "python",
   "nbconvert_exporter": "python",
   "pygments_lexer": "ipython3",
   "version": "3.10.12"
  }
 },
 "nbformat": 4,
 "nbformat_minor": 5
}
