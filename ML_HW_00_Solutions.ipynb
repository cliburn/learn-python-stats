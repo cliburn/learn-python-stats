{
 "cells": [
  {
   "cell_type": "markdown",
   "id": "6990e4c8-e951-43b9-81fe-82384485b233",
   "metadata": {},
   "source": [
    "# Basic practice with Python and `numpy`"
   ]
  },
  {
   "cell_type": "markdown",
   "id": "4171748f-6c95-42c8-83bc-67d2273a73f1",
   "metadata": {},
   "source": [
    "We will manually construct a confusion matrix and calculate various defined measures.\n",
    "\n",
    "This follows the description of conusion matrix in https://en.wikipedia.org/wiki/Confusion_matrix"
   ]
  },
  {
   "cell_type": "markdown",
   "id": "14bcd7cf-4f49-4be3-a2d0-ca53aad13621",
   "metadata": {},
   "source": [
    "**1**. Get the `Actual Classification` and `Predicted Classification` values from the Wikipedia page into `numpy` arrays called ``y_true` and `y_pred` respectively.\n",
    "\n",
    "y_true should look like this\n",
    "```python\n",
    "array([1, 1, 1, 1, 1, 1, 1, 1, 0, 0, 0, 0])\n",
    "```"
   ]
  },
  {
   "cell_type": "markdown",
   "id": "ccc449cb-c94d-47c7-82ea-b532447c8f20",
   "metadata": {},
   "source": [
    "#### Method 1: Manual construction"
   ]
  },
  {
   "cell_type": "code",
   "execution_count": 1,
   "id": "1547c9f2-c37c-4546-b2a9-9f384f18d3d6",
   "metadata": {},
   "outputs": [],
   "source": [
    "import numpy as np"
   ]
  },
  {
   "cell_type": "code",
   "execution_count": 2,
   "id": "8af68842-ad27-4a52-ae26-496fb8ce5c67",
   "metadata": {},
   "outputs": [],
   "source": [
    "y_true = np.array([1,1,1,1,1,1,1,1,0,0,0,0])\n",
    "y_pred = np.array([0,0,1,1,1,1,1,1,1,0,0,0])"
   ]
  },
  {
   "cell_type": "code",
   "execution_count": 3,
   "id": "47357177-1ab3-4640-81aa-2ea30952a18b",
   "metadata": {},
   "outputs": [
    {
     "data": {
      "text/plain": [
       "array([1, 1, 1, 1, 1, 1, 1, 1, 0, 0, 0, 0])"
      ]
     },
     "execution_count": 3,
     "metadata": {},
     "output_type": "execute_result"
    }
   ],
   "source": [
    "y_true"
   ]
  },
  {
   "cell_type": "code",
   "execution_count": 4,
   "id": "d12e705c-5d5a-4d69-a0c5-bad5502cfd52",
   "metadata": {},
   "outputs": [
    {
     "data": {
      "text/plain": [
       "array([0, 0, 1, 1, 1, 1, 1, 1, 1, 0, 0, 0])"
      ]
     },
     "execution_count": 4,
     "metadata": {},
     "output_type": "execute_result"
    }
   ],
   "source": [
    "y_pred"
   ]
  },
  {
   "cell_type": "markdown",
   "id": "5b08480a-bfa1-4629-9368-8d542cb157de",
   "metadata": {},
   "source": [
    "####  Method 2: Using `pandas` table-scraping"
   ]
  },
  {
   "cell_type": "code",
   "execution_count": 5,
   "id": "606ef08f-065d-465c-9d36-7c9379f23ec5",
   "metadata": {},
   "outputs": [],
   "source": [
    "import pandas as pd"
   ]
  },
  {
   "cell_type": "code",
   "execution_count": 6,
   "id": "8623b034-c40a-4489-b0fa-c2e4a57488b0",
   "metadata": {},
   "outputs": [],
   "source": [
    "tables = pd.read_html('https://en.wikipedia.org/wiki/Confusion_matrix')"
   ]
  },
  {
   "cell_type": "code",
   "execution_count": 7,
   "id": "0425581d-8e7c-4aba-9881-8338698ba9a0",
   "metadata": {},
   "outputs": [],
   "source": [
    "y_true = tables[2].iloc[0, 1:].astype('int').values\n",
    "y_pred = tables[2].iloc[1, 1:].astype('int').values"
   ]
  },
  {
   "cell_type": "code",
   "execution_count": 8,
   "id": "656e3b74-3492-493e-83cb-7c453e863a92",
   "metadata": {},
   "outputs": [
    {
     "data": {
      "text/plain": [
       "array([1, 1, 1, 1, 1, 1, 1, 1, 0, 0, 0, 0])"
      ]
     },
     "execution_count": 8,
     "metadata": {},
     "output_type": "execute_result"
    }
   ],
   "source": [
    "y_true"
   ]
  },
  {
   "cell_type": "code",
   "execution_count": 9,
   "id": "57524e5a-b7d6-4b80-abec-3ad29aab6a6f",
   "metadata": {},
   "outputs": [
    {
     "data": {
      "text/plain": [
       "array([0, 0, 1, 1, 1, 1, 1, 1, 1, 0, 0, 0])"
      ]
     },
     "execution_count": 9,
     "metadata": {},
     "output_type": "execute_result"
    }
   ],
   "source": [
    "y_pred"
   ]
  },
  {
   "cell_type": "markdown",
   "id": "c917a3dc-5b18-4f7f-a3b5-0b2d3c998076",
   "metadata": {},
   "source": [
    "**2**. Construct the 2 $\\times$ 2 confusion matrix from `y_true` and `y_pred` where the rows are the actual classificaiton and the columns are the predicted classificaiton. From Wikipedia, it should look like this:\n",
    "\n",
    "```python\n",
    "array([[6, 2],\n",
    "       [1, 3]])\n",
    "```"
   ]
  },
  {
   "cell_type": "code",
   "execution_count": 10,
   "id": "3b721ef4-6b27-41ba-a950-5f12837a907c",
   "metadata": {},
   "outputs": [],
   "source": [
    "cm = np.zeros((2,2), dtype='int')\n",
    "cm[0,0] = np.sum((y_true == 1) & (y_pred == 1))\n",
    "cm[0,1] = np.sum((y_true == 1) & (y_pred == 0))\n",
    "cm[1,0] = np.sum((y_true == 0) & (y_pred == 1))\n",
    "cm[1,1] = np.sum((y_true == 0) & (y_pred == 0))"
   ]
  },
  {
   "cell_type": "code",
   "execution_count": 11,
   "id": "771d10a8-30a6-4550-b1f0-18ea5e325729",
   "metadata": {},
   "outputs": [
    {
     "data": {
      "text/plain": [
       "array([[6, 2],\n",
       "       [1, 3]])"
      ]
     },
     "execution_count": 11,
     "metadata": {},
     "output_type": "execute_result"
    }
   ],
   "source": [
    "cm"
   ]
  },
  {
   "cell_type": "markdown",
   "id": "58c13bc4-0209-4a29-99ea-a6708fdde7ab",
   "metadata": {},
   "source": [
    "**3**. Write functions to calculate the value of some of the terms in the `Terminology and derivations from a confusion matrix` table on Wikipedia. The funciton should take a $2 \\times 2$ conusion marix defined as in exercise **2** as input. If there are multiple synonmys for the value, just choose one for the function name.\n",
    "\n",
    "Do this for\n",
    "\n",
    "- Type I error\n",
    "- Type II error\n",
    "- sensitivity\n",
    "- specificity\n",
    "- negative predictive value (NPV)\n",
    "- positive predictive value (PPV)\n",
    "- false discovery rate (FDR)\n",
    "- accuracy (ACC)\n",
    "- F1 score\n",
    "- Matthews correlation coefficient (MCC)\n",
    "\n",
    "For example, if `M` is the confusin matrix, then `sensitivity(M)` shoudl return `0.75`.\n"
   ]
  },
  {
   "cell_type": "code",
   "execution_count": 12,
   "id": "d16bd263-b580-413b-80b3-b31c48608b52",
   "metadata": {},
   "outputs": [],
   "source": [
    "def sensitivity(C):\n",
    "    \"\"\"Sensitivity, also  known as recall, hit rate, or true positive rate (TPR)\"\"\"\n",
    "\n",
    "    TP = C[0,0]\n",
    "    FN = C[0,1]\n",
    "    FP = C[1,0]\n",
    "    TN = C[1,1]\n",
    "\n",
    "    return TP/(TP + FN)"
   ]
  },
  {
   "cell_type": "code",
   "execution_count": 13,
   "id": "e1cbf05b-ae6b-4a9e-bc7f-63d0c845d57d",
   "metadata": {},
   "outputs": [
    {
     "data": {
      "text/plain": [
       "0.75"
      ]
     },
     "execution_count": 13,
     "metadata": {},
     "output_type": "execute_result"
    }
   ],
   "source": [
    "sensitivity(cm)"
   ]
  },
  {
   "cell_type": "markdown",
   "id": "ee860bba-27e6-4049-b3c9-6db6621f1895",
   "metadata": {},
   "source": [
    "**4**. Compare the results of your Matthews correlation coefficient (MCC) with the `matthews_corrcoef` function from `scikit-learn`. Do this for all the other terms as wel."
   ]
  },
  {
   "cell_type": "code",
   "execution_count": 14,
   "id": "42f74d7e-7f6b-4f83-b9e7-7632824827e4",
   "metadata": {},
   "outputs": [],
   "source": [
    "from sklearn.metrics import matthews_corrcoef"
   ]
  },
  {
   "cell_type": "code",
   "execution_count": 15,
   "id": "06288c0d-df14-4285-8b1f-cbd3db66868e",
   "metadata": {},
   "outputs": [
    {
     "data": {
      "text/plain": [
       "0.47809144373375745"
      ]
     },
     "execution_count": 15,
     "metadata": {},
     "output_type": "execute_result"
    }
   ],
   "source": [
    "matthews_corrcoef(y_true, y_pred)"
   ]
  },
  {
   "cell_type": "markdown",
   "id": "874e2ccd-4dbe-4b0f-b972-d4aea67fcdec",
   "metadata": {},
   "source": [
    "**5**. Create a confusion matrix viaulzation that looks like this using `ConfusionMatrixDisplay` form `scikit-learn`.\n",
    " \n",
    "![img](cm.png)"
   ]
  },
  {
   "cell_type": "code",
   "execution_count": 16,
   "id": "e7a930dc-35cf-4b57-b92f-fde9ac3ea995",
   "metadata": {},
   "outputs": [],
   "source": [
    "from sklearn.metrics import ConfusionMatrixDisplay"
   ]
  },
  {
   "cell_type": "code",
   "execution_count": 22,
   "id": "42ecc6a1-dbd1-437b-8e50-1e4e68f7809c",
   "metadata": {},
   "outputs": [
    {
     "data": {
      "image/png": "[encoded data removed]",
      "text/plain": [
       "<Figure size 640x480 with 2 Axes>"
      ]
     },
     "metadata": {},
     "output_type": "display_data"
    }
   ],
   "source": [
    "ConfusionMatrixDisplay.from_predictions(y_true, y_pred);"
   ]
  },
  {
   "cell_type": "markdown",
   "id": "fa2e0b49-18ee-4ae9-8550-e3806f8129ea",
   "metadata": {},
   "source": [
    "**6**. Set the ranom number seed to 42. Now create random vectors of 50 zeros and ones for y_true and y_pred. Repat exersie 4 and 5 for these vectors."
   ]
  },
  {
   "cell_type": "code",
   "execution_count": 18,
   "id": "7357aa82-6e1a-4ed4-ab56-89d25fed0bff",
   "metadata": {},
   "outputs": [],
   "source": [
    "np.random.seed(42)"
   ]
  },
  {
   "cell_type": "code",
   "execution_count": 19,
   "id": "39776b7a-5843-4b4c-8210-140d7c873265",
   "metadata": {},
   "outputs": [],
   "source": [
    "y_true = np.random.randint(0, 2, 50)\n",
    "y_pred = np.random.randint(0, 2, 50)"
   ]
  },
  {
   "cell_type": "code",
   "execution_count": 20,
   "id": "dde53b9e-6ebc-4883-a3ed-5ec3049d9cbb",
   "metadata": {},
   "outputs": [
    {
     "data": {
      "image/png": "[encoded data removed]",
      "text/plain": [
       "<Figure size 640x480 with 2 Axes>"
      ]
     },
     "metadata": {},
     "output_type": "display_data"
    }
   ],
   "source": [
    "ConfusionMatrixDisplay.from_predictions(y_true, y_pred);"
   ]
  },
  {
   "cell_type": "code",
   "execution_count": 21,
   "id": "e406598a-ccdb-48a7-bc6f-50748a0c457e",
   "metadata": {},
   "outputs": [
    {
     "data": {
      "text/plain": [
       "0.19025295692965058"
      ]
     },
     "execution_count": 21,
     "metadata": {},
     "output_type": "execute_result"
    }
   ],
   "source": [
    "matthews_corrcoef(y_true, y_pred)"
   ]
  },
  {
   "cell_type": "code",
   "execution_count": null,
   "id": "61073367-76d9-44f8-91ec-e873d566eacf",
   "metadata": {},
   "outputs": [],
   "source": []
  }
 ],
 "metadata": {
  "kernelspec": {
   "display_name": "py310",
   "language": "python",
   "name": "py310"
  },
  "language_info": {
   "codemirror_mode": {
    "name": "ipython",
    "version": 3
   },
   "file_extension": ".py",
   "mimetype": "text/x-python",
   "name": "python",
   "nbconvert_exporter": "python",
   "pygments_lexer": "ipython3",
   "version": "3.10.12"
  }
 },
 "nbformat": 4,
 "nbformat_minor": 5
}
