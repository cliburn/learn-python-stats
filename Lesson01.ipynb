{
 "cells": [
  {
   "cell_type": "markdown",
   "id": "a44e65f5-9a5e-4e54-88e3-b16e7dd97c16",
   "metadata": {},
   "source": [
    "# Data structures, functions, and classes"
   ]
  },
  {
   "cell_type": "markdown",
   "id": "deb5f919-7663-4f2f-9858-6812f4befeef",
   "metadata": {},
   "source": [
    "## Topics to cover\n",
    "\n",
    "- [ ] Comprehensions\n",
    "- [ ] The collections module - namedtuple, chainmap,  duque, counter\n",
    "- [ ] Functions\n",
    "    - [ ] Basic function\n",
    "    - [ ] Positional and keyword arguments\n",
    "    - [ ] Default arguments\n",
    "    - [ ] Docstring\n",
    "    - [ ] Return statement\n",
    "    - [ ] Anonymous functions\n",
    "    - [ ] Higher order functions\n",
    "    - [ ] Recursive functions\n",
    "    - [ ] Function decorators\n",
    "- [ ] Generators\n",
    "    - [ ] The yield keyword\n",
    "    - [ ] The itertools package\n",
    "    - [ ] The functors package\n",
    "- [ ] Classes, attributes, methods\n",
    "    - [ ] A basic class\n",
    "    - [ ] The self keyword\n",
    "    - [ ] Special methods\n",
    "    - [ ] The data class\n",
    "    - [ ] All Python objects are classes\n",
    "    - [ ] Inheritance"
   ]
  },
  {
   "cell_type": "markdown",
   "id": "871db889-a542-47d3-a53c-aeb3d9bb2ffa",
   "metadata": {
    "tags": []
   },
   "source": [
    "## Comprehensions\n",
    "\n",
    "- From math $\\{x: x \\in \\mathbb{N}, 0 \\le x \\le 10\\}$\n",
    "- List\n",
    "- Tuple\n",
    "- Set\n",
    "- Dict"
   ]
  },
  {
   "cell_type": "code",
   "execution_count": null,
   "id": "ed9e7505-6dae-4397-a275-465ff1017503",
   "metadata": {},
   "outputs": [],
   "source": []
  },
  {
   "cell_type": "markdown",
   "id": "4c8a2ce9-9594-424c-9c44-e05d4d092bc4",
   "metadata": {},
   "source": [
    "## Collections\n",
    "\n",
    "- namedtuple\n",
    "- deque\n",
    "- chainmap\n",
    "- counter"
   ]
  },
  {
   "cell_type": "code",
   "execution_count": null,
   "id": "ebd4f78a-b9f5-4922-ba64-d6c39a613f0f",
   "metadata": {},
   "outputs": [],
   "source": []
  },
  {
   "cell_type": "markdown",
   "id": "f5391d10-0ce4-475e-9aba-f60dd85c79f2",
   "metadata": {
    "tags": []
   },
   "source": [
    "## Functions\n",
    "\n",
    "Function concepts\n",
    "- Mapping from input to output\n",
    "- Pure and impure functions\n",
    "- Eager and lazy evaluation\n",
    "- Functions can be treated like any other value"
   ]
  },
  {
   "cell_type": "code",
   "execution_count": null,
   "id": "93341ea2-12da-4725-9285-330d7919b215",
   "metadata": {},
   "outputs": [],
   "source": []
  },
  {
   "cell_type": "markdown",
   "id": "cbce4e19-a9ea-47cf-82f1-c0e47ea4f0cd",
   "metadata": {},
   "source": [
    "### Writing a basic function with arguments\n",
    "\n",
    "- Using `def`\n",
    "- Positional arguments\n",
    "- Keyword arguments\n",
    "- Default arguments\n",
    "- Docstrings"
   ]
  },
  {
   "cell_type": "code",
   "execution_count": null,
   "id": "8c6ad153-9126-49b7-abf0-fb538b92c194",
   "metadata": {},
   "outputs": [],
   "source": []
  },
  {
   "cell_type": "markdown",
   "id": "aa225a4c-5379-43b8-a1e6-bbfb7b9f1c01",
   "metadata": {},
   "source": [
    "### Calling a function\n",
    "\n",
    "- Positional arguments\n",
    "- Keyword arguments\n",
    "- `*args`\n",
    "- `**kwargs`"
   ]
  },
  {
   "cell_type": "code",
   "execution_count": null,
   "id": "7cc9b431-f530-4949-90c0-9f6f3c1e71ad",
   "metadata": {},
   "outputs": [],
   "source": []
  },
  {
   "cell_type": "markdown",
   "id": "6f02925f-bc92-422c-a94b-c777ac9f92ad",
   "metadata": {},
   "source": [
    "### Function annotation\n",
    "\n",
    "- Annotation is optional but useful for documentation"
   ]
  },
  {
   "cell_type": "code",
   "execution_count": null,
   "id": "c5353726-6c62-4087-8df2-3f623323ed78",
   "metadata": {},
   "outputs": [],
   "source": []
  },
  {
   "cell_type": "markdown",
   "id": "1fdc3b0f-259d-42ab-a348-54d997d3b8c2",
   "metadata": {},
   "source": [
    "### Anonymous functions\n",
    "\n",
    "- The lambda keyword\n",
    "- Using anonymous functions to provide functions as arguments"
   ]
  },
  {
   "cell_type": "code",
   "execution_count": null,
   "id": "6ce77d18-4f9a-4b2c-8b1a-b88d95e5a7b0",
   "metadata": {},
   "outputs": [],
   "source": []
  },
  {
   "cell_type": "markdown",
   "id": "4c2e3a1b-a02f-430d-a27a-ff200b7482bb",
   "metadata": {},
   "source": [
    "### Higher order functions\n",
    "\n",
    "- Built-in examples\n",
    "- Use of `map`, `filter`, `reduce`\n",
    "- Function chaining"
   ]
  },
  {
   "cell_type": "code",
   "execution_count": null,
   "id": "3e79f53b-50ff-4e10-a75a-cb6817a05fff",
   "metadata": {},
   "outputs": [],
   "source": []
  },
  {
   "cell_type": "markdown",
   "id": "643efd71-7af0-41aa-aff8-3a8747cd2bbb",
   "metadata": {
    "tags": []
   },
   "source": [
    "### Decorators\n",
    "\n",
    "- A function that takes a function as input and returns an \"improved\" version of the fucntion\n",
    "- Syntax sugar with `@`"
   ]
  },
  {
   "cell_type": "code",
   "execution_count": null,
   "id": "027f8345-e3c6-4d98-8d5a-823c0ae87420",
   "metadata": {},
   "outputs": [],
   "source": []
  },
  {
   "cell_type": "markdown",
   "id": "c0183ac3-37dd-4c79-82bc-d98faa612e2f",
   "metadata": {},
   "source": [
    "### Recursive functions\n",
    "\n",
    "- Oten used for mahtematical definitions\n",
    "    - Base case\n",
    "    - Recursive case\n",
    "- Not optimized in Python\n",
    "- Iterative alternative"
   ]
  },
  {
   "cell_type": "code",
   "execution_count": null,
   "id": "12b49952-75e0-49aa-8247-149abbf4057d",
   "metadata": {},
   "outputs": [],
   "source": []
  },
  {
   "cell_type": "markdown",
   "id": "3dce8c46-ebec-4f9b-a7b2-0ba34329a0de",
   "metadata": {},
   "source": [
    "## Functional programming (optional)\n",
    "\n",
    "- Why?\n",
    "- No loops\n",
    "- Use pure functions\n",
    "- Use higher order functions\n",
    "- Libraries\n",
    "    - [pipe](https://github.com/JulienPalard/Pipe)\n",
    "    - [toolz](https://github.com/pytoolz/toolz)"
   ]
  },
  {
   "cell_type": "code",
   "execution_count": null,
   "id": "5e4b982c-246c-43eb-a439-d9bf9a171fb5",
   "metadata": {},
   "outputs": [],
   "source": []
  },
  {
   "cell_type": "markdown",
   "id": "c43e44f6-8ce6-4dac-9916-3753d7f9db0e",
   "metadata": {},
   "source": [
    "## Generators\n",
    "\n",
    "- Why?\n",
    "- Like a function but using `yield` rather than `return`\n",
    "- Built-in generators\n",
    "- Using generators"
   ]
  },
  {
   "cell_type": "code",
   "execution_count": null,
   "id": "b278bc05-8d42-46f1-ac9c-ff4ab6cb89f2",
   "metadata": {},
   "outputs": [],
   "source": []
  },
  {
   "cell_type": "markdown",
   "id": "eb7218a6-7485-4e6b-987c-657bc20572b2",
   "metadata": {},
   "source": [
    "## Classes, attributes, methods\n",
    "\n",
    "- Class and instances\n",
    "- Attributes\n",
    "- The `self` keyword\n",
    "- Methods\n",
    "- Special methods\n",
    "- Inheritance\n",
    "- Eveythin in Python is an object"
   ]
  },
  {
   "cell_type": "code",
   "execution_count": null,
   "id": "69839c9d-48e3-4e69-98e5-b21a70506105",
   "metadata": {},
   "outputs": [],
   "source": []
  }
 ],
 "metadata": {
  "kernelspec": {
   "display_name": "Python 3 (ipykernel)",
   "language": "python",
   "name": "python3"
  },
  "language_info": {
   "codemirror_mode": {
    "name": "ipython",
    "version": 3
   },
   "file_extension": ".py",
   "mimetype": "text/x-python",
   "name": "python",
   "nbconvert_exporter": "python",
   "pygments_lexer": "ipython3",
   "version": "3.10.6"
  }
 },
 "nbformat": 4,
 "nbformat_minor": 5
}
