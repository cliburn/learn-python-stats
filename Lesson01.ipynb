{
 "cells": [
  {
   "cell_type": "markdown",
   "id": "a44e65f5-9a5e-4e54-88e3-b16e7dd97c16",
   "metadata": {},
   "source": [
    "# Data structures, functions, and classes"
   ]
  },
  {
   "cell_type": "markdown",
   "id": "deb5f919-7663-4f2f-9858-6812f4befeef",
   "metadata": {},
   "source": [
    "## Topics to cover\n",
    "\n",
    "- [ ] Comprehensions\n",
    "- [ ] The collections module - namedtuple, chainmap,  duque, counter\n",
    "- [ ] Functions\n",
    "    - [ ] Basic function\n",
    "    - [ ] Positional and keyword arguments\n",
    "    - [ ] Default arguments\n",
    "    - [ ] Docstring\n",
    "    - [ ] Return statement\n",
    "    - [ ] Anonymous functions\n",
    "    - [ ] Higher order functions\n",
    "    - [ ] Recursive functions\n",
    "    - [ ] Function decorators\n",
    "- [ ] Generators\n",
    "    - [ ] The yield keyword\n",
    "    - [ ] The itertools package\n",
    "    - [ ] The functors package\n",
    "- [ ] Classes, attributes, methods\n",
    "    - [ ] A basic class\n",
    "    - [ ] The self keyword\n",
    "    - [ ] Special methods\n",
    "    - [ ] The data class\n",
    "    - [ ] All Python objects are classes\n",
    "    - [ ] Inheritance"
   ]
  },
  {
   "cell_type": "markdown",
   "id": "871db889-a542-47d3-a53c-aeb3d9bb2ffa",
   "metadata": {
    "tags": []
   },
   "source": [
    "## Comprehensions\n",
    "\n",
    "- From math $\\{x: x \\in \\mathbb{N}, 0 \\le x \\le 10\\}$\n",
    "- List\n",
    "- Tuple\n",
    "- Set\n",
    "- Dict"
   ]
  },
  {
   "cell_type": "code",
   "execution_count": 2,
   "id": "ed9e7505-6dae-4397-a275-465ff1017503",
   "metadata": {},
   "outputs": [
    {
     "data": {
      "text/plain": [
       "[1, 2, 3, 4, 5, 6, 7, 8, 9, 10]"
      ]
     },
     "execution_count": 2,
     "metadata": {},
     "output_type": "execute_result"
    }
   ],
   "source": [
    "xs = [x for x in range(1, 11)]\n",
    "xs"
   ]
  },
  {
   "cell_type": "code",
   "execution_count": 7,
   "id": "a7ec0da1-b94e-4d98-b26c-ac89ae422e4d",
   "metadata": {
    "tags": []
   },
   "outputs": [
    {
     "data": {
      "text/plain": [
       "[1, 3, 5, 7, 9]"
      ]
     },
     "execution_count": 7,
     "metadata": {},
     "output_type": "execute_result"
    }
   ],
   "source": [
    "xs = []\n",
    "for x in range(1, 11):\n",
    "    if x%2 == 1: \n",
    "        xs.append(x)\n",
    "xs"
   ]
  },
  {
   "cell_type": "code",
   "execution_count": 9,
   "id": "72170a1d-c686-49bc-ac23-9d7ba71f75ed",
   "metadata": {
    "tags": []
   },
   "outputs": [
    {
     "data": {
      "text/plain": [
       "[1, 3, 5, 7, 9]"
      ]
     },
     "execution_count": 9,
     "metadata": {},
     "output_type": "execute_result"
    }
   ],
   "source": [
    "xs = [x for x in range(1, 11) if x % 2 == 1]\n",
    "xs"
   ]
  },
  {
   "cell_type": "code",
   "execution_count": 11,
   "id": "bae401dc-1745-402a-b08d-865f291d481a",
   "metadata": {
    "tags": []
   },
   "outputs": [
    {
     "data": {
      "text/plain": [
       "[(0, 0),\n",
       " (0, 1),\n",
       " (0, 2),\n",
       " (0, 3),\n",
       " (1, 0),\n",
       " (1, 1),\n",
       " (1, 2),\n",
       " (1, 3),\n",
       " (2, 0),\n",
       " (2, 1),\n",
       " (2, 2),\n",
       " (2, 3)]"
      ]
     },
     "execution_count": 11,
     "metadata": {},
     "output_type": "execute_result"
    }
   ],
   "source": [
    "xys = [(x, y) for x in range(3) for y in range(4)]\n",
    "xys"
   ]
  },
  {
   "cell_type": "code",
   "execution_count": 12,
   "id": "cf1c0b8d-03c9-4b29-87ec-f80a4e5a9791",
   "metadata": {
    "tags": []
   },
   "outputs": [
    {
     "data": {
      "text/plain": [
       "[(0, 0),\n",
       " (0, 1),\n",
       " (0, 2),\n",
       " (0, 3),\n",
       " (1, 0),\n",
       " (1, 1),\n",
       " (1, 2),\n",
       " (1, 3),\n",
       " (2, 0),\n",
       " (2, 1),\n",
       " (2, 2),\n",
       " (2, 3)]"
      ]
     },
     "execution_count": 12,
     "metadata": {},
     "output_type": "execute_result"
    }
   ],
   "source": [
    "xys = []\n",
    "for x in range(3):\n",
    "    for y in range(4):\n",
    "        xys.append((x,y))\n",
    "xys"
   ]
  },
  {
   "cell_type": "code",
   "execution_count": 15,
   "id": "5db2e7fd-79dd-4197-bb76-ece841b0dc22",
   "metadata": {
    "tags": []
   },
   "outputs": [
    {
     "data": {
      "text/plain": [
       "<generator object <genexpr> at 0x106cf6f80>"
      ]
     },
     "execution_count": 15,
     "metadata": {},
     "output_type": "execute_result"
    }
   ],
   "source": [
    "xs = (x for x in range(10) if x < 5)\n",
    "xs"
   ]
  },
  {
   "cell_type": "code",
   "execution_count": 16,
   "id": "2c8018b4-3429-42e9-bdf3-b26f675b3093",
   "metadata": {
    "tags": []
   },
   "outputs": [
    {
     "name": "stdout",
     "output_type": "stream",
     "text": [
      "0, 1, 2, 3, 4, "
     ]
    }
   ],
   "source": [
    "for x in xs:\n",
    "    print(x, end=', ')"
   ]
  },
  {
   "cell_type": "code",
   "execution_count": 17,
   "id": "5db5f746-84e6-44c2-bd34-ee2f2473f246",
   "metadata": {
    "tags": []
   },
   "outputs": [
    {
     "data": {
      "text/plain": [
       "[]"
      ]
     },
     "execution_count": 17,
     "metadata": {},
     "output_type": "execute_result"
    }
   ],
   "source": [
    "list(xs)"
   ]
  },
  {
   "cell_type": "code",
   "execution_count": 19,
   "id": "0e6e14a6-0fd3-4908-a4d2-9b002f69f081",
   "metadata": {
    "tags": []
   },
   "outputs": [
    {
     "data": {
      "text/plain": [
       "{0, 1}"
      ]
     },
     "execution_count": 19,
     "metadata": {},
     "output_type": "execute_result"
    }
   ],
   "source": [
    "{i % 2 for i in range(10)}"
   ]
  },
  {
   "cell_type": "code",
   "execution_count": 20,
   "id": "90a33924-3fc2-4da6-8303-8f06013ead34",
   "metadata": {
    "tags": []
   },
   "outputs": [
    {
     "data": {
      "text/plain": [
       "[0, 1, 0, 1, 0, 1, 0, 1, 0, 1]"
      ]
     },
     "execution_count": 20,
     "metadata": {},
     "output_type": "execute_result"
    }
   ],
   "source": [
    "[i % 2 for i in range(10)]"
   ]
  },
  {
   "cell_type": "code",
   "execution_count": null,
   "id": "b815c318-24ff-46de-8188-b717188411ed",
   "metadata": {},
   "outputs": [],
   "source": [
    "dicts need a key and a value like this key: value"
   ]
  },
  {
   "cell_type": "code",
   "execution_count": 25,
   "id": "359a13f2-aa74-4f56-8768-0d803b867ee6",
   "metadata": {
    "tags": []
   },
   "outputs": [],
   "source": [
    "d = {i: (i, i**2, i**3) for i in range(5)}"
   ]
  },
  {
   "cell_type": "code",
   "execution_count": 26,
   "id": "69fb087b-e08d-4e03-9bd5-ebe89bb8fbb4",
   "metadata": {
    "tags": []
   },
   "outputs": [
    {
     "data": {
      "text/plain": [
       "(3, 9, 27)"
      ]
     },
     "execution_count": 26,
     "metadata": {},
     "output_type": "execute_result"
    }
   ],
   "source": [
    "d[3]"
   ]
  },
  {
   "cell_type": "code",
   "execution_count": 27,
   "id": "7f1c956d-fd18-4455-856e-4a703f297e65",
   "metadata": {
    "tags": []
   },
   "outputs": [
    {
     "data": {
      "text/plain": [
       "dict_keys([0, 1, 2, 3, 4])"
      ]
     },
     "execution_count": 27,
     "metadata": {},
     "output_type": "execute_result"
    }
   ],
   "source": [
    "d.keys()"
   ]
  },
  {
   "cell_type": "code",
   "execution_count": 28,
   "id": "e24c123c-770a-4e63-820d-0281f231ba8a",
   "metadata": {
    "tags": []
   },
   "outputs": [
    {
     "data": {
      "text/plain": [
       "dict_values([(0, 0, 0), (1, 1, 1), (2, 4, 8), (3, 9, 27), (4, 16, 64)])"
      ]
     },
     "execution_count": 28,
     "metadata": {},
     "output_type": "execute_result"
    }
   ],
   "source": [
    "d.values()"
   ]
  },
  {
   "cell_type": "code",
   "execution_count": 29,
   "id": "90b93da2-b2c0-4e28-98b1-ab657cec685c",
   "metadata": {
    "tags": []
   },
   "outputs": [
    {
     "data": {
      "text/plain": [
       "dict_items([(0, (0, 0, 0)), (1, (1, 1, 1)), (2, (2, 4, 8)), (3, (3, 9, 27)), (4, (4, 16, 64))])"
      ]
     },
     "execution_count": 29,
     "metadata": {},
     "output_type": "execute_result"
    }
   ],
   "source": [
    "d.items()"
   ]
  },
  {
   "cell_type": "code",
   "execution_count": 33,
   "id": "b970a83d-561d-480e-947b-583d74a489b4",
   "metadata": {
    "tags": []
   },
   "outputs": [
    {
     "data": {
      "text/plain": [
       "[(0, 'a', 'hello'), (1, 'b', 'goodbye'), (2, 'c', 'fubar')]"
      ]
     },
     "execution_count": 33,
     "metadata": {},
     "output_type": "execute_result"
    }
   ],
   "source": [
    "list(zip(range(10), 'abc', ['hello', 'goodbye', 'fubar']))"
   ]
  },
  {
   "cell_type": "markdown",
   "id": "9083a3ac-8f02-433e-8a45-cbe0ebb349fd",
   "metadata": {},
   "source": [
    "Nested lists"
   ]
  },
  {
   "cell_type": "code",
   "execution_count": 34,
   "id": "59fab6b5-ef45-4d87-8d29-6787eeb622c4",
   "metadata": {
    "tags": []
   },
   "outputs": [
    {
     "data": {
      "text/plain": [
       "[1, [2, 3], 4, [5, 6, [7, 8]]]"
      ]
     },
     "execution_count": 34,
     "metadata": {},
     "output_type": "execute_result"
    }
   ],
   "source": [
    "[1, [2,3], 4,[5,6,[7,8]]]"
   ]
  },
  {
   "cell_type": "markdown",
   "id": "4c8a2ce9-9594-424c-9c44-e05d4d092bc4",
   "metadata": {},
   "source": [
    "## Collections\n",
    "\n",
    "- namedtuple\n",
    "- deque\n",
    "- chainmap\n",
    "- counter"
   ]
  },
  {
   "cell_type": "markdown",
   "id": "a9776622-c5ce-484c-a2fc-8ad1c540c941",
   "metadata": {},
   "source": [
    "strings, lists, tuples, sets, dicts"
   ]
  },
  {
   "cell_type": "code",
   "execution_count": 35,
   "id": "164bea3a-e7e4-499d-95c0-f64f354e98fa",
   "metadata": {
    "tags": []
   },
   "outputs": [],
   "source": [
    "from collections import namedtuple, deque, ChainMap, Counter"
   ]
  },
  {
   "cell_type": "code",
   "execution_count": 37,
   "id": "c19907bc-7a91-4658-9890-017b8747c2d6",
   "metadata": {
    "tags": []
   },
   "outputs": [],
   "source": [
    "Student = namedtuple(\n",
    "    'Student', \n",
    "    ['first', 'last', 'email', 'age']\n",
    ")"
   ]
  },
  {
   "cell_type": "code",
   "execution_count": 38,
   "id": "e6511253-bf94-4dec-9058-cc53b17c97ce",
   "metadata": {
    "tags": []
   },
   "outputs": [],
   "source": [
    "joe = Student('Joe', 'Blogs', 'joe.blogs@example.net', 25)"
   ]
  },
  {
   "cell_type": "code",
   "execution_count": 39,
   "id": "f3c6dc48-1379-46d1-9b79-9c710e8e632a",
   "metadata": {
    "tags": []
   },
   "outputs": [
    {
     "data": {
      "text/plain": [
       "Student(first='Joe', last='Blogs', email='joe.blogs@example.net', age=25)"
      ]
     },
     "execution_count": 39,
     "metadata": {},
     "output_type": "execute_result"
    }
   ],
   "source": [
    "joe"
   ]
  },
  {
   "cell_type": "code",
   "execution_count": 40,
   "id": "e3bcdd4f-9e08-45ef-969c-ee620e27dd9d",
   "metadata": {
    "tags": []
   },
   "outputs": [
    {
     "data": {
      "text/plain": [
       "('joe.blogs@example.net', 25)"
      ]
     },
     "execution_count": 40,
     "metadata": {},
     "output_type": "execute_result"
    }
   ],
   "source": [
    "joe[2:]"
   ]
  },
  {
   "cell_type": "code",
   "execution_count": 41,
   "id": "8f7e8d50-3785-498d-b4ea-dca6277f0e27",
   "metadata": {
    "tags": []
   },
   "outputs": [
    {
     "data": {
      "text/plain": [
       "'Blogs'"
      ]
     },
     "execution_count": 41,
     "metadata": {},
     "output_type": "execute_result"
    }
   ],
   "source": [
    "joe.last"
   ]
  },
  {
   "cell_type": "code",
   "execution_count": 43,
   "id": "310c13fa-6e09-4ae0-99ac-e0646d43db82",
   "metadata": {
    "tags": []
   },
   "outputs": [
    {
     "data": {
      "text/plain": [
       "('joe.blogs@example.net', 'joe.blogs@example.net')"
      ]
     },
     "execution_count": 43,
     "metadata": {},
     "output_type": "execute_result"
    }
   ],
   "source": [
    "joe.email, joe[2]"
   ]
  },
  {
   "cell_type": "code",
   "execution_count": 44,
   "id": "99e59e9e-ad58-4d4b-a078-ff1bf94c1254",
   "metadata": {
    "tags": []
   },
   "outputs": [],
   "source": [
    "dq = deque([1,2,3])"
   ]
  },
  {
   "cell_type": "code",
   "execution_count": 45,
   "id": "4e92eadd-b5f2-4cee-aa86-9e312a38c334",
   "metadata": {
    "tags": []
   },
   "outputs": [
    {
     "data": {
      "text/plain": [
       "deque([1, 2, 3])"
      ]
     },
     "execution_count": 45,
     "metadata": {},
     "output_type": "execute_result"
    }
   ],
   "source": [
    "dq"
   ]
  },
  {
   "cell_type": "code",
   "execution_count": 47,
   "id": "1ac13953-c7c0-4501-b9ca-020303ceebbb",
   "metadata": {
    "tags": []
   },
   "outputs": [
    {
     "data": {
      "text/plain": [
       "deque([1, 2, 3, 10, 10])"
      ]
     },
     "execution_count": 47,
     "metadata": {},
     "output_type": "execute_result"
    }
   ],
   "source": [
    "dq.append(10)\n",
    "dq"
   ]
  },
  {
   "cell_type": "code",
   "execution_count": 50,
   "id": "a0290413-74ec-43db-8953-8781f5631e93",
   "metadata": {
    "tags": []
   },
   "outputs": [
    {
     "data": {
      "text/plain": [
       "deque([11, 10, 10, 1, 2, 3, 10, 10])"
      ]
     },
     "execution_count": 50,
     "metadata": {},
     "output_type": "execute_result"
    }
   ],
   "source": [
    "dq.appendleft(11)\n",
    "dq"
   ]
  },
  {
   "cell_type": "code",
   "execution_count": 51,
   "id": "9fee0d97-28b4-4f68-b647-6363a09f2612",
   "metadata": {
    "tags": []
   },
   "outputs": [
    {
     "data": {
      "text/plain": [
       "10"
      ]
     },
     "execution_count": 51,
     "metadata": {},
     "output_type": "execute_result"
    }
   ],
   "source": [
    "dq.pop()"
   ]
  },
  {
   "cell_type": "code",
   "execution_count": 52,
   "id": "aa80909b-2436-4619-abc2-193ae3c536eb",
   "metadata": {
    "tags": []
   },
   "outputs": [
    {
     "data": {
      "text/plain": [
       "11"
      ]
     },
     "execution_count": 52,
     "metadata": {},
     "output_type": "execute_result"
    }
   ],
   "source": [
    "dq.popleft()"
   ]
  },
  {
   "cell_type": "code",
   "execution_count": 54,
   "id": "e1d69b94-40a9-47b0-a6e9-941c382ff729",
   "metadata": {
    "tags": []
   },
   "outputs": [],
   "source": [
    "d1 = {'a': 1}\n",
    "d2 = dict(b = 3)\n",
    "d3 = {'c': 4, 'd': 5}"
   ]
  },
  {
   "cell_type": "code",
   "execution_count": 55,
   "id": "7a12e264-f26c-47ef-b322-249d940d9ea4",
   "metadata": {
    "tags": []
   },
   "outputs": [
    {
     "data": {
      "text/plain": [
       "{'a': 1}"
      ]
     },
     "execution_count": 55,
     "metadata": {},
     "output_type": "execute_result"
    }
   ],
   "source": [
    "d1"
   ]
  },
  {
   "cell_type": "code",
   "execution_count": 56,
   "id": "e7d9417a-fb5f-4eea-8f5b-94f5da95e10e",
   "metadata": {
    "tags": []
   },
   "outputs": [
    {
     "data": {
      "text/plain": [
       "{'b': 3}"
      ]
     },
     "execution_count": 56,
     "metadata": {},
     "output_type": "execute_result"
    }
   ],
   "source": [
    "d2"
   ]
  },
  {
   "cell_type": "code",
   "execution_count": 57,
   "id": "688be2ef-07f5-4a5c-b6f6-fdeede414486",
   "metadata": {
    "tags": []
   },
   "outputs": [
    {
     "data": {
      "text/plain": [
       "{'c': 4, 'd': 5}"
      ]
     },
     "execution_count": 57,
     "metadata": {},
     "output_type": "execute_result"
    }
   ],
   "source": [
    "d3"
   ]
  },
  {
   "cell_type": "code",
   "execution_count": 62,
   "id": "00a0e1fa-3965-4844-8a28-5079cbecc171",
   "metadata": {
    "tags": []
   },
   "outputs": [],
   "source": [
    "ds = ChainMap(d1, d2, d3)"
   ]
  },
  {
   "cell_type": "code",
   "execution_count": 63,
   "id": "1a1afed9-b52f-46da-a98a-66a0210702e0",
   "metadata": {
    "tags": []
   },
   "outputs": [
    {
     "data": {
      "text/plain": [
       "ChainMap({'a': 1}, {'b': 3}, {'c': 4, 'd': 5})"
      ]
     },
     "execution_count": 63,
     "metadata": {},
     "output_type": "execute_result"
    }
   ],
   "source": [
    "ds"
   ]
  },
  {
   "cell_type": "code",
   "execution_count": 66,
   "id": "93b5d4fd-9914-49d6-af86-9530432b9b1e",
   "metadata": {
    "tags": []
   },
   "outputs": [
    {
     "data": {
      "text/plain": [
       "(4, 1, 5)"
      ]
     },
     "execution_count": 66,
     "metadata": {},
     "output_type": "execute_result"
    }
   ],
   "source": [
    "ds['c'], ds['a'], ds['d']"
   ]
  },
  {
   "cell_type": "code",
   "execution_count": 67,
   "id": "7bf39004-c697-4b7b-a179-2c57bced82fa",
   "metadata": {
    "tags": []
   },
   "outputs": [
    {
     "data": {
      "text/plain": [
       "Counter({'h': 1, 'e': 1, 'l': 3, 'o': 2, ' ': 1, 'w': 1, 'r': 1, 'd': 1})"
      ]
     },
     "execution_count": 67,
     "metadata": {},
     "output_type": "execute_result"
    }
   ],
   "source": [
    "c = Counter('hello world')\n",
    "c"
   ]
  },
  {
   "cell_type": "code",
   "execution_count": 69,
   "id": "25fec91d-7166-4171-be67-d6db228b9c2e",
   "metadata": {
    "tags": []
   },
   "outputs": [
    {
     "data": {
      "text/plain": [
       "[('l', 3), ('o', 2)]"
      ]
     },
     "execution_count": 69,
     "metadata": {},
     "output_type": "execute_result"
    }
   ],
   "source": [
    "c.most_common(2)"
   ]
  },
  {
   "cell_type": "code",
   "execution_count": null,
   "id": "c7a10d3a-ec1d-40e7-8fd0-7cc5ed3e453b",
   "metadata": {},
   "outputs": [],
   "source": []
  },
  {
   "cell_type": "code",
   "execution_count": null,
   "id": "e57c278c-8c77-4652-95ae-4a0018c60b47",
   "metadata": {},
   "outputs": [],
   "source": []
  },
  {
   "cell_type": "markdown",
   "id": "f5391d10-0ce4-475e-9aba-f60dd85c79f2",
   "metadata": {
    "tags": []
   },
   "source": [
    "## Functions\n",
    "\n",
    "Function concepts\n",
    "- Mapping from input to output\n",
    "- Pure and impure functions\n",
    "- Eager and lazy evaluation\n",
    "- Functions can be treated like any other value"
   ]
  },
  {
   "cell_type": "code",
   "execution_count": 70,
   "id": "93341ea2-12da-4725-9285-330d7919b215",
   "metadata": {},
   "outputs": [],
   "source": [
    "def add(x, y):\n",
    "    return x + y"
   ]
  },
  {
   "cell_type": "code",
   "execution_count": 71,
   "id": "5b347dcb-f682-4baf-a339-669f7047d431",
   "metadata": {
    "tags": []
   },
   "outputs": [
    {
     "data": {
      "text/plain": [
       "5"
      ]
     },
     "execution_count": 71,
     "metadata": {},
     "output_type": "execute_result"
    }
   ],
   "source": [
    "add(2, 3)"
   ]
  },
  {
   "cell_type": "markdown",
   "id": "990373dd-b286-4a14-8b53-5ebb386223ef",
   "metadata": {},
   "source": [
    "Docstring"
   ]
  },
  {
   "cell_type": "code",
   "execution_count": 72,
   "id": "f96eaa1e-150f-4c3f-b5b5-4a3ad96d0c8c",
   "metadata": {
    "tags": []
   },
   "outputs": [],
   "source": [
    "def add(x, y):\n",
    "    \"\"\"Returns the value of x + y.\"\"\"\n",
    "    \n",
    "    return x + y"
   ]
  },
  {
   "cell_type": "markdown",
   "id": "a1047195-54bb-4dd8-a366-2994431ee873",
   "metadata": {
    "tags": []
   },
   "source": [
    "Default arguments"
   ]
  },
  {
   "cell_type": "code",
   "execution_count": 79,
   "id": "3dfd8968-6fce-4689-844a-b8fd2f357e10",
   "metadata": {
    "tags": []
   },
   "outputs": [],
   "source": [
    "def power(x=3, n=2):\n",
    "    \"\"\"Returns x to the power of n.\"\"\"\n",
    "    \n",
    "    return x**n"
   ]
  },
  {
   "cell_type": "code",
   "execution_count": 77,
   "id": "f8bb06d6-4997-4fef-90af-5c127f532b6e",
   "metadata": {
    "tags": []
   },
   "outputs": [
    {
     "data": {
      "text/plain": [
       "8"
      ]
     },
     "execution_count": 77,
     "metadata": {},
     "output_type": "execute_result"
    }
   ],
   "source": [
    "power(2, 3)"
   ]
  },
  {
   "cell_type": "code",
   "execution_count": 78,
   "id": "8285dfab-9cfc-4528-8184-8904bd707f5b",
   "metadata": {
    "tags": []
   },
   "outputs": [
    {
     "data": {
      "text/plain": [
       "4"
      ]
     },
     "execution_count": 78,
     "metadata": {},
     "output_type": "execute_result"
    }
   ],
   "source": [
    "power(2)"
   ]
  },
  {
   "cell_type": "code",
   "execution_count": 80,
   "id": "18e091b6-c7e6-4021-ad74-d52d9b367c81",
   "metadata": {
    "tags": []
   },
   "outputs": [
    {
     "data": {
      "text/plain": [
       "9"
      ]
     },
     "execution_count": 80,
     "metadata": {},
     "output_type": "execute_result"
    }
   ],
   "source": [
    "power()"
   ]
  },
  {
   "cell_type": "code",
   "execution_count": 81,
   "id": "19917877-a893-4288-9f78-8c91946c7bec",
   "metadata": {
    "tags": []
   },
   "outputs": [
    {
     "data": {
      "text/plain": [
       "27"
      ]
     },
     "execution_count": 81,
     "metadata": {},
     "output_type": "execute_result"
    }
   ],
   "source": [
    "power(n=3)"
   ]
  },
  {
   "cell_type": "code",
   "execution_count": 82,
   "id": "c3d1e83b-a969-4b0d-99f4-2a401a0d55a1",
   "metadata": {
    "tags": []
   },
   "outputs": [
    {
     "data": {
      "text/plain": [
       "16"
      ]
     },
     "execution_count": 82,
     "metadata": {},
     "output_type": "execute_result"
    }
   ],
   "source": [
    "power(x=4)"
   ]
  },
  {
   "cell_type": "code",
   "execution_count": 84,
   "id": "fd8fb6db-710a-496a-a15c-ed54ce14690e",
   "metadata": {
    "tags": []
   },
   "outputs": [
    {
     "data": {
      "text/plain": [
       "64"
      ]
     },
     "execution_count": 84,
     "metadata": {},
     "output_type": "execute_result"
    }
   ],
   "source": [
    "power(n=3, x=4)"
   ]
  },
  {
   "cell_type": "code",
   "execution_count": 87,
   "id": "2afc64b0-7c48-439e-84f1-e4d96f8fde83",
   "metadata": {
    "tags": []
   },
   "outputs": [],
   "source": [
    "xs = []\n",
    "\n",
    "def foo(x):\n",
    "    \"\"\"An example of an impure function with side effects.\"\"\"\n",
    "    \n",
    "    print(x)\n",
    "    xs.append(x)\n",
    "    return x"
   ]
  },
  {
   "cell_type": "code",
   "execution_count": 88,
   "id": "31803040-f533-459f-8c3d-0750c940f6de",
   "metadata": {
    "tags": []
   },
   "outputs": [
    {
     "name": "stdout",
     "output_type": "stream",
     "text": [
      "1\n"
     ]
    },
    {
     "data": {
      "text/plain": [
       "1"
      ]
     },
     "execution_count": 88,
     "metadata": {},
     "output_type": "execute_result"
    }
   ],
   "source": [
    "foo(1)"
   ]
  },
  {
   "cell_type": "code",
   "execution_count": 89,
   "id": "866d727e-8fb4-46a3-8659-3c63a8aaf017",
   "metadata": {
    "tags": []
   },
   "outputs": [
    {
     "data": {
      "text/plain": [
       "[1]"
      ]
     },
     "execution_count": 89,
     "metadata": {},
     "output_type": "execute_result"
    }
   ],
   "source": [
    "xs"
   ]
  },
  {
   "cell_type": "code",
   "execution_count": 97,
   "id": "b2484cf6-caa1-4edf-971f-ae77e13155af",
   "metadata": {
    "tags": []
   },
   "outputs": [],
   "source": [
    "def hello(name='santa'):\n",
    "    \"\"\".\"\"\"\n",
    "    return('hello' + ' ' + name)\n",
    "\n",
    "def goodbye(name='santa'):\n",
    "    \"\"\".\"\"\"\n",
    "    return('goodbye' + ' ' + name)"
   ]
  },
  {
   "cell_type": "code",
   "execution_count": 98,
   "id": "ab2bbe91-360c-4f5d-a38d-c21fa5d6fb61",
   "metadata": {
    "tags": []
   },
   "outputs": [
    {
     "data": {
      "text/plain": [
       "'hello santa'"
      ]
     },
     "execution_count": 98,
     "metadata": {},
     "output_type": "execute_result"
    }
   ],
   "source": [
    "hello()"
   ]
  },
  {
   "cell_type": "code",
   "execution_count": 99,
   "id": "b89b54c8-d6c8-446e-9a18-621de2817dca",
   "metadata": {
    "tags": []
   },
   "outputs": [],
   "source": [
    "lof = [hello, goodbye, hello]"
   ]
  },
  {
   "cell_type": "code",
   "execution_count": 100,
   "id": "262e0036-0c0c-48e7-b8ed-0c949009a90b",
   "metadata": {
    "tags": []
   },
   "outputs": [
    {
     "name": "stdout",
     "output_type": "stream",
     "text": [
      "hello leanne\n",
      "goodbye leanne\n",
      "hello leanne\n"
     ]
    }
   ],
   "source": [
    "for func in lof:\n",
    "    print(func('leanne'))"
   ]
  },
  {
   "cell_type": "code",
   "execution_count": 101,
   "id": "7e899648-34f0-44ea-ad6c-4fedcc390457",
   "metadata": {
    "tags": []
   },
   "outputs": [],
   "source": [
    "dof = {\n",
    "    'hi': hello, \n",
    "    'bye': goodbye\n",
    "}"
   ]
  },
  {
   "cell_type": "code",
   "execution_count": 102,
   "id": "935678fa-36cc-41cd-a31c-2ecbb1c5e8ec",
   "metadata": {
    "tags": []
   },
   "outputs": [
    {
     "data": {
      "text/plain": [
       "'goodbye cliburn'"
      ]
     },
     "execution_count": 102,
     "metadata": {},
     "output_type": "execute_result"
    }
   ],
   "source": [
    "dof['bye']('cliburn')"
   ]
  },
  {
   "cell_type": "code",
   "execution_count": null,
   "id": "2327bbf4-fddc-4a1d-bd18-286ad8982914",
   "metadata": {},
   "outputs": [],
   "source": []
  },
  {
   "cell_type": "markdown",
   "id": "cbce4e19-a9ea-47cf-82f1-c0e47ea4f0cd",
   "metadata": {},
   "source": [
    "### Writing a basic function with arguments\n",
    "\n",
    "- Using `def`\n",
    "- Positional arguments\n",
    "- Keyword arguments\n",
    "- Default arguments\n",
    "- Docstrings"
   ]
  },
  {
   "cell_type": "code",
   "execution_count": null,
   "id": "8c6ad153-9126-49b7-abf0-fb538b92c194",
   "metadata": {},
   "outputs": [],
   "source": []
  },
  {
   "cell_type": "markdown",
   "id": "aa225a4c-5379-43b8-a1e6-bbfb7b9f1c01",
   "metadata": {},
   "source": [
    "### Calling a function\n",
    "\n",
    "- Positional arguments\n",
    "- Keyword arguments\n",
    "- `*args`\n",
    "- `**kwargs`"
   ]
  },
  {
   "cell_type": "code",
   "execution_count": 103,
   "id": "7cc9b431-f530-4949-90c0-9f6f3c1e71ad",
   "metadata": {},
   "outputs": [],
   "source": [
    "def foo(a, b, c):\n",
    "    \"\"\".\"\"\"\n",
    "    \n",
    "    return (a, b, c)"
   ]
  },
  {
   "cell_type": "code",
   "execution_count": 104,
   "id": "25ab39ae-c49a-4a28-af4a-1d90695b18b4",
   "metadata": {
    "tags": []
   },
   "outputs": [
    {
     "data": {
      "text/plain": [
       "(1, 2, 3)"
      ]
     },
     "execution_count": 104,
     "metadata": {},
     "output_type": "execute_result"
    }
   ],
   "source": [
    "foo(1,2,3)"
   ]
  },
  {
   "cell_type": "code",
   "execution_count": 105,
   "id": "42e5893c-48aa-455f-bc3b-82317f910f8c",
   "metadata": {
    "tags": []
   },
   "outputs": [],
   "source": [
    "xs = [4,5,6]"
   ]
  },
  {
   "cell_type": "code",
   "execution_count": 107,
   "id": "593d589a-7b79-4bc0-a191-abfceaa917b9",
   "metadata": {
    "tags": []
   },
   "outputs": [
    {
     "data": {
      "text/plain": [
       "(4, 5, 6)"
      ]
     },
     "execution_count": 107,
     "metadata": {},
     "output_type": "execute_result"
    }
   ],
   "source": [
    "foo(*xs)"
   ]
  },
  {
   "cell_type": "code",
   "execution_count": 108,
   "id": "3f9a565e-8522-4382-979a-0cc382cdcf31",
   "metadata": {
    "tags": []
   },
   "outputs": [
    {
     "data": {
      "text/plain": [
       "{'a': 3, 'b': 6, 'c': 9}"
      ]
     },
     "execution_count": 108,
     "metadata": {},
     "output_type": "execute_result"
    }
   ],
   "source": [
    "d = dict(a=3, b=6, c=9)\n",
    "d"
   ]
  },
  {
   "cell_type": "code",
   "execution_count": 109,
   "id": "1523afff-0e10-4929-8ab7-dc0df5a0bf08",
   "metadata": {
    "tags": []
   },
   "outputs": [
    {
     "data": {
      "text/plain": [
       "(3, 6, 9)"
      ]
     },
     "execution_count": 109,
     "metadata": {},
     "output_type": "execute_result"
    }
   ],
   "source": [
    "foo(**d)"
   ]
  },
  {
   "cell_type": "code",
   "execution_count": null,
   "id": "e15399c4-5e37-442c-89fd-538c7a1b0ac0",
   "metadata": {},
   "outputs": [],
   "source": []
  },
  {
   "cell_type": "code",
   "execution_count": null,
   "id": "a1c6dfb0-7b67-4da0-8801-0d7081ade1f2",
   "metadata": {},
   "outputs": [],
   "source": []
  },
  {
   "cell_type": "markdown",
   "id": "6f02925f-bc92-422c-a94b-c777ac9f92ad",
   "metadata": {},
   "source": [
    "### Function annotation\n",
    "\n",
    "- Annotation is optional but useful for documentation"
   ]
  },
  {
   "cell_type": "code",
   "execution_count": 114,
   "id": "c5353726-6c62-4087-8df2-3f623323ed78",
   "metadata": {},
   "outputs": [],
   "source": [
    "def f(a: int, b: int) -> float:\n",
    "    \"\"\"Function with annotations.\"\"\"\n",
    "    \n",
    "    return a / b"
   ]
  },
  {
   "cell_type": "code",
   "execution_count": 113,
   "id": "a0176a9a-8d5d-4091-bef4-d063d24060d3",
   "metadata": {
    "tags": []
   },
   "outputs": [],
   "source": [
    "def f(a, b):\n",
    "    return a / b"
   ]
  },
  {
   "cell_type": "code",
   "execution_count": 111,
   "id": "199b4a65-00b8-4f17-ba7b-f41f8edd1bbc",
   "metadata": {
    "tags": []
   },
   "outputs": [
    {
     "data": {
      "text/plain": [
       "0.6666666666666666"
      ]
     },
     "execution_count": 111,
     "metadata": {},
     "output_type": "execute_result"
    }
   ],
   "source": [
    "f(2, 3)"
   ]
  },
  {
   "cell_type": "code",
   "execution_count": 112,
   "id": "b8f7725f-040c-4b19-9708-0d4159dd2e0b",
   "metadata": {
    "tags": []
   },
   "outputs": [
    {
     "data": {
      "text/plain": [
       "0.5"
      ]
     },
     "execution_count": 112,
     "metadata": {},
     "output_type": "execute_result"
    }
   ],
   "source": [
    "f(2.3, 4.6)"
   ]
  },
  {
   "cell_type": "code",
   "execution_count": null,
   "id": "17e443d2-74f8-4d1f-b48a-54809d50138a",
   "metadata": {},
   "outputs": [],
   "source": []
  },
  {
   "cell_type": "markdown",
   "id": "1fdc3b0f-259d-42ab-a348-54d997d3b8c2",
   "metadata": {},
   "source": [
    "### Anonymous functions\n",
    "\n",
    "- The lambda keyword\n",
    "- Using anonymous functions to provide functions as arguments"
   ]
  },
  {
   "cell_type": "code",
   "execution_count": 115,
   "id": "6ce77d18-4f9a-4b2c-8b1a-b88d95e5a7b0",
   "metadata": {},
   "outputs": [],
   "source": [
    "def add(a, b):\n",
    "    \"\"\".\"\"\"\n",
    "    return a + b"
   ]
  },
  {
   "cell_type": "code",
   "execution_count": 116,
   "id": "14afb677-820b-4660-bd02-c44400a855df",
   "metadata": {
    "tags": []
   },
   "outputs": [],
   "source": [
    "add = lambda a, b: a + b"
   ]
  },
  {
   "cell_type": "code",
   "execution_count": 117,
   "id": "e0b06f96-90b2-4be2-8349-2404c5fd929f",
   "metadata": {
    "tags": []
   },
   "outputs": [
    {
     "data": {
      "text/plain": [
       "5"
      ]
     },
     "execution_count": 117,
     "metadata": {},
     "output_type": "execute_result"
    }
   ],
   "source": [
    "add(2, 3)"
   ]
  },
  {
   "cell_type": "code",
   "execution_count": 119,
   "id": "135f40d5-4764-4086-a028-f289b3b28d06",
   "metadata": {
    "tags": []
   },
   "outputs": [
    {
     "data": {
      "text/plain": [
       "{'a': 3, 'b': 2, 'c': 1}"
      ]
     },
     "execution_count": 119,
     "metadata": {},
     "output_type": "execute_result"
    }
   ],
   "source": [
    "d = dict(a=3, b=2, c=1)\n",
    "d"
   ]
  },
  {
   "cell_type": "code",
   "execution_count": 123,
   "id": "9318049c-ff6f-42f5-86d7-f37244093454",
   "metadata": {
    "tags": []
   },
   "outputs": [
    {
     "data": {
      "text/plain": [
       "dict_items([('a', 3), ('b', 2), ('c', 1)])"
      ]
     },
     "execution_count": 123,
     "metadata": {},
     "output_type": "execute_result"
    }
   ],
   "source": [
    "d.items()"
   ]
  },
  {
   "cell_type": "code",
   "execution_count": 121,
   "id": "19060c80-572b-403e-b1e5-30988bfedfea",
   "metadata": {
    "tags": []
   },
   "outputs": [
    {
     "data": {
      "text/plain": [
       "[('a', 3), ('b', 2), ('c', 1)]"
      ]
     },
     "execution_count": 121,
     "metadata": {},
     "output_type": "execute_result"
    }
   ],
   "source": [
    "sorted(d.items())"
   ]
  },
  {
   "cell_type": "code",
   "execution_count": 122,
   "id": "87baa11c-3d05-4316-a287-e0cef6a257c9",
   "metadata": {
    "tags": []
   },
   "outputs": [
    {
     "data": {
      "text/plain": [
       "[('c', 1), ('b', 2), ('a', 3)]"
      ]
     },
     "execution_count": 122,
     "metadata": {},
     "output_type": "execute_result"
    }
   ],
   "source": [
    "sorted(d.items(), key=lambda x: x[1])"
   ]
  },
  {
   "cell_type": "code",
   "execution_count": null,
   "id": "b7ed3ec3-8ee8-457e-8fc8-e7e2ee49e8eb",
   "metadata": {},
   "outputs": [],
   "source": []
  },
  {
   "cell_type": "code",
   "execution_count": null,
   "id": "526667ef-14c6-4c0c-91d7-61a3956b0c57",
   "metadata": {},
   "outputs": [],
   "source": []
  },
  {
   "cell_type": "code",
   "execution_count": null,
   "id": "95ce0e8a-dfc2-4cb3-83ac-a51d8e893eaf",
   "metadata": {},
   "outputs": [],
   "source": []
  },
  {
   "cell_type": "markdown",
   "id": "4c2e3a1b-a02f-430d-a27a-ff200b7482bb",
   "metadata": {},
   "source": [
    "### Higher order functions\n",
    "\n",
    "- Built-in examples\n",
    "- Use of `map`, `filter`, `reduce`\n",
    "- Function chaining"
   ]
  },
  {
   "cell_type": "code",
   "execution_count": 124,
   "id": "3e79f53b-50ff-4e10-a75a-cb6817a05fff",
   "metadata": {},
   "outputs": [],
   "source": [
    "from functools import reduce"
   ]
  },
  {
   "cell_type": "code",
   "execution_count": 128,
   "id": "e8efee6d-db40-4c9e-b327-33b5e9a6b76c",
   "metadata": {
    "tags": []
   },
   "outputs": [
    {
     "data": {
      "text/plain": [
       "[0, 4, 16, 36, 64]"
      ]
     },
     "execution_count": 128,
     "metadata": {},
     "output_type": "execute_result"
    }
   ],
   "source": [
    "list(\n",
    "    map(lambda x: x**2, \n",
    "        filter(lambda x: x%2==0, range(10))))"
   ]
  },
  {
   "cell_type": "code",
   "execution_count": 129,
   "id": "9a4113e0-e66f-4884-a00d-f298cdb42924",
   "metadata": {
    "tags": []
   },
   "outputs": [
    {
     "data": {
      "text/plain": [
       "[0, 4, 16, 36, 64]"
      ]
     },
     "execution_count": 129,
     "metadata": {},
     "output_type": "execute_result"
    }
   ],
   "source": [
    "[x**2 for x in range(10) if x % 2 ==0]"
   ]
  },
  {
   "cell_type": "code",
   "execution_count": 133,
   "id": "ab34eb0c-0b3c-4851-a5c8-d42598d45b11",
   "metadata": {
    "tags": []
   },
   "outputs": [
    {
     "data": {
      "text/plain": [
       "145"
      ]
     },
     "execution_count": 133,
     "metadata": {},
     "output_type": "execute_result"
    }
   ],
   "source": [
    "reduce(lambda x, y: x + y, range(10), 100)"
   ]
  },
  {
   "cell_type": "code",
   "execution_count": 134,
   "id": "fe332f33-17b7-4faa-bfc5-e5ab3be06095",
   "metadata": {
    "tags": []
   },
   "outputs": [
    {
     "data": {
      "text/plain": [
       "145"
      ]
     },
     "execution_count": 134,
     "metadata": {},
     "output_type": "execute_result"
    }
   ],
   "source": [
    "sum([100] + list(range(10)))"
   ]
  },
  {
   "cell_type": "code",
   "execution_count": 137,
   "id": "f87c2138-ee13-437e-b06d-dd32d92186e3",
   "metadata": {
    "tags": []
   },
   "outputs": [
    {
     "data": {
      "text/plain": [
       "7257600"
      ]
     },
     "execution_count": 137,
     "metadata": {},
     "output_type": "execute_result"
    }
   ],
   "source": [
    "reduce(lambda x, y: x*y, range(1, 11), 2)"
   ]
  },
  {
   "cell_type": "code",
   "execution_count": null,
   "id": "2e98a3bf-926e-4e91-86b0-0c6c9c191b5a",
   "metadata": {},
   "outputs": [],
   "source": []
  },
  {
   "cell_type": "code",
   "execution_count": null,
   "id": "cf422b89-1897-48b7-b627-8c65cbbaaa41",
   "metadata": {},
   "outputs": [],
   "source": []
  },
  {
   "cell_type": "markdown",
   "id": "643efd71-7af0-41aa-aff8-3a8747cd2bbb",
   "metadata": {
    "tags": []
   },
   "source": [
    "### Decorators\n",
    "\n",
    "- A function that takes a function as input and returns an \"improved\" version of the fucntion\n",
    "- Syntax sugar with `@`"
   ]
  },
  {
   "cell_type": "code",
   "execution_count": null,
   "id": "027f8345-e3c6-4d98-8d5a-823c0ae87420",
   "metadata": {},
   "outputs": [],
   "source": []
  },
  {
   "cell_type": "markdown",
   "id": "c0183ac3-37dd-4c79-82bc-d98faa612e2f",
   "metadata": {},
   "source": [
    "### Recursive functions\n",
    "\n",
    "- Oten used for mahtematical definitions\n",
    "    - Base case\n",
    "    - Recursive case\n",
    "- Not optimized in Python\n",
    "- Iterative alternative"
   ]
  },
  {
   "cell_type": "code",
   "execution_count": null,
   "id": "12b49952-75e0-49aa-8247-149abbf4057d",
   "metadata": {},
   "outputs": [],
   "source": []
  },
  {
   "cell_type": "markdown",
   "id": "3dce8c46-ebec-4f9b-a7b2-0ba34329a0de",
   "metadata": {},
   "source": [
    "## Functional programming (optional)\n",
    "\n",
    "- Why?\n",
    "- No loops\n",
    "- Use pure functions\n",
    "- Use higher order functions\n",
    "- Libraries\n",
    "    - [pipe](https://github.com/JulienPalard/Pipe)\n",
    "    - [toolz](https://github.com/pytoolz/toolz)"
   ]
  },
  {
   "cell_type": "code",
   "execution_count": null,
   "id": "5e4b982c-246c-43eb-a439-d9bf9a171fb5",
   "metadata": {},
   "outputs": [],
   "source": []
  },
  {
   "cell_type": "markdown",
   "id": "c43e44f6-8ce6-4dac-9916-3753d7f9db0e",
   "metadata": {},
   "source": [
    "## Generators\n",
    "\n",
    "- Why?\n",
    "- Like a function but using `yield` rather than `return`\n",
    "- Built-in generators\n",
    "- Using generators"
   ]
  },
  {
   "cell_type": "code",
   "execution_count": null,
   "id": "b278bc05-8d42-46f1-ac9c-ff4ab6cb89f2",
   "metadata": {},
   "outputs": [],
   "source": []
  },
  {
   "cell_type": "markdown",
   "id": "eb7218a6-7485-4e6b-987c-657bc20572b2",
   "metadata": {},
   "source": [
    "## Classes, attributes, methods\n",
    "\n",
    "- Class and instances\n",
    "- Attributes\n",
    "- The `self` keyword\n",
    "- Methods\n",
    "- Special methods\n",
    "- Inheritance\n",
    "- Eveythin in Python is an object"
   ]
  },
  {
   "cell_type": "code",
   "execution_count": null,
   "id": "69839c9d-48e3-4e69-98e5-b21a70506105",
   "metadata": {},
   "outputs": [],
   "source": []
  }
 ],
 "metadata": {
  "kernelspec": {
   "display_name": "Python 3 (ipykernel)",
   "language": "python",
   "name": "python3"
  },
  "language_info": {
   "codemirror_mode": {
    "name": "ipython",
    "version": 3
   },
   "file_extension": ".py",
   "mimetype": "text/x-python",
   "name": "python",
   "nbconvert_exporter": "python",
   "pygments_lexer": "ipython3",
   "version": "3.10.6"
  }
 },
 "nbformat": 4,
 "nbformat_minor": 5
}
