{
 "cells": [
  {
   "cell_type": "markdown",
   "id": "7a8e2de0",
   "metadata": {},
   "source": [
    "# Homework 1: Use of Python collections"
   ]
  },
  {
   "cell_type": "markdown",
   "id": "e542c4d1",
   "metadata": {},
   "source": [
    "**1**. Create a list of all square numbers (e.g., 9, 16) that are greater than 100 but less than 1,000. Do this using:\n",
    "\n",
    "    1. A for-loop\n",
    "    2. A list comprehension\n",
    "    3. The functions `map` and `filter`\n",
    "    \n",
    "In each case, your solution should be the list\n",
    "\n",
    "```Python\n",
    "[121, 144, 169, 196, 225, 256, 289, 324, 361, 400, 441, 484, 529, 576, 625, 676, 729, 784, 841, 900, 961]\n",
    "```"
   ]
  },
  {
   "cell_type": "markdown",
   "id": "c7fd1c2e",
   "metadata": {},
   "source": [
    "Hint 1"
   ]
  },
  {
   "cell_type": "code",
   "execution_count": 1,
   "id": "85c23506",
   "metadata": {},
   "outputs": [
    {
     "data": {
      "text/plain": [
       "[0, 2, 4, 6, 8, 10, 12, 14, 16, 18]"
      ]
     },
     "execution_count": 1,
     "metadata": {},
     "output_type": "execute_result"
    }
   ],
   "source": [
    "xs = []\n",
    "for i in range(20):\n",
    "    if i % 2 == 0:\n",
    "        xs.append(i)\n",
    "xs"
   ]
  },
  {
   "cell_type": "markdown",
   "id": "bcfac0f1",
   "metadata": {},
   "source": [
    "Hint 2"
   ]
  },
  {
   "cell_type": "code",
   "execution_count": 2,
   "id": "0885c6be",
   "metadata": {},
   "outputs": [
    {
     "data": {
      "text/plain": [
       "[0, 2, 4, 6, 8, 10, 12, 14, 16, 18]"
      ]
     },
     "execution_count": 2,
     "metadata": {},
     "output_type": "execute_result"
    }
   ],
   "source": [
    "xs = [i for i in range(20) if i % 2 == 0]\n",
    "xs"
   ]
  },
  {
   "cell_type": "markdown",
   "id": "d8f4d89f",
   "metadata": {},
   "source": [
    "Hint 3"
   ]
  },
  {
   "cell_type": "code",
   "execution_count": 3,
   "id": "d2dbb4a9",
   "metadata": {},
   "outputs": [
    {
     "data": {
      "text/plain": [
       "[0, 2, 4, 6, 8, 10, 12, 14, 16, 18]"
      ]
     },
     "execution_count": 3,
     "metadata": {},
     "output_type": "execute_result"
    }
   ],
   "source": [
    "xs = list(filter(lambda x: x%2==0, range(20)))\n",
    "xs"
   ]
  },
  {
   "cell_type": "markdown",
   "id": "f26b5158",
   "metadata": {},
   "source": [
    "## Solution to exercise 1"
   ]
  },
  {
   "cell_type": "markdown",
   "id": "d61158fa",
   "metadata": {},
   "source": [
    "A for-loop"
   ]
  },
  {
   "cell_type": "code",
   "execution_count": null,
   "id": "748fae41",
   "metadata": {},
   "outputs": [],
   "source": [
    "\n",
    "\n",
    "\n"
   ]
  },
  {
   "cell_type": "markdown",
   "id": "520430e7",
   "metadata": {},
   "source": [
    "A list comprehension"
   ]
  },
  {
   "cell_type": "code",
   "execution_count": null,
   "id": "2835d176",
   "metadata": {},
   "outputs": [],
   "source": [
    "\n",
    "\n",
    "\n"
   ]
  },
  {
   "cell_type": "markdown",
   "id": "5d23f21c",
   "metadata": {},
   "source": [
    "The functions `map` and `filter`"
   ]
  },
  {
   "cell_type": "code",
   "execution_count": null,
   "id": "175ad3cd",
   "metadata": {},
   "outputs": [],
   "source": [
    "\n",
    "\n",
    "\n"
   ]
  },
  {
   "cell_type": "markdown",
   "id": "d0b91dc7",
   "metadata": {},
   "source": [
    "**2**. Create a `namedtuple` like this\n",
    "\n",
    "```Python\n",
    "Point(x=1, y=2, z=3)\n",
    "```\n",
    "\n",
    "Extract the \"y coordinate\" using numeric and keyword indexing and check that two values are equal."
   ]
  },
  {
   "cell_type": "markdown",
   "id": "3b20360f",
   "metadata": {},
   "source": [
    "Hint"
   ]
  },
  {
   "cell_type": "code",
   "execution_count": 7,
   "id": "861b7632",
   "metadata": {},
   "outputs": [
    {
     "name": "stdout",
     "output_type": "stream",
     "text": [
      "Help on function namedtuple in module collections:\n",
      "\n",
      "namedtuple(typename, field_names, *, rename=False, defaults=None, module=None)\n",
      "    Returns a new subclass of tuple with named fields.\n",
      "    \n",
      "    >>> Point = namedtuple('Point', ['x', 'y'])\n",
      "    >>> Point.__doc__                   # docstring for the new class\n",
      "    'Point(x, y)'\n",
      "    >>> p = Point(11, y=22)             # instantiate with positional args or keywords\n",
      "    >>> p[0] + p[1]                     # indexable like a plain tuple\n",
      "    33\n",
      "    >>> x, y = p                        # unpack like a regular tuple\n",
      "    >>> x, y\n",
      "    (11, 22)\n",
      "    >>> p.x + p.y                       # fields also accessible by name\n",
      "    33\n",
      "    >>> d = p._asdict()                 # convert to a dictionary\n",
      "    >>> d['x']\n",
      "    11\n",
      "    >>> Point(**d)                      # convert from a dictionary\n",
      "    Point(x=11, y=22)\n",
      "    >>> p._replace(x=100)               # _replace() is like str.replace() but targets named fields\n",
      "    Point(x=100, y=22)\n",
      "\n"
     ]
    }
   ],
   "source": [
    "from collections import namedtuple\n",
    "\n",
    "help(namedtuple)"
   ]
  },
  {
   "cell_type": "markdown",
   "id": "ace8b5ab",
   "metadata": {},
   "source": [
    "## Solution to exercise 2"
   ]
  },
  {
   "cell_type": "code",
   "execution_count": null,
   "id": "ade9b7d0",
   "metadata": {},
   "outputs": [],
   "source": [
    "\n",
    "\n",
    "\n"
   ]
  },
  {
   "cell_type": "markdown",
   "id": "22947801",
   "metadata": {},
   "source": [
    "**3**. Convert the follwoing haiku to lowercase. Than record the count of each character in a dictionary. Do not include characters that represent blank space.\n",
    "\n",
    "```python\n",
    "On a withered branch\n",
    "A crow has alighted\n",
    "Nightfall in autumn\n",
    "```\n",
    "\n",
    "Print the top 5 most frequently occuring letters with their counts. (Just print the top 5, ignoring ties)"
   ]
  },
  {
   "cell_type": "markdown",
   "id": "ea83ae80",
   "metadata": {},
   "source": [
    "Hint"
   ]
  },
  {
   "cell_type": "code",
   "execution_count": 11,
   "id": "66070edd",
   "metadata": {},
   "outputs": [],
   "source": [
    "s = \"\"\"\n",
    "Goodbye\n",
    "cruel world!\n",
    "\"\"\""
   ]
  },
  {
   "cell_type": "code",
   "execution_count": 12,
   "id": "315c207b",
   "metadata": {},
   "outputs": [
    {
     "name": "stdout",
     "output_type": "stream",
     "text": [
      "['g', 'o', 'o', 'd', 'b', 'y', 'e', 'c', 'r', 'u', 'e', 'l', 'w', 'o', 'r', 'l', 'd']\n"
     ]
    }
   ],
   "source": [
    "print([char for char in s.lower() if char.isalpha()])"
   ]
  },
  {
   "cell_type": "code",
   "execution_count": 13,
   "id": "c158750e",
   "metadata": {},
   "outputs": [
    {
     "data": {
      "text/plain": [
       "{'a': 1, 'b': 2, 'c': 3}"
      ]
     },
     "execution_count": 13,
     "metadata": {},
     "output_type": "execute_result"
    }
   ],
   "source": [
    "d = dict(a=1, b=2, c=3)\n",
    "d"
   ]
  },
  {
   "cell_type": "code",
   "execution_count": 14,
   "id": "6dbca061",
   "metadata": {},
   "outputs": [
    {
     "name": "stdout",
     "output_type": "stream",
     "text": [
      "Help on method_descriptor:\n",
      "\n",
      "get(self, key, default=None, /)\n",
      "    Return the value for key if key is in the dictionary, else default.\n",
      "\n"
     ]
    }
   ],
   "source": [
    "help(dict.get)"
   ]
  },
  {
   "cell_type": "code",
   "execution_count": 15,
   "id": "c7d7a9e8",
   "metadata": {},
   "outputs": [
    {
     "data": {
      "text/plain": [
       "{'a': 11, 'b': 2, 'c': 3}"
      ]
     },
     "execution_count": 15,
     "metadata": {},
     "output_type": "execute_result"
    }
   ],
   "source": [
    "d['a'] = d.get('a', 0) + 10\n",
    "d"
   ]
  },
  {
   "cell_type": "code",
   "execution_count": 16,
   "id": "f178fff1",
   "metadata": {},
   "outputs": [
    {
     "name": "stdout",
     "output_type": "stream",
     "text": [
      "Help on method_descriptor:\n",
      "\n",
      "items(...)\n",
      "    D.items() -> a set-like object providing a view on D's items\n",
      "\n"
     ]
    }
   ],
   "source": [
    "help(dict.items)"
   ]
  },
  {
   "cell_type": "code",
   "execution_count": 17,
   "id": "673074a0",
   "metadata": {},
   "outputs": [
    {
     "name": "stdout",
     "output_type": "stream",
     "text": [
      "Help on built-in function sorted in module builtins:\n",
      "\n",
      "sorted(iterable, /, *, key=None, reverse=False)\n",
      "    Return a new list containing all items from the iterable in ascending order.\n",
      "    \n",
      "    A custom key function can be supplied to customize the sort order, and the\n",
      "    reverse flag can be set to request the result in descending order.\n",
      "\n"
     ]
    }
   ],
   "source": [
    "help(sorted)"
   ]
  },
  {
   "cell_type": "code",
   "execution_count": 18,
   "id": "0e3bb913",
   "metadata": {},
   "outputs": [],
   "source": [
    "s = \"\"\"\n",
    "On a withered branch\n",
    "A crow has alighted\n",
    "Nightfall in autumn\n",
    "\"\"\""
   ]
  },
  {
   "cell_type": "markdown",
   "id": "f90c22e1",
   "metadata": {},
   "source": [
    "## Solution to exercise 3"
   ]
  },
  {
   "cell_type": "code",
   "execution_count": null,
   "id": "72fe324e",
   "metadata": {},
   "outputs": [],
   "source": [
    "\n",
    "\n",
    "\n"
   ]
  },
  {
   "cell_type": "markdown",
   "id": "44233e6f",
   "metadata": {},
   "source": [
    "**4**. Find the intersection of the numbers in the two lists `xs` and `ys` provided."
   ]
  },
  {
   "cell_type": "code",
   "execution_count": 23,
   "id": "a1955f29",
   "metadata": {},
   "outputs": [],
   "source": [
    "import random\n",
    "\n",
    "xs = [random.randint(0, 1000) for i in range(100)]\n",
    "ys = [random.randint(0, 1000) for i in range(100)]"
   ]
  },
  {
   "cell_type": "markdown",
   "id": "4f4574ae",
   "metadata": {},
   "source": [
    "Hint"
   ]
  },
  {
   "cell_type": "code",
   "execution_count": 24,
   "id": "7100f876",
   "metadata": {
    "scrolled": false
   },
   "outputs": [
    {
     "data": {
      "text/plain": [
       "{1, 2, 3, 4}"
      ]
     },
     "execution_count": 24,
     "metadata": {},
     "output_type": "execute_result"
    }
   ],
   "source": [
    "set([1,1,1,2,2,3,2,1,4])"
   ]
  },
  {
   "cell_type": "markdown",
   "id": "30659ed7",
   "metadata": {},
   "source": [
    "## Solution to exercise 4"
   ]
  },
  {
   "cell_type": "code",
   "execution_count": null,
   "id": "273fdc92",
   "metadata": {},
   "outputs": [],
   "source": [
    "\n",
    "\n",
    "\n"
   ]
  }
 ],
 "metadata": {
  "kernelspec": {
   "display_name": "Python 3 (ipykernel)",
   "language": "python",
   "name": "python3"
  },
  "language_info": {
   "codemirror_mode": {
    "name": "ipython",
    "version": 3
   },
   "file_extension": ".py",
   "mimetype": "text/x-python",
   "name": "python",
   "nbconvert_exporter": "python",
   "pygments_lexer": "ipython3",
   "version": "3.10.6"
  },
  "toc": {
   "base_numbering": 1,
   "nav_menu": {},
   "number_sections": false,
   "sideBar": true,
   "skip_h1_title": false,
   "title_cell": "Table of Contents",
   "title_sidebar": "Contents",
   "toc_cell": false,
   "toc_position": {},
   "toc_section_display": true,
   "toc_window_display": false
  }
 },
 "nbformat": 4,
 "nbformat_minor": 5
}
