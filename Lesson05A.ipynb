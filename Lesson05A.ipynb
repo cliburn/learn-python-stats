{
 "cells": [
  {
   "cell_type": "code",
   "execution_count": null,
   "id": "afcf037d-8598-427a-b36f-5f8ab4c396a3",
   "metadata": {
    "tags": []
   },
   "outputs": [],
   "source": [
    "import ssl\n",
    "ssl._create_default_https_context = ssl._create_unverified_context"
   ]
  },
  {
   "cell_type": "code",
   "execution_count": null,
   "id": "d10b29df-e842-47c7-8591-6e55f46fe69f",
   "metadata": {
    "tags": []
   },
   "outputs": [],
   "source": [
    "import numpy as np\n",
    "import pandas as pd\n",
    "import matplotlib.pyplot as plt\n",
    "import seaborn as sns"
   ]
  },
  {
   "cell_type": "markdown",
   "id": "1709583c-bd99-48ef-be57-65088dad5fc5",
   "metadata": {},
   "source": [
    "# Visualization\n",
    "\n",
    "## Concents\n",
    "\n",
    "1. Grammar of graphics\n",
    "    1. Mapping\n",
    "    2. Geomerty\n",
    "    3. Scales\n",
    "    4. Faceting\n",
    "    5. Statitics\n",
    "    6. Annotations\n",
    "    7. Themes\n",
    "2. Visualization as storytelling\n",
    "    1. Remove distractions (\"chart junk\")\n",
    "    2. Be truthful\n",
    "    3. Hihglight elements critical to story\n",
    "    4. Avoid saturated colors\n",
    "    5. Make it easy for the viewer"
   ]
  },
  {
   "cell_type": "markdown",
   "id": "cffa92cf-49e4-4fee-ab91-aa5372d50d05",
   "metadata": {},
   "source": [
    "## Matplotlib\n",
    "\n",
    "This is the basic packagge for visualizaiton in Python. Many other visualizaiotn libraries are built on top of this.\n",
    "\n",
    "- [Matplotlib gallery](https://matplotlib.org/stable/gallery/index)\n",
    "    - You can download all examples as [Jupyter notebooks](https://matplotlib.org/stable/_downloads/fcaddee3a42ae2e2c41e00ae08d70347/gallery_jupyter.zip)\n",
    "- Many [packages](https://matplotlib.org/mpl-third-party/) extend Matplotlib"
   ]
  },
  {
   "cell_type": "markdown",
   "id": "34224abd-7d57-48e0-9112-9dbee5435bfa",
   "metadata": {},
   "source": [
    "### Data wrangling"
   ]
  },
  {
   "cell_type": "code",
   "execution_count": null,
   "id": "39436a34-cfb8-4d95-b4bc-1e1b837b2372",
   "metadata": {
    "tags": []
   },
   "outputs": [],
   "source": [
    "import glob"
   ]
  },
  {
   "cell_type": "markdown",
   "id": "921c4461-7587-43b5-ba76-8d6c9844c31d",
   "metadata": {
    "tags": []
   },
   "source": [
    "Data from https://aqs.epa.gov/aqsweb/airdata/download_files.html"
   ]
  },
  {
   "cell_type": "code",
   "execution_count": null,
   "id": "d668dc31-6199-4f6c-9c0a-624dd385ea4e",
   "metadata": {
    "tags": []
   },
   "outputs": [],
   "source": [
    "data_files = glob.glob('data/annual_aqi_by_county*zip')\n",
    "data_files[:3]"
   ]
  },
  {
   "cell_type": "code",
   "execution_count": null,
   "id": "175e9b7c-256c-41e6-839c-a551b631d92a",
   "metadata": {
    "tags": []
   },
   "outputs": [],
   "source": [
    "data = pd.concat([pd.read_csv(f, compression='zip') for f in data_files])"
   ]
  },
  {
   "cell_type": "code",
   "execution_count": null,
   "id": "51818459-1534-4916-9688-18f478a5e860",
   "metadata": {
    "tags": []
   },
   "outputs": [],
   "source": [
    "data.shape"
   ]
  },
  {
   "cell_type": "code",
   "execution_count": null,
   "id": "1e1dab4e-4a36-49f6-8cbb-73a4d4a9499b",
   "metadata": {
    "tags": []
   },
   "outputs": [],
   "source": [
    "data.iloc[0]"
   ]
  },
  {
   "cell_type": "code",
   "execution_count": null,
   "id": "70b8d7b2-3976-4150-b77e-88422f19dd48",
   "metadata": {
    "tags": []
   },
   "outputs": [],
   "source": [
    "data.sample(3)"
   ]
  },
  {
   "cell_type": "markdown",
   "id": "df29426b-acb4-4119-9648-9172e9877333",
   "metadata": {},
   "source": [
    "#### Get data for Durham, NC"
   ]
  },
  {
   "cell_type": "code",
   "execution_count": null,
   "id": "4b35bedc-2500-49d2-ba99-290c85f282bc",
   "metadata": {
    "tags": []
   },
   "outputs": [],
   "source": [
    "data.State.unique()"
   ]
  },
  {
   "cell_type": "code",
   "execution_count": null,
   "id": "c1bd59e0-42fe-4a50-a349-6ba635aeacc8",
   "metadata": {
    "tags": []
   },
   "outputs": [],
   "source": [
    "data.loc[data.State == 'North Carolina', 'County'].unique()"
   ]
  },
  {
   "cell_type": "code",
   "execution_count": null,
   "id": "2f377a00-a15f-4e1d-bc12-951beb04e4ba",
   "metadata": {
    "tags": []
   },
   "outputs": [],
   "source": [
    "df = data.query(\"State == 'North Carolina' and County == 'Durham'\")"
   ]
  },
  {
   "cell_type": "code",
   "execution_count": null,
   "id": "0c9bd677-1744-42d0-af67-a802b885f3ff",
   "metadata": {
    "tags": []
   },
   "outputs": [],
   "source": [
    "df.head()"
   ]
  },
  {
   "cell_type": "code",
   "execution_count": null,
   "id": "051eb5a6-018d-4d87-8f1a-01f1cebe8a38",
   "metadata": {
    "tags": []
   },
   "outputs": [],
   "source": [
    "df = df.sort_values('Year')"
   ]
  },
  {
   "cell_type": "markdown",
   "id": "a4ee6ab3-d15c-416f-a14a-243f4ec3a083",
   "metadata": {},
   "source": [
    "### Basci plotting\n",
    "\n",
    "In GoG terms, we map from data features `Year` and `Median AQI` to the graphical features `x coordiante` and `y coordinate` and display using the line, scatter, and barchart geometries. For the line plot, we add labels and titles."
   ]
  },
  {
   "cell_type": "code",
   "execution_count": null,
   "id": "f6f851b4-e2d7-4d27-84b0-483f886371c1",
   "metadata": {
    "tags": []
   },
   "outputs": [],
   "source": [
    "plt.plot('Year', 'Median AQI', data=df)\n",
    "plt.xlabel('Year')\n",
    "plt.ylabel('Median AQI')\n",
    "plt.title('Air Quality in Durham, NC')\n",
    "pass"
   ]
  },
  {
   "cell_type": "code",
   "execution_count": null,
   "id": "42645de6-915b-48ce-ac64-89f4ee0b5313",
   "metadata": {
    "tags": []
   },
   "outputs": [],
   "source": [
    "plt.scatter('Year', 'Median AQI', data=df)\n",
    "pass"
   ]
  },
  {
   "cell_type": "code",
   "execution_count": null,
   "id": "60717121-5fe0-4d65-aae8-7eb717fc2347",
   "metadata": {
    "tags": []
   },
   "outputs": [],
   "source": [
    "plt.bar('Year', 'Median AQI', data=df);"
   ]
  },
  {
   "cell_type": "markdown",
   "id": "93e281fe-306a-4234-afc5-c410784f61c0",
   "metadata": {
    "tags": []
   },
   "source": [
    "Since `Matplotlib` came before GoG, it is more common to use a more imperative function call."
   ]
  },
  {
   "cell_type": "code",
   "execution_count": null,
   "id": "0b644553-4b1e-401b-bac2-5289848f7f9c",
   "metadata": {
    "tags": []
   },
   "outputs": [],
   "source": [
    "x = df['Year']\n",
    "y = df['Median AQI']\n",
    "plt.plot(x, y, 'b-o')\n",
    "pass"
   ]
  },
  {
   "cell_type": "markdown",
   "id": "13c9dad9-26aa-4e08-9577-529f0d753817",
   "metadata": {},
   "source": [
    "## Plot within `pandas`\n",
    "\n",
    "Pandas can generate Matplotlib plots conveniently. Since they are Matplotlib objects, you can work with them using Matplotlib functions."
   ]
  },
  {
   "cell_type": "code",
   "execution_count": null,
   "id": "31f42fdc-8554-4477-b809-7961ba0a79bf",
   "metadata": {
    "tags": []
   },
   "outputs": [],
   "source": [
    "df.plot.line(x='Year', y='Median AQI')\n",
    "plt.title('Air quality in Durham, NC')\n",
    "pass"
   ]
  },
  {
   "cell_type": "code",
   "execution_count": null,
   "id": "7bc1cf18-4f08-4837-929b-0680ba159abc",
   "metadata": {
    "tags": []
   },
   "outputs": [],
   "source": [
    "df.plot.scatter(x='Year', y='Median AQI')\n",
    "pass"
   ]
  },
  {
   "cell_type": "code",
   "execution_count": null,
   "id": "7d55512f-3cc5-4fa8-b24b-38ac55832541",
   "metadata": {
    "tags": []
   },
   "outputs": [],
   "source": [
    "df.plot.bar(x='Year', y='Median AQI')\n",
    "pass"
   ]
  },
  {
   "cell_type": "code",
   "execution_count": null,
   "id": "f1009f53-e72a-48d8-a45a-33312b0b629a",
   "metadata": {
    "tags": []
   },
   "outputs": [],
   "source": [
    "df_nc = data.query(\"State == 'North Carolina' and County in ['Durham', 'Mecklenburg', 'Wake']\")\n",
    "df_nc.head(3)"
   ]
  },
  {
   "cell_type": "code",
   "execution_count": null,
   "id": "624a1bd3-d54a-4464-a2fc-222e4ffcb773",
   "metadata": {
    "tags": []
   },
   "outputs": [],
   "source": [
    "fig, ax = plt.subplots()\n",
    "df_nc.groupby('County').plot.line(x='Year', y='Median AQI', ax=ax)\n",
    "pass"
   ]
  },
  {
   "cell_type": "markdown",
   "id": "a22c5097-e925-4d54-8630-311e9e772246",
   "metadata": {},
   "source": [
    "The above looks weird because the query did not preserve ordering by Year. Also, the legends are messed up."
   ]
  },
  {
   "cell_type": "code",
   "execution_count": null,
   "id": "7ab40ced-ee8d-43c4-aa61-cc6270fb3b90",
   "metadata": {
    "tags": []
   },
   "outputs": [],
   "source": [
    "df_nc = df_nc.sort_values('Year')"
   ]
  },
  {
   "cell_type": "code",
   "execution_count": null,
   "id": "530974f9-2b06-434b-9d76-5ccb92b7a282",
   "metadata": {
    "tags": []
   },
   "outputs": [],
   "source": [
    "fig, ax = plt.subplots()\n",
    "for name, group in df_nc.groupby('County'):\n",
    "    group.plot.line(x='Year', y='Median AQI', ax=ax, label=name)\n",
    "pass"
   ]
  },
  {
   "cell_type": "markdown",
   "id": "078dc04f-6636-4c85-8348-65d6da85d3d0",
   "metadata": {
    "tags": []
   },
   "source": [
    "## Themes"
   ]
  },
  {
   "cell_type": "code",
   "execution_count": null,
   "id": "be610d4d-76a0-4980-a92e-bea5f583d947",
   "metadata": {
    "tags": []
   },
   "outputs": [],
   "source": [
    "plt.style.available"
   ]
  },
  {
   "cell_type": "code",
   "execution_count": null,
   "id": "d5e1a8d6-4694-454b-b25f-2e382e05d39e",
   "metadata": {
    "tags": []
   },
   "outputs": [],
   "source": [
    "x = df['Year']\n",
    "y = df['Median AQI']"
   ]
  },
  {
   "cell_type": "code",
   "execution_count": null,
   "id": "7ad477c8-a308-4da5-9001-a8be72a7e41b",
   "metadata": {
    "tags": []
   },
   "outputs": [],
   "source": [
    "with plt.style.context('ggplot'):\n",
    "    plt.plot(x, y)\n",
    "pass"
   ]
  },
  {
   "cell_type": "code",
   "execution_count": null,
   "id": "e60a1b8a-4c1c-451b-b0a3-d237f3e1a9fb",
   "metadata": {
    "tags": []
   },
   "outputs": [],
   "source": [
    "with plt.style.context('Solarize_Light2'):\n",
    "    plt.plot(x, y)\n",
    "pass"
   ]
  },
  {
   "cell_type": "markdown",
   "id": "1da1cbee-72db-4398-9bff-915ac1180484",
   "metadata": {},
   "source": [
    "This is a special theme that is called differently."
   ]
  },
  {
   "cell_type": "code",
   "execution_count": null,
   "id": "b69e7b9c-1d07-46b6-ad0a-5ae7c698407d",
   "metadata": {
    "tags": []
   },
   "outputs": [],
   "source": [
    "with plt.xkcd():\n",
    "    plt.plot(x, y)\n",
    "pass"
   ]
  },
  {
   "cell_type": "markdown",
   "id": "155ba374-1677-4320-8d12-66c9ca7ccdc0",
   "metadata": {},
   "source": [
    "## Multiple plots"
   ]
  },
  {
   "cell_type": "code",
   "execution_count": null,
   "id": "34953550-75e9-4b11-86d0-391230612476",
   "metadata": {
    "tags": []
   },
   "outputs": [],
   "source": [
    "plt.style.use('default')\n",
    "fig, axes = plt.subplots(nrows=1, ncols=3, figsize=(12,4))\n",
    "for ax, (name, group) in zip(axes, df_nc.groupby('County')):\n",
    "    group.plot.line(x='Year', y='Median AQI', ax=ax, label=name)"
   ]
  },
  {
   "cell_type": "markdown",
   "id": "01f47a13-8afb-4946-bd58-73d3791e2c2e",
   "metadata": {},
   "source": [
    "## Maps\n",
    "\n",
    "Plotting maps is more complex. We will use the `geopanddas` pacakage to do it — here we show how to generate static figures. For interactive maps, see\n",
    "\n",
    "- [Folium](https://github.com/python-visualization/folium)\n",
    "- [Interactive mapping with geopandas](https://geopandas.org/en/stable/docs/user_guide/interactive_mapping.html)\n",
    "\n",
    "You can also use [plotly](https://plotly.com/python/choropleth-maps/) to plot maps."
   ]
  },
  {
   "cell_type": "code",
   "execution_count": null,
   "id": "ab25b48e-ed04-468c-a776-cac4f908830e",
   "metadata": {
    "tags": []
   },
   "outputs": [],
   "source": [
    "import geopandas"
   ]
  },
  {
   "cell_type": "markdown",
   "id": "9dbdbacd-6a42-4aa7-b962-28c7961b424f",
   "metadata": {},
   "source": [
    "We need geographic information form US Census in a shapefile format. I downloaded these from the [US Census Cartographic Boundary Files - Shapefile](https://www.census.gov/geographies/mapping-files/time-series/geo/carto-boundary-file.2018.html)\n",
    "\n",
    "More recent and more detailed shape files can also be found at https://www.census.gov/geographies/mapping-files/time-series/geo/cartographic-boundary.html"
   ]
  },
  {
   "cell_type": "markdown",
   "id": "b31190e3-003d-4ec8-8c48-e4d5afc592c4",
   "metadata": {},
   "source": [
    "### Read shape file using `geopandas`"
   ]
  },
  {
   "cell_type": "code",
   "execution_count": null,
   "id": "be8b1c8e-51c0-4053-87f3-28f28eb912a4",
   "metadata": {
    "tags": []
   },
   "outputs": [],
   "source": [
    "states = geopandas.read_file('data/cb_2018_us_state_5m/cb_2018_us_state_5m.shp')"
   ]
  },
  {
   "cell_type": "markdown",
   "id": "cf78d9ca-cdfe-4bc8-9399-33f1b3d60cb9",
   "metadata": {
    "tags": []
   },
   "source": [
    "Reproject coordinates to Mercator"
   ]
  },
  {
   "cell_type": "code",
   "execution_count": null,
   "id": "ed342f6a-8397-41f1-8d42-6c5ba5f5b233",
   "metadata": {
    "tags": []
   },
   "outputs": [],
   "source": [
    "states = states.to_crs(\"EPSG:3395\")"
   ]
  },
  {
   "cell_type": "code",
   "execution_count": null,
   "id": "4ecde7ca-0f10-4726-8c5c-3745f86595cc",
   "metadata": {
    "tags": []
   },
   "outputs": [],
   "source": [
    "states.head()"
   ]
  },
  {
   "cell_type": "markdown",
   "id": "9581c602-eeb6-4f59-8f10-28b5204d7e32",
   "metadata": {},
   "source": [
    "### Merge catographic data with EPA air quality data"
   ]
  },
  {
   "cell_type": "code",
   "execution_count": null,
   "id": "b777ce15-4079-44d0-baea-b8ea4340a008",
   "metadata": {
    "tags": []
   },
   "outputs": [],
   "source": [
    "states[['NAME', 'STUSPS']]"
   ]
  },
  {
   "cell_type": "markdown",
   "id": "2a9d060a-b421-4985-83aa-3f9d2fd60771",
   "metadata": {},
   "source": [
    "For display purpsose, only use lower 48 states + DC."
   ]
  },
  {
   "cell_type": "code",
   "execution_count": null,
   "id": "7d638eb4-527e-4811-8964-1a1dd421daab",
   "metadata": {
    "tags": []
   },
   "outputs": [],
   "source": [
    "states = states.query(\"STUSPS not in ['AK', 'AS', 'HI', 'GU', 'MH', 'MP', 'PR', 'VI']\")"
   ]
  },
  {
   "cell_type": "code",
   "execution_count": null,
   "id": "3015cc0b-8fe0-4dd6-8b9f-7e1388fad935",
   "metadata": {
    "tags": []
   },
   "outputs": [],
   "source": [
    "states.shape"
   ]
  },
  {
   "cell_type": "code",
   "execution_count": null,
   "id": "5c5a86a3-dedd-4073-bc2d-0fc11d145ff6",
   "metadata": {
    "tags": []
   },
   "outputs": [],
   "source": [
    "mean_aqi_by_state = data.groupby('State')[['Median AQI']].mean().reset_index()\n",
    "mean_aqi_by_state"
   ]
  },
  {
   "cell_type": "code",
   "execution_count": null,
   "id": "0d56c408-191e-4d96-b46a-2ff4d11bb17d",
   "metadata": {
    "tags": []
   },
   "outputs": [],
   "source": [
    "states = states.merge(mean_aqi_by_state, left_on='NAME', right_on='State')"
   ]
  },
  {
   "cell_type": "code",
   "execution_count": null,
   "id": "3bf4fb98-c583-4405-9342-968f6f3302fa",
   "metadata": {
    "tags": []
   },
   "outputs": [],
   "source": [
    "# Create the axes we will plot on\n",
    "fig, ax = plt.subplots(figsize=(25,15))\n",
    "\n",
    "# Basic plot coloring by Median AQI using the Wisteria colormap\n",
    "states.plot(ax=ax, column='Median AQI', cmap='Wistia')\n",
    "\n",
    "# Add state boundaries\n",
    "states.boundary.plot(ax=ax, color='grey', linewidth=0.4)\n",
    "\n",
    "# Pass in the state name and AQI as f-string to the annotate method to label map\n",
    "states.apply(lambda x: ax.annotate(\n",
    "    f\"{x.NAME}\\n{x['Median AQI']:.1f}\", \n",
    "    xy=x.geometry.centroid.coords[0],\n",
    "    ha='center', \n",
    "    fontsize=14,\n",
    "    color='black',\n",
    "),axis=1);\n",
    "\n",
    "# remove uninformtiv ticsk (geographical coordinates)\n",
    "plt.xticks([])\n",
    "plt.yticks([])\n",
    "\n",
    "# Add title\n",
    "plt.title('Mean AQI', fontsize=24)\n",
    "\n",
    "# Suppress retrun output\n",
    "pass"
   ]
  },
  {
   "cell_type": "markdown",
   "id": "c9f2b758-d501-45a6-bf46-b94785c0396f",
   "metadata": {},
   "source": [
    "### Use plotly\n",
    "\n",
    "https://plotly.com/python/choropleth-maps/"
   ]
  },
  {
   "cell_type": "code",
   "execution_count": null,
   "id": "4e8957cc-16dc-47e0-9c70-caaf3d9d2f05",
   "metadata": {},
   "outputs": [],
   "source": []
  }
 ],
 "metadata": {
  "kernelspec": {
   "display_name": "Python 3 (ipykernel)",
   "language": "python",
   "name": "python3"
  },
  "language_info": {
   "codemirror_mode": {
    "name": "ipython",
    "version": 3
   },
   "file_extension": ".py",
   "mimetype": "text/x-python",
   "name": "python",
   "nbconvert_exporter": "python",
   "pygments_lexer": "ipython3",
   "version": "3.10.6"
  }
 },
 "nbformat": 4,
 "nbformat_minor": 5
}
