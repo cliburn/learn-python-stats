{
 "cells": [
  {
   "cell_type": "markdown",
   "id": "da728977-910d-4881-a5c1-c6498263c8fb",
   "metadata": {},
   "source": [
    "# Text Mining Project\n",
    "\n",
    "Track changes in nouns used in **The Acutary** magazine over time. Skills:\n",
    "\n",
    "## Possible steps:\n",
    "\n",
    "1. Create a list of locations to PDF files of the magaizen\n",
    "2. Loop through each file and create a dictionary or DataFrame\n",
    "    - Extract properties (year, volume, issue) \n",
    "    - Extract all text from PDF with [`pypdf`](https://github.com/py-pdf/pypdf/tree/3.0.0)\n",
    "3. For each file, tokenize using [`spacy`](https://spacy.io/) and extract just nouns and proper nouns\n",
    "4. Create `tf-idf` matrix using [`sklearn`](https://scikit-learn.org/stable/) — see [example](https://melaniewalsh.github.io/Intro-Cultural-Analytics/05-Text-Analysis/03-TF-IDF-Scikit-Learn.html) \n",
    "5. Be creative about visualizations and/or animations to tell the data story."
   ]
  },
  {
   "cell_type": "code",
   "execution_count": null,
   "id": "768aa0fc-5c84-4d01-b1e5-f48720ed2301",
   "metadata": {
    "tags": []
   },
   "outputs": [],
   "source": [
    "import glob\n",
    "import os\n",
    "import re"
   ]
  },
  {
   "cell_type": "markdown",
   "id": "b5a12a69-48fc-45e3-a838-95e2089acc74",
   "metadata": {},
   "source": [
    "### Code snippets to get started"
   ]
  },
  {
   "cell_type": "markdown",
   "id": "e171847c-91e5-4c96-89a6-a4051682ce5b",
   "metadata": {},
   "source": [
    "#### How to get file locations matching pattern"
   ]
  },
  {
   "cell_type": "code",
   "execution_count": null,
   "id": "c25bb494-9d1e-4a94-84f7-8ec29cea4892",
   "metadata": {
    "tags": []
   },
   "outputs": [],
   "source": [
    "folder = '/Users/ccc14/Library/CloudStorage/Box-Box/Complexity Science/THE ACTUARY MAGAZINE'"
   ]
  },
  {
   "cell_type": "code",
   "execution_count": null,
   "id": "823a3c38-ca21-45f8-806e-707240729bbb",
   "metadata": {
    "tags": []
   },
   "outputs": [],
   "source": [
    "fs = glob.glob(f'{folder}/*pdf')\n",
    "fs[0]"
   ]
  },
  {
   "cell_type": "markdown",
   "id": "39bcd7e8-422d-4d75-adfe-552b07c465f7",
   "metadata": {
    "tags": []
   },
   "source": [
    "#### Getting started with extracting file metadata"
   ]
  },
  {
   "cell_type": "code",
   "execution_count": null,
   "id": "5cb7e1e7-aa53-4155-9800-709a62dae17a",
   "metadata": {
    "tags": []
   },
   "outputs": [],
   "source": [
    "for f in fs[:3]:\n",
    "    path, filename = os.path.split(f)\n",
    "    name, ext = os.path.splitext(filename)\n",
    "    items = name.split('-')\n",
    "    print(items)"
   ]
  },
  {
   "cell_type": "markdown",
   "id": "57d22374-a6b5-487d-83d5-f6d1a0d7c584",
   "metadata": {},
   "source": [
    "#### Getting text from PDF"
   ]
  },
  {
   "cell_type": "code",
   "execution_count": null,
   "id": "5f199177-0665-498d-856e-d042301a34cc",
   "metadata": {
    "tags": []
   },
   "outputs": [],
   "source": [
    "from pypdf import PdfReader\n",
    "\n",
    "texts = []\n",
    "reader = PdfReader(fs[0])\n",
    "for page in reader.pages:\n",
    "    text = page.extract_text()\n",
    "    texts.append(text)"
   ]
  },
  {
   "cell_type": "code",
   "execution_count": null,
   "id": "60948cd9-5843-47b6-bc05-778974266381",
   "metadata": {
    "tags": []
   },
   "outputs": [],
   "source": [
    "texts[0]"
   ]
  },
  {
   "cell_type": "markdown",
   "id": "a5d82db2-5e56-4c54-8687-0443dc911fd3",
   "metadata": {
    "tags": []
   },
   "source": [
    "#### Tokenize with `spacy`"
   ]
  },
  {
   "cell_type": "code",
   "execution_count": null,
   "id": "9dd82272-60c1-45c1-82c9-1234a989f3db",
   "metadata": {
    "tags": []
   },
   "outputs": [],
   "source": [
    "import spacy\n",
    "\n",
    "nlp = spacy.load(\"en_core_web_lg\")\n",
    "doc = nlp('\\n'.join(texts))"
   ]
  },
  {
   "cell_type": "code",
   "execution_count": null,
   "id": "d64bc322-c139-4323-9851-bda40f4fa7d2",
   "metadata": {
    "tags": []
   },
   "outputs": [],
   "source": [
    "for ent in doc.ents:\n",
    "    if ent.label_ == 'ORG':\n",
    "        print(ent.text, ent.start_char, ent.end_char, ent.label_)"
   ]
  },
  {
   "cell_type": "code",
   "execution_count": null,
   "id": "57000b28-2112-4c1b-b25c-01be739def8d",
   "metadata": {},
   "outputs": [],
   "source": [
    "for token in doc[:20]:\n",
    "    if token.pos_ == 'NOUN' or token.pos_ == 'PROPN':\n",
    "        print(token)"
   ]
  },
  {
   "cell_type": "markdown",
   "id": "6dcaba0a-f27a-4b98-9c46-0893e611a8b5",
   "metadata": {},
   "source": [
    "## PROJECT Code"
   ]
  },
  {
   "cell_type": "code",
   "execution_count": null,
   "id": "d36d7069-6daa-4d9e-833f-fa24ddd63265",
   "metadata": {},
   "outputs": [],
   "source": []
  }
 ],
 "metadata": {
  "kernelspec": {
   "display_name": "Python 3 (ipykernel)",
   "language": "python",
   "name": "python3"
  },
  "language_info": {
   "codemirror_mode": {
    "name": "ipython",
    "version": 3
   },
   "file_extension": ".py",
   "mimetype": "text/x-python",
   "name": "python",
   "nbconvert_exporter": "python",
   "pygments_lexer": "ipython3",
   "version": "3.10.6"
  }
 },
 "nbformat": 4,
 "nbformat_minor": 5
}
