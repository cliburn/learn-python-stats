{
 "cells": [
  {
   "cell_type": "markdown",
   "id": "fc95492d-feb4-456c-9557-b049be654b66",
   "metadata": {},
   "source": [
    "# Homework 2: Working with strings\n",
    "\n",
    "The notes from my course might be helpful\n",
    "\n",
    "- https://people.duke.edu/~ccc14/sta-663-2019/notebook/S02_Text_Annotated.html\n",
    "- https://people.duke.edu/~ccc14/sta-663-2018/notebooks/S05_Text_Annotated.html"
   ]
  },
  {
   "cell_type": "markdown",
   "id": "2f27cf50-36dd-4554-a5ae-a9d5b3462c59",
   "metadata": {
    "tags": []
   },
   "source": [
    "**1.** A formatting exercise."
   ]
  },
  {
   "cell_type": "code",
   "execution_count": 1,
   "id": "9b1ab21f-1007-4960-b349-88d0a70e4c7f",
   "metadata": {
    "tags": []
   },
   "outputs": [],
   "source": [
    "import numpy as np\n",
    "np.random.seed(42)\n",
    "ps = np.random.beta(0.2, 0.2, 10)"
   ]
  },
  {
   "cell_type": "markdown",
   "id": "5560a802-4e34-4b40-b609-6090979fee12",
   "metadata": {
    "tags": []
   },
   "source": [
    "Write code so that the values in `ps` are printed like so:\n",
    "    \n",
    "```python\n",
    "p < 0.001\n",
    "p < 0.001\n",
    "p = 0.009\n",
    "p = 0.061\n",
    "p = 0.306\n",
    "p = 0.489\n",
    "p = 0.500\n",
    "p = 0.732\n",
    "p = 0.878\n",
    "p = 0.999\n",
    "```"
   ]
  },
  {
   "cell_type": "markdown",
   "id": "cd07ab1c-a8f0-4e46-a563-740efd6dc252",
   "metadata": {},
   "source": [
    "## Solution to exercise 1"
   ]
  },
  {
   "cell_type": "code",
   "execution_count": 2,
   "id": "ca836bcb-cff2-4d72-b6a8-22401e2bf559",
   "metadata": {
    "tags": []
   },
   "outputs": [
    {
     "name": "stdout",
     "output_type": "stream",
     "text": [
      "p < 0.001\n",
      "p < 0.001\n",
      "p = 0.009\n",
      "p = 0.061\n",
      "p = 0.306\n",
      "p = 0.489\n",
      "p = 0.500\n",
      "p = 0.732\n",
      "p = 0.878\n",
      "p = 0.999\n"
     ]
    }
   ],
   "source": [
    "for p in sorted(ps):\n",
    "    if p < 0.001:\n",
    "        print('p < 0.001')\n",
    "    else:\n",
    "        print(f'p = {p:.3f}')"
   ]
  },
  {
   "cell_type": "markdown",
   "id": "ba1282e7-4e91-41a0-bcef-c53cd17b4711",
   "metadata": {},
   "source": [
    "**2**. Write a funciton that converts an integer in base 10 to one in base 2 (as a string) and return the number of 0s and 1s in it in a dictionary.\n",
    "\n",
    "Recall:\n",
    "\n",
    "$$\n",
    "14 = 1 \\times 2^3 + 1 \\times 2^2 + 1 \\times 2^1 + 0 \\times 2^0 = 1110\n",
    "$$\n",
    "\n",
    "The results should look similar to this:\n",
    "\n",
    "```python\n",
    "In : count_bits(14)\n",
    "Out: {'0': 1, '1': 3}\n",
    "```"
   ]
  },
  {
   "cell_type": "markdown",
   "id": "744d06d2-9825-4930-9178-d7250ecf9440",
   "metadata": {},
   "source": [
    "## Solution to exercise 2"
   ]
  },
  {
   "cell_type": "markdown",
   "id": "5a5f65f9-b8f9-44cb-b4de-151201896e45",
   "metadata": {},
   "source": [
    "Version 1"
   ]
  },
  {
   "cell_type": "code",
   "execution_count": 3,
   "id": "2c9e531e-b4e5-4a76-a9cb-43821d555ad4",
   "metadata": {
    "tags": []
   },
   "outputs": [],
   "source": [
    "def i2b(n):\n",
    "    \"\"\"Convert an integer into its binary string.\"\"\"\n",
    "    \n",
    "    s = ''\n",
    "    while n != 0:\n",
    "        n, r = divmod(n, 2)\n",
    "        s += str(r)\n",
    "    return s[::-1]\n",
    "\n",
    "def count_bits(n):\n",
    "    \"\"\"Count the number of zeros and ones in the binary represetnation of an integer.\"\"\"\n",
    "    \n",
    "    s = i2b(n)\n",
    "    return {'0': s.count('0'), '1': s.count('1')}"
   ]
  },
  {
   "cell_type": "code",
   "execution_count": 4,
   "id": "c8d8e860-85ce-4533-a8b3-ea450ce942c8",
   "metadata": {
    "tags": []
   },
   "outputs": [
    {
     "data": {
      "text/plain": [
       "{'0': 1, '1': 3}"
      ]
     },
     "execution_count": 4,
     "metadata": {},
     "output_type": "execute_result"
    }
   ],
   "source": [
    "count_bits(14)"
   ]
  },
  {
   "cell_type": "markdown",
   "id": "f1624a1e-4865-45b2-9d1d-20343aff6a5c",
   "metadata": {},
   "source": [
    "Version 2"
   ]
  },
  {
   "cell_type": "code",
   "execution_count": 5,
   "id": "76b9ca1d-0142-4d36-9de1-94398a3e0a11",
   "metadata": {
    "tags": []
   },
   "outputs": [],
   "source": [
    "from collections import Counter\n",
    "\n",
    "def count_bits(n):\n",
    "    return Counter(bin(n)[2:])"
   ]
  },
  {
   "cell_type": "code",
   "execution_count": 6,
   "id": "2d31a301-3783-4095-9c9a-4b788ad670db",
   "metadata": {
    "tags": []
   },
   "outputs": [
    {
     "data": {
      "text/plain": [
       "Counter({'1': 3, '0': 1})"
      ]
     },
     "execution_count": 6,
     "metadata": {},
     "output_type": "execute_result"
    }
   ],
   "source": [
    "count_bits(14)"
   ]
  },
  {
   "cell_type": "markdown",
   "id": "d19048f3-ec88-4bec-be4b-77dc445afa46",
   "metadata": {},
   "source": [
    "**3**. Read in the two books by James Joyce stored in `data/portrait.txt` and `data/ulysses.txt` and create a `pandas DataFrame` where each row is word in either book, each column is a book and each cel contains the number of occurrences of that word in each book. \n",
    "\n",
    "For simplicity, do the following:\n",
    "\n",
    "- Convert all text to lower case\n",
    "- Remove all punctuation\n",
    "- Connsider any text sepearated by white space as a \"word\"\n",
    "\n",
    "Hint: \n",
    "\n",
    "- To remove punctuation, look up `string.punctuation` and `str.translate`\n",
    "- You need to find the vocabulary (union of unique words in both books)\n",
    "- You can use `collections.Counter` to count words\n",
    "- To create a pandas DataFrame"
   ]
  },
  {
   "cell_type": "code",
   "execution_count": 7,
   "id": "bce397c0-42a0-4491-a023-e79394b6f2a6",
   "metadata": {
    "tags": []
   },
   "outputs": [
    {
     "data": {
      "text/html": [
       "<div>\n",
       "<style scoped>\n",
       "    .dataframe tbody tr th:only-of-type {\n",
       "        vertical-align: middle;\n",
       "    }\n",
       "\n",
       "    .dataframe tbody tr th {\n",
       "        vertical-align: top;\n",
       "    }\n",
       "\n",
       "    .dataframe thead th {\n",
       "        text-align: right;\n",
       "    }\n",
       "</style>\n",
       "<table border=\"1\" class=\"dataframe\">\n",
       "  <thead>\n",
       "    <tr style=\"text-align: right;\">\n",
       "      <th></th>\n",
       "      <th>Book 1</th>\n",
       "      <th>Book 2</th>\n",
       "    </tr>\n",
       "  </thead>\n",
       "  <tbody>\n",
       "    <tr>\n",
       "      <th>apple</th>\n",
       "      <td>1</td>\n",
       "      <td>3</td>\n",
       "    </tr>\n",
       "    <tr>\n",
       "      <th>banana</th>\n",
       "      <td>2</td>\n",
       "      <td>1</td>\n",
       "    </tr>\n",
       "    <tr>\n",
       "      <th>cherry</th>\n",
       "      <td>3</td>\n",
       "      <td>2</td>\n",
       "    </tr>\n",
       "  </tbody>\n",
       "</table>\n",
       "</div>"
      ],
      "text/plain": [
       "        Book 1  Book 2\n",
       "apple        1       3\n",
       "banana       2       1\n",
       "cherry       3       2"
      ]
     },
     "execution_count": 7,
     "metadata": {},
     "output_type": "execute_result"
    }
   ],
   "source": [
    "import pandas as pd\n",
    "\n",
    "books = ['Book 1', 'Book 2']\n",
    "words = ['apple', 'banana', 'cherry']\n",
    "counts = [\n",
    "    [1, 3],\n",
    "    [2, 1],\n",
    "    [3, 2],\n",
    "]\n",
    "df = pd.DataFrame(counts, columns=books, index=words)\n",
    "df"
   ]
  },
  {
   "cell_type": "markdown",
   "id": "5d89b75a-6da4-41f7-9700-fbb2ae062650",
   "metadata": {},
   "source": [
    "## Solution to exercise 3"
   ]
  },
  {
   "cell_type": "markdown",
   "id": "fb674016-45a5-4854-8224-368109d50d72",
   "metadata": {},
   "source": [
    "Convert books into lists of words."
   ]
  },
  {
   "cell_type": "code",
   "execution_count": 8,
   "id": "2ad3aa4a-dd05-4c44-a54d-e3243cb56d97",
   "metadata": {
    "tags": []
   },
   "outputs": [],
   "source": [
    "import string\n",
    "\n",
    "paths = ['data/ulysses.txt', 'data/portrait.txt']\n",
    "\n",
    "word_dict = {}\n",
    "for path in paths:\n",
    "    with open(path) as f:\n",
    "        text = f.read()\n",
    "        tbl = str.maketrans('', '', string.punctuation)\n",
    "        words = text.lower().strip().translate(tbl).split()\n",
    "        word_dict[path] = words"
   ]
  },
  {
   "cell_type": "markdown",
   "id": "3c294bb2-be57-425a-9444-42c7b64cce39",
   "metadata": {},
   "source": [
    "Find common vacobulary."
   ]
  },
  {
   "cell_type": "code",
   "execution_count": 9,
   "id": "7a601605-d922-49ad-9cb7-d4d3c8b5dbd2",
   "metadata": {
    "tags": []
   },
   "outputs": [],
   "source": [
    "vocab = set(word_dict[paths[0]] + word_dict[paths[1]])"
   ]
  },
  {
   "cell_type": "markdown",
   "id": "47054bd5-a98d-4c11-b55e-9a7309e4c964",
   "metadata": {},
   "source": [
    "Count words in each book."
   ]
  },
  {
   "cell_type": "code",
   "execution_count": 10,
   "id": "c1bf906e-70db-4d0b-a361-4dd448613ad9",
   "metadata": {
    "tags": []
   },
   "outputs": [],
   "source": [
    "from collections import Counter\n",
    "word_counts = {book: Counter(words) for book, words in word_dict.items()}"
   ]
  },
  {
   "cell_type": "markdown",
   "id": "e9f658fd-04d6-4cb4-b240-bb2a901b8d6f",
   "metadata": {
    "tags": []
   },
   "source": [
    "Build up counts for each word in vocabulary."
   ]
  },
  {
   "cell_type": "code",
   "execution_count": 11,
   "id": "228357d8-57bb-4b3d-bc81-87f0b6f0750c",
   "metadata": {
    "tags": []
   },
   "outputs": [],
   "source": [
    "countss = []\n",
    "for path in paths:\n",
    "    c = word_counts[path]\n",
    "    counts = [c.get(word, 0) for word in vocab]\n",
    "    countss.append(counts)\n",
    "    \n",
    "import numpy as np\n",
    "countss = np.array(countss).T"
   ]
  },
  {
   "cell_type": "markdown",
   "id": "db613d20-cde3-44f0-8bed-315f1bd6a142",
   "metadata": {},
   "source": [
    "Construct DataFrame"
   ]
  },
  {
   "cell_type": "code",
   "execution_count": 12,
   "id": "f9639fb8-d635-4c79-9299-662a87bafc0d",
   "metadata": {
    "tags": []
   },
   "outputs": [
    {
     "data": {
      "text/html": [
       "<div>\n",
       "<style scoped>\n",
       "    .dataframe tbody tr th:only-of-type {\n",
       "        vertical-align: middle;\n",
       "    }\n",
       "\n",
       "    .dataframe tbody tr th {\n",
       "        vertical-align: top;\n",
       "    }\n",
       "\n",
       "    .dataframe thead th {\n",
       "        text-align: right;\n",
       "    }\n",
       "</style>\n",
       "<table border=\"1\" class=\"dataframe\">\n",
       "  <thead>\n",
       "    <tr style=\"text-align: right;\">\n",
       "      <th></th>\n",
       "      <th>data/ulysses.txt</th>\n",
       "      <th>data/portrait.txt</th>\n",
       "    </tr>\n",
       "  </thead>\n",
       "  <tbody>\n",
       "    <tr>\n",
       "      <th>the</th>\n",
       "      <td>15023</td>\n",
       "      <td>6065</td>\n",
       "    </tr>\n",
       "    <tr>\n",
       "      <th>of</th>\n",
       "      <td>8256</td>\n",
       "      <td>3264</td>\n",
       "    </tr>\n",
       "    <tr>\n",
       "      <th>and</th>\n",
       "      <td>7214</td>\n",
       "      <td>3393</td>\n",
       "    </tr>\n",
       "    <tr>\n",
       "      <th>a</th>\n",
       "      <td>6514</td>\n",
       "      <td>1988</td>\n",
       "    </tr>\n",
       "    <tr>\n",
       "      <th>to</th>\n",
       "      <td>5031</td>\n",
       "      <td>2006</td>\n",
       "    </tr>\n",
       "    <tr>\n",
       "      <th>...</th>\n",
       "      <td>...</td>\n",
       "      <td>...</td>\n",
       "    </tr>\n",
       "    <tr>\n",
       "      <th>rhymester</th>\n",
       "      <td>0</td>\n",
       "      <td>1</td>\n",
       "    </tr>\n",
       "    <tr>\n",
       "      <th>bike</th>\n",
       "      <td>0</td>\n",
       "      <td>1</td>\n",
       "    </tr>\n",
       "    <tr>\n",
       "      <th>wintry</th>\n",
       "      <td>0</td>\n",
       "      <td>4</td>\n",
       "    </tr>\n",
       "    <tr>\n",
       "      <th>levite’s</th>\n",
       "      <td>0</td>\n",
       "      <td>1</td>\n",
       "    </tr>\n",
       "    <tr>\n",
       "      <th>—tennyson</th>\n",
       "      <td>0</td>\n",
       "      <td>1</td>\n",
       "    </tr>\n",
       "  </tbody>\n",
       "</table>\n",
       "<p>33673 rows × 2 columns</p>\n",
       "</div>"
      ],
      "text/plain": [
       "           data/ulysses.txt  data/portrait.txt\n",
       "the                   15023               6065\n",
       "of                     8256               3264\n",
       "and                    7214               3393\n",
       "a                      6514               1988\n",
       "to                     5031               2006\n",
       "...                     ...                ...\n",
       "rhymester                 0                  1\n",
       "bike                      0                  1\n",
       "wintry                    0                  4\n",
       "levite’s                  0                  1\n",
       "—tennyson                 0                  1\n",
       "\n",
       "[33673 rows x 2 columns]"
      ]
     },
     "execution_count": 12,
     "metadata": {},
     "output_type": "execute_result"
    }
   ],
   "source": [
    "df = pd.DataFrame(countss, columns=paths, index=list(vocab))\n",
    "df.sort_values('data/ulysses.txt', ascending=False)"
   ]
  },
  {
   "cell_type": "markdown",
   "id": "62556b39-642f-4568-9e71-527ab2ba111a",
   "metadata": {},
   "source": [
    "## Exercise 4: Do the first 5 sets of Regex Golf\n",
    "\n",
    "See instructions at https://alf.nu/RegexGolf?world=regex&level=r00\n",
    "\n",
    "These exercises are named\n",
    "\n",
    "- Warmup\n",
    "- Anchors\n",
    "- It never ends\n",
    "- Ranges\n",
    "- Backrefs\n",
    "\n",
    "Hint: These are useful regex patterns (not all requireed)\n",
    "\n",
    "- Any character `.`,\n",
    "- Quantity modifier `+`, `*`\n",
    "- Alternatives `(cat|dot)`\n",
    "- Character class `[]`\n",
    "- Grouping `()`\n",
    "- Back refs `\\1`, `\\2`\n",
    "- Word boundary `\\b`\n",
    "- Space `\\s`\n",
    "- Numbers `\\d` or `[0-9]`\n",
    "- Beginning of string `^`\n",
    "- End of string `$`"
   ]
  },
  {
   "cell_type": "markdown",
   "id": "82f48b1a-f686-45fb-9bc5-1bbc9f2bce7f",
   "metadata": {
    "tags": []
   },
   "source": [
    "## Solutions to exercsie 4"
   ]
  },
  {
   "cell_type": "markdown",
   "id": "68697f40-d630-4301-9ee6-3712d8b57b82",
   "metadata": {},
   "source": [
    "- Warmup `.*foo.*`\n",
    "- Anchors `.*k$`\n",
    "- It never ends `fu\\b`\n",
    "- Ranges `^[a-f]*$`\n",
    "- Backrefs `^(...).*\\1.*`"
   ]
  },
  {
   "cell_type": "code",
   "execution_count": null,
   "id": "761f5cb7-2f61-45fc-97d1-a4e342832144",
   "metadata": {},
   "outputs": [],
   "source": []
  }
 ],
 "metadata": {
  "kernelspec": {
   "display_name": "Python 3 (ipykernel)",
   "language": "python",
   "name": "python3"
  },
  "language_info": {
   "codemirror_mode": {
    "name": "ipython",
    "version": 3
   },
   "file_extension": ".py",
   "mimetype": "text/x-python",
   "name": "python",
   "nbconvert_exporter": "python",
   "pygments_lexer": "ipython3",
   "version": "3.10.6"
  }
 },
 "nbformat": 4,
 "nbformat_minor": 5
}
