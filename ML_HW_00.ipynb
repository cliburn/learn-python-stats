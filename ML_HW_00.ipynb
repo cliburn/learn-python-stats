{
 "cells": [
  {
   "cell_type": "markdown",
   "id": "6990e4c8-e951-43b9-81fe-82384485b233",
   "metadata": {},
   "source": [
    "# Basic practice with Python and `numpy`"
   ]
  },
  {
   "cell_type": "markdown",
   "id": "4171748f-6c95-42c8-83bc-67d2273a73f1",
   "metadata": {},
   "source": [
    "We will manually construct a confusion matrix and calculate various defined measures.\n",
    "\n",
    "This follows the description of conusion matrix in https://en.wikipedia.org/wiki/Confusion_matrix"
   ]
  },
  {
   "cell_type": "markdown",
   "id": "14bcd7cf-4f49-4be3-a2d0-ca53aad13621",
   "metadata": {},
   "source": [
    "**1**. Get the `Actual Classification` and `Predicted Classification` values from the Wikipedia page into `numpy` arrays called ``y_true` and `y_pred` respectively.\n",
    "\n",
    "y_true should look like this\n",
    "```python\n",
    "array([1, 1, 1, 1, 1, 1, 1, 1, 0, 0, 0, 0])\n",
    "```"
   ]
  },
  {
   "cell_type": "code",
   "execution_count": null,
   "id": "57524e5a-b7d6-4b80-abec-3ad29aab6a6f",
   "metadata": {},
   "outputs": [],
   "source": [
    "\n",
    "\n",
    "\n"
   ]
  },
  {
   "cell_type": "markdown",
   "id": "c917a3dc-5b18-4f7f-a3b5-0b2d3c998076",
   "metadata": {},
   "source": [
    "**2**. Construct the 2 $\\times$ 2 confusion matrix from `y_true` and `y_pred` where the rows are the actual classificaiton and the columns are the predicted classificaiton. From Wikipedia, it should look like this:\n",
    "\n",
    "```python\n",
    "array([[6, 2],\n",
    "       [1, 3]])\n",
    "```"
   ]
  },
  {
   "cell_type": "code",
   "execution_count": null,
   "id": "3b721ef4-6b27-41ba-a950-5f12837a907c",
   "metadata": {},
   "outputs": [],
   "source": [
    "\n",
    "\n",
    "\n"
   ]
  },
  {
   "cell_type": "markdown",
   "id": "58c13bc4-0209-4a29-99ea-a6708fdde7ab",
   "metadata": {},
   "source": [
    "**3**. Write functions to calculate the value of some of the terms in the `Terminology and derivations from a confusion matrix` table on Wikipedia. The funciton should take a $2 \\times 2$ conusion marix defined as in exercise **2** as input. If there are multiple synonmys for the value, just choose one for the function name.\n",
    "\n",
    "Do this for\n",
    "\n",
    "- Type I error\n",
    "- Type II error\n",
    "- sensitivity\n",
    "- specificity\n",
    "- negative predictive value (NPV)\n",
    "- positive predictive value (PPV)\n",
    "- false discovery rate (FDR)\n",
    "- accuracy (ACC)\n",
    "- F1 score\n",
    "- Matthews correlation coefficient (MCC)\n",
    "\n",
    "For example, if `M` is the confusin matrix, then `sensitivity(M)` shoudl return `0.75`.\n"
   ]
  },
  {
   "cell_type": "code",
   "execution_count": null,
   "id": "d16bd263-b580-413b-80b3-b31c48608b52",
   "metadata": {},
   "outputs": [],
   "source": [
    "\n",
    "\n",
    "\n"
   ]
  },
  {
   "cell_type": "markdown",
   "id": "ee860bba-27e6-4049-b3c9-6db6621f1895",
   "metadata": {},
   "source": [
    "**4**. Compare the results of your Matthews correlation coefficient (MCC) with the `matthews_corrcoef` function from `scikit-learn`. Do this for all the other terms as wel."
   ]
  },
  {
   "cell_type": "code",
   "execution_count": null,
   "id": "42f74d7e-7f6b-4f83-b9e7-7632824827e4",
   "metadata": {},
   "outputs": [],
   "source": [
    "\n",
    "\n",
    "\n"
   ]
  },
  {
   "cell_type": "markdown",
   "id": "874e2ccd-4dbe-4b0f-b972-d4aea67fcdec",
   "metadata": {},
   "source": [
    "**5**. Create a confusion matrix viaulzation that looks like this using `ConfusionMatrixDisplay` form `scikit-learn`.\n",
    " \n",
    "![img](cm.png)"
   ]
  },
  {
   "cell_type": "code",
   "execution_count": null,
   "id": "e7a930dc-35cf-4b57-b92f-fde9ac3ea995",
   "metadata": {},
   "outputs": [],
   "source": [
    "\n",
    "\n",
    "\n"
   ]
  },
  {
   "cell_type": "markdown",
   "id": "fa2e0b49-18ee-4ae9-8550-e3806f8129ea",
   "metadata": {},
   "source": [
    "**6**. Set the ranom number seed to 42. Now create random vectors of 50 zeros and ones for y_true and y_pred. Repat exersie 4 and 5 for these vectors."
   ]
  },
  {
   "cell_type": "code",
   "execution_count": null,
   "id": "7357aa82-6e1a-4ed4-ab56-89d25fed0bff",
   "metadata": {},
   "outputs": [],
   "source": [
    "\n",
    "\n",
    "\n"
   ]
  }
 ],
 "metadata": {
  "kernelspec": {
   "display_name": "py310",
   "language": "python",
   "name": "py310"
  },
  "language_info": {
   "codemirror_mode": {
    "name": "ipython",
    "version": 3
   },
   "file_extension": ".py",
   "mimetype": "text/x-python",
   "name": "python",
   "nbconvert_exporter": "python",
   "pygments_lexer": "ipython3",
   "version": "3.10.12"
  }
 },
 "nbformat": 4,
 "nbformat_minor": 5
}
