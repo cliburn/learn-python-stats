{
 "cells": [
  {
   "cell_type": "markdown",
   "id": "503046c7-ca7b-4c47-898d-ec7b734490aa",
   "metadata": {},
   "source": [
    "# Options for Projects"
   ]
  },
  {
   "cell_type": "markdown",
   "id": "a2c3725b-701b-4aa2-9a16-fa586aeab86d",
   "metadata": {},
   "source": [
    "## Option 1 - Geospatial analysis\n",
    "\n",
    "Implement 3 projects from `Python for Geospatial Data Analysis`"
   ]
  },
  {
   "cell_type": "markdown",
   "id": "9bf574e2-7b86-4307-b704-63b0a025837a",
   "metadata": {},
   "source": [
    "## Option 2 - Text analysis of Acuary magazine\n",
    "\n",
    "Build `tf-idf` matrix for each year of Actuary magazine and analyze changes in import terms over time."
   ]
  },
  {
   "cell_type": "markdown",
   "id": "d6b9d1b1-d42b-412b-bf99-50f19a805cc3",
   "metadata": {},
   "source": [
    "## Option 3 — Computer recreations\n",
    "\n",
    "Implement 3 project from AK Dewdney's `Computer Recreations` column in Scientifc American"
   ]
  },
  {
   "cell_type": "markdown",
   "id": "5d13eb2e-23bf-44dc-9087-2ff4543d787f",
   "metadata": {
    "tags": []
   },
   "source": [
    "## Option 4 - Code generation with AI\n",
    "\n",
    "Learn promt engineering to get AI to write your code"
   ]
  },
  {
   "cell_type": "code",
   "execution_count": null,
   "id": "2ea00600-7331-4d32-b22e-2d3c24d05193",
   "metadata": {},
   "outputs": [],
   "source": []
  }
 ],
 "metadata": {
  "kernelspec": {
   "display_name": "Python 3 (ipykernel)",
   "language": "python",
   "name": "python3"
  },
  "language_info": {
   "codemirror_mode": {
    "name": "ipython",
    "version": 3
   },
   "file_extension": ".py",
   "mimetype": "text/x-python",
   "name": "python",
   "nbconvert_exporter": "python",
   "pygments_lexer": "ipython3",
   "version": "3.10.6"
  }
 },
 "nbformat": 4,
 "nbformat_minor": 5
}
