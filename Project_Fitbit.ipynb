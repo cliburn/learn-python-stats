{
 "cells": [
  {
   "cell_type": "markdown",
   "id": "32e29350-d660-4742-9652-9b162a664fdf",
   "metadata": {},
   "source": [
    "# Review Fitbit data\n",
    "\n",
    "- Go to your fitbit.com dashboard and log into your account.\n",
    "- Click the gear icon at the upper right corner, then Settings.\n",
    "- Scroll down and look for Data Export.\n",
    "- Select the time frame, the data (body, food, activities, sleep) you wish to export and file format.\n",
    "- Then click Download and wait until the file is ready.\n",
    "\n",
    "You can also [usse the REST API](https://www.shanelynn.ie/plot-your-fitbit-data-in-python-api-v1-2/#comments) but it requies a developer account and seemed like too much work for me."
   ]
  },
  {
   "cell_type": "code",
   "execution_count": null,
   "id": "ebb2735e-bb7f-4e42-9de9-f6aeb73c2ccf",
   "metadata": {},
   "outputs": [],
   "source": []
  }
 ],
 "metadata": {
  "kernelspec": {
   "display_name": "Python 3 (ipykernel)",
   "language": "python",
   "name": "python3"
  },
  "language_info": {
   "codemirror_mode": {
    "name": "ipython",
    "version": 3
   },
   "file_extension": ".py",
   "mimetype": "text/x-python",
   "name": "python",
   "nbconvert_exporter": "python",
   "pygments_lexer": "ipython3",
   "version": "3.10.6"
  }
 },
 "nbformat": 4,
 "nbformat_minor": 5
}
