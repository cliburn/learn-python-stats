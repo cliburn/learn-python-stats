{
 "cells": [
  {
   "cell_type": "markdown",
   "id": "53d72af8-6d32-4faf-ba67-ce35892b4c9e",
   "metadata": {},
   "source": [
    "**1**. Wikipedia gives this algorithm for finding prime numbers\n",
    "\n",
    "To find all the prime numbers less than or equal to a given integer n by Eratosthenes' method:\n",
    "\n",
    "- Create a list of consecutive integers from 2 through n: (2, 3, 4, ..., n).\n",
    "- Initially, let p equal 2, the smallest prime number.\n",
    "- Enumerate the multiples of p by counting to n from 2p in increments of p, and mark them in the list (these will be 2p, 3p, 4p, ...; the p itself should not be marked).\n",
    "- Find the first number greater than p in the list that is not marked. If there was no such number, stop. Otherwise, let p now equal this new number (which is the next prime), and repeat from step 3.\n",
    "- When the algorithm terminates, the numbers remaining not marked in the list are all the primes below n.\n",
    "\n",
    "Find all primes less than 1,000 using this method.\n",
    "\n",
    "- You may use `numpy` and do not have to follow the algorithm exactly if you can achieve the same results."
   ]
  },
  {
   "cell_type": "code",
   "execution_count": 28,
   "id": "b12296c0-8dcc-4d80-9a3b-83feae54aa7e",
   "metadata": {},
   "outputs": [],
   "source": [
    "import numpy as np"
   ]
  },
  {
   "cell_type": "code",
   "execution_count": 40,
   "id": "84fec6df-b4a8-4e9f-a8c0-c8e7284df81e",
   "metadata": {},
   "outputs": [],
   "source": [
    "def sieve(n):\n",
    "    \"\"\"Find primes using Sieve of Erastothenes.\"\"\"\n",
    "\n",
    "    # Create a list of consecutive integers from 2 through n: (2, 3, 4, ..., n).\n",
    "    ns = np.arange(0, n+1)\n",
    "    is_prime = np.ones(ns.shape).astype('bool')\n",
    "\n",
    "    # Initially, let p equal 2, the smallest prime number.\n",
    "    p = 2\n",
    "    while True:\n",
    "        # Enumerate the multiples of p by counting to n from 2p in increments of p, \n",
    "        # and mark them in the list (these will be 2p, 3p, 4p, ...; \n",
    "        # the p itself should not be marked).\n",
    "        for k in range(2, (n+2)//p):\n",
    "            is_prime[k*p] = False\n",
    "\n",
    "        # Find the first number greater than p in the list that is not marked. \n",
    "        # If there was no such number, stop. \n",
    "        # Otherwise, let p now equal this new number (which is the next prime), and repeat from step 3.\n",
    "        rs = ns[(ns > p) & is_prime]\n",
    "        if len(rs) > 1:\n",
    "            p = rs[0]\n",
    "        else: \n",
    "            break\n",
    "\n",
    "    # When the algorithm terminates, the numbers remaining not marked in the list are all the primes below n.\n",
    "    return ns[is_prime][2:]"
   ]
  },
  {
   "cell_type": "code",
   "execution_count": 41,
   "id": "93f77d35-222f-4868-8e43-5b6e0aafb601",
   "metadata": {},
   "outputs": [
    {
     "data": {
      "text/plain": [
       "array([  2,   3,   5,   7,  11,  13,  17,  19,  23,  29,  31,  37,  41,\n",
       "        43,  47,  53,  59,  61,  67,  71,  73,  79,  83,  89,  97, 101,\n",
       "       103, 107, 109, 113, 127, 131, 137, 139, 149, 151, 157, 163, 167,\n",
       "       173, 179, 181, 191, 193, 197, 199, 211, 223, 227, 229, 233, 239,\n",
       "       241, 251, 257, 263, 269, 271, 277, 281, 283, 293, 307, 311, 313,\n",
       "       317, 331, 337, 347, 349, 353, 359, 367, 373, 379, 383, 389, 397,\n",
       "       401, 409, 419, 421, 431, 433, 439, 443, 449, 457, 461, 463, 467,\n",
       "       479, 487, 491, 499, 503, 509, 521, 523, 541, 547, 557, 563, 569,\n",
       "       571, 577, 587, 593, 599, 601, 607, 613, 617, 619, 631, 641, 643,\n",
       "       647, 653, 659, 661, 673, 677, 683, 691, 701, 709, 719, 727, 733,\n",
       "       739, 743, 751, 757, 761, 769, 773, 787, 797, 809, 811, 821, 823,\n",
       "       827, 829, 839, 853, 857, 859, 863, 877, 881, 883, 887, 907, 911,\n",
       "       919, 929, 937, 941, 947, 953, 967, 971, 977, 983, 989, 991, 997])"
      ]
     },
     "execution_count": 41,
     "metadata": {},
     "output_type": "execute_result"
    }
   ],
   "source": [
    "sieve(1_000)"
   ]
  },
  {
   "cell_type": "code",
   "execution_count": null,
   "id": "52c17e5d-9d5a-4232-a246-99e5dcbf3e9b",
   "metadata": {},
   "outputs": [],
   "source": []
  }
 ],
 "metadata": {
  "kernelspec": {
   "display_name": "py310",
   "language": "python",
   "name": "py310"
  },
  "language_info": {
   "codemirror_mode": {
    "name": "ipython",
    "version": 3
   },
   "file_extension": ".py",
   "mimetype": "text/x-python",
   "name": "python",
   "nbconvert_exporter": "python",
   "pygments_lexer": "ipython3",
   "version": "3.10.12"
  }
 },
 "nbformat": 4,
 "nbformat_minor": 5
}
