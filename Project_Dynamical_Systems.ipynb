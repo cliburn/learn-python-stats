{
 "cells": [
  {
   "cell_type": "markdown",
   "id": "79e2a358-382e-4092-815a-dc7ad953f491",
   "metadata": {},
   "source": [
    "# Dynamical Systems"
   ]
  },
  {
   "cell_type": "markdown",
   "id": "ad6fb57a-7bca-445f-b6f1-8446534e2dc1",
   "metadata": {},
   "source": [
    "## Discrete maps"
   ]
  },
  {
   "cell_type": "markdown",
   "id": "dfc919fe-df11-4db6-baf6-5bf23845404e",
   "metadata": {},
   "source": [
    "### Simulation\n",
    "\n",
    "- https://github.com/gboeing/pynamical"
   ]
  },
  {
   "cell_type": "code",
   "execution_count": null,
   "id": "1c91e538-a3ae-4631-abd8-6caefbbf8ac0",
   "metadata": {},
   "outputs": [],
   "source": []
  },
  {
   "cell_type": "code",
   "execution_count": null,
   "id": "96df3a04-6089-4c81-b8a9-5e54993e1959",
   "metadata": {},
   "outputs": [],
   "source": []
  },
  {
   "cell_type": "markdown",
   "id": "3b8a999b-bc73-4ccf-ac86-f175586c1fea",
   "metadata": {},
   "source": [
    "## Continuous flows"
   ]
  },
  {
   "cell_type": "markdown",
   "id": "01369a3f-1b33-4b45-b5e9-d98d9ce9973a",
   "metadata": {},
   "source": [
    "### 2D Linear systems"
   ]
  },
  {
   "cell_type": "markdown",
   "id": "cca723b4-2886-40bb-ac5b-044c225933bd",
   "metadata": {},
   "source": [
    "#### Stream plots"
   ]
  },
  {
   "cell_type": "markdown",
   "id": "3c637282-9a90-42f9-8277-e7d9c095958d",
   "metadata": {},
   "source": [
    "## Fractals"
   ]
  },
  {
   "cell_type": "markdown",
   "id": "9f8a66a7-4958-47ef-a9f6-e20dc5c34ef9",
   "metadata": {},
   "source": [
    "### Iterative fractal systems (IFS)"
   ]
  },
  {
   "cell_type": "markdown",
   "id": "40727965-a787-4dcb-9cc3-d1f7ab1dc126",
   "metadata": {},
   "source": [
    "### Mandelbrot and Julia sets"
   ]
  },
  {
   "cell_type": "markdown",
   "id": "f25c1bb6-cac4-4ba8-8e45-6e287b64b261",
   "metadata": {},
   "source": [
    "## Complex systems"
   ]
  },
  {
   "cell_type": "markdown",
   "id": "85e5ffaa-3657-420e-a03d-c0bb6f49011b",
   "metadata": {},
   "source": [
    "### Forst fire dynamics"
   ]
  },
  {
   "cell_type": "markdown",
   "id": "28186949-5d7d-48f3-be7e-d67475fc5427",
   "metadata": {},
   "source": [
    "## Data-driven dynamical systems"
   ]
  },
  {
   "cell_type": "markdown",
   "id": "22e2b992-8157-4723-9faf-41ad7da51598",
   "metadata": {},
   "source": [
    "### Data Assimilation\n",
    "\n",
    "- https://github.com/Shady-Ahmed/PyDA\n",
    "- https://www.mdpi.com/2311-5521/5/4/225"
   ]
  },
  {
   "cell_type": "markdown",
   "id": "58cf8663-64ef-4a17-814c-97ce2af7571a",
   "metadata": {},
   "source": [
    "### Dynamic mode decomposition\n",
    "\n",
    "- https://github.com/mathLab/PyDMD"
   ]
  },
  {
   "cell_type": "markdown",
   "id": "45ce86ff-9071-44a1-912e-608ecd44a53b",
   "metadata": {},
   "source": [
    "### Koopman operator\n",
    "\n",
    "- https://github.com/dynamicslab/pykoopman"
   ]
  },
  {
   "cell_type": "markdown",
   "id": "2cf6d911-6604-46f1-a5e9-9be671b80e77",
   "metadata": {},
   "source": [
    "## SINDy\n",
    "\n",
    "- https://github.com/dynamicslab/pysindy\n",
    "- https://github.com/dynamicslab/modified-SINDy"
   ]
  },
  {
   "cell_type": "markdown",
   "id": "9c5544c3-3bc8-40d8-8112-9086682bbaf2",
   "metadata": {},
   "source": [
    "## Langevin regression\n",
    "\n",
    "- https://github.com/dynamicslab/langevin-regression"
   ]
  },
  {
   "cell_type": "markdown",
   "id": "c2e37fbc-6725-417b-9516-e14963d4db91",
   "metadata": {},
   "source": [
    "## Systems dynamics\n",
    "\n",
    "- https://github.com/SDXorg/pysd/blob/master/docs/index.rst"
   ]
  },
  {
   "cell_type": "code",
   "execution_count": null,
   "id": "0015ca3c-ee72-4abb-ae65-d81f6a465328",
   "metadata": {},
   "outputs": [],
   "source": []
  }
 ],
 "metadata": {
  "kernelspec": {
   "display_name": "Python 3 (ipykernel)",
   "language": "python",
   "name": "python3"
  },
  "language_info": {
   "codemirror_mode": {
    "name": "ipython",
    "version": 3
   },
   "file_extension": ".py",
   "mimetype": "text/x-python",
   "name": "python",
   "nbconvert_exporter": "python",
   "pygments_lexer": "ipython3",
   "version": "3.10.6"
  }
 },
 "nbformat": 4,
 "nbformat_minor": 5
}
