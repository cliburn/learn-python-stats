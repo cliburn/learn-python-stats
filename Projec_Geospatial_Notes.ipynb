{
 "cells": [
  {
   "cell_type": "markdown",
   "id": "1faf6185",
   "metadata": {},
   "source": [
    "# Geospatial examples"
   ]
  },
  {
   "cell_type": "markdown",
   "id": "d06e5498",
   "metadata": {},
   "source": [
    "## Chapter 7 — Los Angeles data"
   ]
  },
  {
   "cell_type": "markdown",
   "id": "7908d16d",
   "metadata": {},
   "source": [
    "### URL examples to get census data"
   ]
  },
  {
   "cell_type": "code",
   "execution_count": 1,
   "id": "75425ba5",
   "metadata": {},
   "outputs": [
    {
     "data": {
      "text/plain": [
       "'3.10.12 (main, Aug 18 2023, 17:39:47) [Clang 14.0.3 (clang-1403.0.22.14.1)]'"
      ]
     },
     "execution_count": 1,
     "metadata": {},
     "output_type": "execute_result"
    }
   ],
   "source": [
    "import sys\n",
    "sys.version"
   ]
  },
  {
   "cell_type": "code",
   "execution_count": 2,
   "id": "fd3968e4",
   "metadata": {
    "tags": []
   },
   "outputs": [],
   "source": [
    "import pandas as pd\n",
    "import ssl\n",
    "# ssl._create_default_https_context = ssl._create_unverified_context"
   ]
  },
  {
   "cell_type": "code",
   "execution_count": 3,
   "id": "129b4197",
   "metadata": {
    "tags": []
   },
   "outputs": [],
   "source": [
    "# url = 'https://api.census.gov/data/2019/acs/acs1/profile?get=NAME,DP03_0001E&for=metropolitan%20statistical%20area/micropolitan%20statistical%20area:*'\n",
    "url = 'https://api.census.gov/data/2010/dec/sf1?get=LSAD_NAME,P001001&for=tract:*&in=state:06'"
   ]
  },
  {
   "cell_type": "code",
   "execution_count": 4,
   "id": "f21d1e27",
   "metadata": {
    "tags": []
   },
   "outputs": [],
   "source": [
    "# df = pd.read_json(url)\n",
    "\n",
    "# df.columns = df.loc[0]\n",
    "# df = df.drop(0)\n",
    "# df"
   ]
  },
  {
   "cell_type": "markdown",
   "id": "6940bc04",
   "metadata": {},
   "source": [
    "#### The boook uses a very roundabout way of getting the same data\n",
    "\n",
    "I suggest you use the `read_json` method above."
   ]
  },
  {
   "cell_type": "code",
   "execution_count": 5,
   "id": "167d4a2a",
   "metadata": {
    "tags": []
   },
   "outputs": [],
   "source": [
    "import requests\n",
    "import urllib3\n",
    "urllib3.disable_warnings(urllib3.exceptions.InsecureRequestWarning)"
   ]
  },
  {
   "cell_type": "code",
   "execution_count": 6,
   "id": "8c0bdc73",
   "metadata": {
    "tags": []
   },
   "outputs": [],
   "source": [
    "# The built out request for the URL  https://api.census.gov/data/2010/dec/sf1?get=LSAD_NAME,P001001&for=tract:*&in=state:06\n",
    "HOST = \"https://api.census.gov/data\"\n",
    "year = \"2010\"\n",
    "dataset = \"dec/sf1\"\n",
    "base_url = \"/\".join([HOST, year, dataset])\n",
    "predicates = {}\n",
    "get_vars = [\"LSAD_NAME\", \"P001001\"]\n",
    "predicates[\"get\"] = \",\".join(get_vars)\n",
    "predicates[\"for\"] = \"tract:*\"\n",
    "predicates[\"in\"] = \"state:06\"\n",
    "r = requests.get(base_url, params=predicates, verify=False)"
   ]
  },
  {
   "cell_type": "code",
   "execution_count": 7,
   "id": "f8db91f6",
   "metadata": {
    "tags": []
   },
   "outputs": [
    {
     "data": {
      "text/html": [
       "<div>\n",
       "<style scoped>\n",
       "    .dataframe tbody tr th:only-of-type {\n",
       "        vertical-align: middle;\n",
       "    }\n",
       "\n",
       "    .dataframe tbody tr th {\n",
       "        vertical-align: top;\n",
       "    }\n",
       "\n",
       "    .dataframe thead th {\n",
       "        text-align: right;\n",
       "    }\n",
       "</style>\n",
       "<table border=\"1\" class=\"dataframe\">\n",
       "  <thead>\n",
       "    <tr style=\"text-align: right;\">\n",
       "      <th></th>\n",
       "      <th>tract_name</th>\n",
       "      <th>tract_pop</th>\n",
       "      <th>state_fips</th>\n",
       "      <th>county_fips</th>\n",
       "      <th>tract_fips</th>\n",
       "    </tr>\n",
       "  </thead>\n",
       "  <tbody>\n",
       "    <tr>\n",
       "      <th>0</th>\n",
       "      <td>Census Tract 4340.04</td>\n",
       "      <td>2796</td>\n",
       "      <td>06</td>\n",
       "      <td>037</td>\n",
       "      <td>434004</td>\n",
       "    </tr>\n",
       "    <tr>\n",
       "      <th>1</th>\n",
       "      <td>Census Tract 4600</td>\n",
       "      <td>4851</td>\n",
       "      <td>06</td>\n",
       "      <td>037</td>\n",
       "      <td>460000</td>\n",
       "    </tr>\n",
       "    <tr>\n",
       "      <th>2</th>\n",
       "      <td>Census Tract 4602</td>\n",
       "      <td>5315</td>\n",
       "      <td>06</td>\n",
       "      <td>037</td>\n",
       "      <td>460200</td>\n",
       "    </tr>\n",
       "    <tr>\n",
       "      <th>3</th>\n",
       "      <td>Census Tract 4603.01</td>\n",
       "      <td>4638</td>\n",
       "      <td>06</td>\n",
       "      <td>037</td>\n",
       "      <td>460301</td>\n",
       "    </tr>\n",
       "    <tr>\n",
       "      <th>4</th>\n",
       "      <td>Census Tract 4603.02</td>\n",
       "      <td>4442</td>\n",
       "      <td>06</td>\n",
       "      <td>037</td>\n",
       "      <td>460302</td>\n",
       "    </tr>\n",
       "    <tr>\n",
       "      <th>...</th>\n",
       "      <td>...</td>\n",
       "      <td>...</td>\n",
       "      <td>...</td>\n",
       "      <td>...</td>\n",
       "      <td>...</td>\n",
       "    </tr>\n",
       "    <tr>\n",
       "      <th>8052</th>\n",
       "      <td>Census Tract 1541</td>\n",
       "      <td>3729</td>\n",
       "      <td>06</td>\n",
       "      <td>097</td>\n",
       "      <td>154100</td>\n",
       "    </tr>\n",
       "    <tr>\n",
       "      <th>8053</th>\n",
       "      <td>Census Tract 1542.01</td>\n",
       "      <td>3925</td>\n",
       "      <td>06</td>\n",
       "      <td>097</td>\n",
       "      <td>154201</td>\n",
       "    </tr>\n",
       "    <tr>\n",
       "      <th>8054</th>\n",
       "      <td>Census Tract 38.04</td>\n",
       "      <td>6450</td>\n",
       "      <td>06</td>\n",
       "      <td>099</td>\n",
       "      <td>003804</td>\n",
       "    </tr>\n",
       "    <tr>\n",
       "      <th>8055</th>\n",
       "      <td>Census Tract 38.05</td>\n",
       "      <td>2667</td>\n",
       "      <td>06</td>\n",
       "      <td>099</td>\n",
       "      <td>003805</td>\n",
       "    </tr>\n",
       "    <tr>\n",
       "      <th>8056</th>\n",
       "      <td>Census Tract 39.04</td>\n",
       "      <td>4374</td>\n",
       "      <td>06</td>\n",
       "      <td>099</td>\n",
       "      <td>003904</td>\n",
       "    </tr>\n",
       "  </tbody>\n",
       "</table>\n",
       "<p>8057 rows × 5 columns</p>\n",
       "</div>"
      ],
      "text/plain": [
       "                tract_name  tract_pop state_fips county_fips tract_fips\n",
       "0     Census Tract 4340.04       2796         06         037     434004\n",
       "1        Census Tract 4600       4851         06         037     460000\n",
       "2        Census Tract 4602       5315         06         037     460200\n",
       "3     Census Tract 4603.01       4638         06         037     460301\n",
       "4     Census Tract 4603.02       4442         06         037     460302\n",
       "...                    ...        ...        ...         ...        ...\n",
       "8052     Census Tract 1541       3729         06         097     154100\n",
       "8053  Census Tract 1542.01       3925         06         097     154201\n",
       "8054    Census Tract 38.04       6450         06         099     003804\n",
       "8055    Census Tract 38.05       2667         06         099     003805\n",
       "8056    Census Tract 39.04       4374         06         099     003904\n",
       "\n",
       "[8057 rows x 5 columns]"
      ]
     },
     "execution_count": 7,
     "metadata": {},
     "output_type": "execute_result"
    }
   ],
   "source": [
    "# Create user friendly column names\n",
    "tract_name = [\"tract_name\", \"tract_pop\", \"state_fips\", \"county_fips\", \"tract_fips\"]\n",
    "# Reading the json into pandas df\n",
    "tractdf = pd.DataFrame(columns=tract_name, data=r.json()[1:])\n",
    "# Changing data types to integer\n",
    "tractdf[\"tract_pop\"] = tractdf[\"tract_pop\"].astype(int)\n",
    "\n",
    "tractdf"
   ]
  },
  {
   "cell_type": "code",
   "execution_count": 8,
   "id": "98fcf03d",
   "metadata": {},
   "outputs": [],
   "source": [
    "# !wget ftp://ftp2.census.gov/geo/tiger/TIGER2019/COUNTY/tl_2019_us_county.zip"
   ]
  },
  {
   "cell_type": "code",
   "execution_count": 6,
   "id": "fc9f7386-d5df-4185-a366-a11071f777f7",
   "metadata": {},
   "outputs": [],
   "source": [
    "import os\n",
    "\n",
    "ftp_path = 'ftp://ftp2.census.gov/geo/tiger/TIGER2019/TRACT/tl_2019_06_tract.zip'\n",
    "dest_path = 'data/tl_2019_06_tract.zip'\n",
    "\n",
    "if not os.path.exists(dest_path):\n",
    "    import urllib.request\n",
    "    urllib.request.urlretrieve(ftp_path, dest_path)"
   ]
  },
  {
   "cell_type": "code",
   "execution_count": 4,
   "id": "b74c1f59",
   "metadata": {
    "tags": []
   },
   "outputs": [],
   "source": [
    "import geopandas as gpd"
   ]
  },
  {
   "cell_type": "code",
   "execution_count": 16,
   "id": "faa1e411-e561-4883-985c-c7e651caefbb",
   "metadata": {},
   "outputs": [],
   "source": [
    "import zipfile\n",
    "\n",
    "archive = zipfile.ZipFile(dest_path, 'r')\n",
    "archive.extractall('data')"
   ]
  },
  {
   "cell_type": "code",
   "execution_count": 17,
   "id": "8f9f2ce6",
   "metadata": {
    "tags": []
   },
   "outputs": [
    {
     "data": {
      "text/plain": [
       "<AxesSubplot: >"
      ]
     },
     "execution_count": 17,
     "metadata": {},
     "output_type": "execute_result"
    },
    {
     "data": {
      "image/png": "[encoded data removed]",
      "text/plain": [
       "<Figure size 640x480 with 1 Axes>"
      ]
     },
     "metadata": {},
     "output_type": "display_data"
    }
   ],
   "source": [
    "ca_tracts = gpd.read_file('data/tl_2019_06_tract.shp')\n",
    "# ca_tracts = ca_tracts.loc[ca_tracts.STATEFP=='06'].copy()\n",
    "ca_tracts.plot()"
   ]
  },
  {
   "cell_type": "code",
   "execution_count": 11,
   "id": "b21e8de8",
   "metadata": {
    "tags": []
   },
   "outputs": [
    {
     "data": {
      "text/html": [
       "<div>\n",
       "<style scoped>\n",
       "    .dataframe tbody tr th:only-of-type {\n",
       "        vertical-align: middle;\n",
       "    }\n",
       "\n",
       "    .dataframe tbody tr th {\n",
       "        vertical-align: top;\n",
       "    }\n",
       "\n",
       "    .dataframe thead th {\n",
       "        text-align: right;\n",
       "    }\n",
       "</style>\n",
       "<table border=\"1\" class=\"dataframe\">\n",
       "  <thead>\n",
       "    <tr style=\"text-align: right;\">\n",
       "      <th></th>\n",
       "      <th>tract_name</th>\n",
       "      <th>tract_pop</th>\n",
       "      <th>state_fips</th>\n",
       "      <th>county_fips</th>\n",
       "      <th>tract_fips</th>\n",
       "    </tr>\n",
       "  </thead>\n",
       "  <tbody>\n",
       "    <tr>\n",
       "      <th>0</th>\n",
       "      <td>Census Tract 4340.04</td>\n",
       "      <td>2796</td>\n",
       "      <td>06</td>\n",
       "      <td>037</td>\n",
       "      <td>434004</td>\n",
       "    </tr>\n",
       "    <tr>\n",
       "      <th>1</th>\n",
       "      <td>Census Tract 4600</td>\n",
       "      <td>4851</td>\n",
       "      <td>06</td>\n",
       "      <td>037</td>\n",
       "      <td>460000</td>\n",
       "    </tr>\n",
       "    <tr>\n",
       "      <th>2</th>\n",
       "      <td>Census Tract 4602</td>\n",
       "      <td>5315</td>\n",
       "      <td>06</td>\n",
       "      <td>037</td>\n",
       "      <td>460200</td>\n",
       "    </tr>\n",
       "    <tr>\n",
       "      <th>3</th>\n",
       "      <td>Census Tract 4603.01</td>\n",
       "      <td>4638</td>\n",
       "      <td>06</td>\n",
       "      <td>037</td>\n",
       "      <td>460301</td>\n",
       "    </tr>\n",
       "    <tr>\n",
       "      <th>4</th>\n",
       "      <td>Census Tract 4603.02</td>\n",
       "      <td>4442</td>\n",
       "      <td>06</td>\n",
       "      <td>037</td>\n",
       "      <td>460302</td>\n",
       "    </tr>\n",
       "    <tr>\n",
       "      <th>...</th>\n",
       "      <td>...</td>\n",
       "      <td>...</td>\n",
       "      <td>...</td>\n",
       "      <td>...</td>\n",
       "      <td>...</td>\n",
       "    </tr>\n",
       "    <tr>\n",
       "      <th>7739</th>\n",
       "      <td>Census Tract 9302</td>\n",
       "      <td>546</td>\n",
       "      <td>06</td>\n",
       "      <td>037</td>\n",
       "      <td>930200</td>\n",
       "    </tr>\n",
       "    <tr>\n",
       "      <th>7740</th>\n",
       "      <td>Census Tract 9303.01</td>\n",
       "      <td>886</td>\n",
       "      <td>06</td>\n",
       "      <td>037</td>\n",
       "      <td>930301</td>\n",
       "    </tr>\n",
       "    <tr>\n",
       "      <th>7762</th>\n",
       "      <td>Census Tract 9304.01</td>\n",
       "      <td>2471</td>\n",
       "      <td>06</td>\n",
       "      <td>037</td>\n",
       "      <td>930401</td>\n",
       "    </tr>\n",
       "    <tr>\n",
       "      <th>7763</th>\n",
       "      <td>Census Tract 9800.01</td>\n",
       "      <td>0</td>\n",
       "      <td>06</td>\n",
       "      <td>037</td>\n",
       "      <td>980001</td>\n",
       "    </tr>\n",
       "    <tr>\n",
       "      <th>7764</th>\n",
       "      <td>Census Tract 9800.02</td>\n",
       "      <td>0</td>\n",
       "      <td>06</td>\n",
       "      <td>037</td>\n",
       "      <td>980002</td>\n",
       "    </tr>\n",
       "  </tbody>\n",
       "</table>\n",
       "<p>2346 rows × 5 columns</p>\n",
       "</div>"
      ],
      "text/plain": [
       "                tract_name  tract_pop state_fips county_fips tract_fips\n",
       "0     Census Tract 4340.04       2796         06         037     434004\n",
       "1        Census Tract 4600       4851         06         037     460000\n",
       "2        Census Tract 4602       5315         06         037     460200\n",
       "3     Census Tract 4603.01       4638         06         037     460301\n",
       "4     Census Tract 4603.02       4442         06         037     460302\n",
       "...                    ...        ...        ...         ...        ...\n",
       "7739     Census Tract 9302        546         06         037     930200\n",
       "7740  Census Tract 9303.01        886         06         037     930301\n",
       "7762  Census Tract 9304.01       2471         06         037     930401\n",
       "7763  Census Tract 9800.01          0         06         037     980001\n",
       "7764  Census Tract 9800.02          0         06         037     980002\n",
       "\n",
       "[2346 rows x 5 columns]"
      ]
     },
     "execution_count": 11,
     "metadata": {},
     "output_type": "execute_result"
    }
   ],
   "source": [
    "onecounty_tractdf = tractdf.loc[\n",
    "    tractdf['county_fips'] == '037'].copy(\n",
    ")\n",
    "onecounty_tractdf"
   ]
  },
  {
   "cell_type": "code",
   "execution_count": 12,
   "id": "b819e1a6",
   "metadata": {
    "tags": []
   },
   "outputs": [
    {
     "data": {
      "text/html": [
       "<div>\n",
       "<style scoped>\n",
       "    .dataframe tbody tr th:only-of-type {\n",
       "        vertical-align: middle;\n",
       "    }\n",
       "\n",
       "    .dataframe tbody tr th {\n",
       "        vertical-align: top;\n",
       "    }\n",
       "\n",
       "    .dataframe thead th {\n",
       "        text-align: right;\n",
       "    }\n",
       "</style>\n",
       "<table border=\"1\" class=\"dataframe\">\n",
       "  <thead>\n",
       "    <tr style=\"text-align: right;\">\n",
       "      <th></th>\n",
       "      <th>tract_name</th>\n",
       "      <th>tract_pop</th>\n",
       "      <th>state_fips</th>\n",
       "      <th>county_fips</th>\n",
       "      <th>tract_fips</th>\n",
       "      <th>geoid</th>\n",
       "    </tr>\n",
       "  </thead>\n",
       "  <tbody>\n",
       "    <tr>\n",
       "      <th>0</th>\n",
       "      <td>Census Tract 4340.04</td>\n",
       "      <td>2796</td>\n",
       "      <td>06</td>\n",
       "      <td>037</td>\n",
       "      <td>434004</td>\n",
       "      <td>06037434004</td>\n",
       "    </tr>\n",
       "    <tr>\n",
       "      <th>1</th>\n",
       "      <td>Census Tract 4600</td>\n",
       "      <td>4851</td>\n",
       "      <td>06</td>\n",
       "      <td>037</td>\n",
       "      <td>460000</td>\n",
       "      <td>06037460000</td>\n",
       "    </tr>\n",
       "    <tr>\n",
       "      <th>2</th>\n",
       "      <td>Census Tract 4602</td>\n",
       "      <td>5315</td>\n",
       "      <td>06</td>\n",
       "      <td>037</td>\n",
       "      <td>460200</td>\n",
       "      <td>06037460200</td>\n",
       "    </tr>\n",
       "    <tr>\n",
       "      <th>3</th>\n",
       "      <td>Census Tract 4603.01</td>\n",
       "      <td>4638</td>\n",
       "      <td>06</td>\n",
       "      <td>037</td>\n",
       "      <td>460301</td>\n",
       "      <td>06037460301</td>\n",
       "    </tr>\n",
       "    <tr>\n",
       "      <th>4</th>\n",
       "      <td>Census Tract 4603.02</td>\n",
       "      <td>4442</td>\n",
       "      <td>06</td>\n",
       "      <td>037</td>\n",
       "      <td>460302</td>\n",
       "      <td>06037460302</td>\n",
       "    </tr>\n",
       "    <tr>\n",
       "      <th>...</th>\n",
       "      <td>...</td>\n",
       "      <td>...</td>\n",
       "      <td>...</td>\n",
       "      <td>...</td>\n",
       "      <td>...</td>\n",
       "      <td>...</td>\n",
       "    </tr>\n",
       "    <tr>\n",
       "      <th>7739</th>\n",
       "      <td>Census Tract 9302</td>\n",
       "      <td>546</td>\n",
       "      <td>06</td>\n",
       "      <td>037</td>\n",
       "      <td>930200</td>\n",
       "      <td>06037930200</td>\n",
       "    </tr>\n",
       "    <tr>\n",
       "      <th>7740</th>\n",
       "      <td>Census Tract 9303.01</td>\n",
       "      <td>886</td>\n",
       "      <td>06</td>\n",
       "      <td>037</td>\n",
       "      <td>930301</td>\n",
       "      <td>06037930301</td>\n",
       "    </tr>\n",
       "    <tr>\n",
       "      <th>7762</th>\n",
       "      <td>Census Tract 9304.01</td>\n",
       "      <td>2471</td>\n",
       "      <td>06</td>\n",
       "      <td>037</td>\n",
       "      <td>930401</td>\n",
       "      <td>06037930401</td>\n",
       "    </tr>\n",
       "    <tr>\n",
       "      <th>7763</th>\n",
       "      <td>Census Tract 9800.01</td>\n",
       "      <td>0</td>\n",
       "      <td>06</td>\n",
       "      <td>037</td>\n",
       "      <td>980001</td>\n",
       "      <td>06037980001</td>\n",
       "    </tr>\n",
       "    <tr>\n",
       "      <th>7764</th>\n",
       "      <td>Census Tract 9800.02</td>\n",
       "      <td>0</td>\n",
       "      <td>06</td>\n",
       "      <td>037</td>\n",
       "      <td>980002</td>\n",
       "      <td>06037980002</td>\n",
       "    </tr>\n",
       "  </tbody>\n",
       "</table>\n",
       "<p>2346 rows × 6 columns</p>\n",
       "</div>"
      ],
      "text/plain": [
       "                tract_name  tract_pop state_fips county_fips tract_fips  \\\n",
       "0     Census Tract 4340.04       2796         06         037     434004   \n",
       "1        Census Tract 4600       4851         06         037     460000   \n",
       "2        Census Tract 4602       5315         06         037     460200   \n",
       "3     Census Tract 4603.01       4638         06         037     460301   \n",
       "4     Census Tract 4603.02       4442         06         037     460302   \n",
       "...                    ...        ...        ...         ...        ...   \n",
       "7739     Census Tract 9302        546         06         037     930200   \n",
       "7740  Census Tract 9303.01        886         06         037     930301   \n",
       "7762  Census Tract 9304.01       2471         06         037     930401   \n",
       "7763  Census Tract 9800.01          0         06         037     980001   \n",
       "7764  Census Tract 9800.02          0         06         037     980002   \n",
       "\n",
       "            geoid  \n",
       "0     06037434004  \n",
       "1     06037460000  \n",
       "2     06037460200  \n",
       "3     06037460301  \n",
       "4     06037460302  \n",
       "...           ...  \n",
       "7739  06037930200  \n",
       "7740  06037930301  \n",
       "7762  06037930401  \n",
       "7763  06037980001  \n",
       "7764  06037980002  \n",
       "\n",
       "[2346 rows x 6 columns]"
      ]
     },
     "execution_count": 12,
     "metadata": {},
     "output_type": "execute_result"
    }
   ],
   "source": [
    "onecounty_tractdf['tract_fips'] = onecounty_tractdf['tract_fips'].str.ljust(6,'0')\n",
    "onecounty_tractdf['geoid'] = (\n",
    "    onecounty_tractdf['state_fips'] +\n",
    "    onecounty_tractdf['county_fips'] + \n",
    "    onecounty_tractdf['tract_fips']\n",
    ")\n",
    "onecounty_tractdf"
   ]
  },
  {
   "cell_type": "code",
   "execution_count": 13,
   "id": "783b3c2e",
   "metadata": {
    "tags": []
   },
   "outputs": [
    {
     "data": {
      "text/plain": [
       "tract_name     2346\n",
       "tract_pop      2346\n",
       "state_fips     2346\n",
       "county_fips    2346\n",
       "tract_fips     2346\n",
       "geoid          2346\n",
       "dtype: int64"
      ]
     },
     "execution_count": 13,
     "metadata": {},
     "output_type": "execute_result"
    }
   ],
   "source": [
    "onecounty_tractdf.count()"
   ]
  },
  {
   "cell_type": "code",
   "execution_count": 14,
   "id": "054b4665",
   "metadata": {
    "tags": []
   },
   "outputs": [
    {
     "name": "stdout",
     "output_type": "stream",
     "text": [
      "<class 'geopandas.geodataframe.GeoDataFrame'>\n",
      "Index: 58 entries, 8 to 3179\n",
      "Data columns (total 18 columns):\n",
      " #   Column    Non-Null Count  Dtype   \n",
      "---  ------    --------------  -----   \n",
      " 0   STATEFP   58 non-null     object  \n",
      " 1   COUNTYFP  58 non-null     object  \n",
      " 2   COUNTYNS  58 non-null     object  \n",
      " 3   GEOID     58 non-null     object  \n",
      " 4   NAME      58 non-null     object  \n",
      " 5   NAMELSAD  58 non-null     object  \n",
      " 6   LSAD      58 non-null     object  \n",
      " 7   CLASSFP   58 non-null     object  \n",
      " 8   MTFCC     58 non-null     object  \n",
      " 9   CSAFP     31 non-null     object  \n",
      " 10  CBSAFP    45 non-null     object  \n",
      " 11  METDIVFP  7 non-null      object  \n",
      " 12  FUNCSTAT  58 non-null     object  \n",
      " 13  ALAND     58 non-null     int64   \n",
      " 14  AWATER    58 non-null     int64   \n",
      " 15  INTPTLAT  58 non-null     object  \n",
      " 16  INTPTLON  58 non-null     object  \n",
      " 17  geometry  58 non-null     geometry\n",
      "dtypes: geometry(1), int64(2), object(15)\n",
      "memory usage: 8.6+ KB\n"
     ]
    }
   ],
   "source": [
    "ca_tracts.info()"
   ]
  },
  {
   "cell_type": "code",
   "execution_count": 15,
   "id": "b0f3b11a",
   "metadata": {
    "tags": []
   },
   "outputs": [
    {
     "data": {
      "text/plain": [
       "STATEFP        0\n",
       "COUNTYFP       0\n",
       "COUNTYNS       0\n",
       "GEOID          0\n",
       "NAME           0\n",
       "NAMELSAD       0\n",
       "LSAD           0\n",
       "CLASSFP        0\n",
       "MTFCC          0\n",
       "CSAFP          0\n",
       "CBSAFP         0\n",
       "METDIVFP       0\n",
       "FUNCSTAT       0\n",
       "ALAND          0\n",
       "AWATER         0\n",
       "INTPTLAT       0\n",
       "INTPTLON       0\n",
       "geometry       0\n",
       "tract_name     0\n",
       "tract_pop      0\n",
       "state_fips     0\n",
       "county_fips    0\n",
       "tract_fips     0\n",
       "geoid          0\n",
       "dtype: int64"
      ]
     },
     "execution_count": 15,
     "metadata": {},
     "output_type": "execute_result"
    }
   ],
   "source": [
    "attr_joined = pd.merge(\n",
    "    ca_tracts, \n",
    "    onecounty_tractdf, \n",
    "    left_on='GEOID', \n",
    "    right_on='geoid')\n",
    "# Check that all 2345 Census Tracts joined\n",
    "attr_joined.count()"
   ]
  },
  {
   "cell_type": "code",
   "execution_count": 16,
   "id": "7c4d16d5",
   "metadata": {
    "tags": []
   },
   "outputs": [],
   "source": [
    "import folium as fm"
   ]
  },
  {
   "cell_type": "code",
   "execution_count": 17,
   "id": "e3d5bb22",
   "metadata": {
    "tags": []
   },
   "outputs": [],
   "source": [
    "center_x = (ca_tracts.bounds.minx.mean() + ca_tracts.bounds.maxx.mean())/2\n",
    "center_y = (ca_tracts.bounds.miny.mean() + ca_tracts.bounds.maxy.mean())/2\n",
    "\n",
    "map = fm.Map(location=[center_y, center_x], zoom_start=10)"
   ]
  },
  {
   "cell_type": "code",
   "execution_count": 18,
   "id": "84ce2513",
   "metadata": {
    "jupyter": {
     "source_hidden": true
    },
    "tags": []
   },
   "outputs": [
    {
     "data": {
      "text/html": [
       "<div style=\"width:100%;\"><div style=\"position:relative;width:100%;height:0;padding-bottom:60%;\"><span style=\"color:#565656\">Make this Notebook Trusted to load map: File -> Trust Notebook</span><iframe srcdoc=\"&lt;!DOCTYPE html&gt;\n",
       "&lt;html&gt;\n",
       "&lt;head&gt;\n",
       "    \n",
       "    &lt;meta http-equiv=&quot;content-type&quot; content=&quot;text/html; charset=UTF-8&quot; /&gt;\n",
       "    \n",
       "        &lt;script&gt;\n",
       "            L_NO_TOUCH = false;\n",
       "            L_DISABLE_3D = false;\n",
       "        &lt;/script&gt;\n",
       "    \n",
       "    &lt;style&gt;html, body {width: 100%;height: 100%;margin: 0;padding: 0;}&lt;/style&gt;\n",
       "    &lt;style&gt;#map {position:absolute;top:0;bottom:0;right:0;left:0;}&lt;/style&gt;\n",
       "    &lt;script src=&quot;https://cdn.jsdelivr.net/npm/leaflet@1.9.3/dist/leaflet.js&quot;&gt;&lt;/script&gt;\n",
       "    &lt;script src=&quot;https://code.jquery.com/jquery-1.12.4.min.js&quot;&gt;&lt;/script&gt;\n",
       "    &lt;script src=&quot;https://cdn.jsdelivr.net/npm/bootstrap@5.2.2/dist/js/bootstrap.bundle.min.js&quot;&gt;&lt;/script&gt;\n",
       "    &lt;script src=&quot;https://cdnjs.cloudflare.com/ajax/libs/Leaflet.awesome-markers/2.0.2/leaflet.awesome-markers.js&quot;&gt;&lt;/script&gt;\n",
       "    &lt;link rel=&quot;stylesheet&quot; href=&quot;https://cdn.jsdelivr.net/npm/leaflet@1.9.3/dist/leaflet.css&quot;/&gt;\n",
       "    &lt;link rel=&quot;stylesheet&quot; href=&quot;https://cdn.jsdelivr.net/npm/bootstrap@5.2.2/dist/css/bootstrap.min.css&quot;/&gt;\n",
       "    &lt;link rel=&quot;stylesheet&quot; href=&quot;https://netdna.bootstrapcdn.com/bootstrap/3.0.0/css/bootstrap.min.css&quot;/&gt;\n",
       "    &lt;link rel=&quot;stylesheet&quot; href=&quot;https://cdn.jsdelivr.net/npm/@fortawesome/fontawesome-free@6.2.0/css/all.min.css&quot;/&gt;\n",
       "    &lt;link rel=&quot;stylesheet&quot; href=&quot;https://cdnjs.cloudflare.com/ajax/libs/Leaflet.awesome-markers/2.0.2/leaflet.awesome-markers.css&quot;/&gt;\n",
       "    &lt;link rel=&quot;stylesheet&quot; href=&quot;https://cdn.jsdelivr.net/gh/python-visualization/folium/folium/templates/leaflet.awesome.rotate.min.css&quot;/&gt;\n",
       "    \n",
       "            &lt;meta name=&quot;viewport&quot; content=&quot;width=device-width,\n",
       "                initial-scale=1.0, maximum-scale=1.0, user-scalable=no&quot; /&gt;\n",
       "            &lt;style&gt;\n",
       "                #map_1549da99c4f83b5a320f53b9d74407ad {\n",
       "                    position: relative;\n",
       "                    width: 100.0%;\n",
       "                    height: 100.0%;\n",
       "                    left: 0.0%;\n",
       "                    top: 0.0%;\n",
       "                }\n",
       "                .leaflet-container { font-size: 1rem; }\n",
       "            &lt;/style&gt;\n",
       "        \n",
       "    &lt;script src=&quot;https://cdnjs.cloudflare.com/ajax/libs/d3/3.5.5/d3.min.js&quot;&gt;&lt;/script&gt;\n",
       "&lt;/head&gt;\n",
       "&lt;body&gt;\n",
       "    \n",
       "    \n",
       "            &lt;div class=&quot;folium-map&quot; id=&quot;map_1549da99c4f83b5a320f53b9d74407ad&quot; &gt;&lt;/div&gt;\n",
       "        \n",
       "&lt;/body&gt;\n",
       "&lt;script&gt;\n",
       "    \n",
       "    \n",
       "            var map_1549da99c4f83b5a320f53b9d74407ad = L.map(\n",
       "                &quot;map_1549da99c4f83b5a320f53b9d74407ad&quot;,\n",
       "                {\n",
       "                    center: [37.81699225862069, -120.7325346637931],\n",
       "                    crs: L.CRS.EPSG3857,\n",
       "                    zoom: 10,\n",
       "                    zoomControl: true,\n",
       "                    preferCanvas: false,\n",
       "                }\n",
       "            );\n",
       "\n",
       "            \n",
       "\n",
       "        \n",
       "    \n",
       "            var tile_layer_500fb719f0ac0a1078714963006088e5 = L.tileLayer(\n",
       "                &quot;https://{s}.tile.openstreetmap.org/{z}/{x}/{y}.png&quot;,\n",
       "                {&quot;attribution&quot;: &quot;Data by \\u0026copy; \\u003ca target=\\&quot;_blank\\&quot; href=\\&quot;http://openstreetmap.org\\&quot;\\u003eOpenStreetMap\\u003c/a\\u003e, under \\u003ca target=\\&quot;_blank\\&quot; href=\\&quot;http://www.openstreetmap.org/copyright\\&quot;\\u003eODbL\\u003c/a\\u003e.&quot;, &quot;detectRetina&quot;: false, &quot;maxNativeZoom&quot;: 18, &quot;maxZoom&quot;: 18, &quot;minZoom&quot;: 0, &quot;noWrap&quot;: false, &quot;opacity&quot;: 1, &quot;subdomains&quot;: &quot;abc&quot;, &quot;tms&quot;: false}\n",
       "            ).addTo(map_1549da99c4f83b5a320f53b9d74407ad);\n",
       "        \n",
       "    \n",
       "            var choropleth_0565d1c02ce5a2e59a01d4d14418ec22 = L.featureGroup(\n",
       "                {}\n",
       "            ).addTo(map_1549da99c4f83b5a320f53b9d74407ad);\n",
       "        \n",
       "    \n",
       "        function geo_json_a37d03a3fbf7255a9176ed3593a7e8bd_styler(feature) {\n",
       "            switch(feature.id) {\n",
       "                default:\n",
       "                    return ;\n",
       "            }\n",
       "        }\n",
       "\n",
       "        function geo_json_a37d03a3fbf7255a9176ed3593a7e8bd_onEachFeature(feature, layer) {\n",
       "            layer.on({\n",
       "            });\n",
       "        };\n",
       "        var geo_json_a37d03a3fbf7255a9176ed3593a7e8bd = L.geoJson(null, {\n",
       "                onEachFeature: geo_json_a37d03a3fbf7255a9176ed3593a7e8bd_onEachFeature,\n",
       "            \n",
       "                style: geo_json_a37d03a3fbf7255a9176ed3593a7e8bd_styler,\n",
       "        });\n",
       "\n",
       "        function geo_json_a37d03a3fbf7255a9176ed3593a7e8bd_add (data) {\n",
       "            geo_json_a37d03a3fbf7255a9176ed3593a7e8bd\n",
       "                .addData(data)\n",
       "                .addTo(choropleth_0565d1c02ce5a2e59a01d4d14418ec22);\n",
       "        }\n",
       "            geo_json_a37d03a3fbf7255a9176ed3593a7e8bd_add({&quot;bbox&quot;: [NaN, NaN, NaN, NaN], &quot;features&quot;: [], &quot;type&quot;: &quot;FeatureCollection&quot;});\n",
       "\n",
       "        \n",
       "    \n",
       "    var color_map_0a941bfb3c9476b4e32b2debafe67e52 = {};\n",
       "\n",
       "    \n",
       "    color_map_0a941bfb3c9476b4e32b2debafe67e52.color = d3.scale.threshold()\n",
       "              .domain([0.0, 0.002004008016032064, 0.004008016032064128, 0.006012024048096192, 0.008016032064128256, 0.01002004008016032, 0.012024048096192385, 0.014028056112224449, 0.01603206412825651, 0.018036072144288578, 0.02004008016032064, 0.022044088176352707, 0.02404809619238477, 0.026052104208416832, 0.028056112224448898, 0.03006012024048096, 0.03206412825651302, 0.03406813627254509, 0.036072144288577156, 0.03807615230460922, 0.04008016032064128, 0.04208416833667335, 0.04408817635270541, 0.04609218436873747, 0.04809619238476954, 0.050100200400801605, 0.052104208416833664, 0.05410821643286573, 0.056112224448897796, 0.05811623246492986, 0.06012024048096192, 0.06212424849699399, 0.06412825651302605, 0.06613226452905811, 0.06813627254509018, 0.07014028056112225, 0.07214428857715431, 0.07414829659318638, 0.07615230460921844, 0.0781563126252505, 0.08016032064128256, 0.08216432865731463, 0.0841683366733467, 0.08617234468937876, 0.08817635270541083, 0.09018036072144289, 0.09218436873747494, 0.09418837675350701, 0.09619238476953908, 0.09819639278557114, 0.10020040080160321, 0.10220440881763528, 0.10420841683366733, 0.1062124248496994, 0.10821643286573146, 0.11022044088176353, 0.11222444889779559, 0.11422845691382766, 0.11623246492985972, 0.11823647294589178, 0.12024048096192384, 0.12224448897795591, 0.12424849699398798, 0.12625250501002003, 0.1282565130260521, 0.13026052104208416, 0.13226452905811623, 0.1342685370741483, 0.13627254509018036, 0.13827655310621242, 0.1402805611222445, 0.14228456913827656, 0.14428857715430862, 0.1462925851703407, 0.14829659318637275, 0.15030060120240482, 0.1523046092184369, 0.15430861723446893, 0.156312625250501, 0.15831663326653306, 0.16032064128256512, 0.1623246492985972, 0.16432865731462926, 0.16633266533066132, 0.1683366733466934, 0.17034068136272545, 0.17234468937875752, 0.1743486973947896, 0.17635270541082165, 0.17835671342685372, 0.18036072144288579, 0.18236472945891782, 0.1843687374749499, 0.18637274549098196, 0.18837675350701402, 0.1903807615230461, 0.19238476953907815, 0.19438877755511022, 0.1963927855711423, 0.19839679358717435, 0.20040080160320642, 0.20240480961923848, 0.20440881763527055, 0.20641282565130262, 0.20841683366733466, 0.21042084168336672, 0.2124248496993988, 0.21442885771543085, 0.21643286573146292, 0.218436873747495, 0.22044088176352705, 0.22244488977955912, 0.22444889779559118, 0.22645290581162325, 0.22845691382765532, 0.23046092184368738, 0.23246492985971945, 0.23446893787575152, 0.23647294589178355, 0.23847695390781562, 0.24048096192384769, 0.24248496993987975, 0.24448897795591182, 0.24649298597194388, 0.24849699398797595, 0.250501002004008, 0.25250501002004005, 0.2545090180360721, 0.2565130260521042, 0.25851703406813625, 0.2605210420841683, 0.2625250501002004, 0.26452905811623245, 0.2665330661322645, 0.2685370741482966, 0.27054108216432865, 0.2725450901803607, 0.2745490981963928, 0.27655310621242485, 0.2785571142284569, 0.280561122244489, 0.28256513026052105, 0.2845691382765531, 0.2865731462925852, 0.28857715430861725, 0.2905811623246493, 0.2925851703406814, 0.29458917835671344, 0.2965931863727455, 0.2985971943887776, 0.30060120240480964, 0.3026052104208417, 0.3046092184368738, 0.3066132264529058, 0.30861723446893785, 0.3106212424849699, 0.312625250501002, 0.31462925851703405, 0.3166332665330661, 0.3186372745490982, 0.32064128256513025, 0.3226452905811623, 0.3246492985971944, 0.32665330661322645, 0.3286573146292585, 0.3306613226452906, 0.33266533066132264, 0.3346693386773547, 0.3366733466933868, 0.33867735470941884, 0.3406813627254509, 0.342685370741483, 0.34468937875751504, 0.3466933867735471, 0.3486973947895792, 0.35070140280561124, 0.3527054108216433, 0.35470941883767537, 0.35671342685370744, 0.3587174348697395, 0.36072144288577157, 0.3627254509018036, 0.36472945891783565, 0.3667334669338677, 0.3687374749498998, 0.37074148296593185, 0.3727454909819639, 0.374749498997996, 0.37675350701402804, 0.3787575150300601, 0.3807615230460922, 0.38276553106212424, 0.3847695390781563, 0.3867735470941884, 0.38877755511022044, 0.3907815631262525, 0.3927855711422846, 0.39478957915831664, 0.3967935871743487, 0.39879759519038077, 0.40080160320641284, 0.4028056112224449, 0.40480961923847697, 0.40681362725450904, 0.4088176352705411, 0.41082164328657317, 0.41282565130260523, 0.4148296593186373, 0.4168336673346693, 0.4188376753507014, 0.42084168336673344, 0.4228456913827655, 0.4248496993987976, 0.42685370741482964, 0.4288577154308617, 0.4308617234468938, 0.43286573146292584, 0.4348697394789579, 0.43687374749499, 0.43887775551102204, 0.4408817635270541, 0.44288577154308617, 0.44488977955911824, 0.4468937875751503, 0.44889779559118237, 0.45090180360721444, 0.4529058116232465, 0.45490981963927857, 0.45691382765531063, 0.4589178356713427, 0.46092184368737477, 0.46292585170340683, 0.4649298597194389, 0.46693386773547096, 0.46893787575150303, 0.4709418837675351, 0.4729458917835671, 0.4749498997995992, 0.47695390781563124, 0.4789579158316633, 0.48096192384769537, 0.48296593186372744, 0.4849699398797595, 0.48697394789579157, 0.48897795591182364, 0.4909819639278557, 0.49298597194388777, 0.49498997995991983, 0.4969939879759519, 0.49899799599198397, 0.501002004008016, 0.503006012024048, 0.5050100200400801, 0.5070140280561122, 0.5090180360721442, 0.5110220440881763, 0.5130260521042084, 0.5150300601202404, 0.5170340681362725, 0.5190380761523046, 0.5210420841683366, 0.5230460921843687, 0.5250501002004008, 0.5270541082164328, 0.5290581162324649, 0.531062124248497, 0.533066132264529, 0.5350701402805611, 0.5370741482965932, 0.5390781563126252, 0.5410821643286573, 0.5430861723446894, 0.5450901803607214, 0.5470941883767535, 0.5490981963927856, 0.5511022044088176, 0.5531062124248497, 0.5551102204408818, 0.5571142284569138, 0.5591182364729459, 0.561122244488978, 0.56312625250501, 0.5651302605210421, 0.5671342685370742, 0.5691382765531062, 0.5711422845691383, 0.5731462925851704, 0.5751503006012024, 0.5771543086172345, 0.5791583166332666, 0.5811623246492986, 0.5831663326653307, 0.5851703406813628, 0.5871743486973948, 0.5891783567134269, 0.591182364729459, 0.593186372745491, 0.5951903807615231, 0.5971943887775552, 0.5991983967935872, 0.6012024048096193, 0.6032064128256514, 0.6052104208416834, 0.6072144288577155, 0.6092184368737475, 0.6112224448897795, 0.6132264529058116, 0.6152304609218436, 0.6172344689378757, 0.6192384769539078, 0.6212424849699398, 0.6232464929859719, 0.625250501002004, 0.627254509018036, 0.6292585170340681, 0.6312625250501002, 0.6332665330661322, 0.6352705410821643, 0.6372745490981964, 0.6392785571142284, 0.6412825651302605, 0.6432865731462926, 0.6452905811623246, 0.6472945891783567, 0.6492985971943888, 0.6513026052104208, 0.6533066132264529, 0.655310621242485, 0.657314629258517, 0.6593186372745491, 0.6613226452905812, 0.6633266533066132, 0.6653306613226453, 0.6673346693386774, 0.6693386773547094, 0.6713426853707415, 0.6733466933867736, 0.6753507014028056, 0.6773547094188377, 0.6793587174348698, 0.6813627254509018, 0.6833667334669339, 0.685370741482966, 0.687374749498998, 0.6893787575150301, 0.6913827655310621, 0.6933867735470942, 0.6953907815631263, 0.6973947895791583, 0.6993987975951904, 0.7014028056112225, 0.7034068136272545, 0.7054108216432866, 0.7074148296593187, 0.7094188376753507, 0.7114228456913828, 0.7134268537074149, 0.7154308617234469, 0.717434869739479, 0.7194388777555111, 0.7214428857715431, 0.7234468937875751, 0.7254509018036072, 0.7274549098196392, 0.7294589178356713, 0.7314629258517034, 0.7334669338677354, 0.7354709418837675, 0.7374749498997996, 0.7394789579158316, 0.7414829659318637, 0.7434869739478958, 0.7454909819639278, 0.7474949899799599, 0.749498997995992, 0.751503006012024, 0.7535070140280561, 0.7555110220440882, 0.7575150300601202, 0.7595190380761523, 0.7615230460921844, 0.7635270541082164, 0.7655310621242485, 0.7675350701402806, 0.7695390781563126, 0.7715430861723447, 0.7735470941883767, 0.7755511022044088, 0.7775551102204409, 0.779559118236473, 0.781563126252505, 0.7835671342685371, 0.7855711422845691, 0.7875751503006012, 0.7895791583166333, 0.7915831663326653, 0.7935871743486974, 0.7955911823647295, 0.7975951903807615, 0.7995991983967936, 0.8016032064128257, 0.8036072144288577, 0.8056112224448898, 0.8076152304609219, 0.8096192384769539, 0.811623246492986, 0.8136272545090181, 0.8156312625250501, 0.8176352705410822, 0.8196392785571143, 0.8216432865731463, 0.8236472945891784, 0.8256513026052105, 0.8276553106212425, 0.8296593186372746, 0.8316633266533067, 0.8336673346693386, 0.8356713426853707, 0.8376753507014028, 0.8396793587174348, 0.8416833667334669, 0.843687374749499, 0.845691382765531, 0.8476953907815631, 0.8496993987975952, 0.8517034068136272, 0.8537074148296593, 0.8557114228456913, 0.8577154308617234, 0.8597194388777555, 0.8617234468937875, 0.8637274549098196, 0.8657314629258517, 0.8677354709418837, 0.8697394789579158, 0.8717434869739479, 0.87374749498998, 0.875751503006012, 0.8777555110220441, 0.8797595190380761, 0.8817635270541082, 0.8837675350701403, 0.8857715430861723, 0.8877755511022044, 0.8897795591182365, 0.8917835671342685, 0.8937875751503006, 0.8957915831663327, 0.8977955911823647, 0.8997995991983968, 0.9018036072144289, 0.9038076152304609, 0.905811623246493, 0.9078156312625251, 0.9098196392785571, 0.9118236472945892, 0.9138276553106213, 0.9158316633266533, 0.9178356713426854, 0.9198396793587175, 0.9218436873747495, 0.9238476953907816, 0.9258517034068137, 0.9278557114228457, 0.9298597194388778, 0.9318637274549099, 0.9338677354709419, 0.935871743486974, 0.9378757515030061, 0.9398797595190381, 0.9418837675350702, 0.9438877755511023, 0.9458917835671342, 0.9478957915831663, 0.9498997995991983, 0.9519038076152304, 0.9539078156312625, 0.9559118236472945, 0.9579158316633266, 0.9599198396793587, 0.9619238476953907, 0.9639278557114228, 0.9659318637274549, 0.9679358717434869, 0.969939879759519, 0.9719438877755511, 0.9739478957915831, 0.9759519038076152, 0.9779559118236473, 0.9799599198396793, 0.9819639278557114, 0.9839679358717435, 0.9859719438877755, 0.9879759519038076, 0.9899799599198397, 0.9919839679358717, 0.9939879759519038, 0.9959919839679359, 0.9979959919839679, 1.0])\n",
       "              .range([&#x27;#ffffccff&#x27;, &#x27;#ffffccff&#x27;, &#x27;#ffffccff&#x27;, &#x27;#ffffccff&#x27;, &#x27;#ffffccff&#x27;, &#x27;#ffffccff&#x27;, &#x27;#ffffccff&#x27;, &#x27;#ffffccff&#x27;, &#x27;#ffffccff&#x27;, &#x27;#ffffccff&#x27;, &#x27;#ffffccff&#x27;, &#x27;#ffffccff&#x27;, &#x27;#ffffccff&#x27;, &#x27;#ffffccff&#x27;, &#x27;#ffffccff&#x27;, &#x27;#ffffccff&#x27;, &#x27;#ffffccff&#x27;, &#x27;#ffffccff&#x27;, &#x27;#ffffccff&#x27;, &#x27;#ffffccff&#x27;, &#x27;#ffffccff&#x27;, &#x27;#ffffccff&#x27;, &#x27;#ffffccff&#x27;, &#x27;#ffffccff&#x27;, &#x27;#ffffccff&#x27;, &#x27;#ffffccff&#x27;, &#x27;#ffffccff&#x27;, &#x27;#ffffccff&#x27;, &#x27;#ffffccff&#x27;, &#x27;#ffffccff&#x27;, &#x27;#ffffccff&#x27;, &#x27;#ffffccff&#x27;, &#x27;#ffffccff&#x27;, &#x27;#ffffccff&#x27;, &#x27;#ffffccff&#x27;, &#x27;#ffffccff&#x27;, &#x27;#ffffccff&#x27;, &#x27;#ffffccff&#x27;, &#x27;#ffffccff&#x27;, &#x27;#ffffccff&#x27;, &#x27;#ffffccff&#x27;, &#x27;#ffffccff&#x27;, &#x27;#ffffccff&#x27;, &#x27;#ffffccff&#x27;, &#x27;#ffffccff&#x27;, &#x27;#ffffccff&#x27;, &#x27;#ffffccff&#x27;, &#x27;#ffffccff&#x27;, &#x27;#ffffccff&#x27;, &#x27;#ffffccff&#x27;, &#x27;#ffffccff&#x27;, &#x27;#ffffccff&#x27;, &#x27;#ffffccff&#x27;, &#x27;#ffffccff&#x27;, &#x27;#ffffccff&#x27;, &#x27;#ffffccff&#x27;, &#x27;#ffffccff&#x27;, &#x27;#ffffccff&#x27;, &#x27;#ffffccff&#x27;, &#x27;#ffffccff&#x27;, &#x27;#ffffccff&#x27;, &#x27;#ffffccff&#x27;, &#x27;#ffffccff&#x27;, &#x27;#ffffccff&#x27;, &#x27;#ffffccff&#x27;, &#x27;#ffffccff&#x27;, &#x27;#ffffccff&#x27;, &#x27;#ffffccff&#x27;, &#x27;#ffffccff&#x27;, &#x27;#ffffccff&#x27;, &#x27;#ffffccff&#x27;, &#x27;#ffffccff&#x27;, &#x27;#ffffccff&#x27;, &#x27;#ffffccff&#x27;, &#x27;#ffffccff&#x27;, &#x27;#ffffccff&#x27;, &#x27;#ffffccff&#x27;, &#x27;#ffffccff&#x27;, &#x27;#ffffccff&#x27;, &#x27;#ffffccff&#x27;, &#x27;#ffffccff&#x27;, &#x27;#ffffccff&#x27;, &#x27;#ffffccff&#x27;, &#x27;#ffffccff&#x27;, &#x27;#c7e9b4ff&#x27;, &#x27;#c7e9b4ff&#x27;, &#x27;#c7e9b4ff&#x27;, &#x27;#c7e9b4ff&#x27;, &#x27;#c7e9b4ff&#x27;, &#x27;#c7e9b4ff&#x27;, &#x27;#c7e9b4ff&#x27;, &#x27;#c7e9b4ff&#x27;, &#x27;#c7e9b4ff&#x27;, &#x27;#c7e9b4ff&#x27;, &#x27;#c7e9b4ff&#x27;, &#x27;#c7e9b4ff&#x27;, &#x27;#c7e9b4ff&#x27;, &#x27;#c7e9b4ff&#x27;, &#x27;#c7e9b4ff&#x27;, &#x27;#c7e9b4ff&#x27;, &#x27;#c7e9b4ff&#x27;, &#x27;#c7e9b4ff&#x27;, &#x27;#c7e9b4ff&#x27;, &#x27;#c7e9b4ff&#x27;, &#x27;#c7e9b4ff&#x27;, &#x27;#c7e9b4ff&#x27;, &#x27;#c7e9b4ff&#x27;, &#x27;#c7e9b4ff&#x27;, &#x27;#c7e9b4ff&#x27;, &#x27;#c7e9b4ff&#x27;, &#x27;#c7e9b4ff&#x27;, &#x27;#c7e9b4ff&#x27;, &#x27;#c7e9b4ff&#x27;, &#x27;#c7e9b4ff&#x27;, &#x27;#c7e9b4ff&#x27;, &#x27;#c7e9b4ff&#x27;, &#x27;#c7e9b4ff&#x27;, &#x27;#c7e9b4ff&#x27;, &#x27;#c7e9b4ff&#x27;, &#x27;#c7e9b4ff&#x27;, &#x27;#c7e9b4ff&#x27;, &#x27;#c7e9b4ff&#x27;, &#x27;#c7e9b4ff&#x27;, &#x27;#c7e9b4ff&#x27;, &#x27;#c7e9b4ff&#x27;, &#x27;#c7e9b4ff&#x27;, &#x27;#c7e9b4ff&#x27;, &#x27;#c7e9b4ff&#x27;, &#x27;#c7e9b4ff&#x27;, &#x27;#c7e9b4ff&#x27;, &#x27;#c7e9b4ff&#x27;, &#x27;#c7e9b4ff&#x27;, &#x27;#c7e9b4ff&#x27;, &#x27;#c7e9b4ff&#x27;, &#x27;#c7e9b4ff&#x27;, &#x27;#c7e9b4ff&#x27;, &#x27;#c7e9b4ff&#x27;, &#x27;#c7e9b4ff&#x27;, &#x27;#c7e9b4ff&#x27;, &#x27;#c7e9b4ff&#x27;, &#x27;#c7e9b4ff&#x27;, &#x27;#c7e9b4ff&#x27;, &#x27;#c7e9b4ff&#x27;, &#x27;#c7e9b4ff&#x27;, &#x27;#c7e9b4ff&#x27;, &#x27;#c7e9b4ff&#x27;, &#x27;#c7e9b4ff&#x27;, &#x27;#c7e9b4ff&#x27;, &#x27;#c7e9b4ff&#x27;, &#x27;#c7e9b4ff&#x27;, &#x27;#c7e9b4ff&#x27;, &#x27;#c7e9b4ff&#x27;, &#x27;#c7e9b4ff&#x27;, &#x27;#c7e9b4ff&#x27;, &#x27;#c7e9b4ff&#x27;, &#x27;#c7e9b4ff&#x27;, &#x27;#c7e9b4ff&#x27;, &#x27;#c7e9b4ff&#x27;, &#x27;#c7e9b4ff&#x27;, &#x27;#c7e9b4ff&#x27;, &#x27;#c7e9b4ff&#x27;, &#x27;#c7e9b4ff&#x27;, &#x27;#c7e9b4ff&#x27;, &#x27;#c7e9b4ff&#x27;, &#x27;#c7e9b4ff&#x27;, &#x27;#c7e9b4ff&#x27;, &#x27;#c7e9b4ff&#x27;, &#x27;#7fcdbbff&#x27;, &#x27;#7fcdbbff&#x27;, &#x27;#7fcdbbff&#x27;, &#x27;#7fcdbbff&#x27;, &#x27;#7fcdbbff&#x27;, &#x27;#7fcdbbff&#x27;, &#x27;#7fcdbbff&#x27;, &#x27;#7fcdbbff&#x27;, &#x27;#7fcdbbff&#x27;, &#x27;#7fcdbbff&#x27;, &#x27;#7fcdbbff&#x27;, &#x27;#7fcdbbff&#x27;, &#x27;#7fcdbbff&#x27;, &#x27;#7fcdbbff&#x27;, &#x27;#7fcdbbff&#x27;, &#x27;#7fcdbbff&#x27;, &#x27;#7fcdbbff&#x27;, &#x27;#7fcdbbff&#x27;, &#x27;#7fcdbbff&#x27;, &#x27;#7fcdbbff&#x27;, &#x27;#7fcdbbff&#x27;, &#x27;#7fcdbbff&#x27;, &#x27;#7fcdbbff&#x27;, &#x27;#7fcdbbff&#x27;, &#x27;#7fcdbbff&#x27;, &#x27;#7fcdbbff&#x27;, &#x27;#7fcdbbff&#x27;, &#x27;#7fcdbbff&#x27;, &#x27;#7fcdbbff&#x27;, &#x27;#7fcdbbff&#x27;, &#x27;#7fcdbbff&#x27;, &#x27;#7fcdbbff&#x27;, &#x27;#7fcdbbff&#x27;, &#x27;#7fcdbbff&#x27;, &#x27;#7fcdbbff&#x27;, &#x27;#7fcdbbff&#x27;, &#x27;#7fcdbbff&#x27;, &#x27;#7fcdbbff&#x27;, &#x27;#7fcdbbff&#x27;, &#x27;#7fcdbbff&#x27;, &#x27;#7fcdbbff&#x27;, &#x27;#7fcdbbff&#x27;, &#x27;#7fcdbbff&#x27;, &#x27;#7fcdbbff&#x27;, &#x27;#7fcdbbff&#x27;, &#x27;#7fcdbbff&#x27;, &#x27;#7fcdbbff&#x27;, &#x27;#7fcdbbff&#x27;, &#x27;#7fcdbbff&#x27;, &#x27;#7fcdbbff&#x27;, &#x27;#7fcdbbff&#x27;, &#x27;#7fcdbbff&#x27;, &#x27;#7fcdbbff&#x27;, &#x27;#7fcdbbff&#x27;, &#x27;#7fcdbbff&#x27;, &#x27;#7fcdbbff&#x27;, &#x27;#7fcdbbff&#x27;, &#x27;#7fcdbbff&#x27;, &#x27;#7fcdbbff&#x27;, &#x27;#7fcdbbff&#x27;, &#x27;#7fcdbbff&#x27;, &#x27;#7fcdbbff&#x27;, &#x27;#7fcdbbff&#x27;, &#x27;#7fcdbbff&#x27;, &#x27;#7fcdbbff&#x27;, &#x27;#7fcdbbff&#x27;, &#x27;#7fcdbbff&#x27;, &#x27;#7fcdbbff&#x27;, &#x27;#7fcdbbff&#x27;, &#x27;#7fcdbbff&#x27;, &#x27;#7fcdbbff&#x27;, &#x27;#7fcdbbff&#x27;, &#x27;#7fcdbbff&#x27;, &#x27;#7fcdbbff&#x27;, &#x27;#7fcdbbff&#x27;, &#x27;#7fcdbbff&#x27;, &#x27;#7fcdbbff&#x27;, &#x27;#7fcdbbff&#x27;, &#x27;#7fcdbbff&#x27;, &#x27;#7fcdbbff&#x27;, &#x27;#7fcdbbff&#x27;, &#x27;#7fcdbbff&#x27;, &#x27;#7fcdbbff&#x27;, &#x27;#41b6c4ff&#x27;, &#x27;#41b6c4ff&#x27;, &#x27;#41b6c4ff&#x27;, &#x27;#41b6c4ff&#x27;, &#x27;#41b6c4ff&#x27;, &#x27;#41b6c4ff&#x27;, &#x27;#41b6c4ff&#x27;, &#x27;#41b6c4ff&#x27;, &#x27;#41b6c4ff&#x27;, &#x27;#41b6c4ff&#x27;, &#x27;#41b6c4ff&#x27;, &#x27;#41b6c4ff&#x27;, &#x27;#41b6c4ff&#x27;, &#x27;#41b6c4ff&#x27;, &#x27;#41b6c4ff&#x27;, &#x27;#41b6c4ff&#x27;, &#x27;#41b6c4ff&#x27;, &#x27;#41b6c4ff&#x27;, &#x27;#41b6c4ff&#x27;, &#x27;#41b6c4ff&#x27;, &#x27;#41b6c4ff&#x27;, &#x27;#41b6c4ff&#x27;, &#x27;#41b6c4ff&#x27;, &#x27;#41b6c4ff&#x27;, &#x27;#41b6c4ff&#x27;, &#x27;#41b6c4ff&#x27;, &#x27;#41b6c4ff&#x27;, &#x27;#41b6c4ff&#x27;, &#x27;#41b6c4ff&#x27;, &#x27;#41b6c4ff&#x27;, &#x27;#41b6c4ff&#x27;, &#x27;#41b6c4ff&#x27;, &#x27;#41b6c4ff&#x27;, &#x27;#41b6c4ff&#x27;, &#x27;#41b6c4ff&#x27;, &#x27;#41b6c4ff&#x27;, &#x27;#41b6c4ff&#x27;, &#x27;#41b6c4ff&#x27;, &#x27;#41b6c4ff&#x27;, &#x27;#41b6c4ff&#x27;, &#x27;#41b6c4ff&#x27;, &#x27;#41b6c4ff&#x27;, &#x27;#41b6c4ff&#x27;, &#x27;#41b6c4ff&#x27;, &#x27;#41b6c4ff&#x27;, &#x27;#41b6c4ff&#x27;, &#x27;#41b6c4ff&#x27;, &#x27;#41b6c4ff&#x27;, &#x27;#41b6c4ff&#x27;, &#x27;#41b6c4ff&#x27;, &#x27;#41b6c4ff&#x27;, &#x27;#41b6c4ff&#x27;, &#x27;#41b6c4ff&#x27;, &#x27;#41b6c4ff&#x27;, &#x27;#41b6c4ff&#x27;, &#x27;#41b6c4ff&#x27;, &#x27;#41b6c4ff&#x27;, &#x27;#41b6c4ff&#x27;, &#x27;#41b6c4ff&#x27;, &#x27;#41b6c4ff&#x27;, &#x27;#41b6c4ff&#x27;, &#x27;#41b6c4ff&#x27;, &#x27;#41b6c4ff&#x27;, &#x27;#41b6c4ff&#x27;, &#x27;#41b6c4ff&#x27;, &#x27;#41b6c4ff&#x27;, &#x27;#41b6c4ff&#x27;, &#x27;#41b6c4ff&#x27;, &#x27;#41b6c4ff&#x27;, &#x27;#41b6c4ff&#x27;, &#x27;#41b6c4ff&#x27;, &#x27;#41b6c4ff&#x27;, &#x27;#41b6c4ff&#x27;, &#x27;#41b6c4ff&#x27;, &#x27;#41b6c4ff&#x27;, &#x27;#41b6c4ff&#x27;, &#x27;#41b6c4ff&#x27;, &#x27;#41b6c4ff&#x27;, &#x27;#41b6c4ff&#x27;, &#x27;#41b6c4ff&#x27;, &#x27;#41b6c4ff&#x27;, &#x27;#41b6c4ff&#x27;, &#x27;#41b6c4ff&#x27;, &#x27;#2c7fb8ff&#x27;, &#x27;#2c7fb8ff&#x27;, &#x27;#2c7fb8ff&#x27;, &#x27;#2c7fb8ff&#x27;, &#x27;#2c7fb8ff&#x27;, &#x27;#2c7fb8ff&#x27;, &#x27;#2c7fb8ff&#x27;, &#x27;#2c7fb8ff&#x27;, &#x27;#2c7fb8ff&#x27;, &#x27;#2c7fb8ff&#x27;, &#x27;#2c7fb8ff&#x27;, &#x27;#2c7fb8ff&#x27;, &#x27;#2c7fb8ff&#x27;, &#x27;#2c7fb8ff&#x27;, &#x27;#2c7fb8ff&#x27;, &#x27;#2c7fb8ff&#x27;, &#x27;#2c7fb8ff&#x27;, &#x27;#2c7fb8ff&#x27;, &#x27;#2c7fb8ff&#x27;, &#x27;#2c7fb8ff&#x27;, &#x27;#2c7fb8ff&#x27;, &#x27;#2c7fb8ff&#x27;, &#x27;#2c7fb8ff&#x27;, &#x27;#2c7fb8ff&#x27;, &#x27;#2c7fb8ff&#x27;, &#x27;#2c7fb8ff&#x27;, &#x27;#2c7fb8ff&#x27;, &#x27;#2c7fb8ff&#x27;, &#x27;#2c7fb8ff&#x27;, &#x27;#2c7fb8ff&#x27;, &#x27;#2c7fb8ff&#x27;, &#x27;#2c7fb8ff&#x27;, &#x27;#2c7fb8ff&#x27;, &#x27;#2c7fb8ff&#x27;, &#x27;#2c7fb8ff&#x27;, &#x27;#2c7fb8ff&#x27;, &#x27;#2c7fb8ff&#x27;, &#x27;#2c7fb8ff&#x27;, &#x27;#2c7fb8ff&#x27;, &#x27;#2c7fb8ff&#x27;, &#x27;#2c7fb8ff&#x27;, &#x27;#2c7fb8ff&#x27;, &#x27;#2c7fb8ff&#x27;, &#x27;#2c7fb8ff&#x27;, &#x27;#2c7fb8ff&#x27;, &#x27;#2c7fb8ff&#x27;, &#x27;#2c7fb8ff&#x27;, &#x27;#2c7fb8ff&#x27;, &#x27;#2c7fb8ff&#x27;, &#x27;#2c7fb8ff&#x27;, &#x27;#2c7fb8ff&#x27;, &#x27;#2c7fb8ff&#x27;, &#x27;#2c7fb8ff&#x27;, &#x27;#2c7fb8ff&#x27;, &#x27;#2c7fb8ff&#x27;, &#x27;#2c7fb8ff&#x27;, &#x27;#2c7fb8ff&#x27;, &#x27;#2c7fb8ff&#x27;, &#x27;#2c7fb8ff&#x27;, &#x27;#2c7fb8ff&#x27;, &#x27;#2c7fb8ff&#x27;, &#x27;#2c7fb8ff&#x27;, &#x27;#2c7fb8ff&#x27;, &#x27;#2c7fb8ff&#x27;, &#x27;#2c7fb8ff&#x27;, &#x27;#2c7fb8ff&#x27;, &#x27;#2c7fb8ff&#x27;, &#x27;#2c7fb8ff&#x27;, &#x27;#2c7fb8ff&#x27;, &#x27;#2c7fb8ff&#x27;, &#x27;#2c7fb8ff&#x27;, &#x27;#2c7fb8ff&#x27;, &#x27;#2c7fb8ff&#x27;, &#x27;#2c7fb8ff&#x27;, &#x27;#2c7fb8ff&#x27;, &#x27;#2c7fb8ff&#x27;, &#x27;#2c7fb8ff&#x27;, &#x27;#2c7fb8ff&#x27;, &#x27;#2c7fb8ff&#x27;, &#x27;#2c7fb8ff&#x27;, &#x27;#2c7fb8ff&#x27;, &#x27;#2c7fb8ff&#x27;, &#x27;#2c7fb8ff&#x27;, &#x27;#253494ff&#x27;, &#x27;#253494ff&#x27;, &#x27;#253494ff&#x27;, &#x27;#253494ff&#x27;, &#x27;#253494ff&#x27;, &#x27;#253494ff&#x27;, &#x27;#253494ff&#x27;, &#x27;#253494ff&#x27;, &#x27;#253494ff&#x27;, &#x27;#253494ff&#x27;, &#x27;#253494ff&#x27;, &#x27;#253494ff&#x27;, &#x27;#253494ff&#x27;, &#x27;#253494ff&#x27;, &#x27;#253494ff&#x27;, &#x27;#253494ff&#x27;, &#x27;#253494ff&#x27;, &#x27;#253494ff&#x27;, &#x27;#253494ff&#x27;, &#x27;#253494ff&#x27;, &#x27;#253494ff&#x27;, &#x27;#253494ff&#x27;, &#x27;#253494ff&#x27;, &#x27;#253494ff&#x27;, &#x27;#253494ff&#x27;, &#x27;#253494ff&#x27;, &#x27;#253494ff&#x27;, &#x27;#253494ff&#x27;, &#x27;#253494ff&#x27;, &#x27;#253494ff&#x27;, &#x27;#253494ff&#x27;, &#x27;#253494ff&#x27;, &#x27;#253494ff&#x27;, &#x27;#253494ff&#x27;, &#x27;#253494ff&#x27;, &#x27;#253494ff&#x27;, &#x27;#253494ff&#x27;, &#x27;#253494ff&#x27;, &#x27;#253494ff&#x27;, &#x27;#253494ff&#x27;, &#x27;#253494ff&#x27;, &#x27;#253494ff&#x27;, &#x27;#253494ff&#x27;, &#x27;#253494ff&#x27;, &#x27;#253494ff&#x27;, &#x27;#253494ff&#x27;, &#x27;#253494ff&#x27;, &#x27;#253494ff&#x27;, &#x27;#253494ff&#x27;, &#x27;#253494ff&#x27;, &#x27;#253494ff&#x27;, &#x27;#253494ff&#x27;, &#x27;#253494ff&#x27;, &#x27;#253494ff&#x27;, &#x27;#253494ff&#x27;, &#x27;#253494ff&#x27;, &#x27;#253494ff&#x27;, &#x27;#253494ff&#x27;, &#x27;#253494ff&#x27;, &#x27;#253494ff&#x27;, &#x27;#253494ff&#x27;, &#x27;#253494ff&#x27;, &#x27;#253494ff&#x27;, &#x27;#253494ff&#x27;, &#x27;#253494ff&#x27;, &#x27;#253494ff&#x27;, &#x27;#253494ff&#x27;, &#x27;#253494ff&#x27;, &#x27;#253494ff&#x27;, &#x27;#253494ff&#x27;, &#x27;#253494ff&#x27;, &#x27;#253494ff&#x27;, &#x27;#253494ff&#x27;, &#x27;#253494ff&#x27;, &#x27;#253494ff&#x27;, &#x27;#253494ff&#x27;, &#x27;#253494ff&#x27;, &#x27;#253494ff&#x27;, &#x27;#253494ff&#x27;, &#x27;#253494ff&#x27;, &#x27;#253494ff&#x27;, &#x27;#253494ff&#x27;, &#x27;#253494ff&#x27;, &#x27;#253494ff&#x27;]);\n",
       "    \n",
       "\n",
       "    color_map_0a941bfb3c9476b4e32b2debafe67e52.x = d3.scale.linear()\n",
       "              .domain([0.0, 1.0])\n",
       "              .range([0, 450 - 50]);\n",
       "\n",
       "    color_map_0a941bfb3c9476b4e32b2debafe67e52.legend = L.control({position: &#x27;topright&#x27;});\n",
       "    color_map_0a941bfb3c9476b4e32b2debafe67e52.legend.onAdd = function (map) {var div = L.DomUtil.create(&#x27;div&#x27;, &#x27;legend&#x27;); return div};\n",
       "    color_map_0a941bfb3c9476b4e32b2debafe67e52.legend.addTo(map_1549da99c4f83b5a320f53b9d74407ad);\n",
       "\n",
       "    color_map_0a941bfb3c9476b4e32b2debafe67e52.xAxis = d3.svg.axis()\n",
       "        .scale(color_map_0a941bfb3c9476b4e32b2debafe67e52.x)\n",
       "        .orient(&quot;top&quot;)\n",
       "        .tickSize(1)\n",
       "        .tickValues([0.0, 0.16666666666666666, 0.3333333333333333, 0.5, 0.6666666666666666, 0.8333333333333333, 1.0]);\n",
       "\n",
       "    color_map_0a941bfb3c9476b4e32b2debafe67e52.svg = d3.select(&quot;.legend.leaflet-control&quot;).append(&quot;svg&quot;)\n",
       "        .attr(&quot;id&quot;, &#x27;legend&#x27;)\n",
       "        .attr(&quot;width&quot;, 450)\n",
       "        .attr(&quot;height&quot;, 40);\n",
       "\n",
       "    color_map_0a941bfb3c9476b4e32b2debafe67e52.g = color_map_0a941bfb3c9476b4e32b2debafe67e52.svg.append(&quot;g&quot;)\n",
       "        .attr(&quot;class&quot;, &quot;key&quot;)\n",
       "        .attr(&quot;transform&quot;, &quot;translate(25,16)&quot;);\n",
       "\n",
       "    color_map_0a941bfb3c9476b4e32b2debafe67e52.g.selectAll(&quot;rect&quot;)\n",
       "        .data(color_map_0a941bfb3c9476b4e32b2debafe67e52.color.range().map(function(d, i) {\n",
       "          return {\n",
       "            x0: i ? color_map_0a941bfb3c9476b4e32b2debafe67e52.x(color_map_0a941bfb3c9476b4e32b2debafe67e52.color.domain()[i - 1]) : color_map_0a941bfb3c9476b4e32b2debafe67e52.x.range()[0],\n",
       "            x1: i &lt; color_map_0a941bfb3c9476b4e32b2debafe67e52.color.domain().length ? color_map_0a941bfb3c9476b4e32b2debafe67e52.x(color_map_0a941bfb3c9476b4e32b2debafe67e52.color.domain()[i]) : color_map_0a941bfb3c9476b4e32b2debafe67e52.x.range()[1],\n",
       "            z: d\n",
       "          };\n",
       "        }))\n",
       "      .enter().append(&quot;rect&quot;)\n",
       "        .attr(&quot;height&quot;, 40 - 30)\n",
       "        .attr(&quot;x&quot;, function(d) { return d.x0; })\n",
       "        .attr(&quot;width&quot;, function(d) { return d.x1 - d.x0; })\n",
       "        .style(&quot;fill&quot;, function(d) { return d.z; });\n",
       "\n",
       "    color_map_0a941bfb3c9476b4e32b2debafe67e52.g.call(color_map_0a941bfb3c9476b4e32b2debafe67e52.xAxis).append(&quot;text&quot;)\n",
       "        .attr(&quot;class&quot;, &quot;caption&quot;)\n",
       "        .attr(&quot;y&quot;, 21)\n",
       "        .text(&quot;Population Density&quot;);\n",
       "&lt;/script&gt;\n",
       "&lt;/html&gt;\" style=\"position:absolute;width:100%;height:100%;left:0;top:0;border:none !important;\" allowfullscreen webkitallowfullscreen mozallowfullscreen></iframe></div></div>"
      ],
      "text/plain": [
       "<folium.folium.Map at 0x16b5e7c70>"
      ]
     },
     "execution_count": 18,
     "metadata": {},
     "output_type": "execute_result"
    }
   ],
   "source": [
    "# Add Study Area Block Groups to Map\n",
    "fm.Choropleth(\n",
    "   geo_data = attr_joined,\n",
    "   data=attr_joined,\n",
    "   columns=['tract_pop','ALAND'],\n",
    "   key_on= 'feature.properties.tract_pop',\n",
    "   fill_color='YlGnBu',\n",
    "   name = 'Population Density',\n",
    "   legend_name='Population Density'\n",
    ").add_to(map)\n",
    "map"
   ]
  }
 ],
 "metadata": {
  "kernelspec": {
   "display_name": "py310",
   "language": "python",
   "name": "py310"
  },
  "language_info": {
   "codemirror_mode": {
    "name": "ipython",
    "version": 3
   },
   "file_extension": ".py",
   "mimetype": "text/x-python",
   "name": "python",
   "nbconvert_exporter": "python",
   "pygments_lexer": "ipython3",
   "version": "3.10.12"
  }
 },
 "nbformat": 4,
 "nbformat_minor": 5
}
