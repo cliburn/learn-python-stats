{
 "cells": [
  {
   "cell_type": "markdown",
   "id": "fc88f62b-c38e-4611-9181-46c77866ff2f",
   "metadata": {},
   "source": [
    "# My first lessson in Python\n",
    "\n",
    "## Make a numbered list\n",
    "\n",
    "1. Hello\n",
    "2. Goodbye\n",
    "\n",
    "## Make a bulleted list\n",
    "\n",
    "* One\n",
    "* Two\n",
    "    * Two point one\n",
    "* Three\n",
    "\n",
    "## Fonts\n",
    "\n",
    "This is **bold**, *italic*\n",
    "\n",
    "## Code\n",
    "\n",
    "You can format code words like `print` or whole chunks \n",
    "\n",
    "```\n",
    "import math\n",
    "math.pi\n",
    "```\n",
    "\n",
    "and even color code\n",
    "\n",
    "```python\n",
    "import math\n",
    "math.pi\n",
    "```\n",
    "\n",
    "## Hyperlinks\n",
    "\n",
    "https://google.com\n",
    "\n",
    "[Go to Google](https://google.com)\n",
    "\n",
    "![Cat](https://img.freepik.com/free-photo/red-white-cat-i-white-studio_155003-13189.jpg?w=2000)"
   ]
  },
  {
   "cell_type": "markdown",
   "id": "b48aaf97-e9b3-4e3e-b3ab-04cdda2e154c",
   "metadata": {},
   "source": [
    "$\\LaTeX$\n",
    "$\\alpha\\beta \\mathbb{R}$"
   ]
  },
  {
   "cell_type": "markdown",
   "id": "bd4a9697-25c3-48cc-ab97-bb50b5bcd4f6",
   "metadata": {},
   "source": [
    "# Python as calculator"
   ]
  },
  {
   "cell_type": "code",
   "execution_count": 1,
   "id": "e44b7770-75f5-4848-b33b-a62da034f7f4",
   "metadata": {
    "tags": []
   },
   "outputs": [
    {
     "data": {
      "text/plain": [
       "5"
      ]
     },
     "execution_count": 1,
     "metadata": {},
     "output_type": "execute_result"
    }
   ],
   "source": [
    "2 + 3"
   ]
  },
  {
   "cell_type": "code",
   "execution_count": 2,
   "id": "811abe21-5bf6-4c96-9b1c-10fe27315eb8",
   "metadata": {
    "tags": []
   },
   "outputs": [
    {
     "data": {
      "text/plain": [
       "0.6666666666666666"
      ]
     },
     "execution_count": 2,
     "metadata": {},
     "output_type": "execute_result"
    }
   ],
   "source": [
    "2 / 3"
   ]
  },
  {
   "cell_type": "code",
   "execution_count": 3,
   "id": "9f7057db-04aa-4908-b472-9c5fa9324a47",
   "metadata": {
    "tags": []
   },
   "outputs": [
    {
     "data": {
      "text/plain": [
       "0"
      ]
     },
     "execution_count": 3,
     "metadata": {},
     "output_type": "execute_result"
    }
   ],
   "source": [
    "2 // 3"
   ]
  },
  {
   "cell_type": "code",
   "execution_count": 4,
   "id": "a0cebadf-edc2-4554-a5f8-d181dbb79f5a",
   "metadata": {
    "tags": []
   },
   "outputs": [
    {
     "data": {
      "text/plain": [
       "2"
      ]
     },
     "execution_count": 4,
     "metadata": {},
     "output_type": "execute_result"
    }
   ],
   "source": [
    "5 % 3"
   ]
  },
  {
   "cell_type": "code",
   "execution_count": 5,
   "id": "bebcca54-ebd1-480f-8b77-83513f5c3fab",
   "metadata": {
    "tags": []
   },
   "outputs": [
    {
     "data": {
      "text/plain": [
       "(1, 2)"
      ]
     },
     "execution_count": 5,
     "metadata": {},
     "output_type": "execute_result"
    }
   ],
   "source": [
    "divmod(5, 3)"
   ]
  },
  {
   "cell_type": "code",
   "execution_count": 7,
   "id": "da598451-fa11-4cdf-b81d-8452cfc36e86",
   "metadata": {
    "tags": []
   },
   "outputs": [
    {
     "data": {
      "text/plain": [
       "8"
      ]
     },
     "execution_count": 7,
     "metadata": {},
     "output_type": "execute_result"
    }
   ],
   "source": [
    "2**3"
   ]
  },
  {
   "cell_type": "code",
   "execution_count": 8,
   "id": "a3e463b1-07bd-4ba5-b7a9-c0bf1a7ec8cd",
   "metadata": {
    "tags": []
   },
   "outputs": [
    {
     "data": {
      "text/plain": [
       "25"
      ]
     },
     "execution_count": 8,
     "metadata": {},
     "output_type": "execute_result"
    }
   ],
   "source": [
    "(2 + 3)**2"
   ]
  },
  {
   "cell_type": "markdown",
   "id": "ba261cc4-f3ae-4cf1-aeec-ee673a7c06d4",
   "metadata": {},
   "source": [
    "## Atomic types"
   ]
  },
  {
   "cell_type": "markdown",
   "id": "980fbd03-db7d-443f-bbd9-8ea67d5d0c48",
   "metadata": {},
   "source": [
    "Intgeger"
   ]
  },
  {
   "cell_type": "code",
   "execution_count": 10,
   "id": "89e296f5-4ec5-4643-ada1-ceb1f7d997fa",
   "metadata": {
    "tags": []
   },
   "outputs": [
    {
     "data": {
      "text/plain": [
       "2"
      ]
     },
     "execution_count": 10,
     "metadata": {},
     "output_type": "execute_result"
    }
   ],
   "source": [
    "2"
   ]
  },
  {
   "cell_type": "markdown",
   "id": "6c3d25d8-e64b-4add-834d-f76a184f6af0",
   "metadata": {},
   "source": [
    "Float"
   ]
  },
  {
   "cell_type": "code",
   "execution_count": 11,
   "id": "39393322-b64f-4f03-929f-0593acf6c1c4",
   "metadata": {
    "tags": []
   },
   "outputs": [
    {
     "data": {
      "text/plain": [
       "2.3"
      ]
     },
     "execution_count": 11,
     "metadata": {},
     "output_type": "execute_result"
    }
   ],
   "source": [
    "2.3"
   ]
  },
  {
   "cell_type": "markdown",
   "id": "248d483a-df76-4cc4-bf00-c3392c9bf1e5",
   "metadata": {},
   "source": [
    "Boolean"
   ]
  },
  {
   "cell_type": "code",
   "execution_count": 13,
   "id": "c7ca405e-d261-42ad-a1f2-f58559600f55",
   "metadata": {
    "tags": []
   },
   "outputs": [
    {
     "data": {
      "text/plain": [
       "(True, False)"
      ]
     },
     "execution_count": 13,
     "metadata": {},
     "output_type": "execute_result"
    }
   ],
   "source": [
    "True, False"
   ]
  },
  {
   "cell_type": "markdown",
   "id": "d48d51a3-aab7-4099-958b-8141d53a1d75",
   "metadata": {},
   "source": [
    "Strings and Characters"
   ]
  },
  {
   "cell_type": "code",
   "execution_count": 14,
   "id": "bccd0904-f455-4d3f-872d-1b80744af94f",
   "metadata": {
    "tags": []
   },
   "outputs": [
    {
     "data": {
      "text/plain": [
       "'hello'"
      ]
     },
     "execution_count": 14,
     "metadata": {},
     "output_type": "execute_result"
    }
   ],
   "source": [
    "'hello'"
   ]
  },
  {
   "cell_type": "code",
   "execution_count": 15,
   "id": "8e48b364-da49-4aab-a370-13120ab85ede",
   "metadata": {
    "tags": []
   },
   "outputs": [
    {
     "data": {
      "text/plain": [
       "'world'"
      ]
     },
     "execution_count": 15,
     "metadata": {},
     "output_type": "execute_result"
    }
   ],
   "source": [
    "\"world\""
   ]
  },
  {
   "cell_type": "code",
   "execution_count": 16,
   "id": "60925ea4-56a1-48b4-987a-01664f280bef",
   "metadata": {
    "tags": []
   },
   "outputs": [
    {
     "data": {
      "text/plain": [
       "\"world's end\""
      ]
     },
     "execution_count": 16,
     "metadata": {},
     "output_type": "execute_result"
    }
   ],
   "source": [
    "\"world's end\""
   ]
  },
  {
   "cell_type": "code",
   "execution_count": 17,
   "id": "cd7085f1-bde7-41dd-9a44-84b072b84f3d",
   "metadata": {
    "tags": []
   },
   "outputs": [
    {
     "data": {
      "text/plain": [
       "'\\nHello\\nMr\\nBee\\n'"
      ]
     },
     "execution_count": 17,
     "metadata": {},
     "output_type": "execute_result"
    }
   ],
   "source": [
    "'''\n",
    "Hello\n",
    "Mr\n",
    "Bee\n",
    "'''"
   ]
  },
  {
   "cell_type": "code",
   "execution_count": 18,
   "id": "183bcbbe-e04a-4116-af2d-557524b5c2a9",
   "metadata": {
    "tags": []
   },
   "outputs": [
    {
     "name": "stdout",
     "output_type": "stream",
     "text": [
      "\n",
      "Hello\n",
      "Mr\n",
      "Bee\n",
      "\n"
     ]
    }
   ],
   "source": [
    "print('''\n",
    "Hello\n",
    "Mr\n",
    "Bee\n",
    "''')"
   ]
  },
  {
   "cell_type": "markdown",
   "id": "37ff995d-ee2d-4353-a579-7d0667b63e36",
   "metadata": {},
   "source": [
    "## Collections"
   ]
  },
  {
   "cell_type": "markdown",
   "id": "8029684e-6c82-4cd1-841d-9240a3fb30d7",
   "metadata": {},
   "source": [
    "Tuple"
   ]
  },
  {
   "cell_type": "code",
   "execution_count": 19,
   "id": "cf473340-84b7-4e5a-aabc-b984e9f59385",
   "metadata": {
    "tags": []
   },
   "outputs": [
    {
     "data": {
      "text/plain": [
       "(1, 2, 3)"
      ]
     },
     "execution_count": 19,
     "metadata": {},
     "output_type": "execute_result"
    }
   ],
   "source": [
    "1,2,3"
   ]
  },
  {
   "cell_type": "code",
   "execution_count": 21,
   "id": "0b0b2430-c38a-415f-a8f4-03b57af438cc",
   "metadata": {
    "tags": []
   },
   "outputs": [
    {
     "data": {
      "text/plain": [
       "(1, 2, 3)"
      ]
     },
     "execution_count": 21,
     "metadata": {},
     "output_type": "execute_result"
    }
   ],
   "source": [
    "(1, 2, 3)"
   ]
  },
  {
   "cell_type": "markdown",
   "id": "4457e4fa-bf5c-40c4-a7bb-5bbe7334d21b",
   "metadata": {},
   "source": [
    "List"
   ]
  },
  {
   "cell_type": "code",
   "execution_count": 22,
   "id": "39687470-ed0f-4f53-bff6-cf44baf7d833",
   "metadata": {
    "tags": []
   },
   "outputs": [
    {
     "data": {
      "text/plain": [
       "[1, 2, 3]"
      ]
     },
     "execution_count": 22,
     "metadata": {},
     "output_type": "execute_result"
    }
   ],
   "source": [
    "[1,2,3]"
   ]
  },
  {
   "cell_type": "markdown",
   "id": "1d26de4b-8435-4fbf-9fb4-980cfbd74884",
   "metadata": {},
   "source": [
    "Set"
   ]
  },
  {
   "cell_type": "code",
   "execution_count": 24,
   "id": "5f26a361-e664-4cbd-9835-34523ff6a0fe",
   "metadata": {
    "tags": []
   },
   "outputs": [
    {
     "data": {
      "text/plain": [
       "{1, 2, 3}"
      ]
     },
     "execution_count": 24,
     "metadata": {},
     "output_type": "execute_result"
    }
   ],
   "source": [
    "{1, 2, 2, 3}"
   ]
  },
  {
   "cell_type": "markdown",
   "id": "f4069024-251d-4a03-9997-9744939034af",
   "metadata": {},
   "source": [
    "Dict"
   ]
  },
  {
   "cell_type": "code",
   "execution_count": 25,
   "id": "0fc60b8f-f004-4402-ab5c-20dd35c93f72",
   "metadata": {
    "tags": []
   },
   "outputs": [
    {
     "data": {
      "text/plain": [
       "{'a': 1, 'b': 3, 'c': 5}"
      ]
     },
     "execution_count": 25,
     "metadata": {},
     "output_type": "execute_result"
    }
   ],
   "source": [
    "{\n",
    "    'a': 1,\n",
    "    'b': 3,\n",
    "    'c': 5\n",
    "}"
   ]
  },
  {
   "cell_type": "markdown",
   "id": "b3a18467-f236-40ab-8aee-664a13a3c84f",
   "metadata": {},
   "source": [
    "## Assignment"
   ]
  },
  {
   "cell_type": "code",
   "execution_count": 26,
   "id": "c2a07193-2478-4e88-b2ee-4f6dc879a6e7",
   "metadata": {
    "tags": []
   },
   "outputs": [],
   "source": [
    "xs = [1, 2, 3]"
   ]
  },
  {
   "cell_type": "code",
   "execution_count": 27,
   "id": "5e771559-bec4-48aa-9152-b6f1979351f4",
   "metadata": {
    "tags": []
   },
   "outputs": [
    {
     "data": {
      "text/plain": [
       "[1, 2, 3]"
      ]
     },
     "execution_count": 27,
     "metadata": {},
     "output_type": "execute_result"
    }
   ],
   "source": [
    "xs"
   ]
  },
  {
   "cell_type": "code",
   "execution_count": 28,
   "id": "e98a0404-224a-4039-8948-d90ca64e9caa",
   "metadata": {
    "tags": []
   },
   "outputs": [],
   "source": [
    "name = 'Bob'"
   ]
  },
  {
   "cell_type": "code",
   "execution_count": 29,
   "id": "3a591897-0d5b-44f2-b474-ca28fb3b178c",
   "metadata": {
    "tags": []
   },
   "outputs": [
    {
     "data": {
      "text/plain": [
       "'Bob'"
      ]
     },
     "execution_count": 29,
     "metadata": {},
     "output_type": "execute_result"
    }
   ],
   "source": [
    "name"
   ]
  },
  {
   "cell_type": "code",
   "execution_count": 30,
   "id": "5ba1290a-1a8c-46d6-a104-a47260ab0257",
   "metadata": {
    "tags": []
   },
   "outputs": [],
   "source": [
    "x = 3\n",
    "y = 4"
   ]
  },
  {
   "cell_type": "code",
   "execution_count": 31,
   "id": "12ea50d9-54f6-489c-b74f-efcd95e31e98",
   "metadata": {
    "tags": []
   },
   "outputs": [
    {
     "data": {
      "text/plain": [
       "81"
      ]
     },
     "execution_count": 31,
     "metadata": {},
     "output_type": "execute_result"
    }
   ],
   "source": [
    "x**y"
   ]
  },
  {
   "cell_type": "markdown",
   "id": "0474404f-78bd-4ec5-9190-50c128d73ad0",
   "metadata": {},
   "source": [
    "## Operators"
   ]
  },
  {
   "cell_type": "code",
   "execution_count": 32,
   "id": "eb386f0b-c150-4cc8-9189-db029d38b455",
   "metadata": {
    "tags": []
   },
   "outputs": [
    {
     "data": {
      "text/plain": [
       "0"
      ]
     },
     "execution_count": 32,
     "metadata": {},
     "output_type": "execute_result"
    }
   ],
   "source": [
    "2 // 3"
   ]
  },
  {
   "cell_type": "code",
   "execution_count": 33,
   "id": "9408b668-12b7-4a56-9d63-e266043287af",
   "metadata": {
    "tags": []
   },
   "outputs": [
    {
     "data": {
      "text/plain": [
       "False"
      ]
     },
     "execution_count": 33,
     "metadata": {},
     "output_type": "execute_result"
    }
   ],
   "source": [
    "2 == 3"
   ]
  },
  {
   "cell_type": "code",
   "execution_count": 34,
   "id": "274b386b-e22d-4e08-8756-f92baf727bea",
   "metadata": {
    "tags": []
   },
   "outputs": [
    {
     "data": {
      "text/plain": [
       "True"
      ]
     },
     "execution_count": 34,
     "metadata": {},
     "output_type": "execute_result"
    }
   ],
   "source": [
    "2 != 3"
   ]
  },
  {
   "cell_type": "code",
   "execution_count": 35,
   "id": "aff7a10f-912b-4963-84b8-818dd174dec1",
   "metadata": {
    "tags": []
   },
   "outputs": [
    {
     "data": {
      "text/plain": [
       "True"
      ]
     },
     "execution_count": 35,
     "metadata": {},
     "output_type": "execute_result"
    }
   ],
   "source": [
    "2 <= 3"
   ]
  },
  {
   "cell_type": "code",
   "execution_count": 36,
   "id": "72efc271-4afb-4623-a26b-58d9fa512fb5",
   "metadata": {
    "tags": []
   },
   "outputs": [
    {
     "data": {
      "text/plain": [
       "[1, 2, 3]"
      ]
     },
     "execution_count": 36,
     "metadata": {},
     "output_type": "execute_result"
    }
   ],
   "source": [
    "xs"
   ]
  },
  {
   "cell_type": "code",
   "execution_count": 37,
   "id": "1664c6d6-eb12-4e4e-b7da-40531e14bbbd",
   "metadata": {
    "tags": []
   },
   "outputs": [
    {
     "data": {
      "text/plain": [
       "1"
      ]
     },
     "execution_count": 37,
     "metadata": {},
     "output_type": "execute_result"
    }
   ],
   "source": [
    "xs[0]"
   ]
  },
  {
   "cell_type": "code",
   "execution_count": 38,
   "id": "164e330c-7f51-4dc8-a343-fbb54bd59489",
   "metadata": {
    "tags": []
   },
   "outputs": [
    {
     "data": {
      "text/plain": [
       "3"
      ]
     },
     "execution_count": 38,
     "metadata": {},
     "output_type": "execute_result"
    }
   ],
   "source": [
    "xs[2]"
   ]
  },
  {
   "cell_type": "code",
   "execution_count": 39,
   "id": "1320e0ab-6875-49b7-9627-253fcff80a47",
   "metadata": {
    "tags": []
   },
   "outputs": [
    {
     "data": {
      "text/plain": [
       "3"
      ]
     },
     "execution_count": 39,
     "metadata": {},
     "output_type": "execute_result"
    }
   ],
   "source": [
    "xs[-1]"
   ]
  },
  {
   "cell_type": "code",
   "execution_count": 40,
   "id": "e5ca9a32-563e-42fb-a3e5-646a8717852a",
   "metadata": {
    "tags": []
   },
   "outputs": [
    {
     "data": {
      "text/plain": [
       "[1, 2]"
      ]
     },
     "execution_count": 40,
     "metadata": {},
     "output_type": "execute_result"
    }
   ],
   "source": [
    "xs[0:2]"
   ]
  },
  {
   "cell_type": "markdown",
   "id": "64ebde53-28ba-403f-bddd-058413b03788",
   "metadata": {},
   "source": [
    "[0,2] means [0, 2)"
   ]
  },
  {
   "cell_type": "code",
   "execution_count": 42,
   "id": "95bcc29a-6de0-41cd-97a0-da8d2f43ae16",
   "metadata": {
    "tags": []
   },
   "outputs": [
    {
     "data": {
      "text/plain": [
       "[1, 2]"
      ]
     },
     "execution_count": 42,
     "metadata": {},
     "output_type": "execute_result"
    }
   ],
   "source": [
    "xs[:2]"
   ]
  },
  {
   "cell_type": "code",
   "execution_count": 43,
   "id": "7eda90f8-3daa-4f3a-b5da-9265abe1842b",
   "metadata": {
    "tags": []
   },
   "outputs": [
    {
     "data": {
      "text/plain": [
       "[2, 3]"
      ]
     },
     "execution_count": 43,
     "metadata": {},
     "output_type": "execute_result"
    }
   ],
   "source": [
    "xs[1:]"
   ]
  },
  {
   "cell_type": "code",
   "execution_count": 44,
   "id": "ba12b206-eec1-4bab-80e7-3bfa272e2271",
   "metadata": {
    "tags": []
   },
   "outputs": [
    {
     "data": {
      "text/plain": [
       "[2]"
      ]
     },
     "execution_count": 44,
     "metadata": {},
     "output_type": "execute_result"
    }
   ],
   "source": [
    "xs[1:-1]"
   ]
  },
  {
   "cell_type": "markdown",
   "id": "3b31a68e-0858-415a-8945-1349773db8ee",
   "metadata": {},
   "source": [
    "## Built in functions"
   ]
  },
  {
   "cell_type": "code",
   "execution_count": 45,
   "id": "a5288360-111c-4f8b-8654-fcc4e579ffdf",
   "metadata": {
    "tags": []
   },
   "outputs": [
    {
     "data": {
      "text/plain": [
       "3"
      ]
     },
     "execution_count": 45,
     "metadata": {},
     "output_type": "execute_result"
    }
   ],
   "source": [
    "len(xs)"
   ]
  },
  {
   "cell_type": "code",
   "execution_count": 46,
   "id": "1caf8c04-65a1-4c2a-bf86-e8c7927bd28e",
   "metadata": {
    "tags": []
   },
   "outputs": [],
   "source": [
    "s = \"hello world\""
   ]
  },
  {
   "cell_type": "code",
   "execution_count": 47,
   "id": "d0c2d89c-b92c-4d8f-98b8-73b33fb34564",
   "metadata": {
    "tags": []
   },
   "outputs": [
    {
     "data": {
      "text/plain": [
       "11"
      ]
     },
     "execution_count": 47,
     "metadata": {},
     "output_type": "execute_result"
    }
   ],
   "source": [
    "len(s)"
   ]
  },
  {
   "cell_type": "code",
   "execution_count": 48,
   "id": "2d1c924d-9423-44af-8c04-9ed7278a88a9",
   "metadata": {
    "tags": []
   },
   "outputs": [
    {
     "data": {
      "text/plain": [
       "str"
      ]
     },
     "execution_count": 48,
     "metadata": {},
     "output_type": "execute_result"
    }
   ],
   "source": [
    "type(s)"
   ]
  },
  {
   "cell_type": "code",
   "execution_count": 49,
   "id": "462b55c6-f616-4d71-bee0-749508c856ae",
   "metadata": {
    "tags": []
   },
   "outputs": [
    {
     "data": {
      "text/plain": [
       "list"
      ]
     },
     "execution_count": 49,
     "metadata": {},
     "output_type": "execute_result"
    }
   ],
   "source": [
    "type(xs)"
   ]
  },
  {
   "cell_type": "code",
   "execution_count": 51,
   "id": "df22e327-9781-4187-a250-d4b432e3a59d",
   "metadata": {
    "tags": []
   },
   "outputs": [
    {
     "data": {
      "text/plain": [
       "int"
      ]
     },
     "execution_count": 51,
     "metadata": {},
     "output_type": "execute_result"
    }
   ],
   "source": [
    "type(xs[0])"
   ]
  },
  {
   "cell_type": "markdown",
   "id": "ca52b92a-c02a-48ae-aef9-6c3b055a0bbc",
   "metadata": {},
   "source": [
    "Lazy evaluation (c.f. eager evaluation)"
   ]
  },
  {
   "cell_type": "code",
   "execution_count": 54,
   "id": "e000a033-5bc2-4726-94af-fbd12b64071e",
   "metadata": {
    "tags": []
   },
   "outputs": [
    {
     "data": {
      "text/plain": [
       "range(0, 5)"
      ]
     },
     "execution_count": 54,
     "metadata": {},
     "output_type": "execute_result"
    }
   ],
   "source": [
    "range(5)"
   ]
  },
  {
   "cell_type": "code",
   "execution_count": 53,
   "id": "97513e55-480e-46f6-9383-8b762b34086d",
   "metadata": {
    "tags": []
   },
   "outputs": [
    {
     "data": {
      "text/plain": [
       "[0, 1, 2, 3, 4]"
      ]
     },
     "execution_count": 53,
     "metadata": {},
     "output_type": "execute_result"
    }
   ],
   "source": [
    "list(range(5))"
   ]
  },
  {
   "cell_type": "code",
   "execution_count": 55,
   "id": "086e0ef1-4dcc-4690-99de-064bf785abff",
   "metadata": {
    "tags": []
   },
   "outputs": [
    {
     "data": {
      "text/plain": [
       "{'a': 1, 'b': 2, 'c': 3}"
      ]
     },
     "execution_count": 55,
     "metadata": {},
     "output_type": "execute_result"
    }
   ],
   "source": [
    "{\n",
    "    'a': 1,\n",
    "    'b': 2,\n",
    "    'c': 3\n",
    "}"
   ]
  },
  {
   "cell_type": "code",
   "execution_count": 56,
   "id": "c8e73d90-ed5b-4c9d-b03e-97532694ec29",
   "metadata": {
    "tags": []
   },
   "outputs": [],
   "source": [
    "d = {\n",
    "    'a': 1,\n",
    "    'b': 2,\n",
    "    'c': 3\n",
    "}"
   ]
  },
  {
   "cell_type": "code",
   "execution_count": 57,
   "id": "dc82f054-aa45-48c1-815e-996469d5db35",
   "metadata": {
    "tags": []
   },
   "outputs": [
    {
     "data": {
      "text/plain": [
       "{'a': 1, 'b': 2, 'c': 3}"
      ]
     },
     "execution_count": 57,
     "metadata": {},
     "output_type": "execute_result"
    }
   ],
   "source": [
    "d"
   ]
  },
  {
   "cell_type": "code",
   "execution_count": 58,
   "id": "22244d89-7dce-4d2d-bc5d-15870a5e4e78",
   "metadata": {
    "tags": []
   },
   "outputs": [
    {
     "data": {
      "text/plain": [
       "2"
      ]
     },
     "execution_count": 58,
     "metadata": {},
     "output_type": "execute_result"
    }
   ],
   "source": [
    "d['b']"
   ]
  },
  {
   "cell_type": "markdown",
   "id": "6d19c50f-bff0-461d-ba34-037339342394",
   "metadata": {},
   "source": [
    "## Control flow"
   ]
  },
  {
   "cell_type": "code",
   "execution_count": 59,
   "id": "83882210-1a44-4cce-a754-ade60f9d2fb0",
   "metadata": {
    "tags": []
   },
   "outputs": [
    {
     "name": "stdout",
     "output_type": "stream",
     "text": [
      "0\n",
      "1\n",
      "4\n",
      "9\n",
      "16\n"
     ]
    }
   ],
   "source": [
    "for i in range(5):\n",
    "    print(i**2)"
   ]
  },
  {
   "cell_type": "code",
   "execution_count": 63,
   "id": "4621c16f-fb77-4758-93c1-f7f428ad11e5",
   "metadata": {
    "tags": []
   },
   "outputs": [
    {
     "name": "stdout",
     "output_type": "stream",
     "text": [
      "0\n",
      "1\n",
      "4\n",
      "9\n",
      "16\n"
     ]
    }
   ],
   "source": [
    "i = 0\n",
    "while i < 5:\n",
    "    print(i**2)\n",
    "    i = i + 1"
   ]
  },
  {
   "cell_type": "code",
   "execution_count": 65,
   "id": "00462da2-fc35-49d2-8519-b2adcefabc83",
   "metadata": {
    "tags": []
   },
   "outputs": [
    {
     "name": "stdout",
     "output_type": "stream",
     "text": [
      "0 even\n",
      "1 odd\n",
      "2 even\n",
      "3 odd\n",
      "4 even\n"
     ]
    }
   ],
   "source": [
    "for i in range(5):\n",
    "    if i % 2 == 0:\n",
    "        print(i, \"even\")\n",
    "    elif i % 2 == 1:\n",
    "        print(i, \"odd\")\n",
    "    else:\n",
    "        print(i, \"is not an integer\")"
   ]
  },
  {
   "cell_type": "code",
   "execution_count": 66,
   "id": "8ff126ff-9f36-4104-893d-f7e9186c0a8b",
   "metadata": {
    "tags": []
   },
   "outputs": [
    {
     "name": "stdout",
     "output_type": "stream",
     "text": [
      "1 odd\n",
      "3 odd\n",
      "2 even\n",
      "4 even\n",
      "3.5 is not an integer\n"
     ]
    }
   ],
   "source": [
    "for i in [1,3,2,4,3.5]:\n",
    "    if i % 2 == 0:\n",
    "        print(i, \"even\")\n",
    "    elif i % 2 == 1:\n",
    "        print(i, \"odd\")\n",
    "    else:\n",
    "        print(i, \"is not an integer\")"
   ]
  },
  {
   "cell_type": "code",
   "execution_count": null,
   "id": "58639c1a-beb6-4adc-b69f-2fd2b62d94d8",
   "metadata": {},
   "outputs": [],
   "source": []
  }
 ],
 "metadata": {
  "kernelspec": {
   "display_name": "Python 3 (ipykernel)",
   "language": "python",
   "name": "python3"
  },
  "language_info": {
   "codemirror_mode": {
    "name": "ipython",
    "version": 3
   },
   "file_extension": ".py",
   "mimetype": "text/x-python",
   "name": "python",
   "nbconvert_exporter": "python",
   "pygments_lexer": "ipython3",
   "version": "3.10.6"
  }
 },
 "nbformat": 4,
 "nbformat_minor": 5
}
