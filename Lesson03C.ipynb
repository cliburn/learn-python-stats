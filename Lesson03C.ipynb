{
 "cells": [
  {
   "cell_type": "markdown",
   "id": "b4cf732b",
   "metadata": {},
   "source": [
    "# Vectors and matrices"
   ]
  },
  {
   "cell_type": "markdown",
   "id": "b371ce2a",
   "metadata": {},
   "source": [
    "This suppplements the notes at https://people.duke.edu/~ccc14/sta-663-2018/notebooks/S03_Numpy_Annotated.html to go over more challenging concepts."
   ]
  },
  {
   "cell_type": "code",
   "execution_count": 180,
   "id": "516f54fd",
   "metadata": {},
   "outputs": [],
   "source": [
    "import numpy as np"
   ]
  },
  {
   "cell_type": "markdown",
   "id": "85eaf06c",
   "metadata": {},
   "source": [
    "## Vectors\n",
    "\n",
    "In mathematics, the default is to use a column vector $x$. To denote a row vector, we use $x^T$."
   ]
  },
  {
   "cell_type": "code",
   "execution_count": 181,
   "id": "e61450e5",
   "metadata": {},
   "outputs": [
    {
     "data": {
      "text/plain": [
       "array([[1],\n",
       "       [2],\n",
       "       [3],\n",
       "       [4]])"
      ]
     },
     "execution_count": 181,
     "metadata": {},
     "output_type": "execute_result"
    }
   ],
   "source": [
    "x = np.arange(1, 5).reshape(-1,1)\n",
    "x"
   ]
  },
  {
   "cell_type": "code",
   "execution_count": 182,
   "id": "1ef739a8",
   "metadata": {},
   "outputs": [
    {
     "data": {
      "text/plain": [
       "array([[4],\n",
       "       [3],\n",
       "       [2],\n",
       "       [1]])"
      ]
     },
     "execution_count": 182,
     "metadata": {},
     "output_type": "execute_result"
    }
   ],
   "source": [
    "y = np.arange(4, 0, -1).reshape(-1,1)\n",
    "y"
   ]
  },
  {
   "cell_type": "markdown",
   "id": "392d7477",
   "metadata": {},
   "source": [
    "## Simple operations on vectors"
   ]
  },
  {
   "cell_type": "markdown",
   "id": "6d4b30b8",
   "metadata": {},
   "source": [
    "### Element-wise operations"
   ]
  },
  {
   "cell_type": "code",
   "execution_count": 183,
   "id": "e141c691",
   "metadata": {},
   "outputs": [
    {
     "data": {
      "text/plain": [
       "array([[5],\n",
       "       [5],\n",
       "       [5],\n",
       "       [5]])"
      ]
     },
     "execution_count": 183,
     "metadata": {},
     "output_type": "execute_result"
    }
   ],
   "source": [
    "x + y"
   ]
  },
  {
   "cell_type": "code",
   "execution_count": 184,
   "id": "1b2c1c9b",
   "metadata": {},
   "outputs": [
    {
     "data": {
      "text/plain": [
       "array([[4],\n",
       "       [6],\n",
       "       [6],\n",
       "       [4]])"
      ]
     },
     "execution_count": 184,
     "metadata": {},
     "output_type": "execute_result"
    }
   ],
   "source": [
    "x * y"
   ]
  },
  {
   "cell_type": "code",
   "execution_count": 185,
   "id": "0eb03b59",
   "metadata": {},
   "outputs": [
    {
     "data": {
      "text/plain": [
       "array([[0.25      ],\n",
       "       [0.66666667],\n",
       "       [1.5       ],\n",
       "       [4.        ]])"
      ]
     },
     "execution_count": 185,
     "metadata": {},
     "output_type": "execute_result"
    }
   ],
   "source": [
    "x / y"
   ]
  },
  {
   "cell_type": "code",
   "execution_count": 186,
   "id": "512d48b9",
   "metadata": {},
   "outputs": [
    {
     "data": {
      "text/plain": [
       "array([[1],\n",
       "       [8],\n",
       "       [9],\n",
       "       [4]])"
      ]
     },
     "execution_count": 186,
     "metadata": {},
     "output_type": "execute_result"
    }
   ],
   "source": [
    "x ** y"
   ]
  },
  {
   "cell_type": "markdown",
   "id": "3dd77a51",
   "metadata": {},
   "source": [
    "### Universal functions"
   ]
  },
  {
   "cell_type": "code",
   "execution_count": 187,
   "id": "203d1204",
   "metadata": {},
   "outputs": [
    {
     "data": {
      "text/plain": [
       "array([[ 1],\n",
       "       [ 4],\n",
       "       [ 9],\n",
       "       [16]])"
      ]
     },
     "execution_count": 187,
     "metadata": {},
     "output_type": "execute_result"
    }
   ],
   "source": [
    "x**2"
   ]
  },
  {
   "cell_type": "code",
   "execution_count": 188,
   "id": "3a25633c",
   "metadata": {},
   "outputs": [
    {
     "data": {
      "text/plain": [
       "array([[0.        ],\n",
       "       [0.69314718],\n",
       "       [1.09861229],\n",
       "       [1.38629436]])"
      ]
     },
     "execution_count": 188,
     "metadata": {},
     "output_type": "execute_result"
    }
   ],
   "source": [
    "np.log(x)"
   ]
  },
  {
   "cell_type": "code",
   "execution_count": 189,
   "id": "ce0da1dd",
   "metadata": {},
   "outputs": [
    {
     "data": {
      "text/plain": [
       "array([[ 0.54030231],\n",
       "       [-0.41614684],\n",
       "       [-0.9899925 ],\n",
       "       [-0.65364362]])"
      ]
     },
     "execution_count": 189,
     "metadata": {},
     "output_type": "execute_result"
    }
   ],
   "source": [
    "np.cos(x)"
   ]
  },
  {
   "cell_type": "markdown",
   "id": "4dbcfcc1",
   "metadata": {},
   "source": [
    "### Vector reductions"
   ]
  },
  {
   "cell_type": "code",
   "execution_count": 190,
   "id": "25b86400",
   "metadata": {},
   "outputs": [
    {
     "data": {
      "text/plain": [
       "10"
      ]
     },
     "execution_count": 190,
     "metadata": {},
     "output_type": "execute_result"
    }
   ],
   "source": [
    "x.sum()"
   ]
  },
  {
   "cell_type": "code",
   "execution_count": 191,
   "id": "824baf79",
   "metadata": {},
   "outputs": [
    {
     "data": {
      "text/plain": [
       "2.5"
      ]
     },
     "execution_count": 191,
     "metadata": {},
     "output_type": "execute_result"
    }
   ],
   "source": [
    "x.mean()"
   ]
  },
  {
   "cell_type": "code",
   "execution_count": 192,
   "id": "395fdbcc",
   "metadata": {},
   "outputs": [
    {
     "data": {
      "text/plain": [
       "4"
      ]
     },
     "execution_count": 192,
     "metadata": {},
     "output_type": "execute_result"
    }
   ],
   "source": [
    "x.max()"
   ]
  },
  {
   "cell_type": "markdown",
   "id": "6658c5a1",
   "metadata": {},
   "source": [
    "### Transpose"
   ]
  },
  {
   "cell_type": "code",
   "execution_count": 193,
   "id": "e13f4edb",
   "metadata": {},
   "outputs": [
    {
     "data": {
      "text/plain": [
       "array([[1, 2, 3, 4]])"
      ]
     },
     "execution_count": 193,
     "metadata": {},
     "output_type": "execute_result"
    }
   ],
   "source": [
    "x.transpose()"
   ]
  },
  {
   "cell_type": "code",
   "execution_count": 194,
   "id": "75899690",
   "metadata": {},
   "outputs": [
    {
     "data": {
      "text/plain": [
       "array([[1, 2, 3, 4]])"
      ]
     },
     "execution_count": 194,
     "metadata": {},
     "output_type": "execute_result"
    }
   ],
   "source": [
    "x.T"
   ]
  },
  {
   "cell_type": "markdown",
   "id": "55cd8398",
   "metadata": {},
   "source": [
    "## Vector multiplication\n"
   ]
  },
  {
   "cell_type": "markdown",
   "id": "00ada037",
   "metadata": {},
   "source": [
    "Standard inner or dot proudct"
   ]
  },
  {
   "cell_type": "code",
   "execution_count": 195,
   "id": "3b3a4385",
   "metadata": {},
   "outputs": [
    {
     "data": {
      "text/plain": [
       "array([[30]])"
      ]
     },
     "execution_count": 195,
     "metadata": {},
     "output_type": "execute_result"
    }
   ],
   "source": [
    "x.T.dot(x)"
   ]
  },
  {
   "cell_type": "code",
   "execution_count": 196,
   "id": "e30297e9",
   "metadata": {},
   "outputs": [
    {
     "data": {
      "text/plain": [
       "array([[30]])"
      ]
     },
     "execution_count": 196,
     "metadata": {},
     "output_type": "execute_result"
    }
   ],
   "source": [
    "x.T @ x"
   ]
  },
  {
   "cell_type": "markdown",
   "id": "19f3256f",
   "metadata": {},
   "source": [
    "If you just want the scalar result"
   ]
  },
  {
   "cell_type": "code",
   "execution_count": 197,
   "id": "c4b397cb",
   "metadata": {},
   "outputs": [
    {
     "data": {
      "text/plain": [
       "30"
      ]
     },
     "execution_count": 197,
     "metadata": {},
     "output_type": "execute_result"
    }
   ],
   "source": [
    "(x.T @ x).item()"
   ]
  },
  {
   "cell_type": "markdown",
   "id": "5b4d0dcb",
   "metadata": {},
   "source": [
    "Contrast with the outer product"
   ]
  },
  {
   "cell_type": "code",
   "execution_count": 198,
   "id": "2f643853",
   "metadata": {},
   "outputs": [
    {
     "data": {
      "text/plain": [
       "array([[ 1,  2,  3,  4],\n",
       "       [ 2,  4,  6,  8],\n",
       "       [ 3,  6,  9, 12],\n",
       "       [ 4,  8, 12, 16]])"
      ]
     },
     "execution_count": 198,
     "metadata": {},
     "output_type": "execute_result"
    }
   ],
   "source": [
    "x @ x.T"
   ]
  },
  {
   "cell_type": "code",
   "execution_count": 199,
   "id": "77479d31",
   "metadata": {},
   "outputs": [
    {
     "data": {
      "text/plain": [
       "array(30)"
      ]
     },
     "execution_count": 199,
     "metadata": {},
     "output_type": "execute_result"
    }
   ],
   "source": [
    "np.squeeze(x.T @ x)"
   ]
  },
  {
   "cell_type": "markdown",
   "id": "d6d4dc9c",
   "metadata": {},
   "source": [
    "## Matrices"
   ]
  },
  {
   "cell_type": "markdown",
   "id": "27b00241",
   "metadata": {},
   "source": [
    "### Basically 2D arrays"
   ]
  },
  {
   "cell_type": "code",
   "execution_count": 200,
   "id": "2e08ceac",
   "metadata": {},
   "outputs": [],
   "source": [
    "A = np.arange(1, 13).reshape(3,4)"
   ]
  },
  {
   "cell_type": "code",
   "execution_count": 201,
   "id": "399dc7ba",
   "metadata": {},
   "outputs": [
    {
     "data": {
      "text/plain": [
       "array([[ 1,  2,  3,  4],\n",
       "       [ 5,  6,  7,  8],\n",
       "       [ 9, 10, 11, 12]])"
      ]
     },
     "execution_count": 201,
     "metadata": {},
     "output_type": "execute_result"
    }
   ],
   "source": [
    "A"
   ]
  },
  {
   "cell_type": "code",
   "execution_count": 202,
   "id": "afc43a3a",
   "metadata": {},
   "outputs": [
    {
     "data": {
      "text/plain": [
       "(3, 4)"
      ]
     },
     "execution_count": 202,
     "metadata": {},
     "output_type": "execute_result"
    }
   ],
   "source": [
    "A.shape"
   ]
  },
  {
   "cell_type": "markdown",
   "id": "552c16a7",
   "metadata": {},
   "source": [
    "### Most things work just like for vectors"
   ]
  },
  {
   "cell_type": "code",
   "execution_count": 203,
   "id": "9fd472a2",
   "metadata": {},
   "outputs": [
    {
     "data": {
      "text/plain": [
       "array([[ 2,  4,  6,  8],\n",
       "       [10, 12, 14, 16],\n",
       "       [18, 20, 22, 24]])"
      ]
     },
     "execution_count": 203,
     "metadata": {},
     "output_type": "execute_result"
    }
   ],
   "source": [
    "A + A"
   ]
  },
  {
   "cell_type": "code",
   "execution_count": 204,
   "id": "0dca7f92",
   "metadata": {},
   "outputs": [
    {
     "data": {
      "text/plain": [
       "array([[  1,   4,   9,  16],\n",
       "       [ 25,  36,  49,  64],\n",
       "       [ 81, 100, 121, 144]])"
      ]
     },
     "execution_count": 204,
     "metadata": {},
     "output_type": "execute_result"
    }
   ],
   "source": [
    "A**2"
   ]
  },
  {
   "cell_type": "code",
   "execution_count": 205,
   "id": "fee88126",
   "metadata": {},
   "outputs": [
    {
     "data": {
      "text/plain": [
       "array([[0.        , 0.69314718, 1.09861229, 1.38629436],\n",
       "       [1.60943791, 1.79175947, 1.94591015, 2.07944154],\n",
       "       [2.19722458, 2.30258509, 2.39789527, 2.48490665]])"
      ]
     },
     "execution_count": 205,
     "metadata": {},
     "output_type": "execute_result"
    }
   ],
   "source": [
    "np.log(A)"
   ]
  },
  {
   "cell_type": "code",
   "execution_count": 206,
   "id": "64a746ec",
   "metadata": {},
   "outputs": [
    {
     "data": {
      "text/plain": [
       "array([[ 1,  5,  9],\n",
       "       [ 2,  6, 10],\n",
       "       [ 3,  7, 11],\n",
       "       [ 4,  8, 12]])"
      ]
     },
     "execution_count": 206,
     "metadata": {},
     "output_type": "execute_result"
    }
   ],
   "source": [
    "A.T"
   ]
  },
  {
   "cell_type": "markdown",
   "id": "14f523f0",
   "metadata": {},
   "source": [
    "## Matrix multiplication"
   ]
  },
  {
   "cell_type": "code",
   "execution_count": 207,
   "id": "eb3b8c42",
   "metadata": {},
   "outputs": [
    {
     "data": {
      "text/plain": [
       "array([[ 30,  70, 110],\n",
       "       [ 70, 174, 278],\n",
       "       [110, 278, 446]])"
      ]
     },
     "execution_count": 207,
     "metadata": {},
     "output_type": "execute_result"
    }
   ],
   "source": [
    "A @ A.T"
   ]
  },
  {
   "cell_type": "code",
   "execution_count": 208,
   "id": "452479ae",
   "metadata": {},
   "outputs": [
    {
     "data": {
      "text/plain": [
       "array([[107, 122, 137, 152],\n",
       "       [122, 140, 158, 176],\n",
       "       [137, 158, 179, 200],\n",
       "       [152, 176, 200, 224]])"
      ]
     },
     "execution_count": 208,
     "metadata": {},
     "output_type": "execute_result"
    }
   ],
   "source": [
    "A.T @ A"
   ]
  },
  {
   "cell_type": "markdown",
   "id": "92e3cc03",
   "metadata": {},
   "source": [
    "### Matrix vector multiplication"
   ]
  },
  {
   "cell_type": "markdown",
   "id": "60684da5",
   "metadata": {},
   "source": [
    "Withc column vectors"
   ]
  },
  {
   "cell_type": "code",
   "execution_count": 209,
   "id": "20198c19",
   "metadata": {},
   "outputs": [
    {
     "data": {
      "text/plain": [
       "array([[ 30],\n",
       "       [ 70],\n",
       "       [110]])"
      ]
     },
     "execution_count": 209,
     "metadata": {},
     "output_type": "execute_result"
    }
   ],
   "source": [
    "A @ x"
   ]
  },
  {
   "cell_type": "markdown",
   "id": "3e43fdfa",
   "metadata": {},
   "source": [
    "With row vectors"
   ]
  },
  {
   "cell_type": "code",
   "execution_count": 210,
   "id": "c4c13991",
   "metadata": {},
   "outputs": [
    {
     "data": {
      "text/plain": [
       "array([[ 30,  70, 110]])"
      ]
     },
     "execution_count": 210,
     "metadata": {},
     "output_type": "execute_result"
    }
   ],
   "source": [
    "x.T @ A.T"
   ]
  },
  {
   "cell_type": "markdown",
   "id": "90703984",
   "metadata": {},
   "source": [
    "## Extrracting vectors from matrices"
   ]
  },
  {
   "cell_type": "code",
   "execution_count": 211,
   "id": "ff3d7a93",
   "metadata": {},
   "outputs": [
    {
     "data": {
      "text/plain": [
       "array([[ 1,  2,  3,  4],\n",
       "       [ 5,  6,  7,  8],\n",
       "       [ 9, 10, 11, 12]])"
      ]
     },
     "execution_count": 211,
     "metadata": {},
     "output_type": "execute_result"
    }
   ],
   "source": [
    "A"
   ]
  },
  {
   "cell_type": "markdown",
   "id": "17354619",
   "metadata": {},
   "source": [
    "### Get column vectors"
   ]
  },
  {
   "cell_type": "code",
   "execution_count": 212,
   "id": "baff42a9",
   "metadata": {},
   "outputs": [
    {
     "data": {
      "text/plain": [
       "array([[1],\n",
       "       [0],\n",
       "       [0],\n",
       "       [0]])"
      ]
     },
     "execution_count": 212,
     "metadata": {},
     "output_type": "execute_result"
    }
   ],
   "source": [
    "c0 = np.array([1,0,0,0]).reshape(-1, 1)\n",
    "c0"
   ]
  },
  {
   "cell_type": "code",
   "execution_count": 213,
   "id": "54dbfe39",
   "metadata": {},
   "outputs": [
    {
     "data": {
      "text/plain": [
       "array([[0],\n",
       "       [0],\n",
       "       [1],\n",
       "       [0]])"
      ]
     },
     "execution_count": 213,
     "metadata": {},
     "output_type": "execute_result"
    }
   ],
   "source": [
    "c2 = np.array([0,0,1,0]).reshape(-1, 1)\n",
    "c2"
   ]
  },
  {
   "cell_type": "code",
   "execution_count": 214,
   "id": "2fba2073",
   "metadata": {},
   "outputs": [
    {
     "data": {
      "text/plain": [
       "array([[1],\n",
       "       [5],\n",
       "       [9]])"
      ]
     },
     "execution_count": 214,
     "metadata": {},
     "output_type": "execute_result"
    }
   ],
   "source": [
    "A @ c0"
   ]
  },
  {
   "cell_type": "code",
   "execution_count": 215,
   "id": "70330639",
   "metadata": {},
   "outputs": [
    {
     "data": {
      "text/plain": [
       "array([[ 3],\n",
       "       [ 7],\n",
       "       [11]])"
      ]
     },
     "execution_count": 215,
     "metadata": {},
     "output_type": "execute_result"
    }
   ],
   "source": [
    "A @ c2"
   ]
  },
  {
   "cell_type": "markdown",
   "id": "fefb25e4",
   "metadata": {},
   "source": [
    "### So multiplying a matrix with a column vector gives a weighted sum of the marix columns"
   ]
  },
  {
   "cell_type": "code",
   "execution_count": 216,
   "id": "3ed56dbe",
   "metadata": {},
   "outputs": [
    {
     "data": {
      "text/plain": [
       "array([[ 1,  2,  3,  4],\n",
       "       [ 5,  6,  7,  8],\n",
       "       [ 9, 10, 11, 12]])"
      ]
     },
     "execution_count": 216,
     "metadata": {},
     "output_type": "execute_result"
    }
   ],
   "source": [
    "A"
   ]
  },
  {
   "cell_type": "code",
   "execution_count": 217,
   "id": "2cdcb36c",
   "metadata": {},
   "outputs": [
    {
     "data": {
      "text/plain": [
       "array([[1],\n",
       "       [2],\n",
       "       [3],\n",
       "       [4]])"
      ]
     },
     "execution_count": 217,
     "metadata": {},
     "output_type": "execute_result"
    }
   ],
   "source": [
    "x"
   ]
  },
  {
   "cell_type": "code",
   "execution_count": 218,
   "id": "b9c40259",
   "metadata": {},
   "outputs": [
    {
     "data": {
      "text/plain": [
       "array([[ 30],\n",
       "       [ 70],\n",
       "       [110]])"
      ]
     },
     "execution_count": 218,
     "metadata": {},
     "output_type": "execute_result"
    }
   ],
   "source": [
    "A @ x"
   ]
  },
  {
   "cell_type": "markdown",
   "id": "642e96fe",
   "metadata": {},
   "source": [
    "Exploain how we got the result above."
   ]
  },
  {
   "cell_type": "markdown",
   "id": "0f3e757a",
   "metadata": {},
   "source": [
    "Similar things can be done with rows."
   ]
  },
  {
   "cell_type": "code",
   "execution_count": 219,
   "id": "86c716b8",
   "metadata": {},
   "outputs": [
    {
     "data": {
      "text/plain": [
       "array([0, 0, 1])"
      ]
     },
     "execution_count": 219,
     "metadata": {},
     "output_type": "execute_result"
    }
   ],
   "source": [
    "r2 = np.array([0,0,1])\n",
    "r2"
   ]
  },
  {
   "cell_type": "code",
   "execution_count": 220,
   "id": "ea072161",
   "metadata": {},
   "outputs": [
    {
     "data": {
      "text/plain": [
       "array([ 9, 10, 11, 12])"
      ]
     },
     "execution_count": 220,
     "metadata": {},
     "output_type": "execute_result"
    }
   ],
   "source": [
    "r2 @ A"
   ]
  },
  {
   "cell_type": "markdown",
   "id": "14235300",
   "metadata": {},
   "source": [
    "Multiplying two matrices can be seen as geenrating the weighted sums column by column (or row by row)"
   ]
  },
  {
   "cell_type": "code",
   "execution_count": 221,
   "id": "aff53679",
   "metadata": {},
   "outputs": [
    {
     "data": {
      "text/plain": [
       "array([[1, 2, 3],\n",
       "       [1, 2, 3],\n",
       "       [1, 2, 3],\n",
       "       [1, 2, 3]])"
      ]
     },
     "execution_count": 221,
     "metadata": {},
     "output_type": "execute_result"
    }
   ],
   "source": [
    "B = np.array([\n",
    "    [1,2,3],\n",
    "    [1,2,3],\n",
    "    [1,2,3],\n",
    "    [1,2,3]\n",
    "])\n",
    "B"
   ]
  },
  {
   "cell_type": "code",
   "execution_count": 222,
   "id": "ae13f209",
   "metadata": {},
   "outputs": [
    {
     "data": {
      "text/plain": [
       "array([[ 1,  2,  3,  4],\n",
       "       [ 5,  6,  7,  8],\n",
       "       [ 9, 10, 11, 12]])"
      ]
     },
     "execution_count": 222,
     "metadata": {},
     "output_type": "execute_result"
    }
   ],
   "source": [
    "A"
   ]
  },
  {
   "cell_type": "markdown",
   "id": "6a8ba10d",
   "metadata": {},
   "source": [
    "Column interpreation"
   ]
  },
  {
   "cell_type": "code",
   "execution_count": 223,
   "id": "e5ab3c66",
   "metadata": {},
   "outputs": [
    {
     "data": {
      "text/plain": [
       "array([[10],\n",
       "       [26],\n",
       "       [42]])"
      ]
     },
     "execution_count": 223,
     "metadata": {},
     "output_type": "execute_result"
    }
   ],
   "source": [
    "A @ B[:, 0].reshape(-1,1)"
   ]
  },
  {
   "cell_type": "code",
   "execution_count": 224,
   "id": "ef4a57f0",
   "metadata": {},
   "outputs": [
    {
     "data": {
      "text/plain": [
       "array([[20],\n",
       "       [52],\n",
       "       [84]])"
      ]
     },
     "execution_count": 224,
     "metadata": {},
     "output_type": "execute_result"
    }
   ],
   "source": [
    "A @ B[:, 1].reshape(-1,1)"
   ]
  },
  {
   "cell_type": "code",
   "execution_count": 225,
   "id": "569979b6",
   "metadata": {},
   "outputs": [
    {
     "data": {
      "text/plain": [
       "array([[ 30],\n",
       "       [ 78],\n",
       "       [126]])"
      ]
     },
     "execution_count": 225,
     "metadata": {},
     "output_type": "execute_result"
    }
   ],
   "source": [
    "A @ B[:, 2].reshape(-1,1)"
   ]
  },
  {
   "cell_type": "code",
   "execution_count": 226,
   "id": "87276fc5",
   "metadata": {},
   "outputs": [
    {
     "data": {
      "text/plain": [
       "array([[ 10,  20,  30],\n",
       "       [ 26,  52,  78],\n",
       "       [ 42,  84, 126]])"
      ]
     },
     "execution_count": 226,
     "metadata": {},
     "output_type": "execute_result"
    }
   ],
   "source": [
    "A @ B"
   ]
  },
  {
   "cell_type": "markdown",
   "id": "82411fad",
   "metadata": {},
   "source": [
    "Row interpretation"
   ]
  },
  {
   "cell_type": "code",
   "execution_count": 227,
   "id": "d9537eb1",
   "metadata": {},
   "outputs": [
    {
     "data": {
      "text/plain": [
       "array([1, 2, 3, 4])"
      ]
     },
     "execution_count": 227,
     "metadata": {},
     "output_type": "execute_result"
    }
   ],
   "source": [
    "A[0,:]"
   ]
  },
  {
   "cell_type": "code",
   "execution_count": 228,
   "id": "8e59a978",
   "metadata": {},
   "outputs": [
    {
     "data": {
      "text/plain": [
       "array([[1, 2, 3],\n",
       "       [1, 2, 3],\n",
       "       [1, 2, 3],\n",
       "       [1, 2, 3]])"
      ]
     },
     "execution_count": 228,
     "metadata": {},
     "output_type": "execute_result"
    }
   ],
   "source": [
    "B"
   ]
  },
  {
   "cell_type": "code",
   "execution_count": 229,
   "id": "b2bc1e21",
   "metadata": {},
   "outputs": [
    {
     "data": {
      "text/plain": [
       "array([10, 20, 30])"
      ]
     },
     "execution_count": 229,
     "metadata": {},
     "output_type": "execute_result"
    }
   ],
   "source": [
    "A[0,:] @ B"
   ]
  },
  {
   "cell_type": "markdown",
   "id": "4cf41bc7",
   "metadata": {},
   "source": [
    "How did we get this result?"
   ]
  },
  {
   "cell_type": "code",
   "execution_count": 230,
   "id": "c8686045",
   "metadata": {},
   "outputs": [
    {
     "data": {
      "text/plain": [
       "array([5, 6, 7, 8])"
      ]
     },
     "execution_count": 230,
     "metadata": {},
     "output_type": "execute_result"
    }
   ],
   "source": [
    "A[1, :]"
   ]
  },
  {
   "cell_type": "code",
   "execution_count": 231,
   "id": "d3bb6ae1",
   "metadata": {},
   "outputs": [
    {
     "data": {
      "text/plain": [
       "array([26, 52, 78])"
      ]
     },
     "execution_count": 231,
     "metadata": {},
     "output_type": "execute_result"
    }
   ],
   "source": [
    "A[1,:] @ B"
   ]
  },
  {
   "cell_type": "code",
   "execution_count": 232,
   "id": "c36b3890",
   "metadata": {},
   "outputs": [
    {
     "data": {
      "text/plain": [
       "array([ 42,  84, 126])"
      ]
     },
     "execution_count": 232,
     "metadata": {},
     "output_type": "execute_result"
    }
   ],
   "source": [
    "A[2,:] @ B"
   ]
  },
  {
   "cell_type": "code",
   "execution_count": 233,
   "id": "b9bf0f98",
   "metadata": {},
   "outputs": [
    {
     "data": {
      "text/plain": [
       "array([[ 10,  20,  30],\n",
       "       [ 26,  52,  78],\n",
       "       [ 42,  84, 126]])"
      ]
     },
     "execution_count": 233,
     "metadata": {},
     "output_type": "execute_result"
    }
   ],
   "source": [
    "A @ B"
   ]
  },
  {
   "cell_type": "markdown",
   "id": "b143e573",
   "metadata": {},
   "source": [
    "### Permutations can be seen as rearranging columns"
   ]
  },
  {
   "cell_type": "code",
   "execution_count": 234,
   "id": "724f7dcd",
   "metadata": {},
   "outputs": [
    {
     "data": {
      "text/plain": [
       "(3, 4)"
      ]
     },
     "execution_count": 234,
     "metadata": {},
     "output_type": "execute_result"
    }
   ],
   "source": [
    "A.shape"
   ]
  },
  {
   "cell_type": "code",
   "execution_count": 235,
   "id": "c67b3111",
   "metadata": {},
   "outputs": [
    {
     "data": {
      "text/plain": [
       "array([[1, 0, 0, 0],\n",
       "       [0, 1, 0, 0],\n",
       "       [0, 0, 1, 0],\n",
       "       [0, 0, 0, 1]])"
      ]
     },
     "execution_count": 235,
     "metadata": {},
     "output_type": "execute_result"
    }
   ],
   "source": [
    "I = np.eye(A.shape[1], dtype='int')\n",
    "I"
   ]
  },
  {
   "cell_type": "code",
   "execution_count": 236,
   "id": "2d159607",
   "metadata": {},
   "outputs": [
    {
     "data": {
      "text/plain": [
       "array([[ 1,  2,  3,  4],\n",
       "       [ 5,  6,  7,  8],\n",
       "       [ 9, 10, 11, 12]])"
      ]
     },
     "execution_count": 236,
     "metadata": {},
     "output_type": "execute_result"
    }
   ],
   "source": [
    "A"
   ]
  },
  {
   "cell_type": "code",
   "execution_count": 237,
   "id": "a087a19a",
   "metadata": {},
   "outputs": [
    {
     "data": {
      "text/plain": [
       "array([[ 1,  2,  3,  4],\n",
       "       [ 5,  6,  7,  8],\n",
       "       [ 9, 10, 11, 12]])"
      ]
     },
     "execution_count": 237,
     "metadata": {},
     "output_type": "execute_result"
    }
   ],
   "source": [
    "A @ I"
   ]
  },
  {
   "cell_type": "markdown",
   "id": "7f2be744",
   "metadata": {},
   "source": [
    "We can interpret the post-(or rihgt-)multiplicatin of A with the identify matrix like so:\n",
    "    \n",
    "- The 1st column of I takes 1 of 1st column of A and 0 of everything else\n",
    "- The 2nd columnn of I takes 1 of 2nd column of A and 0 of everything else\n",
    "- The 3rd column of I takes 1 of 3rd column of A and 0 of everything else\n",
    "- The 4th columnn of I takes 1 of 4th column of A and 0 of everything else"
   ]
  },
  {
   "cell_type": "code",
   "execution_count": 238,
   "id": "439267c6",
   "metadata": {},
   "outputs": [
    {
     "data": {
      "text/plain": [
       "array([[0, 1, 0, 0],\n",
       "       [0, 0, 0, 1],\n",
       "       [1, 0, 0, 0],\n",
       "       [0, 0, 1, 0]])"
      ]
     },
     "execution_count": 238,
     "metadata": {},
     "output_type": "execute_result"
    }
   ],
   "source": [
    "I1 = I[:, [2,0,3,1]]\n",
    "I1"
   ]
  },
  {
   "cell_type": "code",
   "execution_count": 239,
   "id": "5572cbcf",
   "metadata": {},
   "outputs": [
    {
     "data": {
      "text/plain": [
       "array([[ 3,  1,  4,  2],\n",
       "       [ 7,  5,  8,  6],\n",
       "       [11,  9, 12, 10]])"
      ]
     },
     "execution_count": 239,
     "metadata": {},
     "output_type": "execute_result"
    }
   ],
   "source": [
    "A @ I1"
   ]
  },
  {
   "cell_type": "code",
   "execution_count": 240,
   "id": "1c8eeea6",
   "metadata": {},
   "outputs": [
    {
     "data": {
      "text/plain": [
       "array([[ 3,  1,  4,  2],\n",
       "       [ 7,  5,  8,  6],\n",
       "       [11,  9, 12, 10]])"
      ]
     },
     "execution_count": 240,
     "metadata": {},
     "output_type": "execute_result"
    }
   ],
   "source": [
    "A[:, [2,0,3,1]]"
   ]
  },
  {
   "cell_type": "markdown",
   "id": "9947fb50",
   "metadata": {},
   "source": [
    "Pre-multiplication by a permuted identity martrix does the same things to the *rows* of A. (not shown)"
   ]
  },
  {
   "cell_type": "markdown",
   "id": "aa2229a3",
   "metadata": {},
   "source": [
    "## Broadcasting"
   ]
  },
  {
   "cell_type": "markdown",
   "id": "f60a4e9d",
   "metadata": {},
   "source": [
    "A scalar can be *promoted* or *broadcast* to be a vector or matrix"
   ]
  },
  {
   "cell_type": "code",
   "execution_count": 241,
   "id": "f71a739f",
   "metadata": {},
   "outputs": [
    {
     "data": {
      "text/plain": [
       "array([[1],\n",
       "       [2],\n",
       "       [3],\n",
       "       [4]])"
      ]
     },
     "execution_count": 241,
     "metadata": {},
     "output_type": "execute_result"
    }
   ],
   "source": [
    "x"
   ]
  },
  {
   "cell_type": "code",
   "execution_count": 242,
   "id": "280c6f1e",
   "metadata": {},
   "outputs": [
    {
     "data": {
      "text/plain": [
       "array([[2],\n",
       "       [3],\n",
       "       [4],\n",
       "       [5]])"
      ]
     },
     "execution_count": 242,
     "metadata": {},
     "output_type": "execute_result"
    }
   ],
   "source": [
    "x + 1"
   ]
  },
  {
   "cell_type": "code",
   "execution_count": 243,
   "id": "6b47445e",
   "metadata": {},
   "outputs": [
    {
     "data": {
      "text/plain": [
       "array([[ 1,  2,  3,  4],\n",
       "       [ 5,  6,  7,  8],\n",
       "       [ 9, 10, 11, 12]])"
      ]
     },
     "execution_count": 243,
     "metadata": {},
     "output_type": "execute_result"
    }
   ],
   "source": [
    "A"
   ]
  },
  {
   "cell_type": "code",
   "execution_count": 244,
   "id": "613ea52b",
   "metadata": {},
   "outputs": [
    {
     "data": {
      "text/plain": [
       "array([[ 2,  3,  4,  5],\n",
       "       [ 6,  7,  8,  9],\n",
       "       [10, 11, 12, 13]])"
      ]
     },
     "execution_count": 244,
     "metadata": {},
     "output_type": "execute_result"
    }
   ],
   "source": [
    "A + 1"
   ]
  },
  {
   "cell_type": "markdown",
   "id": "4bb3c315",
   "metadata": {},
   "source": [
    "A vecotr can be promoted to a matrix if the *shape* is right"
   ]
  },
  {
   "cell_type": "code",
   "execution_count": 245,
   "id": "e4a134bb",
   "metadata": {},
   "outputs": [
    {
     "data": {
      "text/plain": [
       "array([[1],\n",
       "       [1],\n",
       "       [1]])"
      ]
     },
     "execution_count": 245,
     "metadata": {},
     "output_type": "execute_result"
    }
   ],
   "source": [
    "u = np.ones(3, dtype='int').reshape(-1,1)\n",
    "u"
   ]
  },
  {
   "cell_type": "code",
   "execution_count": 246,
   "id": "56f9ed9c",
   "metadata": {},
   "outputs": [
    {
     "data": {
      "text/plain": [
       "(3, 4)"
      ]
     },
     "execution_count": 246,
     "metadata": {},
     "output_type": "execute_result"
    }
   ],
   "source": [
    "A.shape"
   ]
  },
  {
   "cell_type": "code",
   "execution_count": 247,
   "id": "55de405e",
   "metadata": {},
   "outputs": [
    {
     "data": {
      "text/plain": [
       "(3, 1)"
      ]
     },
     "execution_count": 247,
     "metadata": {},
     "output_type": "execute_result"
    }
   ],
   "source": [
    "u.shape"
   ]
  },
  {
   "cell_type": "code",
   "execution_count": 248,
   "id": "90269494",
   "metadata": {},
   "outputs": [
    {
     "data": {
      "text/plain": [
       "array([[ 2,  3,  4,  5],\n",
       "       [ 6,  7,  8,  9],\n",
       "       [10, 11, 12, 13]])"
      ]
     },
     "execution_count": 248,
     "metadata": {},
     "output_type": "execute_result"
    }
   ],
   "source": [
    "A + u"
   ]
  },
  {
   "cell_type": "code",
   "execution_count": 249,
   "id": "ac3e82db",
   "metadata": {},
   "outputs": [
    {
     "data": {
      "text/plain": [
       "(1, 4)"
      ]
     },
     "execution_count": 249,
     "metadata": {},
     "output_type": "execute_result"
    }
   ],
   "source": [
    "x.T.shape"
   ]
  },
  {
   "cell_type": "code",
   "execution_count": 250,
   "id": "6ab0b0f6",
   "metadata": {},
   "outputs": [
    {
     "data": {
      "text/plain": [
       "(3, 4)"
      ]
     },
     "execution_count": 250,
     "metadata": {},
     "output_type": "execute_result"
    }
   ],
   "source": [
    "A.shape"
   ]
  },
  {
   "cell_type": "code",
   "execution_count": 251,
   "id": "eb8342c7",
   "metadata": {},
   "outputs": [
    {
     "data": {
      "text/plain": [
       "array([[ 2,  4,  6,  8],\n",
       "       [ 6,  8, 10, 12],\n",
       "       [10, 12, 14, 16]])"
      ]
     },
     "execution_count": 251,
     "metadata": {},
     "output_type": "execute_result"
    }
   ],
   "source": [
    "A + x.T"
   ]
  },
  {
   "cell_type": "markdown",
   "id": "bc88ea50",
   "metadata": {},
   "source": [
    "### Broadcasting rules\n",
    "\n",
    "- Look at the sahpes of the two arrays from right to left\n",
    "- If the numbers are the same, it is ok\n",
    "- If one number is 1, it will be promoted to the size of the other\n",
    "- If one number is missing, it wil be promoted to the sie of the other\n",
    "- Everything else will be an error"
   ]
  },
  {
   "cell_type": "code",
   "execution_count": 252,
   "id": "5416e14c",
   "metadata": {},
   "outputs": [
    {
     "data": {
      "text/plain": [
       "((3, 4), (3, 1))"
      ]
     },
     "execution_count": 252,
     "metadata": {},
     "output_type": "execute_result"
    }
   ],
   "source": [
    "A.shape, u.shape"
   ]
  },
  {
   "cell_type": "code",
   "execution_count": 253,
   "id": "950143be",
   "metadata": {},
   "outputs": [
    {
     "data": {
      "text/plain": [
       "array([[ 2,  3,  4,  5],\n",
       "       [ 6,  7,  8,  9],\n",
       "       [10, 11, 12, 13]])"
      ]
     },
     "execution_count": 253,
     "metadata": {},
     "output_type": "execute_result"
    }
   ],
   "source": [
    "A + u"
   ]
  },
  {
   "cell_type": "markdown",
   "id": "866b46fb",
   "metadata": {},
   "source": [
    "Promotions means `numpy` does something like this under the hood."
   ]
  },
  {
   "cell_type": "code",
   "execution_count": 254,
   "id": "59e94a88",
   "metadata": {},
   "outputs": [
    {
     "data": {
      "text/plain": [
       "array([[1, 1, 1, 1],\n",
       "       [1, 1, 1, 1],\n",
       "       [1, 1, 1, 1]])"
      ]
     },
     "execution_count": 254,
     "metadata": {},
     "output_type": "execute_result"
    }
   ],
   "source": [
    "u1 = u @ np.ones((1,4), dtype='int')\n",
    "u1"
   ]
  },
  {
   "cell_type": "code",
   "execution_count": 255,
   "id": "c1666db6",
   "metadata": {},
   "outputs": [
    {
     "data": {
      "text/plain": [
       "((3, 4), (3, 4))"
      ]
     },
     "execution_count": 255,
     "metadata": {},
     "output_type": "execute_result"
    }
   ],
   "source": [
    "A.shape, u1.shape"
   ]
  },
  {
   "cell_type": "code",
   "execution_count": 256,
   "id": "31dbfadb",
   "metadata": {},
   "outputs": [
    {
     "data": {
      "text/plain": [
       "array([[ 2,  3,  4,  5],\n",
       "       [ 6,  7,  8,  9],\n",
       "       [10, 11, 12, 13]])"
      ]
     },
     "execution_count": 256,
     "metadata": {},
     "output_type": "execute_result"
    }
   ],
   "source": [
    "A + u1"
   ]
  },
  {
   "cell_type": "markdown",
   "id": "4254610b",
   "metadata": {},
   "source": [
    "### To enable broadcasting,  you can add *dummy* dimensions"
   ]
  },
  {
   "cell_type": "code",
   "execution_count": 257,
   "id": "f2cb3df6",
   "metadata": {},
   "outputs": [
    {
     "data": {
      "text/plain": [
       "(3, 4)"
      ]
     },
     "execution_count": 257,
     "metadata": {},
     "output_type": "execute_result"
    }
   ],
   "source": [
    "A.shape"
   ]
  },
  {
   "cell_type": "code",
   "execution_count": 258,
   "id": "97666997",
   "metadata": {},
   "outputs": [
    {
     "data": {
      "text/plain": [
       "(3, 1, 4)"
      ]
     },
     "execution_count": 258,
     "metadata": {},
     "output_type": "execute_result"
    }
   ],
   "source": [
    "A[:, None].shape"
   ]
  },
  {
   "cell_type": "code",
   "execution_count": 259,
   "id": "557a1f1f",
   "metadata": {},
   "outputs": [
    {
     "data": {
      "text/plain": [
       "array([[[ 1,  2,  3,  4]],\n",
       "\n",
       "       [[ 5,  6,  7,  8]],\n",
       "\n",
       "       [[ 9, 10, 11, 12]]])"
      ]
     },
     "execution_count": 259,
     "metadata": {},
     "output_type": "execute_result"
    }
   ],
   "source": [
    "A[:, None]"
   ]
  },
  {
   "cell_type": "code",
   "execution_count": 260,
   "id": "caf43b86",
   "metadata": {},
   "outputs": [
    {
     "data": {
      "text/plain": [
       "(3, 4, 1)"
      ]
     },
     "execution_count": 260,
     "metadata": {},
     "output_type": "execute_result"
    }
   ],
   "source": [
    "A[:, :, None].shape"
   ]
  },
  {
   "cell_type": "markdown",
   "id": "41f52add",
   "metadata": {},
   "source": [
    "Some people prefer `np.newaxis` to `None` — they are identical"
   ]
  },
  {
   "cell_type": "code",
   "execution_count": 261,
   "id": "74095fcf",
   "metadata": {},
   "outputs": [
    {
     "data": {
      "text/plain": [
       "(3, 1, 4)"
      ]
     },
     "execution_count": 261,
     "metadata": {},
     "output_type": "execute_result"
    }
   ],
   "source": [
    "A[:, np.newaxis, :].shape"
   ]
  },
  {
   "cell_type": "code",
   "execution_count": 262,
   "id": "28a2bd54",
   "metadata": {},
   "outputs": [
    {
     "data": {
      "text/plain": [
       "(1, 3, 4)"
      ]
     },
     "execution_count": 262,
     "metadata": {},
     "output_type": "execute_result"
    }
   ],
   "source": [
    "A[np.newaxis, ...].shape"
   ]
  },
  {
   "cell_type": "code",
   "execution_count": 263,
   "id": "89bc956e",
   "metadata": {},
   "outputs": [
    {
     "data": {
      "text/plain": [
       "array([[1],\n",
       "       [2],\n",
       "       [3],\n",
       "       [4]])"
      ]
     },
     "execution_count": 263,
     "metadata": {},
     "output_type": "execute_result"
    }
   ],
   "source": [
    "x"
   ]
  },
  {
   "cell_type": "code",
   "execution_count": 264,
   "id": "6caceff4",
   "metadata": {},
   "outputs": [
    {
     "data": {
      "text/plain": [
       "((4, 1), (3, 4, 1))"
      ]
     },
     "execution_count": 264,
     "metadata": {},
     "output_type": "execute_result"
    }
   ],
   "source": [
    "x.shape, A[:, :, None].shape"
   ]
  },
  {
   "cell_type": "code",
   "execution_count": 265,
   "id": "7d37c7cd",
   "metadata": {},
   "outputs": [
    {
     "data": {
      "text/plain": [
       "array([[[ 2],\n",
       "        [ 4],\n",
       "        [ 6],\n",
       "        [ 8]],\n",
       "\n",
       "       [[ 6],\n",
       "        [ 8],\n",
       "        [10],\n",
       "        [12]],\n",
       "\n",
       "       [[10],\n",
       "        [12],\n",
       "        [14],\n",
       "        [16]]])"
      ]
     },
     "execution_count": 265,
     "metadata": {},
     "output_type": "execute_result"
    }
   ],
   "source": [
    "A[:, :, None] + x"
   ]
  },
  {
   "cell_type": "markdown",
   "id": "128ddf5c",
   "metadata": {},
   "source": [
    "## Broadcasting example"
   ]
  },
  {
   "cell_type": "code",
   "execution_count": 266,
   "id": "8faad722",
   "metadata": {},
   "outputs": [],
   "source": [
    "w = np.arange(1, 13)"
   ]
  },
  {
   "cell_type": "code",
   "execution_count": 267,
   "id": "9bd59f95",
   "metadata": {},
   "outputs": [
    {
     "data": {
      "text/plain": [
       "(12,)"
      ]
     },
     "execution_count": 267,
     "metadata": {},
     "output_type": "execute_result"
    }
   ],
   "source": [
    "w.shape"
   ]
  },
  {
   "cell_type": "code",
   "execution_count": 268,
   "id": "0c3fe565",
   "metadata": {},
   "outputs": [
    {
     "data": {
      "text/plain": [
       "(1, 12)"
      ]
     },
     "execution_count": 268,
     "metadata": {},
     "output_type": "execute_result"
    }
   ],
   "source": [
    "w[None, :].shape"
   ]
  },
  {
   "cell_type": "markdown",
   "id": "e941801e",
   "metadata": {},
   "source": [
    "Note that w[None, :] converts the 1D array `w` into a row vector."
   ]
  },
  {
   "cell_type": "code",
   "execution_count": 269,
   "id": "b3f3d8a7",
   "metadata": {},
   "outputs": [
    {
     "data": {
      "text/plain": [
       "array([[ 1,  2,  3,  4,  5,  6,  7,  8,  9, 10, 11, 12]])"
      ]
     },
     "execution_count": 269,
     "metadata": {},
     "output_type": "execute_result"
    }
   ],
   "source": [
    "w[None, :]"
   ]
  },
  {
   "cell_type": "code",
   "execution_count": 270,
   "id": "ba7bb4bf",
   "metadata": {},
   "outputs": [
    {
     "data": {
      "text/plain": [
       "(12, 1)"
      ]
     },
     "execution_count": 270,
     "metadata": {},
     "output_type": "execute_result"
    }
   ],
   "source": [
    "w[:, None].shape"
   ]
  },
  {
   "cell_type": "markdown",
   "id": "66e890d6",
   "metadata": {},
   "source": [
    "Note that w[:, None] converts the 1D array `w` into a row vector."
   ]
  },
  {
   "cell_type": "code",
   "execution_count": 271,
   "id": "7e55ec2e",
   "metadata": {},
   "outputs": [
    {
     "data": {
      "text/plain": [
       "array([[ 1],\n",
       "       [ 2],\n",
       "       [ 3],\n",
       "       [ 4],\n",
       "       [ 5],\n",
       "       [ 6],\n",
       "       [ 7],\n",
       "       [ 8],\n",
       "       [ 9],\n",
       "       [10],\n",
       "       [11],\n",
       "       [12]])"
      ]
     },
     "execution_count": 271,
     "metadata": {},
     "output_type": "execute_result"
    }
   ],
   "source": [
    "w[:, None]"
   ]
  },
  {
   "cell_type": "markdown",
   "id": "f450d256",
   "metadata": {},
   "source": [
    "What does this do?"
   ]
  },
  {
   "cell_type": "code",
   "execution_count": 272,
   "id": "c6a9b778",
   "metadata": {},
   "outputs": [
    {
     "data": {
      "text/plain": [
       "array([[  1,   2,   3,   4,   5,   6,   7,   8,   9,  10,  11,  12],\n",
       "       [  2,   4,   6,   8,  10,  12,  14,  16,  18,  20,  22,  24],\n",
       "       [  3,   6,   9,  12,  15,  18,  21,  24,  27,  30,  33,  36],\n",
       "       [  4,   8,  12,  16,  20,  24,  28,  32,  36,  40,  44,  48],\n",
       "       [  5,  10,  15,  20,  25,  30,  35,  40,  45,  50,  55,  60],\n",
       "       [  6,  12,  18,  24,  30,  36,  42,  48,  54,  60,  66,  72],\n",
       "       [  7,  14,  21,  28,  35,  42,  49,  56,  63,  70,  77,  84],\n",
       "       [  8,  16,  24,  32,  40,  48,  56,  64,  72,  80,  88,  96],\n",
       "       [  9,  18,  27,  36,  45,  54,  63,  72,  81,  90,  99, 108],\n",
       "       [ 10,  20,  30,  40,  50,  60,  70,  80,  90, 100, 110, 120],\n",
       "       [ 11,  22,  33,  44,  55,  66,  77,  88,  99, 110, 121, 132],\n",
       "       [ 12,  24,  36,  48,  60,  72,  84,  96, 108, 120, 132, 144]])"
      ]
     },
     "execution_count": 272,
     "metadata": {},
     "output_type": "execute_result"
    }
   ],
   "source": [
    "w[:, None] * w[None, :]"
   ]
  },
  {
   "cell_type": "markdown",
   "id": "a2ae8b89",
   "metadata": {},
   "source": [
    "How does this work?"
   ]
  },
  {
   "cell_type": "code",
   "execution_count": 273,
   "id": "561b2b14",
   "metadata": {},
   "outputs": [
    {
     "data": {
      "text/plain": [
       "((1, 12), (12, 1))"
      ]
     },
     "execution_count": 273,
     "metadata": {},
     "output_type": "execute_result"
    }
   ],
   "source": [
    "w[None, :].shape, w[:, None].shape"
   ]
  },
  {
   "cell_type": "markdown",
   "id": "c3bb82dd",
   "metadata": {},
   "source": [
    "We work from right to left in the shapes — so the first numbers to match are 12 and 1. Broadcasting thus promotes the second array to be (12, 12). Now we need to match 1 to 12, so the first array is also promoted to be (12, 12)."
   ]
  },
  {
   "cell_type": "markdown",
   "id": "67ff6d1a",
   "metadata": {},
   "source": [
    "Now the first array looks like this"
   ]
  },
  {
   "cell_type": "code",
   "execution_count": 274,
   "id": "98fe2a4e",
   "metadata": {},
   "outputs": [
    {
     "data": {
      "text/plain": [
       "array([ 1,  2,  3,  4,  5,  6,  7,  8,  9, 10, 11, 12])"
      ]
     },
     "execution_count": 274,
     "metadata": {},
     "output_type": "execute_result"
    }
   ],
   "source": [
    "w"
   ]
  },
  {
   "cell_type": "code",
   "execution_count": 275,
   "id": "96e7bb5b",
   "metadata": {},
   "outputs": [
    {
     "data": {
      "text/plain": [
       "array([[ 1,  2,  3,  4,  5,  6,  7,  8,  9, 10, 11, 12],\n",
       "       [ 1,  2,  3,  4,  5,  6,  7,  8,  9, 10, 11, 12],\n",
       "       [ 1,  2,  3,  4,  5,  6,  7,  8,  9, 10, 11, 12],\n",
       "       [ 1,  2,  3,  4,  5,  6,  7,  8,  9, 10, 11, 12],\n",
       "       [ 1,  2,  3,  4,  5,  6,  7,  8,  9, 10, 11, 12],\n",
       "       [ 1,  2,  3,  4,  5,  6,  7,  8,  9, 10, 11, 12],\n",
       "       [ 1,  2,  3,  4,  5,  6,  7,  8,  9, 10, 11, 12],\n",
       "       [ 1,  2,  3,  4,  5,  6,  7,  8,  9, 10, 11, 12],\n",
       "       [ 1,  2,  3,  4,  5,  6,  7,  8,  9, 10, 11, 12],\n",
       "       [ 1,  2,  3,  4,  5,  6,  7,  8,  9, 10, 11, 12],\n",
       "       [ 1,  2,  3,  4,  5,  6,  7,  8,  9, 10, 11, 12],\n",
       "       [ 1,  2,  3,  4,  5,  6,  7,  8,  9, 10, 11, 12]])"
      ]
     },
     "execution_count": 275,
     "metadata": {},
     "output_type": "execute_result"
    }
   ],
   "source": [
    "w1 = np.tile(w[None, :], (12, 1))\n",
    "w1"
   ]
  },
  {
   "cell_type": "markdown",
   "id": "0aab7468",
   "metadata": {},
   "source": [
    "And the second array looks like this"
   ]
  },
  {
   "cell_type": "code",
   "execution_count": 276,
   "id": "c1de5e56",
   "metadata": {},
   "outputs": [
    {
     "data": {
      "text/plain": [
       "array([[ 1,  1,  1,  1,  1,  1,  1,  1,  1,  1,  1,  1],\n",
       "       [ 2,  2,  2,  2,  2,  2,  2,  2,  2,  2,  2,  2],\n",
       "       [ 3,  3,  3,  3,  3,  3,  3,  3,  3,  3,  3,  3],\n",
       "       [ 4,  4,  4,  4,  4,  4,  4,  4,  4,  4,  4,  4],\n",
       "       [ 5,  5,  5,  5,  5,  5,  5,  5,  5,  5,  5,  5],\n",
       "       [ 6,  6,  6,  6,  6,  6,  6,  6,  6,  6,  6,  6],\n",
       "       [ 7,  7,  7,  7,  7,  7,  7,  7,  7,  7,  7,  7],\n",
       "       [ 8,  8,  8,  8,  8,  8,  8,  8,  8,  8,  8,  8],\n",
       "       [ 9,  9,  9,  9,  9,  9,  9,  9,  9,  9,  9,  9],\n",
       "       [10, 10, 10, 10, 10, 10, 10, 10, 10, 10, 10, 10],\n",
       "       [11, 11, 11, 11, 11, 11, 11, 11, 11, 11, 11, 11],\n",
       "       [12, 12, 12, 12, 12, 12, 12, 12, 12, 12, 12, 12]])"
      ]
     },
     "execution_count": 276,
     "metadata": {},
     "output_type": "execute_result"
    }
   ],
   "source": [
    "w2 = np.tile(w[:, None], (1, 12))\n",
    "w2"
   ]
  },
  {
   "cell_type": "markdown",
   "id": "7f3c0a42",
   "metadata": {},
   "source": [
    "And element-wsie multiplication takes care of the rest."
   ]
  },
  {
   "cell_type": "code",
   "execution_count": 277,
   "id": "18d59227",
   "metadata": {},
   "outputs": [
    {
     "data": {
      "text/plain": [
       "array([[  1,   2,   3,   4,   5,   6,   7,   8,   9,  10,  11,  12],\n",
       "       [  2,   4,   6,   8,  10,  12,  14,  16,  18,  20,  22,  24],\n",
       "       [  3,   6,   9,  12,  15,  18,  21,  24,  27,  30,  33,  36],\n",
       "       [  4,   8,  12,  16,  20,  24,  28,  32,  36,  40,  44,  48],\n",
       "       [  5,  10,  15,  20,  25,  30,  35,  40,  45,  50,  55,  60],\n",
       "       [  6,  12,  18,  24,  30,  36,  42,  48,  54,  60,  66,  72],\n",
       "       [  7,  14,  21,  28,  35,  42,  49,  56,  63,  70,  77,  84],\n",
       "       [  8,  16,  24,  32,  40,  48,  56,  64,  72,  80,  88,  96],\n",
       "       [  9,  18,  27,  36,  45,  54,  63,  72,  81,  90,  99, 108],\n",
       "       [ 10,  20,  30,  40,  50,  60,  70,  80,  90, 100, 110, 120],\n",
       "       [ 11,  22,  33,  44,  55,  66,  77,  88,  99, 110, 121, 132],\n",
       "       [ 12,  24,  36,  48,  60,  72,  84,  96, 108, 120, 132, 144]])"
      ]
     },
     "execution_count": 277,
     "metadata": {},
     "output_type": "execute_result"
    }
   ],
   "source": [
    "w1 * w2"
   ]
  },
  {
   "cell_type": "markdown",
   "id": "4f6e3192",
   "metadata": {},
   "source": [
    "## Vectorizing loops\n",
    "\n",
    "Learn to recognise how to convert loops into vectorized `numpy` operations and vice versa."
   ]
  },
  {
   "cell_type": "markdown",
   "id": "8025a751",
   "metadata": {},
   "source": [
    "### Universal functions"
   ]
  },
  {
   "cell_type": "code",
   "execution_count": 278,
   "id": "6b9cf694",
   "metadata": {},
   "outputs": [
    {
     "data": {
      "text/plain": [
       "array([[1],\n",
       "       [2],\n",
       "       [3],\n",
       "       [4]])"
      ]
     },
     "execution_count": 278,
     "metadata": {},
     "output_type": "execute_result"
    }
   ],
   "source": [
    "x"
   ]
  },
  {
   "cell_type": "code",
   "execution_count": 279,
   "id": "abcc4ea8",
   "metadata": {},
   "outputs": [
    {
     "data": {
      "text/plain": [
       "array([[ 1],\n",
       "       [ 4],\n",
       "       [ 9],\n",
       "       [16]])"
      ]
     },
     "execution_count": 279,
     "metadata": {},
     "output_type": "execute_result"
    }
   ],
   "source": [
    "m, n = x.shape\n",
    "s = x.copy()\n",
    "for i in range(m):\n",
    "    s[i] = x[i]**2\n",
    "s"
   ]
  },
  {
   "cell_type": "markdown",
   "id": "2be3ccf1",
   "metadata": {},
   "source": [
    "Can just be written as"
   ]
  },
  {
   "cell_type": "code",
   "execution_count": 280,
   "id": "14d11847",
   "metadata": {},
   "outputs": [
    {
     "data": {
      "text/plain": [
       "array([[ 1],\n",
       "       [ 4],\n",
       "       [ 9],\n",
       "       [16]])"
      ]
     },
     "execution_count": 280,
     "metadata": {},
     "output_type": "execute_result"
    }
   ],
   "source": [
    "s = x**2\n",
    "s"
   ]
  },
  {
   "cell_type": "markdown",
   "id": "2861b158",
   "metadata": {},
   "source": [
    "### Scalar product"
   ]
  },
  {
   "cell_type": "code",
   "execution_count": 281,
   "id": "9132727c",
   "metadata": {},
   "outputs": [
    {
     "data": {
      "text/plain": [
       "array([[1],\n",
       "       [2],\n",
       "       [3],\n",
       "       [4]])"
      ]
     },
     "execution_count": 281,
     "metadata": {},
     "output_type": "execute_result"
    }
   ],
   "source": [
    "x"
   ]
  },
  {
   "cell_type": "code",
   "execution_count": 282,
   "id": "56773251",
   "metadata": {},
   "outputs": [
    {
     "data": {
      "text/plain": [
       "array([[4],\n",
       "       [3],\n",
       "       [2],\n",
       "       [1]])"
      ]
     },
     "execution_count": 282,
     "metadata": {},
     "output_type": "execute_result"
    }
   ],
   "source": [
    "y"
   ]
  },
  {
   "cell_type": "markdown",
   "id": "3d448c5c",
   "metadata": {},
   "source": [
    "Vectorized form"
   ]
  },
  {
   "cell_type": "code",
   "execution_count": 283,
   "id": "e904bb74",
   "metadata": {},
   "outputs": [
    {
     "data": {
      "text/plain": [
       "array([[20]])"
      ]
     },
     "execution_count": 283,
     "metadata": {},
     "output_type": "execute_result"
    }
   ],
   "source": [
    "x.T @ y"
   ]
  },
  {
   "cell_type": "markdown",
   "id": "5fcaf792",
   "metadata": {},
   "source": [
    "Unrolled version"
   ]
  },
  {
   "cell_type": "code",
   "execution_count": 284,
   "id": "fe493368",
   "metadata": {},
   "outputs": [
    {
     "data": {
      "text/plain": [
       "array([20])"
      ]
     },
     "execution_count": 284,
     "metadata": {},
     "output_type": "execute_result"
    }
   ],
   "source": [
    "s = 0\n",
    "for i in range(m):\n",
    "     s += x[i] * y[i]\n",
    "s"
   ]
  },
  {
   "cell_type": "markdown",
   "id": "500e1592",
   "metadata": {},
   "source": [
    "### Matrix vector proudct"
   ]
  },
  {
   "cell_type": "code",
   "execution_count": 285,
   "id": "ce6b6f40",
   "metadata": {},
   "outputs": [
    {
     "data": {
      "text/plain": [
       "array([[ 1,  2,  3,  4],\n",
       "       [ 5,  6,  7,  8],\n",
       "       [ 9, 10, 11, 12]])"
      ]
     },
     "execution_count": 285,
     "metadata": {},
     "output_type": "execute_result"
    }
   ],
   "source": [
    "A"
   ]
  },
  {
   "cell_type": "code",
   "execution_count": 286,
   "id": "c695a272",
   "metadata": {},
   "outputs": [
    {
     "data": {
      "text/plain": [
       "array([[1],\n",
       "       [2],\n",
       "       [3],\n",
       "       [4]])"
      ]
     },
     "execution_count": 286,
     "metadata": {},
     "output_type": "execute_result"
    }
   ],
   "source": [
    "x"
   ]
  },
  {
   "cell_type": "markdown",
   "id": "5db4c9c2",
   "metadata": {},
   "source": [
    "Vectroized form"
   ]
  },
  {
   "cell_type": "code",
   "execution_count": 287,
   "id": "f2c3218c",
   "metadata": {},
   "outputs": [
    {
     "data": {
      "text/plain": [
       "array([[ 30],\n",
       "       [ 70],\n",
       "       [110]])"
      ]
     },
     "execution_count": 287,
     "metadata": {},
     "output_type": "execute_result"
    }
   ],
   "source": [
    "A @ x"
   ]
  },
  {
   "cell_type": "markdown",
   "id": "4d4df22b",
   "metadata": {},
   "source": [
    "Unrolled version"
   ]
  },
  {
   "cell_type": "code",
   "execution_count": 288,
   "id": "a77c5338",
   "metadata": {},
   "outputs": [
    {
     "data": {
      "text/plain": [
       "array([[ 30.],\n",
       "       [ 70.],\n",
       "       [110.]])"
      ]
     },
     "execution_count": 288,
     "metadata": {},
     "output_type": "execute_result"
    }
   ],
   "source": [
    "s = np.zeros(A.shape[0]).reshape(-1, 1)\n",
    "m, n = A.shape\n",
    "for i in range(m):\n",
    "    for j in range(n):\n",
    "        s[i] += A[i, j] * x[j]\n",
    "s"
   ]
  },
  {
   "cell_type": "markdown",
   "id": "1b3f6cc2-9f0e-4d0f-ad52-175d9c62ef71",
   "metadata": {},
   "source": [
    "## Matrix manipulation"
   ]
  },
  {
   "cell_type": "code",
   "execution_count": 289,
   "id": "7d9eb27b",
   "metadata": {
    "tags": []
   },
   "outputs": [
    {
     "data": {
      "text/plain": [
       "array([[ 1,  2,  3,  4],\n",
       "       [ 5,  6,  7,  8],\n",
       "       [ 9, 10, 11, 12]])"
      ]
     },
     "execution_count": 289,
     "metadata": {},
     "output_type": "execute_result"
    }
   ],
   "source": [
    "A"
   ]
  },
  {
   "cell_type": "code",
   "execution_count": 290,
   "id": "157bc0b2-fef9-4c83-96ba-ce7eddba1930",
   "metadata": {
    "tags": []
   },
   "outputs": [],
   "source": [
    "m, n = A.shape"
   ]
  },
  {
   "cell_type": "markdown",
   "id": "4e35c906-15be-4237-96da-6589afa890fb",
   "metadata": {},
   "source": [
    "#### Sum across rows to get column sums\n",
    "\n",
    "Pre-multiply with row vector of ones."
   ]
  },
  {
   "cell_type": "code",
   "execution_count": 291,
   "id": "415e5750-3c8a-41ab-9ee8-c4d371705402",
   "metadata": {
    "tags": []
   },
   "outputs": [
    {
     "data": {
      "text/plain": [
       "array([[15., 18., 21., 24.]])"
      ]
     },
     "execution_count": 291,
     "metadata": {},
     "output_type": "execute_result"
    }
   ],
   "source": [
    "np.ones((m,1)).T @ A"
   ]
  },
  {
   "cell_type": "markdown",
   "id": "118226e5-4020-44fd-a425-078a273ecf1b",
   "metadata": {},
   "source": [
    "Check"
   ]
  },
  {
   "cell_type": "code",
   "execution_count": 292,
   "id": "18ed4a40-fd38-4e60-9ea8-0a73a7aca02c",
   "metadata": {
    "tags": []
   },
   "outputs": [
    {
     "data": {
      "text/plain": [
       "array([15, 18, 21, 24])"
      ]
     },
     "execution_count": 292,
     "metadata": {},
     "output_type": "execute_result"
    }
   ],
   "source": [
    "A.sum(axis=0)"
   ]
  },
  {
   "cell_type": "markdown",
   "id": "8b25a2d6-647b-4772-8398-d11a80f5e97b",
   "metadata": {},
   "source": [
    "#### Sum across columns to get row sums\n",
    "\n",
    "Post-multiply wiht column vector of ones."
   ]
  },
  {
   "cell_type": "code",
   "execution_count": 293,
   "id": "955420a4-938f-44e5-a5aa-c4f452610708",
   "metadata": {
    "tags": []
   },
   "outputs": [
    {
     "data": {
      "text/plain": [
       "array([[10.],\n",
       "       [26.],\n",
       "       [42.]])"
      ]
     },
     "execution_count": 293,
     "metadata": {},
     "output_type": "execute_result"
    }
   ],
   "source": [
    "A @ np.ones((n, 1))"
   ]
  },
  {
   "cell_type": "markdown",
   "id": "da2dcafe-a58d-40b3-9012-94beb3c0f7ea",
   "metadata": {},
   "source": [
    "Check"
   ]
  },
  {
   "cell_type": "code",
   "execution_count": 294,
   "id": "e381e038-f488-4b97-bcc7-8e9792238436",
   "metadata": {
    "tags": []
   },
   "outputs": [
    {
     "data": {
      "text/plain": [
       "array([10, 26, 42])"
      ]
     },
     "execution_count": 294,
     "metadata": {},
     "output_type": "execute_result"
    }
   ],
   "source": [
    "A.sum(axis=1)"
   ]
  },
  {
   "cell_type": "markdown",
   "id": "7e977c8c-abb5-4087-b2dc-b1420a68e440",
   "metadata": {},
   "source": [
    "#### Global sum "
   ]
  },
  {
   "cell_type": "code",
   "execution_count": 295,
   "id": "10790800-a5a7-4fe7-bced-6fa300703c15",
   "metadata": {
    "tags": []
   },
   "outputs": [
    {
     "data": {
      "text/plain": [
       "array([[78.]])"
      ]
     },
     "execution_count": 295,
     "metadata": {},
     "output_type": "execute_result"
    }
   ],
   "source": [
    "np.ones((m,1)).T @ A @ np.ones((n, 1))"
   ]
  },
  {
   "cell_type": "markdown",
   "id": "b7facfa5-be14-4498-916e-348d4593a185",
   "metadata": {},
   "source": [
    "Check"
   ]
  },
  {
   "cell_type": "code",
   "execution_count": 296,
   "id": "15147a6f-0194-496d-83f0-fb7acae948ec",
   "metadata": {
    "tags": []
   },
   "outputs": [
    {
     "data": {
      "text/plain": [
       "78"
      ]
     },
     "execution_count": 296,
     "metadata": {},
     "output_type": "execute_result"
    }
   ],
   "source": [
    "A.sum()"
   ]
  },
  {
   "cell_type": "markdown",
   "id": "8d6cb180-e5e7-4d00-bbd0-c65f6e5079bb",
   "metadata": {
    "tags": []
   },
   "source": [
    "#### Global mean"
   ]
  },
  {
   "cell_type": "code",
   "execution_count": 297,
   "id": "73922dc6-9687-4f00-9e74-1182fdecabf1",
   "metadata": {
    "tags": []
   },
   "outputs": [
    {
     "data": {
      "text/plain": [
       "array([[6.5]])"
      ]
     },
     "execution_count": 297,
     "metadata": {},
     "output_type": "execute_result"
    }
   ],
   "source": [
    "np.ones((m,1)).T @ A @ np.ones((n, 1))/(m * n)"
   ]
  },
  {
   "cell_type": "markdown",
   "id": "aec4d0d3-f2d9-459c-991e-9a26130eeed5",
   "metadata": {},
   "source": [
    "Check"
   ]
  },
  {
   "cell_type": "code",
   "execution_count": 298,
   "id": "02e722ab-3941-4255-aab5-ac6a54464dd2",
   "metadata": {
    "tags": []
   },
   "outputs": [
    {
     "data": {
      "text/plain": [
       "6.5"
      ]
     },
     "execution_count": 298,
     "metadata": {},
     "output_type": "execute_result"
    }
   ],
   "source": [
    "A.mean()"
   ]
  },
  {
   "cell_type": "markdown",
   "id": "b813cb60-bd84-453e-a4d8-494312c3fc46",
   "metadata": {
    "tags": []
   },
   "source": [
    "#### Scaling rows"
   ]
  },
  {
   "cell_type": "code",
   "execution_count": 299,
   "id": "690f8060-00d7-4b4d-af28-6612b1bd08ee",
   "metadata": {
    "tags": []
   },
   "outputs": [
    {
     "data": {
      "text/plain": [
       "array([[ 1,  2,  3,  4],\n",
       "       [10, 12, 14, 16],\n",
       "       [27, 30, 33, 36]])"
      ]
     },
     "execution_count": 299,
     "metadata": {},
     "output_type": "execute_result"
    }
   ],
   "source": [
    "np.diag([1,2,3]) @ A"
   ]
  },
  {
   "cell_type": "markdown",
   "id": "ad261c8d-a3ed-4ebf-83a3-7da25baea2e0",
   "metadata": {},
   "source": [
    "#### Scaling columns"
   ]
  },
  {
   "cell_type": "code",
   "execution_count": 300,
   "id": "a5ad18f2-9d06-49b6-bab4-95f10b8750c4",
   "metadata": {
    "tags": []
   },
   "outputs": [
    {
     "data": {
      "text/plain": [
       "array([[ 1,  4,  9, 16],\n",
       "       [ 5, 12, 21, 32],\n",
       "       [ 9, 20, 33, 48]])"
      ]
     },
     "execution_count": 300,
     "metadata": {},
     "output_type": "execute_result"
    }
   ],
   "source": [
    "A @ np.diag([1,2,3,4])"
   ]
  },
  {
   "cell_type": "markdown",
   "id": "b61dcd6d-2e2a-4b91-a77c-8d14fc6f7f3a",
   "metadata": {
    "tags": []
   },
   "source": [
    "#### Standardization\n",
    "\n",
    "$\\text{Standardize}(X) = (X - \\mathbb{1}_N \\mu^T)\\text{diag}(\\sigma)^{-1}$"
   ]
  },
  {
   "cell_type": "code",
   "execution_count": 301,
   "id": "65897e2f-7f46-43a6-88b9-508881c14736",
   "metadata": {
    "tags": []
   },
   "outputs": [
    {
     "data": {
      "text/plain": [
       "array([[5.],\n",
       "       [6.],\n",
       "       [7.],\n",
       "       [8.]])"
      ]
     },
     "execution_count": 301,
     "metadata": {},
     "output_type": "execute_result"
    }
   ],
   "source": [
    "μ = A.mean(axis=0).reshape(-1,1)\n",
    "μ"
   ]
  },
  {
   "cell_type": "code",
   "execution_count": 302,
   "id": "16b6ab58-d791-4997-8ba6-81ade9536a21",
   "metadata": {
    "tags": []
   },
   "outputs": [
    {
     "data": {
      "text/plain": [
       "array([3.26598632, 3.26598632, 3.26598632, 3.26598632])"
      ]
     },
     "execution_count": 302,
     "metadata": {},
     "output_type": "execute_result"
    }
   ],
   "source": [
    "σ = A.std(axis=0)\n",
    "σ"
   ]
  },
  {
   "cell_type": "code",
   "execution_count": 303,
   "id": "53c23210-8be4-458a-8f9c-3ca415a66e89",
   "metadata": {
    "tags": []
   },
   "outputs": [
    {
     "data": {
      "text/plain": [
       "array([[-1.22474487, -1.22474487, -1.22474487, -1.22474487],\n",
       "       [ 0.        ,  0.        ,  0.        ,  0.        ],\n",
       "       [ 1.22474487,  1.22474487,  1.22474487,  1.22474487]])"
      ]
     },
     "execution_count": 303,
     "metadata": {},
     "output_type": "execute_result"
    }
   ],
   "source": [
    "(A - np.ones((m, 1)) @ μ.T) @ np.diag(1/σ)"
   ]
  },
  {
   "cell_type": "markdown",
   "id": "fca1fdfd-c82a-47f1-8acd-0f544f7095f1",
   "metadata": {},
   "source": [
    "Check — broadcasting makes this easy.\n",
    "\n",
    "The matrix version shows how to write the operation mathematically using matrix notation"
   ]
  },
  {
   "cell_type": "code",
   "execution_count": 304,
   "id": "eef81408-92b0-49fb-ba62-b0572bb22e8f",
   "metadata": {
    "tags": []
   },
   "outputs": [
    {
     "data": {
      "text/plain": [
       "array([[-1.22474487, -1.22474487, -1.22474487, -1.22474487],\n",
       "       [ 0.        ,  0.        ,  0.        ,  0.        ],\n",
       "       [ 1.22474487,  1.22474487,  1.22474487,  1.22474487]])"
      ]
     },
     "execution_count": 304,
     "metadata": {},
     "output_type": "execute_result"
    }
   ],
   "source": [
    "(A - A.mean(axis=0))/(A.std(axis=0))"
   ]
  },
  {
   "cell_type": "markdown",
   "id": "22575e6f-0408-47a0-8bae-6730d8ac3bce",
   "metadata": {},
   "source": [
    "### Sum of squares matrix"
   ]
  },
  {
   "cell_type": "code",
   "execution_count": 305,
   "id": "01ca69f9-22dd-4117-a4d4-db67270d8736",
   "metadata": {
    "tags": []
   },
   "outputs": [
    {
     "data": {
      "text/plain": [
       "array([[107, 122, 137, 152],\n",
       "       [122, 140, 158, 176],\n",
       "       [137, 158, 179, 200],\n",
       "       [152, 176, 200, 224]])"
      ]
     },
     "execution_count": 305,
     "metadata": {},
     "output_type": "execute_result"
    }
   ],
   "source": [
    "A.T @ A"
   ]
  },
  {
   "cell_type": "markdown",
   "id": "05a2d1c9-8592-4594-9fc5-a74dd26ce19f",
   "metadata": {},
   "source": [
    "### Scatter matrix\n",
    "\n",
    "The scatter matrix is the sum of squares matrix after column centering.\n",
    "\n",
    "Mathematically, it is expressed as scaling by a centering matrix, but in numpy is easier to do via multiplicaiotn of centered martrces."
   ]
  },
  {
   "cell_type": "markdown",
   "id": "189ac43b-a4fd-4ba2-bc39-b325a99a856c",
   "metadata": {
    "tags": []
   },
   "source": [
    "Defining and using centering matrix C"
   ]
  },
  {
   "cell_type": "code",
   "execution_count": 306,
   "id": "52a396a1-1c2f-4e4f-9925-75307e55a590",
   "metadata": {
    "tags": []
   },
   "outputs": [
    {
     "data": {
      "text/plain": [
       "array([[ 0.66666667, -0.33333333, -0.33333333],\n",
       "       [-0.33333333,  0.66666667, -0.33333333],\n",
       "       [-0.33333333, -0.33333333,  0.66666667]])"
      ]
     },
     "execution_count": 306,
     "metadata": {},
     "output_type": "execute_result"
    }
   ],
   "source": [
    "C = np.eye(m) - 1/m * np.ones((m,1)) @ np.ones((m,1)).T\n",
    "C"
   ]
  },
  {
   "cell_type": "code",
   "execution_count": 307,
   "id": "3e12c5bf-8a7f-4cf7-9f01-c6f839e49a88",
   "metadata": {
    "tags": []
   },
   "outputs": [
    {
     "data": {
      "text/plain": [
       "array([[32., 32., 32., 32.],\n",
       "       [32., 32., 32., 32.],\n",
       "       [32., 32., 32., 32.],\n",
       "       [32., 32., 32., 32.]])"
      ]
     },
     "execution_count": 307,
     "metadata": {},
     "output_type": "execute_result"
    }
   ],
   "source": [
    "A.T @ C @ A"
   ]
  },
  {
   "cell_type": "markdown",
   "id": "78d6d24b-b516-4905-b6ac-e402edb5d935",
   "metadata": {},
   "source": [
    "Direct solution"
   ]
  },
  {
   "cell_type": "code",
   "execution_count": 308,
   "id": "a3675239-487f-4c27-a7c6-0184f6f8e7f4",
   "metadata": {
    "tags": []
   },
   "outputs": [
    {
     "data": {
      "text/plain": [
       "array([[32., 32., 32., 32.],\n",
       "       [32., 32., 32., 32.],\n",
       "       [32., 32., 32., 32.],\n",
       "       [32., 32., 32., 32.]])"
      ]
     },
     "execution_count": 308,
     "metadata": {},
     "output_type": "execute_result"
    }
   ],
   "source": [
    "B = A - A.mean(axis=0)\n",
    "B.T @ B"
   ]
  },
  {
   "cell_type": "markdown",
   "id": "58a372b4-9b4c-442e-b007-7bc1494233d5",
   "metadata": {},
   "source": [
    "## Gram mattix\n",
    "\n",
    "Matrix of inner products."
   ]
  },
  {
   "cell_type": "code",
   "execution_count": 309,
   "id": "c73a4d48-b19c-4cd0-a53a-53425f996c82",
   "metadata": {
    "tags": []
   },
   "outputs": [
    {
     "data": {
      "text/plain": [
       "array([[ 30,  70, 110],\n",
       "       [ 70, 174, 278],\n",
       "       [110, 278, 446]])"
      ]
     },
     "execution_count": 309,
     "metadata": {},
     "output_type": "execute_result"
    }
   ],
   "source": [
    "A @ A.T"
   ]
  },
  {
   "cell_type": "markdown",
   "id": "eeeb6ce9-8c51-4ee1-88a3-4b0287f18639",
   "metadata": {
    "tags": []
   },
   "source": [
    "### Distance matrix\n",
    "\n",
    "The matrix euqation to calculate pairwise distances between row vectors in two matrices $A$ and $B$ is given by\n",
    "\n",
    "$$\n",
    "D = \\hat{a}\\mathbb{1}_{n_b}^{T} - 2AB + \\mathbb{1}_{n_a}\\hat{b}^T\n",
    "$$\n",
    "\n",
    "where $\\hat{a} = \\text{diag}(AA^T)$ ad $\\hat{b} = \\text{diag}(BB^T)$ are vectors whose elementer are the squared norms of the row vectors of $A$ and $B$ respectively."
   ]
  },
  {
   "cell_type": "code",
   "execution_count": 310,
   "id": "bad495b5-c292-4704-8db8-7b7f1e448ca1",
   "metadata": {
    "tags": []
   },
   "outputs": [
    {
     "data": {
      "text/plain": [
       "array([[ 1,  2,  3,  4],\n",
       "       [ 5,  6,  7,  8],\n",
       "       [ 9, 10, 11, 12]])"
      ]
     },
     "execution_count": 310,
     "metadata": {},
     "output_type": "execute_result"
    }
   ],
   "source": [
    "A"
   ]
  },
  {
   "cell_type": "code",
   "execution_count": 311,
   "id": "5f14cb6c-b9dc-419c-927c-6fae8054c8a3",
   "metadata": {
    "tags": []
   },
   "outputs": [
    {
     "data": {
      "text/plain": [
       "array([[ 0,  1,  2,  3],\n",
       "       [ 4,  5,  6,  7],\n",
       "       [ 8,  9, 10, 11],\n",
       "       [12, 13, 14, 15]])"
      ]
     },
     "execution_count": 311,
     "metadata": {},
     "output_type": "execute_result"
    }
   ],
   "source": [
    "B = np.arange(0, 16).reshape(-1, 4)\n",
    "B"
   ]
  },
  {
   "cell_type": "code",
   "execution_count": 312,
   "id": "79b5e6a2-036a-4146-b3b9-1f5c8263c1c7",
   "metadata": {
    "tags": []
   },
   "outputs": [],
   "source": [
    "n, p = B.shape"
   ]
  },
  {
   "cell_type": "code",
   "execution_count": 313,
   "id": "35da7245-2d82-475d-bade-cd1a2fcd8600",
   "metadata": {
    "tags": []
   },
   "outputs": [
    {
     "data": {
      "text/plain": [
       "array([[ 30],\n",
       "       [174],\n",
       "       [446]])"
      ]
     },
     "execution_count": 313,
     "metadata": {},
     "output_type": "execute_result"
    }
   ],
   "source": [
    "â = np.diag(A @ A.T).reshape(-1,1)\n",
    "â"
   ]
  },
  {
   "cell_type": "code",
   "execution_count": 314,
   "id": "90c72427-9a25-43ad-bddb-182a9e6789e2",
   "metadata": {
    "tags": []
   },
   "outputs": [
    {
     "data": {
      "text/plain": [
       "array([[ 14],\n",
       "       [126],\n",
       "       [366],\n",
       "       [734]])"
      ]
     },
     "execution_count": 314,
     "metadata": {},
     "output_type": "execute_result"
    }
   ],
   "source": [
    "b̂ = np.diag(B @ B.T).reshape(-1,1)\n",
    "b̂"
   ]
  },
  {
   "cell_type": "code",
   "execution_count": 315,
   "id": "a5956af2-d883-4a61-a73f-72619c0da2c7",
   "metadata": {
    "tags": []
   },
   "outputs": [
    {
     "data": {
      "text/plain": [
       "array([[ 2.,  6., 14., 22.],\n",
       "       [10.,  2.,  6., 14.],\n",
       "       [18., 10.,  2.,  6.]])"
      ]
     },
     "execution_count": 315,
     "metadata": {},
     "output_type": "execute_result"
    }
   ],
   "source": [
    "np.sqrt(â @ np.ones((n,1)).T  - 2*A@B.T + np.ones((m,1))@b̂.T)"
   ]
  },
  {
   "cell_type": "markdown",
   "id": "348a54e1-8898-47e3-8672-4ab19c5d3208",
   "metadata": {},
   "source": [
    "Check"
   ]
  },
  {
   "cell_type": "code",
   "execution_count": 316,
   "id": "0ab721ca-625c-4be6-a270-38e7a98b130d",
   "metadata": {
    "tags": []
   },
   "outputs": [],
   "source": [
    "from scipy.spatial.distance import cdist"
   ]
  },
  {
   "cell_type": "code",
   "execution_count": 317,
   "id": "bc33a599-2bbb-4273-9947-ae13c56be48a",
   "metadata": {
    "tags": []
   },
   "outputs": [
    {
     "data": {
      "text/plain": [
       "array([[ 2.,  6., 14., 22.],\n",
       "       [10.,  2.,  6., 14.],\n",
       "       [18., 10.,  2.,  6.]])"
      ]
     },
     "execution_count": 317,
     "metadata": {},
     "output_type": "execute_result"
    }
   ],
   "source": [
    "cdist(A, B)"
   ]
  }
 ],
 "metadata": {
  "kernelspec": {
   "display_name": "Python 3 (ipykernel)",
   "language": "python",
   "name": "python3"
  },
  "language_info": {
   "codemirror_mode": {
    "name": "ipython",
    "version": 3
   },
   "file_extension": ".py",
   "mimetype": "text/x-python",
   "name": "python",
   "nbconvert_exporter": "python",
   "pygments_lexer": "ipython3",
   "version": "3.10.6"
  },
  "toc": {
   "base_numbering": 1,
   "nav_menu": {},
   "number_sections": true,
   "sideBar": true,
   "skip_h1_title": false,
   "title_cell": "Table of Contents",
   "title_sidebar": "Contents",
   "toc_cell": false,
   "toc_position": {},
   "toc_section_display": true,
   "toc_window_display": false
  }
 },
 "nbformat": 4,
 "nbformat_minor": 5
}
