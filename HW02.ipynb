{
 "cells": [
  {
   "cell_type": "markdown",
   "id": "fc95492d-feb4-456c-9557-b049be654b66",
   "metadata": {},
   "source": [
    "# Homework 2: Working with strings\n",
    "\n",
    "The notes from my course might be helpful\n",
    "\n",
    "- https://people.duke.edu/~ccc14/sta-663-2019/notebook/S02_Text_Annotated.html\n",
    "- https://people.duke.edu/~ccc14/sta-663-2018/notebooks/S05_Text_Annotated.html"
   ]
  },
  {
   "cell_type": "markdown",
   "id": "2f27cf50-36dd-4554-a5ae-a9d5b3462c59",
   "metadata": {
    "tags": []
   },
   "source": [
    "**1.** A formatting exercise."
   ]
  },
  {
   "cell_type": "code",
   "execution_count": 1,
   "id": "9b1ab21f-1007-4960-b349-88d0a70e4c7f",
   "metadata": {
    "tags": []
   },
   "outputs": [],
   "source": [
    "import numpy as np\n",
    "np.random.seed(42)\n",
    "ps = np.random.beta(0.2, 0.2, 10)"
   ]
  },
  {
   "cell_type": "markdown",
   "id": "5560a802-4e34-4b40-b609-6090979fee12",
   "metadata": {
    "tags": []
   },
   "source": [
    "Write code so that the values in `ps` are printed like so:\n",
    "    \n",
    "```python\n",
    "p < 0.001\n",
    "p < 0.001\n",
    "p = 0.009\n",
    "p = 0.061\n",
    "p = 0.306\n",
    "p = 0.489\n",
    "p = 0.500\n",
    "p = 0.732\n",
    "p = 0.878\n",
    "p = 0.999\n",
    "```"
   ]
  },
  {
   "cell_type": "markdown",
   "id": "cd07ab1c-a8f0-4e46-a563-740efd6dc252",
   "metadata": {},
   "source": [
    "## Solution to exercise 1"
   ]
  },
  {
   "cell_type": "code",
   "execution_count": null,
   "id": "ca836bcb-cff2-4d72-b6a8-22401e2bf559",
   "metadata": {
    "tags": []
   },
   "outputs": [],
   "source": [
    "\n",
    "\n",
    "\n"
   ]
  },
  {
   "cell_type": "markdown",
   "id": "ba1282e7-4e91-41a0-bcef-c53cd17b4711",
   "metadata": {},
   "source": [
    "**2**. Write a funciton that converts an integer in base 10 to one in base 2 (as a string) and return the number of 0s and 1s in it in a dictionary.\n",
    "\n",
    "Recall:\n",
    "\n",
    "$$\n",
    "14 = 1 \\times 2^3 + 1 \\times 2^2 + 1 \\times 2^1 + 0 \\times 2^0 = 1110\n",
    "$$\n",
    "\n",
    "The results should look similar to this:\n",
    "\n",
    "```python\n",
    "In : count_bits(14)\n",
    "Out: {'0': 1, '1': 3}\n",
    "```"
   ]
  },
  {
   "cell_type": "markdown",
   "id": "744d06d2-9825-4930-9178-d7250ecf9440",
   "metadata": {},
   "source": [
    "## Solution to exercise 2"
   ]
  },
  {
   "cell_type": "code",
   "execution_count": null,
   "id": "2c9e531e-b4e5-4a76-a9cb-43821d555ad4",
   "metadata": {
    "tags": []
   },
   "outputs": [],
   "source": [
    "\n",
    "\n",
    "\n"
   ]
  },
  {
   "cell_type": "markdown",
   "id": "d19048f3-ec88-4bec-be4b-77dc445afa46",
   "metadata": {},
   "source": [
    "**3**. Read in the two books by James Joyce stored in `data/portrait.txt` and `data/ulysses.txt` and create a `pandas DataFrame` where each row is word in either book, each column is a book and each cel contains the number of occurrences of that word in each book. \n",
    "\n",
    "For simplicity, do the following:\n",
    "\n",
    "- Convert all text to lower case\n",
    "- Remove all punctuation\n",
    "- Connsider any text sepearated by white space as a \"word\"\n",
    "\n",
    "Hint: \n",
    "\n",
    "- To remove punctuation, look up `string.punctuation` and `str.translate`\n",
    "- You need to find the vocabulary (union of unique words in both books)\n",
    "- You can use `collections.Counter` to count words\n",
    "- To create a pandas DataFrame"
   ]
  },
  {
   "cell_type": "code",
   "execution_count": 3,
   "id": "bce397c0-42a0-4491-a023-e79394b6f2a6",
   "metadata": {
    "tags": []
   },
   "outputs": [
    {
     "data": {
      "text/html": [
       "<div>\n",
       "<style scoped>\n",
       "    .dataframe tbody tr th:only-of-type {\n",
       "        vertical-align: middle;\n",
       "    }\n",
       "\n",
       "    .dataframe tbody tr th {\n",
       "        vertical-align: top;\n",
       "    }\n",
       "\n",
       "    .dataframe thead th {\n",
       "        text-align: right;\n",
       "    }\n",
       "</style>\n",
       "<table border=\"1\" class=\"dataframe\">\n",
       "  <thead>\n",
       "    <tr style=\"text-align: right;\">\n",
       "      <th></th>\n",
       "      <th>Book 1</th>\n",
       "      <th>Book 2</th>\n",
       "    </tr>\n",
       "  </thead>\n",
       "  <tbody>\n",
       "    <tr>\n",
       "      <th>apple</th>\n",
       "      <td>1</td>\n",
       "      <td>3</td>\n",
       "    </tr>\n",
       "    <tr>\n",
       "      <th>banana</th>\n",
       "      <td>2</td>\n",
       "      <td>1</td>\n",
       "    </tr>\n",
       "    <tr>\n",
       "      <th>cherry</th>\n",
       "      <td>3</td>\n",
       "      <td>2</td>\n",
       "    </tr>\n",
       "  </tbody>\n",
       "</table>\n",
       "</div>"
      ],
      "text/plain": [
       "        Book 1  Book 2\n",
       "apple        1       3\n",
       "banana       2       1\n",
       "cherry       3       2"
      ]
     },
     "execution_count": 3,
     "metadata": {},
     "output_type": "execute_result"
    }
   ],
   "source": [
    "import pandas as pd\n",
    "\n",
    "books = ['Book 1', 'Book 2']\n",
    "words = ['apple', 'banana', 'cherry']\n",
    "counts = [\n",
    "    [1, 3],\n",
    "    [2, 1],\n",
    "    [3, 2],\n",
    "]\n",
    "df = pd.DataFrame(counts, columns=books, index=words)\n",
    "df"
   ]
  },
  {
   "cell_type": "markdown",
   "id": "5d89b75a-6da4-41f7-9700-fbb2ae062650",
   "metadata": {},
   "source": [
    "## Solution to exercise 3"
   ]
  },
  {
   "cell_type": "code",
   "execution_count": null,
   "id": "2ad3aa4a-dd05-4c44-a54d-e3243cb56d97",
   "metadata": {
    "tags": []
   },
   "outputs": [],
   "source": [
    "\n",
    "\n",
    "\n"
   ]
  },
  {
   "cell_type": "markdown",
   "id": "62556b39-642f-4568-9e71-527ab2ba111a",
   "metadata": {},
   "source": [
    "## Exercise 4: Do the first 5 sets of Regex Golf\n",
    "\n",
    "See instructions at https://alf.nu/RegexGolf?world=regex&level=r00\n",
    "\n",
    "These exercises are named\n",
    "\n",
    "- Warmup\n",
    "- Anchors\n",
    "- It never ends\n",
    "- Ranges\n",
    "- Backrefs\n",
    "\n",
    "Hint: These are useful regex patterns (not all requireed)\n",
    "\n",
    "- Any character `.`,\n",
    "- Quantity modifier `+`, `*`\n",
    "- Alternatives `(cat|dot)`\n",
    "- Character class `[]`\n",
    "- Grouping `()`\n",
    "- Back refs `\\1`, `\\2`\n",
    "- Word boundary `\\b`\n",
    "- Space `\\s`\n",
    "- Numbers `\\d` or `[0-9]`\n",
    "- Beginning of string `^`\n",
    "- End of string `$`"
   ]
  },
  {
   "cell_type": "markdown",
   "id": "82f48b1a-f686-45fb-9bc5-1bbc9f2bce7f",
   "metadata": {
    "tags": []
   },
   "source": [
    "## Solutions to exercsie 4"
   ]
  },
  {
   "cell_type": "code",
   "execution_count": null,
   "id": "761f5cb7-2f61-45fc-97d1-a4e342832144",
   "metadata": {},
   "outputs": [],
   "source": [
    "\n",
    "\n",
    "\n"
   ]
  }
 ],
 "metadata": {
  "kernelspec": {
   "display_name": "Python 3 (ipykernel)",
   "language": "python",
   "name": "python3"
  },
  "language_info": {
   "codemirror_mode": {
    "name": "ipython",
    "version": 3
   },
   "file_extension": ".py",
   "mimetype": "text/x-python",
   "name": "python",
   "nbconvert_exporter": "python",
   "pygments_lexer": "ipython3",
   "version": "3.10.6"
  }
 },
 "nbformat": 4,
 "nbformat_minor": 5
}
