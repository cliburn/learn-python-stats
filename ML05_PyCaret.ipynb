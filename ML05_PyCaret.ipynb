{
 "cells": [
  {
   "cell_type": "markdown",
   "id": "84873670-6a1b-4b74-ac1d-1e0c5243f94b",
   "metadata": {},
   "source": [
    "# Classification Functional API Example"
   ]
  },
  {
   "cell_type": "code",
   "execution_count": null,
   "id": "f833a313-d106-4c0d-8252-9fe5a14daabe",
   "metadata": {},
   "outputs": [],
   "source": [
    "# loading sample dataset\n",
    "import pandas as pd\n",
    "data = pd.read_csv('https://raw.githubusercontent.com/pycaret/datasets/main/data/common/juice.csv', index_col=0)\n",
    "\n",
    "# init setup\n",
    "from pycaret.classification import *\n",
    "s = setup(data, target = 'Purchase', session_id = 123)\n",
    "\n",
    "# model training and selection\n",
    "best = compare_models()\n",
    "\n",
    "# evaluate trained model\n",
    "evaluate_model(best)\n",
    "\n",
    "# predict on hold-out/test set\n",
    "pred_holdout = predict_model(best)\n",
    "\n",
    "# predict on new data\n",
    "new_data = data.copy().drop('Purchase', axis = 1)\n",
    "predictions = predict_model(best, data = new_data)\n",
    "\n",
    "# save model\n",
    "save_model(best, 'best_pipeline')"
   ]
  },
  {
   "cell_type": "markdown",
   "id": "1c45b830-7b13-4466-9864-660eab1a8b74",
   "metadata": {},
   "source": [
    "# Classification OOP API Example"
   ]
  },
  {
   "cell_type": "code",
   "execution_count": null,
   "id": "ea09fe1a-6e2c-4d98-aeb8-50f73e68da14",
   "metadata": {},
   "outputs": [],
   "source": [
    "# init setup\n",
    "from pycaret.classification import ClassificationExperiment\n",
    "s = ClassificationExperiment()\n",
    "s.setup(data, target = 'Purchase', session_id = 123)\n",
    "\n",
    "# model training and selection\n",
    "best = s.compare_models()\n",
    "\n",
    "# evaluate trained model\n",
    "s.evaluate_model(best)\n",
    "\n",
    "# predict on hold-out/test set\n",
    "pred_holdout = s.predict_model(best)\n",
    "\n",
    "# predict on new data\n",
    "new_data = data.copy().drop('Purchase', axis = 1)\n",
    "predictions = s.predict_model(best, data = new_data)\n",
    "\n",
    "# save model\n",
    "s.save_model(best, 'best_pipeline')"
   ]
  },
  {
   "cell_type": "code",
   "execution_count": null,
   "id": "c5b17647-5063-48c0-87c3-6fa68326a9c5",
   "metadata": {},
   "outputs": [],
   "source": []
  }
 ],
 "metadata": {
  "kernelspec": {
   "display_name": "py310",
   "language": "python",
   "name": "py310"
  },
  "language_info": {
   "codemirror_mode": {
    "name": "ipython",
    "version": 3
   },
   "file_extension": ".py",
   "mimetype": "text/x-python",
   "name": "python",
   "nbconvert_exporter": "python",
   "pygments_lexer": "ipython3",
   "version": "3.10.12"
  }
 },
 "nbformat": 4,
 "nbformat_minor": 5
}
