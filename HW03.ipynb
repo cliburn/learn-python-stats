{
 "cells": [
  {
   "cell_type": "markdown",
   "metadata": {},
   "source": [
    "**1**. \n",
    "\n",
    "The following iterative sequence is defined for the set of positive integers:\n",
    "\n",
    "- n → n/2 (n is even)\n",
    "- n → 3n + 1 (n is odd)\n",
    "\n",
    "Using the rule above and starting with 13, we generate the following sequence:\n",
    "\n",
    "13 → 40 → 20 → 10 → 5 → 16 → 8 → 4 → 2 → 1\n",
    "\n",
    "It can be seen that this sequence (starting at 13 and finishing at 1) contains 10 terms. Although it has not been proved yet (Collatz Problem), it is thought that all starting numbers finish at 1.\n",
    "\n",
    "Which starting number, under one million, produces the longest chain?\n",
    "\n",
    "NOTE: Once the chain starts the terms are allowed to go above one million."
   ]
  },
  {
   "cell_type": "code",
   "execution_count": null,
   "metadata": {},
   "outputs": [],
   "source": [
    "\n",
    "\n",
    "\n"
   ]
  },
  {
   "cell_type": "markdown",
   "metadata": {
    "tags": []
   },
   "source": [
    "**2**. Simulate 1000 flips of a fair coin, using 'H' for heads and 'T' for tails, and store the results as a string. Count the number of times at least 5 heads occur consecutively.\n",
    "\n",
    "- Do this using a regex\n",
    "- Do this without using a regex"
   ]
  },
  {
   "cell_type": "code",
   "execution_count": null,
   "metadata": {},
   "outputs": [],
   "source": [
    "\n",
    "\n",
    "\n"
   ]
  },
  {
   "cell_type": "markdown",
   "metadata": {},
   "source": [
    "**3**. Create this matrix using `np.fromfunction` \n",
    "\n",
    "```\n",
    "array([[18, 13, 10,  9, 10, 13, 18],\n",
    "       [13,  8,  5,  4,  5,  8, 13],\n",
    "       [10,  5,  2,  1,  2,  5, 10],\n",
    "       [ 9,  4,  1,  0,  1,  4,  9],\n",
    "       [10,  5,  2,  1,  2,  5, 10],\n",
    "       [13,  8,  5,  4,  5,  8, 13],\n",
    "       [18, 13, 10,  9, 10, 13, 18]])\n",
    "```"
   ]
  },
  {
   "cell_type": "code",
   "execution_count": null,
   "metadata": {},
   "outputs": [],
   "source": [
    "\n",
    "\n",
    "\n"
   ]
  },
  {
   "cell_type": "markdown",
   "metadata": {},
   "source": [
    "**4**.\n",
    "\n",
    "Implement the Drossel and Schwabl forest fire model using the [description](https://en.wikipedia.org/wiki/Forest-fire_model#/media/File:Forest_fire_model.gif) from Wikipedia. Your final solution should be similar to the video `forest_fire.mp4` in the homework folder.\n",
    "\n",
    "```\n",
    "The model is defined as a cellular automaton on a grid with Ld cells. L is the sidelength of the grid and d is its dimension. A cell can be empty, occupied by a tree, or burning. The model of Drossel and Schwabl (1992) is defined by four rules which are executed simultaneously:\n",
    "A burning cell turns into an empty cell\n",
    "A tree will burn if at least one neighbor is burning\n",
    "A tree ignites with probability f even if no neighbor is burning\n",
    "An empty space fills with a tree with probability p\n",
    "```\n",
    "\n",
    "- Parameters for the simulation are\n",
    "```python\n",
    "steps = 200  # Number of steps\n",
    "p = 0.03     # Probability of EMPTY -> TREE\n",
    "f = p * 0.01 # Probability of TREE -> FIRE\n",
    "n = 200      # Length of square grid\n",
    "steps = 200  # Number of simulation steps\n",
    "```\n",
    "- You need to write code create an array named `sim` with shape (steps, n, n)\n",
    "- **Note**: Your code should make use of `numpy` optimizations as much as possible - the simulation itself takes less than a second to complete on my fairly old desktop\n",
    "- Now create a plot as shown from the `sims` array\n",
    "![](./forest_fire.png)\n",
    "- Code to display an animation of the `sims` array is provided\n",
    "- Your animation should be similar to the one shown\n",
    "\n",
    "Hints:\n",
    "\n",
    "- For simplicity, assume that the borders of the simulation grid are fixed so they are always empty (the borders are *outside* the 100 by 100 grid you are saving at each step.\n",
    "- Use marginalization to get the required numbers for the plot of population sizes over time\n",
    "- Use *views* liberally - they do not incur the cost of a copy\n"
   ]
  },
  {
   "cell_type": "code",
   "execution_count": null,
   "metadata": {},
   "outputs": [],
   "source": [
    "from IPython.display import Video\n",
    "\n",
    "Video(\"forest_fire.mp4\")"
   ]
  },
  {
   "cell_type": "code",
   "execution_count": null,
   "metadata": {},
   "outputs": [],
   "source": [
    "%matplotlib inline\n",
    "import matplotlib.pyplot as plt\n",
    "from matplotlib.colors import ListedColormap\n",
    "import matplotlib.animation as animation\n",
    "from IPython.display import HTML\n",
    "import numpy as np\n",
    "np.random.seed(123)"
   ]
  },
  {
   "cell_type": "code",
   "execution_count": null,
   "metadata": {},
   "outputs": [],
   "source": [
    "EMPTY, TREE, BURN = 0, 1, 2"
   ]
  },
  {
   "cell_type": "code",
   "execution_count": null,
   "metadata": {},
   "outputs": [],
   "source": [
    "steps = 200  # Number of steps\n",
    "p = 0.03     # Probability of EMPTY -> TREE\n",
    "f = p * 0.01 # Probability of TREE -> FIRE\n",
    "n = 200      # Length of square grid\n",
    "steps = 200  # Number of simulation steps"
   ]
  },
  {
   "cell_type": "code",
   "execution_count": null,
   "metadata": {},
   "outputs": [],
   "source": [
    "%%time\n",
    "\n",
    "# Your code to generate the `sim` array here."
   ]
  },
  {
   "cell_type": "code",
   "execution_count": null,
   "metadata": {},
   "outputs": [],
   "source": [
    "# Your code to make the first plot here"
   ]
  },
  {
   "cell_type": "markdown",
   "metadata": {},
   "source": [
    "# Check movie\n",
    "\n",
    "If your `sim` array is correct, the animation will play upon execution. It takes a bit of time (< 1 minute) to genreate the animation and render to HTML."
   ]
  },
  {
   "cell_type": "code",
   "execution_count": null,
   "metadata": {},
   "outputs": [],
   "source": [
    "%%capture\n",
    "\n",
    "fig = plt.figure(figsize=(6,6))\n",
    "im = plt.imshow(sim[0], cmap=ListedColormap(['black', 'green', 'red']), vmin=0, vmax=2)\n",
    "\n",
    "def updatefig(j):\n",
    "    im.set_array(sim[j])\n",
    "    return [im]\n",
    "\n",
    "ani = animation.FuncAnimation(fig, updatefig, frames=range(steps), \n",
    "                              interval=50, blit=True);"
   ]
  },
  {
   "cell_type": "code",
   "execution_count": null,
   "metadata": {},
   "outputs": [],
   "source": [
    "%%time\n",
    "\n",
    "HTML(ani.to_jshtml())"
   ]
  },
  {
   "cell_type": "markdown",
   "metadata": {},
   "source": [
    "To write to file if you have ffmpeg instaled\n",
    "\n",
    "```python \n",
    "Writer = animation.writers['ffmpeg']\n",
    "writer = Writer(fps=15, metadata=dict(artist='Me'), bitrate=1800)\n",
    "ani.save('forest_fire.mp4', writer=writer)\n",
    "```"
   ]
  },
  {
   "cell_type": "code",
   "execution_count": null,
   "metadata": {},
   "outputs": [],
   "source": []
  }
 ],
 "metadata": {
  "kernelspec": {
   "display_name": "Python 3 (ipykernel)",
   "language": "python",
   "name": "python3"
  },
  "language_info": {
   "codemirror_mode": {
    "name": "ipython",
    "version": 3
   },
   "file_extension": ".py",
   "mimetype": "text/x-python",
   "name": "python",
   "nbconvert_exporter": "python",
   "pygments_lexer": "ipython3",
   "version": "3.10.6"
  }
 },
 "nbformat": 4,
 "nbformat_minor": 4
}
