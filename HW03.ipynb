{
 "cells": [
  {
   "cell_type": "markdown",
   "id": "7c16ca94-df2c-4690-82af-4e0c510386c4",
   "metadata": {},
   "source": [
    "# Homework 3: Numbers"
   ]
  },
  {
   "cell_type": "markdown",
   "id": "333ace82-4ee1-421b-a5b2-260294b82ab5",
   "metadata": {},
   "source": [
    "**1**. Vectorize the following code using `numpy`."
   ]
  },
  {
   "cell_type": "markdown",
   "id": "b6bcc15c-5978-4c57-8a6b-46a8bc74b455",
   "metadata": {},
   "source": [
    "Part 1"
   ]
  },
  {
   "cell_type": "code",
   "execution_count": 2,
   "id": "aa0962e1-bafb-4394-aecd-df22794f078b",
   "metadata": {
    "tags": []
   },
   "outputs": [
    {
     "data": {
      "text/plain": [
       "[0, 1, 4, 9, 16, 25, 36, 49, 64, 81]"
      ]
     },
     "execution_count": 2,
     "metadata": {},
     "output_type": "execute_result"
    }
   ],
   "source": [
    "[i**2 for i in range(10)]"
   ]
  },
  {
   "cell_type": "code",
   "execution_count": 4,
   "id": "8400fce6-c870-48f6-9ab0-ba238b600bb4",
   "metadata": {
    "tags": []
   },
   "outputs": [],
   "source": [
    "import numpy as np"
   ]
  },
  {
   "cell_type": "code",
   "execution_count": 7,
   "id": "66f20bc2-a366-436d-8462-5d41020a9dec",
   "metadata": {
    "tags": []
   },
   "outputs": [
    {
     "data": {
      "text/plain": [
       "array([ 0,  1,  4,  9, 16, 25, 36, 49, 64, 81])"
      ]
     },
     "execution_count": 7,
     "metadata": {},
     "output_type": "execute_result"
    }
   ],
   "source": [
    "np.arange(10)**2"
   ]
  },
  {
   "cell_type": "markdown",
   "id": "60875ea2-d83a-4c21-ab6a-8a1358794a54",
   "metadata": {},
   "source": [
    "Part 2"
   ]
  },
  {
   "cell_type": "code",
   "execution_count": 42,
   "id": "e47f6025-c4ff-4fd2-a287-507179d81abb",
   "metadata": {
    "tags": []
   },
   "outputs": [
    {
     "data": {
      "text/plain": [
       "440"
      ]
     },
     "execution_count": 42,
     "metadata": {},
     "output_type": "execute_result"
    }
   ],
   "source": [
    "xs = range(1, 11)\n",
    "ys = range(2, 12)\n",
    "s = 0\n",
    "for i in range(len(xs)):\n",
    "    s += xs[i]*ys[i]\n",
    "s"
   ]
  },
  {
   "cell_type": "code",
   "execution_count": 48,
   "id": "a95deaa3-17fd-4953-b578-e6932f36aec2",
   "metadata": {
    "tags": []
   },
   "outputs": [
    {
     "data": {
      "text/plain": [
       "440"
      ]
     },
     "execution_count": 48,
     "metadata": {},
     "output_type": "execute_result"
    }
   ],
   "source": [
    "xs = np.array(xs)\n",
    "ys = np.array(ys)\n",
    "xs @ ys"
   ]
  },
  {
   "cell_type": "markdown",
   "id": "cdf9e359-a5dd-4bac-a81f-7f1a8ab4df03",
   "metadata": {},
   "source": [
    "Part 3"
   ]
  },
  {
   "cell_type": "code",
   "execution_count": 49,
   "id": "44434625-5304-4186-b1c2-badf46faf34d",
   "metadata": {
    "tags": []
   },
   "outputs": [
    {
     "data": {
      "text/plain": [
       "3575"
      ]
     },
     "execution_count": 49,
     "metadata": {},
     "output_type": "execute_result"
    }
   ],
   "source": [
    "s = 0\n",
    "for i in range(1, 11):\n",
    "    for j in range(2, 12):\n",
    "        s += i*j\n",
    "s"
   ]
  },
  {
   "cell_type": "code",
   "execution_count": 50,
   "id": "17478536-12be-456c-b5ad-8af46e2cb979",
   "metadata": {
    "tags": []
   },
   "outputs": [
    {
     "data": {
      "text/plain": [
       "3575"
      ]
     },
     "execution_count": 50,
     "metadata": {},
     "output_type": "execute_result"
    }
   ],
   "source": [
    "i = np.arange(1, 11).reshape(-1,1)\n",
    "j = np.arange(2, 12).reshape(-1,1)\n",
    "np.sum(i @ j.T)"
   ]
  },
  {
   "cell_type": "markdown",
   "id": "4e25939d-2687-4f7b-962a-f2a38571ee7f",
   "metadata": {
    "tags": []
   },
   "source": [
    "Part 4"
   ]
  },
  {
   "cell_type": "code",
   "execution_count": 52,
   "id": "528e34af-d722-4ac9-af31-0ec5003eb304",
   "metadata": {
    "tags": []
   },
   "outputs": [
    {
     "data": {
      "text/plain": [
       "array([[1.94579697],\n",
       "       [1.060151  ],\n",
       "       [1.79745268]])"
      ]
     },
     "execution_count": 52,
     "metadata": {},
     "output_type": "execute_result"
    }
   ],
   "source": [
    "m = 3\n",
    "n = 2\n",
    "alpha = np.random.rand(1)\n",
    "betas = np.random.rand(n,1)\n",
    "xs = np.random.rand(m,n)\n",
    "\n",
    "ys = np.zeros((m,1))\n",
    "for i in range(m):\n",
    "    ys[i] = alpha\n",
    "    for j in range(n):\n",
    "        ys[i] += betas[j] * xs[i,j]\n",
    "ys"
   ]
  },
  {
   "cell_type": "code",
   "execution_count": 54,
   "id": "bf155154-ea89-4a3e-bdad-2e38dccd7dab",
   "metadata": {
    "tags": []
   },
   "outputs": [
    {
     "data": {
      "text/plain": [
       "array([[1.94579697],\n",
       "       [1.060151  ],\n",
       "       [1.79745268]])"
      ]
     },
     "execution_count": 54,
     "metadata": {},
     "output_type": "execute_result"
    }
   ],
   "source": [
    "ys = alpha + xs @ betas\n",
    "ys"
   ]
  },
  {
   "cell_type": "code",
   "execution_count": null,
   "id": "e7ba88aa-86b1-48d5-a535-79ee3dbe5817",
   "metadata": {},
   "outputs": [],
   "source": []
  }
 ],
 "metadata": {
  "kernelspec": {
   "display_name": "Python 3 (ipykernel)",
   "language": "python",
   "name": "python3"
  },
  "language_info": {
   "codemirror_mode": {
    "name": "ipython",
    "version": 3
   },
   "file_extension": ".py",
   "mimetype": "text/x-python",
   "name": "python",
   "nbconvert_exporter": "python",
   "pygments_lexer": "ipython3",
   "version": "3.10.6"
  }
 },
 "nbformat": 4,
 "nbformat_minor": 5
}
