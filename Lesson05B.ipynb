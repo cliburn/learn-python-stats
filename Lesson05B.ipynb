{
 "cells": [
  {
   "cell_type": "markdown",
   "metadata": {},
   "source": [
    "# More graphics\n",
    "\n",
    "For further exploration\n",
    "\n",
    "- [Seaborn gallery](https://seaborn.pydata.org/examples/index.html)\n",
    "- [Plotly gallery](https://plotly.com/python/)\n",
    "- [Bokeh gallery](https://docs.bokeh.org/en/latest/docs/gallery.html)\n",
    "\n",
    "Seabron mostly generates static images.\n",
    "\n",
    "Plotly and Bokeh generate interactive images.\n"
   ]
  },
  {
   "cell_type": "code",
   "execution_count": null,
   "metadata": {},
   "outputs": [],
   "source": [
    "import numpy as np\n",
    "import numpy.random as rng\n",
    "import pandas as pd\n",
    "import scipy.stats as stats\n",
    "import matplotlib.pyplot as plt\n",
    "import matplotlib as mpl\n",
    "import seaborn as sns"
   ]
  },
  {
   "cell_type": "code",
   "execution_count": null,
   "metadata": {},
   "outputs": [],
   "source": [
    "import warnings\n",
    "warnings.filterwarnings(\"ignore\")"
   ]
  },
  {
   "cell_type": "markdown",
   "metadata": {},
   "source": [
    "## Pandas\n",
    "\n",
    "You can do plots directly from a Series or DataFrame. See [docs](https://pandas.pydata.org/pandas-docs/stable/user_guide/visualization.html). Some interesting plots available in Pandas are\n",
    "\n",
    "- Scatter matrix plots\n",
    "- Andrews curves\n",
    "- Autocorrelation plots\n",
    "- Bootstrap plots"
   ]
  },
  {
   "cell_type": "code",
   "execution_count": null,
   "metadata": {
    "tags": []
   },
   "outputs": [],
   "source": [
    "import ssl\n",
    "ssl._create_default_https_context = ssl._create_unverified_context"
   ]
  },
  {
   "cell_type": "code",
   "execution_count": null,
   "metadata": {},
   "outputs": [],
   "source": [
    "url = 'https://gist.githubusercontent.com/seankross/a412dfbd88b3db70b74b/raw/5f23f993cd87c283ce766e7ac6b329ee7cc2e1d1/mtcars.csv'\n",
    "df = pd.read_csv(url)"
   ]
  },
  {
   "cell_type": "code",
   "execution_count": null,
   "metadata": {},
   "outputs": [],
   "source": [
    "df.head()"
   ]
  },
  {
   "cell_type": "code",
   "execution_count": null,
   "metadata": {},
   "outputs": [],
   "source": [
    "fig, axes = plt.subplots(1,3,figsize=(10, 6))\n",
    "df.sort_values('wt').plot('model', 'wt', kind='barh', ax=axes[0])\n",
    "df.sort_values('wt').plot('wt', 'mpg', kind='scatter', ax=axes[2])\n",
    "df.sort_values('wt').plot('wt', 'mpg', kind='area', ax=axes[1])\n",
    "plt.tight_layout()\n",
    "pass"
   ]
  },
  {
   "cell_type": "markdown",
   "metadata": {},
   "source": [
    "## Matplotlib\n",
    "\n",
    "Matplotlib has a \"functional\" interface similar to Matlab via the `pyplot` module for simple interactive use, as well as an object-oriented interface that is useful for more complex graphic creations."
   ]
  },
  {
   "cell_type": "markdown",
   "metadata": {},
   "source": [
    "### Types of plots"
   ]
  },
  {
   "cell_type": "code",
   "execution_count": null,
   "metadata": {},
   "outputs": [],
   "source": [
    "plt.hist(np.random.randn(1000), bins=np.linspace(-4,4,11))\n",
    "pass"
   ]
  },
  {
   "cell_type": "code",
   "execution_count": null,
   "metadata": {},
   "outputs": [],
   "source": [
    "xs = [np.random.normal(mu, 0.5, (100)) for mu in range(5)]"
   ]
  },
  {
   "cell_type": "code",
   "execution_count": null,
   "metadata": {},
   "outputs": [],
   "source": [
    "for x in xs:\n",
    "    plt.hist(x, bins=15, alpha=0.4)"
   ]
  },
  {
   "cell_type": "code",
   "execution_count": null,
   "metadata": {},
   "outputs": [],
   "source": [
    "plt.boxplot(np.random.random((6,10)))\n",
    "pass"
   ]
  },
  {
   "cell_type": "code",
   "execution_count": null,
   "metadata": {},
   "outputs": [],
   "source": [
    "plt.scatter(*np.random.uniform(0.1, 0.9, (2,100)),\n",
    "            s=np.random.randint(10, 200, 100), \n",
    "            c=np.random.random(100))\n",
    "pass"
   ]
  },
  {
   "cell_type": "code",
   "execution_count": null,
   "metadata": {},
   "outputs": [],
   "source": [
    "x = y = np.linspace(-5, 5, 100)\n",
    "X, Y = np.meshgrid(x, y)\n",
    "Z = X**2 + Y**2\n",
    "plt.contourf(X, Y, Z, cmap=plt.cm.RdPu)\n",
    "plt.axis('square')\n",
    "pass"
   ]
  },
  {
   "cell_type": "code",
   "execution_count": null,
   "metadata": {},
   "outputs": [],
   "source": [
    "plt.stem(np.random.random(8))\n",
    "plt.margins(0.05)\n",
    "pass"
   ]
  },
  {
   "cell_type": "code",
   "execution_count": null,
   "metadata": {},
   "outputs": [],
   "source": [
    "x = np.linspace(0, 2*np.pi, 100)\n",
    "y = np.sin(x)"
   ]
  },
  {
   "cell_type": "code",
   "execution_count": null,
   "metadata": {},
   "outputs": [],
   "source": [
    "plt.plot(x, y)\n",
    "plt.axis([0, 2*np.pi, -1.05, 1.05,])\n",
    "pass"
   ]
  },
  {
   "cell_type": "code",
   "execution_count": null,
   "metadata": {},
   "outputs": [],
   "source": [
    "xs = np.c_[np.zeros(10), np.random.choice([-1,1], (10, 100)).cumsum(axis=1)]\n",
    "plt.plot(xs.T)\n",
    "plt.title('10 random walks', fontsize=14)\n",
    "pass"
   ]
  },
  {
   "cell_type": "markdown",
   "metadata": {},
   "source": [
    "### Displaying arrays"
   ]
  },
  {
   "cell_type": "code",
   "execution_count": null,
   "metadata": {},
   "outputs": [],
   "source": [
    "x = np.random.random((80, 80, 3))"
   ]
  },
  {
   "cell_type": "code",
   "execution_count": null,
   "metadata": {},
   "outputs": [],
   "source": [
    "plt.imshow(x)\n",
    "pass"
   ]
  },
  {
   "cell_type": "code",
   "execution_count": null,
   "metadata": {},
   "outputs": [],
   "source": [
    "plt.imshow(x, interpolation='bicubic')\n",
    "pass"
   ]
  },
  {
   "cell_type": "code",
   "execution_count": null,
   "metadata": {},
   "outputs": [],
   "source": [
    "plt.imshow(x.mean(axis=-1), cmap='bone')\n",
    "pass"
   ]
  },
  {
   "cell_type": "code",
   "execution_count": null,
   "metadata": {},
   "outputs": [],
   "source": [
    "plt.imshow(x.mean(axis=-1), cmap='Reds')\n",
    "plt.xticks(range(0, x.shape[1], 4))\n",
    "plt.yticks(range(0, x.shape[0], 4))\n",
    "plt.grid(color='white')\n",
    "ax = plt.gca()\n",
    "ax.set_xticklabels([])\n",
    "ax.set_yticklabels([])\n",
    "ax.xaxis.set_ticks_position('none')\n",
    "ax.yaxis.set_ticks_position('none')\n",
    "pass"
   ]
  },
  {
   "cell_type": "markdown",
   "metadata": {},
   "source": [
    "### Colors"
   ]
  },
  {
   "cell_type": "code",
   "execution_count": null,
   "metadata": {},
   "outputs": [],
   "source": [
    "plt.scatter(*np.random.uniform(0.1, 0.9, (2,100)),\n",
    "            s=np.random.randint(10, 200, 100), \n",
    "            c=np.random.random(100))\n",
    "pass"
   ]
  },
  {
   "cell_type": "code",
   "execution_count": null,
   "metadata": {},
   "outputs": [],
   "source": [
    "plt.scatter(*np.random.uniform(0.1, 0.9, (2,100)),\n",
    "            s=np.random.randint(10, 200, 100), \n",
    "            c=np.random.random(100), cmap='summer')\n",
    "pass"
   ]
  },
  {
   "cell_type": "code",
   "execution_count": null,
   "metadata": {},
   "outputs": [],
   "source": [
    "plt.scatter(*np.random.uniform(0.1, 0.9, (2,100)),\n",
    "            s=np.random.randint(10, 200, 100), \n",
    "            c=np.random.random(100), cmap='hsv')\n",
    "pass"
   ]
  },
  {
   "cell_type": "markdown",
   "metadata": {},
   "source": [
    "#### Getting a list of colors from a colormap\n",
    "\n",
    "Giving an argument of 0.0 < x < 1.0 to a `colormap` gives the appropriate interpolated color."
   ]
  },
  {
   "cell_type": "code",
   "execution_count": null,
   "metadata": {},
   "outputs": [],
   "source": [
    "# find the bottom, middle and top colors of the winter colormap\n",
    "colors = plt.cm.winter(np.linspace(0, 1, 100))\n",
    "colors[:3]"
   ]
  },
  {
   "cell_type": "code",
   "execution_count": null,
   "metadata": {},
   "outputs": [],
   "source": [
    "plt.scatter(*np.random.uniform(0.1, 0.9, (2,100)),\n",
    "            s=np.random.randint(10, 200, 100), \n",
    "            c=colors)\n",
    "pass"
   ]
  },
  {
   "cell_type": "markdown",
   "metadata": {},
   "source": [
    "### Styles"
   ]
  },
  {
   "cell_type": "code",
   "execution_count": null,
   "metadata": {},
   "outputs": [],
   "source": [
    "plt.style.available"
   ]
  },
  {
   "cell_type": "code",
   "execution_count": null,
   "metadata": {},
   "outputs": [],
   "source": [
    "x = np.linspace(0, 2*np.pi, 100)\n",
    "y = np.sin(x)"
   ]
  },
  {
   "cell_type": "code",
   "execution_count": null,
   "metadata": {},
   "outputs": [],
   "source": [
    "with plt.style.context('classic'):\n",
    "    plt.plot(x, y)\n",
    "    plt.axis([0, 2*np.pi, -1.05, 1.05,])"
   ]
  },
  {
   "cell_type": "code",
   "execution_count": null,
   "metadata": {},
   "outputs": [],
   "source": [
    "with plt.style.context('fivethirtyeight'):\n",
    "    plt.plot(x, y)\n",
    "    plt.axis([0, 2*np.pi, -1.05, 1.05,])"
   ]
  },
  {
   "cell_type": "code",
   "execution_count": null,
   "metadata": {},
   "outputs": [],
   "source": [
    "with plt.style.context('ggplot'):\n",
    "    plt.plot(x, y)\n",
    "    plt.axis([0, 2*np.pi, -1.05, 1.05,])"
   ]
  },
  {
   "cell_type": "code",
   "execution_count": null,
   "metadata": {},
   "outputs": [],
   "source": [
    "with plt.style.context('seaborn-darkgrid'):\n",
    "    plt.plot(x, y)\n",
    "    plt.axis([0, 2*np.pi, -1.05, 1.05,])"
   ]
  },
  {
   "cell_type": "code",
   "execution_count": null,
   "metadata": {},
   "outputs": [],
   "source": [
    "with plt.xkcd():\n",
    "    plt.plot(x, y)\n",
    "    plt.axis([0, 2*np.pi, -1.05, 1.05,])"
   ]
  },
  {
   "cell_type": "markdown",
   "metadata": {},
   "source": [
    "### Creating your own style\n",
    "\n",
    "Many, many options can be configured."
   ]
  },
  {
   "cell_type": "code",
   "execution_count": null,
   "metadata": {},
   "outputs": [],
   "source": [
    "plt.rcParams"
   ]
  },
  {
   "cell_type": "code",
   "execution_count": null,
   "metadata": {},
   "outputs": [],
   "source": [
    "%%file foo.mplstyle\n",
    "axes.grid: True\n",
    "axes.titlesize : 24\n",
    "axes.labelsize : 20\n",
    "lines.linewidth : 3\n",
    "lines.markersize : 10\n",
    "xtick.labelsize : 16\n",
    "ytick.labelsize : 16"
   ]
  },
  {
   "cell_type": "code",
   "execution_count": null,
   "metadata": {},
   "outputs": [],
   "source": [
    "with plt.style.context('foo.mplstyle'):\n",
    "    plt.plot(x, y)\n",
    "    plt.axis([0, 2*np.pi, -1.05, 1.05,])"
   ]
  },
  {
   "cell_type": "markdown",
   "metadata": {},
   "source": [
    "### Customizing plots"
   ]
  },
  {
   "cell_type": "code",
   "execution_count": null,
   "metadata": {},
   "outputs": [],
   "source": [
    "plt.rcParams.update({'font.size': 22})\n",
    "\n",
    "fig = plt.figure(figsize=(8,6))\n",
    "ax = plt.subplot(1,1,1)\n",
    "plt.plot(x, y, color='red', linewidth=2, linestyle='dashed', label='sine curve')\n",
    "plt.plot(x, np.cos(x), 'b-', label='cosine curve')\n",
    "plt.legend(loc='best', fontsize=14)\n",
    "plt.axis([0, 2*np.pi, -1.05, 1.05,])\n",
    "plt.xlabel('x')\n",
    "plt.ylabel('sin(x)')\n",
    "plt.xticks([0,0.5*np.pi,np.pi,1.5*np.pi,2*np.pi], \n",
    "           [0, r'$\\frac{\\pi}{2}$', r'$\\pi$', r'$\\frac{3\\pi}{2}$', r'$2\\pi$'])\n",
    "plt.title('Sine and Cosine Plots')\n",
    "plt.text(0.45, 0.9, 'Empty space', transform=ax.transAxes, ha='left', va='top')\n",
    "pass"
   ]
  },
  {
   "cell_type": "code",
   "execution_count": null,
   "metadata": {},
   "outputs": [],
   "source": [
    "x = np.random.randn(100)\n",
    "plt.hist(x, bins=25, histtype='step', density=True)\n",
    "mu, sigma = stats.norm.fit(x)\n",
    "xp = np.linspace(*plt.xlim(), 100)\n",
    "plt.plot(xp, stats.norm(mu, sigma).pdf(xp))\n",
    "plt.xlabel('x')\n",
    "plt.ylabel('Density')\n",
    "plt.title('MLE fit for normal distribution', fontsize=14)\n",
    "pass"
   ]
  },
  {
   "cell_type": "markdown",
   "metadata": {},
   "source": [
    "### Layouts"
   ]
  },
  {
   "cell_type": "code",
   "execution_count": null,
   "metadata": {},
   "outputs": [],
   "source": [
    "fig, axes = plt.subplots(2,2,figsize=(8,8))\n",
    "axes[0,0].plot(x,y, 'r')\n",
    "axes[0,1].plot(x,y, 'g')\n",
    "axes[1,0].plot(x,y, 'b')\n",
    "axes[1,1].plot(x,y, 'k')\n",
    "for ax in axes.ravel():\n",
    "    ax.margins(0.05)\n",
    "pass"
   ]
  },
  {
   "cell_type": "code",
   "execution_count": null,
   "metadata": {},
   "outputs": [],
   "source": [
    "ax1 = plt.subplot2grid((3,3), (0,0), colspan=3)\n",
    "ax2 = plt.subplot2grid((3,3), (1,0), colspan=2)\n",
    "ax3 = plt.subplot2grid((3,3), (1,2), rowspan=2)\n",
    "ax4 = plt.subplot2grid((3,3), (2,0), colspan=2)\n",
    "axes = [ax1, ax2, ax3, ax4]\n",
    "colors = ['r', 'g', 'b', 'k']\n",
    "for ax, c in zip(axes, colors):\n",
    "    ax.plot(x, y, c)\n",
    "    ax.margins(0.05)\n",
    "plt.tight_layout()"
   ]
  },
  {
   "cell_type": "markdown",
   "metadata": {},
   "source": [
    "## Seaborn\n",
    "\n",
    "Seaborn is a library for statistical visualizations. "
   ]
  },
  {
   "cell_type": "code",
   "execution_count": null,
   "metadata": {},
   "outputs": [],
   "source": [
    "sns.set_context(\"notebook\", font_scale=1.5, rc={\"lines.linewidth\": 2.5})"
   ]
  },
  {
   "cell_type": "code",
   "execution_count": null,
   "metadata": {
    "tags": []
   },
   "outputs": [],
   "source": [
    "%matplotlib inline"
   ]
  },
  {
   "cell_type": "markdown",
   "metadata": {},
   "source": [
    "### Playing with the `iris` data set"
   ]
  },
  {
   "cell_type": "markdown",
   "metadata": {},
   "source": [
    "#### Load data"
   ]
  },
  {
   "cell_type": "code",
   "execution_count": null,
   "metadata": {
    "tags": []
   },
   "outputs": [],
   "source": [
    "iris = pd.read_csv(\n",
    "    'data/iris.data', \n",
    "    header=None,\n",
    "    names=['sepal_length', 'sepal_width', 'petal_length', 'petal_width', 'species']\n",
    ")"
   ]
  },
  {
   "cell_type": "code",
   "execution_count": null,
   "metadata": {
    "tags": []
   },
   "outputs": [],
   "source": [
    "iris.head()"
   ]
  },
  {
   "cell_type": "code",
   "execution_count": null,
   "metadata": {
    "tags": []
   },
   "outputs": [],
   "source": [
    "iris.shape"
   ]
  },
  {
   "cell_type": "markdown",
   "metadata": {},
   "source": [
    "#### Plot values in 1 column"
   ]
  },
  {
   "cell_type": "code",
   "execution_count": null,
   "metadata": {
    "tags": []
   },
   "outputs": [],
   "source": [
    "sns.displot(data=iris, x='sepal_width', rug=True, kde=True)\n",
    "pass"
   ]
  },
  {
   "cell_type": "code",
   "execution_count": null,
   "metadata": {
    "tags": []
   },
   "outputs": [],
   "source": [
    "sns.boxplot(data=iris, x='species', y='sepal_width')\n",
    "pass"
   ]
  },
  {
   "cell_type": "code",
   "execution_count": null,
   "metadata": {
    "tags": []
   },
   "outputs": [],
   "source": [
    "sns.violinplot(data=iris, x='species', y='sepal_width', palette=\"Blues\")\n",
    "pass"
   ]
  },
  {
   "cell_type": "code",
   "execution_count": null,
   "metadata": {
    "tags": []
   },
   "outputs": [],
   "source": [
    "sns.regplot(\n",
    "    data=iris,\n",
    "    x='sepal_width',\n",
    "    y='petal_width',\n",
    "    lowess=True)\n",
    "pass"
   ]
  },
  {
   "cell_type": "markdown",
   "metadata": {},
   "source": [
    "### Plot density for two columns"
   ]
  },
  {
   "cell_type": "code",
   "execution_count": null,
   "metadata": {
    "tags": []
   },
   "outputs": [],
   "source": [
    "sns.displot(\n",
    "    data=iris, \n",
    "    x='sepal_width', \n",
    "    y='sepal_length', \n",
    "    rug=True, \n",
    "    kind='kde', \n",
    "    hue='species')\n",
    "pass"
   ]
  },
  {
   "cell_type": "code",
   "execution_count": null,
   "metadata": {
    "tags": []
   },
   "outputs": [],
   "source": [
    "g = sns.jointplot(\n",
    "    data=iris, \n",
    "    x='sepal_width', \n",
    "    y='sepal_length', \n",
    "    rug=True, \n",
    "    kind='kde', \n",
    "    hue='species',\n",
    "    legend=True\n",
    ")\n",
    "sns.move_legend(\n",
    "    g.ax_joint,\n",
    "    \"upper left\", \n",
    "    bbox_to_anchor=(1.2, 1), \n",
    "    title='Species',\n",
    "    fontsize=12\n",
    ")\n"
   ]
  },
  {
   "cell_type": "markdown",
   "metadata": {
    "tags": []
   },
   "source": [
    "### Plot multiple columns"
   ]
  },
  {
   "cell_type": "code",
   "execution_count": null,
   "metadata": {
    "tags": []
   },
   "outputs": [],
   "source": [
    "iris_t = pd.melt(iris, id_vars='species')\n",
    "iris_t.head()"
   ]
  },
  {
   "cell_type": "code",
   "execution_count": null,
   "metadata": {
    "tags": []
   },
   "outputs": [],
   "source": [
    "iris_t['species'] = iris_t['species'].str.split('-').str[-1]\n",
    "iris_t.head()"
   ]
  },
  {
   "cell_type": "code",
   "execution_count": null,
   "metadata": {
    "tags": []
   },
   "outputs": [],
   "source": [
    "sns.catplot(\n",
    "    data=iris_t, \n",
    "    y='value', \n",
    "    x='species', \n",
    "    col='variable', \n",
    "    kind='swarm',\n",
    "    sharex=False,\n",
    ")\n",
    "pass"
   ]
  },
  {
   "cell_type": "code",
   "execution_count": null,
   "metadata": {
    "tags": []
   },
   "outputs": [],
   "source": [
    "g = sns.catplot(\n",
    "    data=iris_t, \n",
    "    y='value', \n",
    "    x='species', \n",
    "    col='variable', \n",
    "    kind='violin',\n",
    "    palette='Set2',\n",
    "    sharex=False\n",
    ")\n",
    "g.set_titles(col_template = '{col_var} | {col_name}')\n",
    "pass"
   ]
  },
  {
   "cell_type": "markdown",
   "metadata": {},
   "source": [
    "### Actually we could have used `iris` as a built-in data set\n",
    "\n",
    "See [built-in data sets](https://github.com/mwaskom/seaborn-data)"
   ]
  },
  {
   "cell_type": "code",
   "execution_count": null,
   "metadata": {},
   "outputs": [],
   "source": [
    "iris = sns.load_dataset('iris')"
   ]
  },
  {
   "cell_type": "code",
   "execution_count": null,
   "metadata": {},
   "outputs": [],
   "source": [
    "iris.head()"
   ]
  },
  {
   "cell_type": "code",
   "execution_count": null,
   "metadata": {
    "tags": []
   },
   "outputs": [],
   "source": [
    "penguins = sns.load_dataset('penguins')\n",
    "penguins.head()"
   ]
  },
  {
   "cell_type": "code",
   "execution_count": null,
   "metadata": {
    "tags": []
   },
   "outputs": [],
   "source": [
    "g = sns.catplot(\n",
    "    data=penguins, \n",
    "    y='body_mass_g', \n",
    "    x='species', \n",
    "    row='sex',\n",
    "    col='island', \n",
    "    kind='violin',\n",
    "    palette='pastel',\n",
    ")\n",
    "g.set_titles('{row_name} | {col_name}')\n",
    "pass"
   ]
  },
  {
   "cell_type": "code",
   "execution_count": null,
   "metadata": {
    "tags": []
   },
   "outputs": [],
   "source": [
    "penguins['sex_code'] = penguins.sex.astype('category').cat.codes\n",
    "penguins.head()"
   ]
  },
  {
   "cell_type": "code",
   "execution_count": null,
   "metadata": {
    "tags": []
   },
   "outputs": [],
   "source": [
    "sns.lmplot(\n",
    "    x='body_mass_g', \n",
    "    y='sex_code', \n",
    "    col='species', \n",
    "    data=penguins.dropna(subset='sex'), \n",
    "    logistic=True\n",
    ")\n",
    "pass"
   ]
  },
  {
   "cell_type": "code",
   "execution_count": null,
   "metadata": {
    "tags": []
   },
   "outputs": [],
   "source": [
    "with sns.axes_style('darkgrid'):\n",
    "    sns.lmplot(\n",
    "        x='body_mass_g', \n",
    "        y='sex_code', \n",
    "        col='species', \n",
    "        data=penguins.dropna(subset='sex'), \n",
    "        logistic=True\n",
    "    )\n"
   ]
  },
  {
   "cell_type": "markdown",
   "metadata": {},
   "source": [
    "## plotnine\n",
    "\n",
    "\n",
    "If you just want a clone of `ggplot2` in Python, check out [plotnine](https://plotnine.readthedocs.io/en/latest/gallery.html)\n",
    "\n",
    "### Grammar of Graphics\n",
    "\n",
    "![](https://blog.gramener.com/wp-content/uploads/2018/11/7-layers-of-grammar-of-graphics-to-tell-powerful-data-stories-3.png)\n",
    "\n",
    "Source: http://blog.gramener.com/grammar-of-graphics-data-stories/"
   ]
  },
  {
   "cell_type": "code",
   "execution_count": null,
   "metadata": {},
   "outputs": [],
   "source": [
    "from plotnine import ggplot, geom_point, aes, stat_smooth, facet_wrap, theme_xkcd\n",
    "from plotnine.data import mtcars\n",
    "\n",
    "(\n",
    "    ggplot(mtcars, aes('wt', 'mpg', color='factor(gear)'))\n",
    "    + geom_point()\n",
    "    + stat_smooth(method='lm')\n",
    "    + facet_wrap('~gear')\n",
    "    + theme_xkcd()\n",
    ")"
   ]
  },
  {
   "cell_type": "code",
   "execution_count": null,
   "metadata": {},
   "outputs": [],
   "source": []
  }
 ],
 "metadata": {
  "kernelspec": {
   "display_name": "Python 3 (ipykernel)",
   "language": "python",
   "name": "python3"
  },
  "language_info": {
   "codemirror_mode": {
    "name": "ipython",
    "version": 3
   },
   "file_extension": ".py",
   "mimetype": "text/x-python",
   "name": "python",
   "nbconvert_exporter": "python",
   "pygments_lexer": "ipython3",
   "version": "3.10.6"
  }
 },
 "nbformat": 4,
 "nbformat_minor": 4
}
